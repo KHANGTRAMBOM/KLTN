{
  "cells": [
    {
      "cell_type": "markdown",
      "source": [
        "# **Cài đặt thư viện ultralytics**"
      ],
      "metadata": {
        "id": "FQRdThQMn70i"
      }
    },
    {
      "cell_type": "code",
      "execution_count": null,
      "metadata": {
        "colab": {
          "base_uri": "https://localhost:8080/"
        },
        "id": "T5Z6Bd12_WfO",
        "outputId": "a4842182-ff73-47b7-ecd8-f39550ac8691",
        "collapsed": true
      },
      "outputs": [
        {
          "output_type": "stream",
          "name": "stdout",
          "text": [
            "Collecting ultralytics\n",
            "  Downloading ultralytics-8.3.122-py3-none-any.whl.metadata (37 kB)\n",
            "Requirement already satisfied: numpy>=1.23.0 in /usr/local/lib/python3.11/dist-packages (from ultralytics) (2.0.2)\n",
            "Requirement already satisfied: matplotlib>=3.3.0 in /usr/local/lib/python3.11/dist-packages (from ultralytics) (3.10.0)\n",
            "Requirement already satisfied: opencv-python>=4.6.0 in /usr/local/lib/python3.11/dist-packages (from ultralytics) (4.11.0.86)\n",
            "Requirement already satisfied: pillow>=7.1.2 in /usr/local/lib/python3.11/dist-packages (from ultralytics) (11.2.1)\n",
            "Requirement already satisfied: pyyaml>=5.3.1 in /usr/local/lib/python3.11/dist-packages (from ultralytics) (6.0.2)\n",
            "Requirement already satisfied: requests>=2.23.0 in /usr/local/lib/python3.11/dist-packages (from ultralytics) (2.32.3)\n",
            "Requirement already satisfied: scipy>=1.4.1 in /usr/local/lib/python3.11/dist-packages (from ultralytics) (1.15.2)\n",
            "Requirement already satisfied: torch>=1.8.0 in /usr/local/lib/python3.11/dist-packages (from ultralytics) (2.6.0+cu124)\n",
            "Requirement already satisfied: torchvision>=0.9.0 in /usr/local/lib/python3.11/dist-packages (from ultralytics) (0.21.0+cu124)\n",
            "Requirement already satisfied: tqdm>=4.64.0 in /usr/local/lib/python3.11/dist-packages (from ultralytics) (4.67.1)\n",
            "Requirement already satisfied: psutil in /usr/local/lib/python3.11/dist-packages (from ultralytics) (5.9.5)\n",
            "Requirement already satisfied: py-cpuinfo in /usr/local/lib/python3.11/dist-packages (from ultralytics) (9.0.0)\n",
            "Requirement already satisfied: pandas>=1.1.4 in /usr/local/lib/python3.11/dist-packages (from ultralytics) (2.2.2)\n",
            "Requirement already satisfied: seaborn>=0.11.0 in /usr/local/lib/python3.11/dist-packages (from ultralytics) (0.13.2)\n",
            "Collecting ultralytics-thop>=2.0.0 (from ultralytics)\n",
            "  Downloading ultralytics_thop-2.0.14-py3-none-any.whl.metadata (9.4 kB)\n",
            "Requirement already satisfied: contourpy>=1.0.1 in /usr/local/lib/python3.11/dist-packages (from matplotlib>=3.3.0->ultralytics) (1.3.2)\n",
            "Requirement already satisfied: cycler>=0.10 in /usr/local/lib/python3.11/dist-packages (from matplotlib>=3.3.0->ultralytics) (0.12.1)\n",
            "Requirement already satisfied: fonttools>=4.22.0 in /usr/local/lib/python3.11/dist-packages (from matplotlib>=3.3.0->ultralytics) (4.57.0)\n",
            "Requirement already satisfied: kiwisolver>=1.3.1 in /usr/local/lib/python3.11/dist-packages (from matplotlib>=3.3.0->ultralytics) (1.4.8)\n",
            "Requirement already satisfied: packaging>=20.0 in /usr/local/lib/python3.11/dist-packages (from matplotlib>=3.3.0->ultralytics) (24.2)\n",
            "Requirement already satisfied: pyparsing>=2.3.1 in /usr/local/lib/python3.11/dist-packages (from matplotlib>=3.3.0->ultralytics) (3.2.3)\n",
            "Requirement already satisfied: python-dateutil>=2.7 in /usr/local/lib/python3.11/dist-packages (from matplotlib>=3.3.0->ultralytics) (2.9.0.post0)\n",
            "Requirement already satisfied: pytz>=2020.1 in /usr/local/lib/python3.11/dist-packages (from pandas>=1.1.4->ultralytics) (2025.2)\n",
            "Requirement already satisfied: tzdata>=2022.7 in /usr/local/lib/python3.11/dist-packages (from pandas>=1.1.4->ultralytics) (2025.2)\n",
            "Requirement already satisfied: charset-normalizer<4,>=2 in /usr/local/lib/python3.11/dist-packages (from requests>=2.23.0->ultralytics) (3.4.1)\n",
            "Requirement already satisfied: idna<4,>=2.5 in /usr/local/lib/python3.11/dist-packages (from requests>=2.23.0->ultralytics) (3.10)\n",
            "Requirement already satisfied: urllib3<3,>=1.21.1 in /usr/local/lib/python3.11/dist-packages (from requests>=2.23.0->ultralytics) (2.4.0)\n",
            "Requirement already satisfied: certifi>=2017.4.17 in /usr/local/lib/python3.11/dist-packages (from requests>=2.23.0->ultralytics) (2025.1.31)\n",
            "Requirement already satisfied: filelock in /usr/local/lib/python3.11/dist-packages (from torch>=1.8.0->ultralytics) (3.18.0)\n",
            "Requirement already satisfied: typing-extensions>=4.10.0 in /usr/local/lib/python3.11/dist-packages (from torch>=1.8.0->ultralytics) (4.13.2)\n",
            "Requirement already satisfied: networkx in /usr/local/lib/python3.11/dist-packages (from torch>=1.8.0->ultralytics) (3.4.2)\n",
            "Requirement already satisfied: jinja2 in /usr/local/lib/python3.11/dist-packages (from torch>=1.8.0->ultralytics) (3.1.6)\n",
            "Requirement already satisfied: fsspec in /usr/local/lib/python3.11/dist-packages (from torch>=1.8.0->ultralytics) (2025.3.2)\n",
            "Collecting nvidia-cuda-nvrtc-cu12==12.4.127 (from torch>=1.8.0->ultralytics)\n",
            "  Downloading nvidia_cuda_nvrtc_cu12-12.4.127-py3-none-manylinux2014_x86_64.whl.metadata (1.5 kB)\n",
            "Collecting nvidia-cuda-runtime-cu12==12.4.127 (from torch>=1.8.0->ultralytics)\n",
            "  Downloading nvidia_cuda_runtime_cu12-12.4.127-py3-none-manylinux2014_x86_64.whl.metadata (1.5 kB)\n",
            "Collecting nvidia-cuda-cupti-cu12==12.4.127 (from torch>=1.8.0->ultralytics)\n",
            "  Downloading nvidia_cuda_cupti_cu12-12.4.127-py3-none-manylinux2014_x86_64.whl.metadata (1.6 kB)\n",
            "Collecting nvidia-cudnn-cu12==9.1.0.70 (from torch>=1.8.0->ultralytics)\n",
            "  Downloading nvidia_cudnn_cu12-9.1.0.70-py3-none-manylinux2014_x86_64.whl.metadata (1.6 kB)\n",
            "Collecting nvidia-cublas-cu12==12.4.5.8 (from torch>=1.8.0->ultralytics)\n",
            "  Downloading nvidia_cublas_cu12-12.4.5.8-py3-none-manylinux2014_x86_64.whl.metadata (1.5 kB)\n",
            "Collecting nvidia-cufft-cu12==11.2.1.3 (from torch>=1.8.0->ultralytics)\n",
            "  Downloading nvidia_cufft_cu12-11.2.1.3-py3-none-manylinux2014_x86_64.whl.metadata (1.5 kB)\n",
            "Collecting nvidia-curand-cu12==10.3.5.147 (from torch>=1.8.0->ultralytics)\n",
            "  Downloading nvidia_curand_cu12-10.3.5.147-py3-none-manylinux2014_x86_64.whl.metadata (1.5 kB)\n",
            "Collecting nvidia-cusolver-cu12==11.6.1.9 (from torch>=1.8.0->ultralytics)\n",
            "  Downloading nvidia_cusolver_cu12-11.6.1.9-py3-none-manylinux2014_x86_64.whl.metadata (1.6 kB)\n",
            "Collecting nvidia-cusparse-cu12==12.3.1.170 (from torch>=1.8.0->ultralytics)\n",
            "  Downloading nvidia_cusparse_cu12-12.3.1.170-py3-none-manylinux2014_x86_64.whl.metadata (1.6 kB)\n",
            "Requirement already satisfied: nvidia-cusparselt-cu12==0.6.2 in /usr/local/lib/python3.11/dist-packages (from torch>=1.8.0->ultralytics) (0.6.2)\n",
            "Requirement already satisfied: nvidia-nccl-cu12==2.21.5 in /usr/local/lib/python3.11/dist-packages (from torch>=1.8.0->ultralytics) (2.21.5)\n",
            "Requirement already satisfied: nvidia-nvtx-cu12==12.4.127 in /usr/local/lib/python3.11/dist-packages (from torch>=1.8.0->ultralytics) (12.4.127)\n",
            "Collecting nvidia-nvjitlink-cu12==12.4.127 (from torch>=1.8.0->ultralytics)\n",
            "  Downloading nvidia_nvjitlink_cu12-12.4.127-py3-none-manylinux2014_x86_64.whl.metadata (1.5 kB)\n",
            "Requirement already satisfied: triton==3.2.0 in /usr/local/lib/python3.11/dist-packages (from torch>=1.8.0->ultralytics) (3.2.0)\n",
            "Requirement already satisfied: sympy==1.13.1 in /usr/local/lib/python3.11/dist-packages (from torch>=1.8.0->ultralytics) (1.13.1)\n",
            "Requirement already satisfied: mpmath<1.4,>=1.1.0 in /usr/local/lib/python3.11/dist-packages (from sympy==1.13.1->torch>=1.8.0->ultralytics) (1.3.0)\n",
            "Requirement already satisfied: six>=1.5 in /usr/local/lib/python3.11/dist-packages (from python-dateutil>=2.7->matplotlib>=3.3.0->ultralytics) (1.17.0)\n",
            "Requirement already satisfied: MarkupSafe>=2.0 in /usr/local/lib/python3.11/dist-packages (from jinja2->torch>=1.8.0->ultralytics) (3.0.2)\n",
            "Downloading ultralytics-8.3.122-py3-none-any.whl (1.0 MB)\n",
            "\u001b[2K   \u001b[90m━━━━━━━━━━━━━━━━━━━━━━━━━━━━━━━━━━━━━━━━\u001b[0m \u001b[32m1.0/1.0 MB\u001b[0m \u001b[31m63.5 MB/s\u001b[0m eta \u001b[36m0:00:00\u001b[0m\n",
            "\u001b[?25hDownloading nvidia_cublas_cu12-12.4.5.8-py3-none-manylinux2014_x86_64.whl (363.4 MB)\n",
            "\u001b[2K   \u001b[90m━━━━━━━━━━━━━━━━━━━━━━━━━━━━━━━━━━━━━━━━\u001b[0m \u001b[32m363.4/363.4 MB\u001b[0m \u001b[31m2.7 MB/s\u001b[0m eta \u001b[36m0:00:00\u001b[0m\n",
            "\u001b[?25hDownloading nvidia_cuda_cupti_cu12-12.4.127-py3-none-manylinux2014_x86_64.whl (13.8 MB)\n",
            "\u001b[2K   \u001b[90m━━━━━━━━━━━━━━━━━━━━━━━━━━━━━━━━━━━━━━━━\u001b[0m \u001b[32m13.8/13.8 MB\u001b[0m \u001b[31m98.1 MB/s\u001b[0m eta \u001b[36m0:00:00\u001b[0m\n",
            "\u001b[?25hDownloading nvidia_cuda_nvrtc_cu12-12.4.127-py3-none-manylinux2014_x86_64.whl (24.6 MB)\n",
            "\u001b[2K   \u001b[90m━━━━━━━━━━━━━━━━━━━━━━━━━━━━━━━━━━━━━━━━\u001b[0m \u001b[32m24.6/24.6 MB\u001b[0m \u001b[31m77.0 MB/s\u001b[0m eta \u001b[36m0:00:00\u001b[0m\n",
            "\u001b[?25hDownloading nvidia_cuda_runtime_cu12-12.4.127-py3-none-manylinux2014_x86_64.whl (883 kB)\n",
            "\u001b[2K   \u001b[90m━━━━━━━━━━━━━━━━━━━━━━━━━━━━━━━━━━━━━━━━\u001b[0m \u001b[32m883.7/883.7 kB\u001b[0m \u001b[31m45.4 MB/s\u001b[0m eta \u001b[36m0:00:00\u001b[0m\n",
            "\u001b[?25hDownloading nvidia_cudnn_cu12-9.1.0.70-py3-none-manylinux2014_x86_64.whl (664.8 MB)\n",
            "\u001b[2K   \u001b[90m━━━━━━━━━━━━━━━━━━━━━━━━━━━━━━━━━━━━━━━━\u001b[0m \u001b[32m664.8/664.8 MB\u001b[0m \u001b[31m2.2 MB/s\u001b[0m eta \u001b[36m0:00:00\u001b[0m\n",
            "\u001b[?25hDownloading nvidia_cufft_cu12-11.2.1.3-py3-none-manylinux2014_x86_64.whl (211.5 MB)\n",
            "\u001b[2K   \u001b[90m━━━━━━━━━━━━━━━━━━━━━━━━━━━━━━━━━━━━━━━━\u001b[0m \u001b[32m211.5/211.5 MB\u001b[0m \u001b[31m5.4 MB/s\u001b[0m eta \u001b[36m0:00:00\u001b[0m\n",
            "\u001b[?25hDownloading nvidia_curand_cu12-10.3.5.147-py3-none-manylinux2014_x86_64.whl (56.3 MB)\n",
            "\u001b[2K   \u001b[90m━━━━━━━━━━━━━━━━━━━━━━━━━━━━━━━━━━━━━━━━\u001b[0m \u001b[32m56.3/56.3 MB\u001b[0m \u001b[31m12.1 MB/s\u001b[0m eta \u001b[36m0:00:00\u001b[0m\n",
            "\u001b[?25hDownloading nvidia_cusolver_cu12-11.6.1.9-py3-none-manylinux2014_x86_64.whl (127.9 MB)\n",
            "\u001b[2K   \u001b[90m━━━━━━━━━━━━━━━━━━━━━━━━━━━━━━━━━━━━━━━━\u001b[0m \u001b[32m127.9/127.9 MB\u001b[0m \u001b[31m7.7 MB/s\u001b[0m eta \u001b[36m0:00:00\u001b[0m\n",
            "\u001b[?25hDownloading nvidia_cusparse_cu12-12.3.1.170-py3-none-manylinux2014_x86_64.whl (207.5 MB)\n",
            "\u001b[2K   \u001b[90m━━━━━━━━━━━━━━━━━━━━━━━━━━━━━━━━━━━━━━━━\u001b[0m \u001b[32m207.5/207.5 MB\u001b[0m \u001b[31m5.6 MB/s\u001b[0m eta \u001b[36m0:00:00\u001b[0m\n",
            "\u001b[?25hDownloading nvidia_nvjitlink_cu12-12.4.127-py3-none-manylinux2014_x86_64.whl (21.1 MB)\n",
            "\u001b[2K   \u001b[90m━━━━━━━━━━━━━━━━━━━━━━━━━━━━━━━━━━━━━━━━\u001b[0m \u001b[32m21.1/21.1 MB\u001b[0m \u001b[31m100.3 MB/s\u001b[0m eta \u001b[36m0:00:00\u001b[0m\n",
            "\u001b[?25hDownloading ultralytics_thop-2.0.14-py3-none-any.whl (26 kB)\n",
            "Installing collected packages: nvidia-nvjitlink-cu12, nvidia-curand-cu12, nvidia-cufft-cu12, nvidia-cuda-runtime-cu12, nvidia-cuda-nvrtc-cu12, nvidia-cuda-cupti-cu12, nvidia-cublas-cu12, nvidia-cusparse-cu12, nvidia-cudnn-cu12, nvidia-cusolver-cu12, ultralytics-thop, ultralytics\n",
            "  Attempting uninstall: nvidia-nvjitlink-cu12\n",
            "    Found existing installation: nvidia-nvjitlink-cu12 12.5.82\n",
            "    Uninstalling nvidia-nvjitlink-cu12-12.5.82:\n",
            "      Successfully uninstalled nvidia-nvjitlink-cu12-12.5.82\n",
            "  Attempting uninstall: nvidia-curand-cu12\n",
            "    Found existing installation: nvidia-curand-cu12 10.3.6.82\n",
            "    Uninstalling nvidia-curand-cu12-10.3.6.82:\n",
            "      Successfully uninstalled nvidia-curand-cu12-10.3.6.82\n",
            "  Attempting uninstall: nvidia-cufft-cu12\n",
            "    Found existing installation: nvidia-cufft-cu12 11.2.3.61\n",
            "    Uninstalling nvidia-cufft-cu12-11.2.3.61:\n",
            "      Successfully uninstalled nvidia-cufft-cu12-11.2.3.61\n",
            "  Attempting uninstall: nvidia-cuda-runtime-cu12\n",
            "    Found existing installation: nvidia-cuda-runtime-cu12 12.5.82\n",
            "    Uninstalling nvidia-cuda-runtime-cu12-12.5.82:\n",
            "      Successfully uninstalled nvidia-cuda-runtime-cu12-12.5.82\n",
            "  Attempting uninstall: nvidia-cuda-nvrtc-cu12\n",
            "    Found existing installation: nvidia-cuda-nvrtc-cu12 12.5.82\n",
            "    Uninstalling nvidia-cuda-nvrtc-cu12-12.5.82:\n",
            "      Successfully uninstalled nvidia-cuda-nvrtc-cu12-12.5.82\n",
            "  Attempting uninstall: nvidia-cuda-cupti-cu12\n",
            "    Found existing installation: nvidia-cuda-cupti-cu12 12.5.82\n",
            "    Uninstalling nvidia-cuda-cupti-cu12-12.5.82:\n",
            "      Successfully uninstalled nvidia-cuda-cupti-cu12-12.5.82\n",
            "  Attempting uninstall: nvidia-cublas-cu12\n",
            "    Found existing installation: nvidia-cublas-cu12 12.5.3.2\n",
            "    Uninstalling nvidia-cublas-cu12-12.5.3.2:\n",
            "      Successfully uninstalled nvidia-cublas-cu12-12.5.3.2\n",
            "  Attempting uninstall: nvidia-cusparse-cu12\n",
            "    Found existing installation: nvidia-cusparse-cu12 12.5.1.3\n",
            "    Uninstalling nvidia-cusparse-cu12-12.5.1.3:\n",
            "      Successfully uninstalled nvidia-cusparse-cu12-12.5.1.3\n",
            "  Attempting uninstall: nvidia-cudnn-cu12\n",
            "    Found existing installation: nvidia-cudnn-cu12 9.3.0.75\n",
            "    Uninstalling nvidia-cudnn-cu12-9.3.0.75:\n",
            "      Successfully uninstalled nvidia-cudnn-cu12-9.3.0.75\n",
            "  Attempting uninstall: nvidia-cusolver-cu12\n",
            "    Found existing installation: nvidia-cusolver-cu12 11.6.3.83\n",
            "    Uninstalling nvidia-cusolver-cu12-11.6.3.83:\n",
            "      Successfully uninstalled nvidia-cusolver-cu12-11.6.3.83\n",
            "Successfully installed nvidia-cublas-cu12-12.4.5.8 nvidia-cuda-cupti-cu12-12.4.127 nvidia-cuda-nvrtc-cu12-12.4.127 nvidia-cuda-runtime-cu12-12.4.127 nvidia-cudnn-cu12-9.1.0.70 nvidia-cufft-cu12-11.2.1.3 nvidia-curand-cu12-10.3.5.147 nvidia-cusolver-cu12-11.6.1.9 nvidia-cusparse-cu12-12.3.1.170 nvidia-nvjitlink-cu12-12.4.127 ultralytics-8.3.122 ultralytics-thop-2.0.14\n"
          ]
        }
      ],
      "source": [
        "!pip install ultralytics"
      ]
    },
    {
      "cell_type": "markdown",
      "source": [
        "# **Tải dữ liệu về**"
      ],
      "metadata": {
        "id": "mKkb42NEoEsY"
      }
    },
    {
      "cell_type": "code",
      "execution_count": null,
      "metadata": {
        "colab": {
          "base_uri": "https://localhost:8080/"
        },
        "id": "WaMpzwRPT6Nq",
        "outputId": "77e8566f-c245-48c1-a0a3-d3718c131a8d",
        "collapsed": true
      },
      "outputs": [
        {
          "output_type": "stream",
          "name": "stdout",
          "text": [
            "  % Total    % Received % Xferd  Average Speed   Time    Time     Time  Current\n",
            "                                 Dload  Upload   Total   Spent    Left  Speed\n",
            "100   903  100   903    0     0   1633      0 --:--:-- --:--:-- --:--:--  1635\n",
            "100 31.2M  100 31.2M    0     0  7186k      0  0:00:04  0:00:04 --:--:-- 9278k\n",
            "Archive:  roboflow.zip\n",
            "  inflating: README.dataset.txt      \n",
            "  inflating: README.roboflow.txt     \n",
            "  inflating: data.yaml               \n",
            "   creating: test/\n",
            "   creating: test/images/\n",
            " extracting: test/images/0_jpg.rf.809fd3f8bbd948692405503064ee0386.jpg  \n",
            " extracting: test/images/10_jpg.rf.5387eca109780f9dfebb3290b62feabe.jpg  \n",
            " extracting: test/images/11_jpg.rf.46c6d5917de86c70a91cdeb3ab2610f3.jpg  \n",
            " extracting: test/images/11_jpg.rf.a5e9eb56eb4506c1b14113193a60b9c2.jpg  \n",
            " extracting: test/images/12_jpg.rf.3db77462dc37889cbcd1f58920324bf5.jpg  \n",
            " extracting: test/images/12_jpg.rf.41c3b8645b49fcbd9f85cf971fcd0997.jpg  \n",
            " extracting: test/images/13_jpg.rf.9958fcf2e7b6a57d38c1a31d88fe3d5d.jpg  \n",
            " extracting: test/images/14_jpg.rf.1dd84fe243adfc4f3e2e2ef51c5270fa.jpg  \n",
            " extracting: test/images/14_jpg.rf.88c087b6635913fd60b4cebeb59075c2.jpg  \n",
            " extracting: test/images/15_jpg.rf.091ca64fbd26e806a19cd1b7c388e8a5.jpg  \n",
            " extracting: test/images/15_jpg.rf.56520488d3cd025b9f77fece341b883a.jpg  \n",
            " extracting: test/images/15_jpg.rf.8050caa12bc55ae4d1e8244e66d6ae09.jpg  \n",
            " extracting: test/images/15_jpg.rf.f11a0baa236a18fdeeb1f19555d0e29a.jpg  \n",
            " extracting: test/images/16_jpg.rf.aa448cc1f33108da0f766c4e7af42741.jpg  \n",
            " extracting: test/images/16_jpg.rf.fc951d1c841fc2e4b61d3e9b96bcfbab.jpg  \n",
            " extracting: test/images/17_jpg.rf.6dd08cf06ff6d65692fc1613e8130342.jpg  \n",
            " extracting: test/images/18_jpg.rf.42fae177683ea7905371c274b46501e8.jpg  \n",
            " extracting: test/images/18_jpg.rf.6497ff8f2713c58fa93285f7f93e01b3.jpg  \n",
            " extracting: test/images/18_jpg.rf.b378507ff4d1af684f454c7c8224e911.jpg  \n",
            " extracting: test/images/19_jpg.rf.121370322a12924af9dd997f4b07f4cb.jpg  \n",
            " extracting: test/images/19_jpg.rf.59ef33be31dceae9b339378ee22eac72.jpg  \n",
            " extracting: test/images/19_jpg.rf.f80505a2891f8fb5da201d607748bc83.jpg  \n",
            " extracting: test/images/1_jpg.rf.1cc4446d5f38adf3397a5cb15cc88b79.jpg  \n",
            " extracting: test/images/20_jpg.rf.1453bb52eb785ddd2cdb486d0f30fdf8.jpg  \n",
            " extracting: test/images/20_jpg.rf.31ffeaeb1a292db9636cd11be125447b.jpg  \n",
            " extracting: test/images/20_jpg.rf.6f8689fcc8a06a9602e405aea8f40576.jpg  \n",
            " extracting: test/images/21_jpg.rf.2a0da66e88d12238ef0caa11c93f7587.jpg  \n",
            " extracting: test/images/21_jpg.rf.4ac1ca968e86708db863d0832d33035e.jpg  \n",
            " extracting: test/images/21_jpg.rf.4b4f9f35816d9295b077d9406d7d1519.jpg  \n",
            " extracting: test/images/21_jpg.rf.a9a8154329c0d5e5f4f9bd3f3a6041d8.jpg  \n",
            " extracting: test/images/22_jpg.rf.5397d56b2c63029b80f6161c9301a1bc.jpg  \n",
            " extracting: test/images/22_jpg.rf.8cbf3c7b3355f8f5b5e0bc9b9e6f61e2.jpg  \n",
            " extracting: test/images/26_jpg.rf.3a49db01089ccd5c7183ce9c092a173e.jpg  \n",
            " extracting: test/images/26_jpg.rf.45d68b801f2c5b957bc9df455fe85386.jpg  \n",
            " extracting: test/images/27_jpg.rf.b85b98f5428fea5f8785aaaf414031ae.jpg  \n",
            " extracting: test/images/28_jpg.rf.63cbcc1077eb42289d1968b71e676f3d.jpg  \n",
            " extracting: test/images/2_jpg.rf.164a05efe8719501c2ded1df0421a629.jpg  \n",
            " extracting: test/images/2_jpg.rf.20335ef6a4eb823299a194bbd638718e.jpg  \n",
            " extracting: test/images/2_jpg.rf.b57fa1c59d299099b92aec223121511e.jpg  \n",
            " extracting: test/images/33_jpg.rf.a4d228a1c3c4cbed1022e8728a038dd3.jpg  \n",
            " extracting: test/images/34_jpg.rf.9232ff7257481d6d26a2448ce28ca185.jpg  \n",
            " extracting: test/images/35_jpg.rf.9f94f732d0d98ba70bd6abb40928c8ca.jpg  \n",
            " extracting: test/images/37_jpg.rf.6a10f61768b1e12dcabf74f28db79ac9.jpg  \n",
            " extracting: test/images/37_jpg.rf.e4ff3c904e44105e2d18750f41021948.jpg  \n",
            " extracting: test/images/39_jpg.rf.bc7baeded5f1a02af2097bc435fe72fb.jpg  \n",
            " extracting: test/images/39_jpg.rf.ef3cb11ca41250efc34fc011b803f69e.jpg  \n",
            " extracting: test/images/3_jpg.rf.95433fbd57d0b2b2f093d4a798c0a532.jpg  \n",
            " extracting: test/images/42_jpg.rf.8e20cdb3061a57cc21bce6cec6ed5de2.jpg  \n",
            " extracting: test/images/42_jpg.rf.bb2c7c0c33322035b5b1e50f0c3c5ef0.jpg  \n",
            " extracting: test/images/43_jpg.rf.092851c1cd362ef0196616e19e17b18e.jpg  \n",
            " extracting: test/images/43_jpg.rf.bdad0eb0fe533604307dac586ec655e9.jpg  \n",
            " extracting: test/images/44_jpg.rf.2c88704c54e0f2b4719199c582ea4f4d.jpg  \n",
            " extracting: test/images/44_jpg.rf.5db4a60c47f9e73bffff5d91563380e6.jpg  \n",
            " extracting: test/images/45_jpg.rf.c20c42ffc85cabbff963b77b4bbc09c1.jpg  \n",
            " extracting: test/images/48_jpg.rf.bc24b98832af20102f52944f551e3348.jpg  \n",
            " extracting: test/images/49_jpg.rf.11ac0d964379b03e53728c5240033917.jpg  \n",
            " extracting: test/images/4_jpg.rf.00600197bd33af8210ab46f55369d5c9.jpg  \n",
            " extracting: test/images/4_jpg.rf.766239e9b3aeba705272043c03265bda.jpg  \n",
            " extracting: test/images/50_jpg.rf.4981b49fce2de8bffae04a3dc4a1434e.jpg  \n",
            " extracting: test/images/50_jpg.rf.cca2e096d71a1efc6b95aecd76377514.jpg  \n",
            " extracting: test/images/51_jpg.rf.1adea8b008b6466b7da26b3dfba054ea.jpg  \n",
            " extracting: test/images/52_jpg.rf.ece442efce44266e6b34cc10bedf7623.jpg  \n",
            " extracting: test/images/53_jpg.rf.2a04d10f5d9b88e7c63db4aaa96d7c76.jpg  \n",
            " extracting: test/images/54_jpg.rf.8fe37814cd735ca1061e307ae65244ad.jpg  \n",
            " extracting: test/images/55_jpg.rf.3f73f8480ea1f589372a5292c6369f58.jpg  \n",
            " extracting: test/images/56_jpg.rf.ad5e300d5b81ac76c0c3caba081ad80d.jpg  \n",
            " extracting: test/images/56_jpg.rf.ceceaf9c16e895295582248e006faf67.jpg  \n",
            " extracting: test/images/57_jpg.rf.d8f8b8bf49a58e1bbb770c3394972056.jpg  \n",
            " extracting: test/images/58_jpg.rf.12661b8c4779361153e7d7a7e56f33e8.jpg  \n",
            " extracting: test/images/59_jpg.rf.8eea4c7f4aa5c5362ff4c3561c0feaf0.jpg  \n",
            " extracting: test/images/59_jpg.rf.9cef5c843efdfb446b0f1666a57b3e07.jpg  \n",
            " extracting: test/images/62_jpg.rf.2de1e1d95264d8b9ae9b4c0e67678671.jpg  \n",
            " extracting: test/images/64_jpg.rf.70b2b964194188b771c75de49334f2d1.jpg  \n",
            " extracting: test/images/64_jpg.rf.897ce87f8f6b767f102d2cb3e9e8bc3b.jpg  \n",
            " extracting: test/images/64_jpg.rf.cc2713967151d21c0f70e568d8c15d16.jpg  \n",
            " extracting: test/images/65_jpg.rf.4c5400b0aa3fc5511b9f8c1c23d68067.jpg  \n",
            " extracting: test/images/65_jpg.rf.e6b9f07020dea97f6e42d1092fa61dd5.jpg  \n",
            " extracting: test/images/66_jpg.rf.084cc343b579505f71ff1536c6851ec3.jpg  \n",
            " extracting: test/images/67_jpg.rf.1e12e729620696a3ca48c9a0f06cad52.jpg  \n",
            " extracting: test/images/69_jpg.rf.cfeb22d4b608609305b1d92dfd1bb6e0.jpg  \n",
            " extracting: test/images/6_jpg.rf.57300f88dae7c12b6f4cc69fe2cfa060.jpg  \n",
            " extracting: test/images/6_jpg.rf.9ca11e8d5fd7235db1e104b72c70ca4f.jpg  \n",
            " extracting: test/images/70_jpg.rf.46162e1531ab45d898fdd31957118e57.jpg  \n",
            " extracting: test/images/71_jpg.rf.8b953fd68b01854c922d5fd397ef8086.jpg  \n",
            " extracting: test/images/72_jpg.rf.c527b14891b57db6c8e37f7187433ad0.jpg  \n",
            " extracting: test/images/76_jpg.rf.7fb0535967f96c2bcacf06a5affc4b3a.jpg  \n",
            " extracting: test/images/78_jpg.rf.15a6f930e75e5d16b87accbf2150f455.jpg  \n",
            " extracting: test/images/78_jpg.rf.747fef8335a88fad0ce5e50433336beb.jpg  \n",
            " extracting: test/images/79_jpg.rf.c43cea08bb7729bc7a01a4a2c5710b92.jpg  \n",
            " extracting: test/images/7_jpg.rf.0f4ba89e6424903059554dc58c59380f.jpg  \n",
            " extracting: test/images/80_jpg.rf.5934d8b3b25f984198eaac6ea9488765.jpg  \n",
            " extracting: test/images/83_jpg.rf.f32d683639e4222b4953cd64d7245a14.jpg  \n",
            " extracting: test/images/87_jpg.rf.0683c1f2ce0eefd0a0a194b0873a0892.jpg  \n",
            " extracting: test/images/87_jpg.rf.d445d912696f4b4f60afb4b5f1bfbe43.jpg  \n",
            " extracting: test/images/88_jpg.rf.dca8c0276a363701c0b515d4b81498c8.jpg  \n",
            " extracting: test/images/89_jpg.rf.6d5bb629ea46423a4b4288c8319955ef.jpg  \n",
            " extracting: test/images/8_jpg.rf.e4002fcf5949f47c6ca1555659d95895.jpg  \n",
            " extracting: test/images/8_jpg.rf.f2b81ef69d3c317d89b71b7ede8e5458.jpg  \n",
            " extracting: test/images/91_jpg.rf.70e6c32a8d7855e39bf7690596b55e75.jpg  \n",
            " extracting: test/images/92_jpg.rf.5826eab65607053358ec0c3a282e3f53.jpg  \n",
            " extracting: test/images/93_jpg.rf.9eafbb6de372fc99a689d51933979824.jpg  \n",
            " extracting: test/images/9_jpg.rf.021162280efb05152a692061321f6e3f.jpg  \n",
            " extracting: test/images/9_jpg.rf.ad4f5fea2f34d16da522edbf0e3a5470.jpg  \n",
            "   creating: test/labels/\n",
            "  inflating: test/labels/0_jpg.rf.809fd3f8bbd948692405503064ee0386.txt  \n",
            "  inflating: test/labels/10_jpg.rf.5387eca109780f9dfebb3290b62feabe.txt  \n",
            "  inflating: test/labels/11_jpg.rf.46c6d5917de86c70a91cdeb3ab2610f3.txt  \n",
            "  inflating: test/labels/11_jpg.rf.a5e9eb56eb4506c1b14113193a60b9c2.txt  \n",
            "  inflating: test/labels/12_jpg.rf.3db77462dc37889cbcd1f58920324bf5.txt  \n",
            "  inflating: test/labels/12_jpg.rf.41c3b8645b49fcbd9f85cf971fcd0997.txt  \n",
            "  inflating: test/labels/13_jpg.rf.9958fcf2e7b6a57d38c1a31d88fe3d5d.txt  \n",
            "  inflating: test/labels/14_jpg.rf.1dd84fe243adfc4f3e2e2ef51c5270fa.txt  \n",
            "  inflating: test/labels/14_jpg.rf.88c087b6635913fd60b4cebeb59075c2.txt  \n",
            "  inflating: test/labels/15_jpg.rf.091ca64fbd26e806a19cd1b7c388e8a5.txt  \n",
            "  inflating: test/labels/15_jpg.rf.56520488d3cd025b9f77fece341b883a.txt  \n",
            "  inflating: test/labels/15_jpg.rf.8050caa12bc55ae4d1e8244e66d6ae09.txt  \n",
            "  inflating: test/labels/15_jpg.rf.f11a0baa236a18fdeeb1f19555d0e29a.txt  \n",
            "  inflating: test/labels/16_jpg.rf.aa448cc1f33108da0f766c4e7af42741.txt  \n",
            "  inflating: test/labels/16_jpg.rf.fc951d1c841fc2e4b61d3e9b96bcfbab.txt  \n",
            "  inflating: test/labels/17_jpg.rf.6dd08cf06ff6d65692fc1613e8130342.txt  \n",
            "  inflating: test/labels/18_jpg.rf.42fae177683ea7905371c274b46501e8.txt  \n",
            "  inflating: test/labels/18_jpg.rf.6497ff8f2713c58fa93285f7f93e01b3.txt  \n",
            "  inflating: test/labels/18_jpg.rf.b378507ff4d1af684f454c7c8224e911.txt  \n",
            "  inflating: test/labels/19_jpg.rf.121370322a12924af9dd997f4b07f4cb.txt  \n",
            "  inflating: test/labels/19_jpg.rf.59ef33be31dceae9b339378ee22eac72.txt  \n",
            "  inflating: test/labels/19_jpg.rf.f80505a2891f8fb5da201d607748bc83.txt  \n",
            "  inflating: test/labels/1_jpg.rf.1cc4446d5f38adf3397a5cb15cc88b79.txt  \n",
            "  inflating: test/labels/20_jpg.rf.1453bb52eb785ddd2cdb486d0f30fdf8.txt  \n",
            "  inflating: test/labels/20_jpg.rf.31ffeaeb1a292db9636cd11be125447b.txt  \n",
            "  inflating: test/labels/20_jpg.rf.6f8689fcc8a06a9602e405aea8f40576.txt  \n",
            "  inflating: test/labels/21_jpg.rf.2a0da66e88d12238ef0caa11c93f7587.txt  \n",
            "  inflating: test/labels/21_jpg.rf.4ac1ca968e86708db863d0832d33035e.txt  \n",
            "  inflating: test/labels/21_jpg.rf.4b4f9f35816d9295b077d9406d7d1519.txt  \n",
            "  inflating: test/labels/21_jpg.rf.a9a8154329c0d5e5f4f9bd3f3a6041d8.txt  \n",
            "  inflating: test/labels/22_jpg.rf.5397d56b2c63029b80f6161c9301a1bc.txt  \n",
            "  inflating: test/labels/22_jpg.rf.8cbf3c7b3355f8f5b5e0bc9b9e6f61e2.txt  \n",
            "  inflating: test/labels/26_jpg.rf.3a49db01089ccd5c7183ce9c092a173e.txt  \n",
            "  inflating: test/labels/26_jpg.rf.45d68b801f2c5b957bc9df455fe85386.txt  \n",
            "  inflating: test/labels/27_jpg.rf.b85b98f5428fea5f8785aaaf414031ae.txt  \n",
            "  inflating: test/labels/28_jpg.rf.63cbcc1077eb42289d1968b71e676f3d.txt  \n",
            "  inflating: test/labels/2_jpg.rf.164a05efe8719501c2ded1df0421a629.txt  \n",
            "  inflating: test/labels/2_jpg.rf.20335ef6a4eb823299a194bbd638718e.txt  \n",
            "  inflating: test/labels/2_jpg.rf.b57fa1c59d299099b92aec223121511e.txt  \n",
            "  inflating: test/labels/33_jpg.rf.a4d228a1c3c4cbed1022e8728a038dd3.txt  \n",
            "  inflating: test/labels/34_jpg.rf.9232ff7257481d6d26a2448ce28ca185.txt  \n",
            "  inflating: test/labels/35_jpg.rf.9f94f732d0d98ba70bd6abb40928c8ca.txt  \n",
            "  inflating: test/labels/37_jpg.rf.6a10f61768b1e12dcabf74f28db79ac9.txt  \n",
            "  inflating: test/labels/37_jpg.rf.e4ff3c904e44105e2d18750f41021948.txt  \n",
            "  inflating: test/labels/39_jpg.rf.bc7baeded5f1a02af2097bc435fe72fb.txt  \n",
            "  inflating: test/labels/39_jpg.rf.ef3cb11ca41250efc34fc011b803f69e.txt  \n",
            "  inflating: test/labels/3_jpg.rf.95433fbd57d0b2b2f093d4a798c0a532.txt  \n",
            "  inflating: test/labels/42_jpg.rf.8e20cdb3061a57cc21bce6cec6ed5de2.txt  \n",
            "  inflating: test/labels/42_jpg.rf.bb2c7c0c33322035b5b1e50f0c3c5ef0.txt  \n",
            "  inflating: test/labels/43_jpg.rf.092851c1cd362ef0196616e19e17b18e.txt  \n",
            "  inflating: test/labels/43_jpg.rf.bdad0eb0fe533604307dac586ec655e9.txt  \n",
            "  inflating: test/labels/44_jpg.rf.2c88704c54e0f2b4719199c582ea4f4d.txt  \n",
            "  inflating: test/labels/44_jpg.rf.5db4a60c47f9e73bffff5d91563380e6.txt  \n",
            "  inflating: test/labels/45_jpg.rf.c20c42ffc85cabbff963b77b4bbc09c1.txt  \n",
            "  inflating: test/labels/48_jpg.rf.bc24b98832af20102f52944f551e3348.txt  \n",
            "  inflating: test/labels/49_jpg.rf.11ac0d964379b03e53728c5240033917.txt  \n",
            "  inflating: test/labels/4_jpg.rf.00600197bd33af8210ab46f55369d5c9.txt  \n",
            "  inflating: test/labels/4_jpg.rf.766239e9b3aeba705272043c03265bda.txt  \n",
            "  inflating: test/labels/50_jpg.rf.4981b49fce2de8bffae04a3dc4a1434e.txt  \n",
            "  inflating: test/labels/50_jpg.rf.cca2e096d71a1efc6b95aecd76377514.txt  \n",
            "  inflating: test/labels/51_jpg.rf.1adea8b008b6466b7da26b3dfba054ea.txt  \n",
            "  inflating: test/labels/52_jpg.rf.ece442efce44266e6b34cc10bedf7623.txt  \n",
            "  inflating: test/labels/53_jpg.rf.2a04d10f5d9b88e7c63db4aaa96d7c76.txt  \n",
            "  inflating: test/labels/54_jpg.rf.8fe37814cd735ca1061e307ae65244ad.txt  \n",
            "  inflating: test/labels/55_jpg.rf.3f73f8480ea1f589372a5292c6369f58.txt  \n",
            "  inflating: test/labels/56_jpg.rf.ad5e300d5b81ac76c0c3caba081ad80d.txt  \n",
            "  inflating: test/labels/56_jpg.rf.ceceaf9c16e895295582248e006faf67.txt  \n",
            "  inflating: test/labels/57_jpg.rf.d8f8b8bf49a58e1bbb770c3394972056.txt  \n",
            "  inflating: test/labels/58_jpg.rf.12661b8c4779361153e7d7a7e56f33e8.txt  \n",
            "  inflating: test/labels/59_jpg.rf.8eea4c7f4aa5c5362ff4c3561c0feaf0.txt  \n",
            "  inflating: test/labels/59_jpg.rf.9cef5c843efdfb446b0f1666a57b3e07.txt  \n",
            "  inflating: test/labels/62_jpg.rf.2de1e1d95264d8b9ae9b4c0e67678671.txt  \n",
            "  inflating: test/labels/64_jpg.rf.70b2b964194188b771c75de49334f2d1.txt  \n",
            "  inflating: test/labels/64_jpg.rf.897ce87f8f6b767f102d2cb3e9e8bc3b.txt  \n",
            "  inflating: test/labels/64_jpg.rf.cc2713967151d21c0f70e568d8c15d16.txt  \n",
            "  inflating: test/labels/65_jpg.rf.4c5400b0aa3fc5511b9f8c1c23d68067.txt  \n",
            "  inflating: test/labels/65_jpg.rf.e6b9f07020dea97f6e42d1092fa61dd5.txt  \n",
            "  inflating: test/labels/66_jpg.rf.084cc343b579505f71ff1536c6851ec3.txt  \n",
            "  inflating: test/labels/67_jpg.rf.1e12e729620696a3ca48c9a0f06cad52.txt  \n",
            "  inflating: test/labels/69_jpg.rf.cfeb22d4b608609305b1d92dfd1bb6e0.txt  \n",
            "  inflating: test/labels/6_jpg.rf.57300f88dae7c12b6f4cc69fe2cfa060.txt  \n",
            "  inflating: test/labels/6_jpg.rf.9ca11e8d5fd7235db1e104b72c70ca4f.txt  \n",
            "  inflating: test/labels/70_jpg.rf.46162e1531ab45d898fdd31957118e57.txt  \n",
            "  inflating: test/labels/71_jpg.rf.8b953fd68b01854c922d5fd397ef8086.txt  \n",
            "  inflating: test/labels/72_jpg.rf.c527b14891b57db6c8e37f7187433ad0.txt  \n",
            "  inflating: test/labels/76_jpg.rf.7fb0535967f96c2bcacf06a5affc4b3a.txt  \n",
            "  inflating: test/labels/78_jpg.rf.15a6f930e75e5d16b87accbf2150f455.txt  \n",
            "  inflating: test/labels/78_jpg.rf.747fef8335a88fad0ce5e50433336beb.txt  \n",
            "  inflating: test/labels/79_jpg.rf.c43cea08bb7729bc7a01a4a2c5710b92.txt  \n",
            "  inflating: test/labels/7_jpg.rf.0f4ba89e6424903059554dc58c59380f.txt  \n",
            "  inflating: test/labels/80_jpg.rf.5934d8b3b25f984198eaac6ea9488765.txt  \n",
            "  inflating: test/labels/83_jpg.rf.f32d683639e4222b4953cd64d7245a14.txt  \n",
            "  inflating: test/labels/87_jpg.rf.0683c1f2ce0eefd0a0a194b0873a0892.txt  \n",
            "  inflating: test/labels/87_jpg.rf.d445d912696f4b4f60afb4b5f1bfbe43.txt  \n",
            "  inflating: test/labels/88_jpg.rf.dca8c0276a363701c0b515d4b81498c8.txt  \n",
            "  inflating: test/labels/89_jpg.rf.6d5bb629ea46423a4b4288c8319955ef.txt  \n",
            "  inflating: test/labels/8_jpg.rf.e4002fcf5949f47c6ca1555659d95895.txt  \n",
            "  inflating: test/labels/8_jpg.rf.f2b81ef69d3c317d89b71b7ede8e5458.txt  \n",
            "  inflating: test/labels/91_jpg.rf.70e6c32a8d7855e39bf7690596b55e75.txt  \n",
            "  inflating: test/labels/92_jpg.rf.5826eab65607053358ec0c3a282e3f53.txt  \n",
            "  inflating: test/labels/93_jpg.rf.9eafbb6de372fc99a689d51933979824.txt  \n",
            "  inflating: test/labels/9_jpg.rf.021162280efb05152a692061321f6e3f.txt  \n",
            "  inflating: test/labels/9_jpg.rf.ad4f5fea2f34d16da522edbf0e3a5470.txt  \n",
            "   creating: train/\n",
            "   creating: train/images/\n",
            " extracting: train/images/0_jpg.rf.1fba421d0659b7d6c9a1b46c9b7cc6db.jpg  \n",
            " extracting: train/images/0_jpg.rf.234fa3a3349466a32beb3dc4606e302d.jpg  \n",
            " extracting: train/images/0_jpg.rf.37763b38fc819ef1f35a00935b187e61.jpg  \n",
            " extracting: train/images/0_jpg.rf.7449f27bf831a2d0c27fc61e18555fd7.jpg  \n",
            " extracting: train/images/0_jpg.rf.f1cf3fa1790bdd6ff49058e03b51f7c7.jpg  \n",
            " extracting: train/images/0_jpg.rf.f7a46a74d39c48c950847ac927a4c733.jpg  \n",
            " extracting: train/images/10_jpg.rf.017884a408fb9593c837d528a44e65ce.jpg  \n",
            " extracting: train/images/10_jpg.rf.032b04839f70eeb73d7dd557734de22b.jpg  \n",
            " extracting: train/images/10_jpg.rf.03a74e6792ab0a0a2b7ddb59fa968c34.jpg  \n",
            " extracting: train/images/10_jpg.rf.0aea6c088d31a5547133acce2df6d243.jpg  \n",
            " extracting: train/images/10_jpg.rf.3879fc8bcd0d56ef9f605b0b207caf45.jpg  \n",
            " extracting: train/images/10_jpg.rf.3e21532a99ffb2a1b1beedcf72be699a.jpg  \n",
            " extracting: train/images/10_jpg.rf.3f590762a9e1c9eb855a8acf7842df5e.jpg  \n",
            " extracting: train/images/10_jpg.rf.52656cc75e90f2124463faee88b55fd3.jpg  \n",
            " extracting: train/images/10_jpg.rf.571d142800a94394552da27d3f9a606e.jpg  \n",
            " extracting: train/images/10_jpg.rf.617d2060ed1edaab77fcd6b2714b2864.jpg  \n",
            " extracting: train/images/10_jpg.rf.9dd5acf350d7fca48771b7195b0e9139.jpg  \n",
            " extracting: train/images/10_jpg.rf.a2978f3ebdfeb760578c2aa560add4a6.jpg  \n",
            " extracting: train/images/10_jpg.rf.a353c0acf8dbe5c41f0ba4ed7ca74081.jpg  \n",
            " extracting: train/images/10_jpg.rf.bccca4a8307e0fe419edd6d4d3c5fef5.jpg  \n",
            " extracting: train/images/10_jpg.rf.eb7a28175dac863d83c094d0c29cfbb7.jpg  \n",
            " extracting: train/images/11_jpg.rf.2d91f81cad76d85f010dd6e785ed9314.jpg  \n",
            " extracting: train/images/11_jpg.rf.31e9aff27f101a95567cc652cd70f529.jpg  \n",
            " extracting: train/images/11_jpg.rf.42c92c52d2af2563c86dfab8ad9296b2.jpg  \n",
            " extracting: train/images/11_jpg.rf.43a2a5cce282caba593f06f9cfd3de41.jpg  \n",
            " extracting: train/images/11_jpg.rf.4546710ff6e9588bed123e9bab0d7fb9.jpg  \n",
            " extracting: train/images/11_jpg.rf.55fda22b33b5ef5cea5220b5e5a9e977.jpg  \n",
            " extracting: train/images/11_jpg.rf.710a03093777267f001b46ed1234a496.jpg  \n",
            " extracting: train/images/11_jpg.rf.bb8a309a4ef24460828cae363ef76e68.jpg  \n",
            " extracting: train/images/11_jpg.rf.be72f805a6426c9d25cd1cf4516341c2.jpg  \n",
            " extracting: train/images/11_jpg.rf.d18984e2d3cb840709ecbd584da4a02c.jpg  \n",
            " extracting: train/images/11_jpg.rf.d3502b68b2f8df8cd753e7795bb617b7.jpg  \n",
            " extracting: train/images/11_jpg.rf.eec8e6e99933313472458bbeb83e2cc4.jpg  \n",
            " extracting: train/images/12_jpg.rf.2bbab336752627e476d1c4f41c9478c9.jpg  \n",
            " extracting: train/images/12_jpg.rf.3f7a1fb7ce3d89fda5a0d939405868de.jpg  \n",
            " extracting: train/images/12_jpg.rf.8837d0c23302a3c2133fbb3d2211bbb0.jpg  \n",
            " extracting: train/images/12_jpg.rf.8a3d926c1609cbe7e22b0d48d7a46b4c.jpg  \n",
            " extracting: train/images/12_jpg.rf.9ba1a2b069e3a17b27d31e6b68ce4417.jpg  \n",
            " extracting: train/images/12_jpg.rf.c2285478559b399322170c8346cb22ff.jpg  \n",
            " extracting: train/images/13_jpg.rf.0aa637819f0996771e44636fd23b2257.jpg  \n",
            " extracting: train/images/13_jpg.rf.1b2739a867cf442b0028d02745309076.jpg  \n",
            " extracting: train/images/13_jpg.rf.1e66b39bddca74b3797fcdf461de9753.jpg  \n",
            " extracting: train/images/13_jpg.rf.2426b83813f181a165ffee871c682a18.jpg  \n",
            " extracting: train/images/13_jpg.rf.333807de4ff5d8bb355f3842a59d3d28.jpg  \n",
            " extracting: train/images/13_jpg.rf.38c15037e57da2758046456e1f53d71a.jpg  \n",
            " extracting: train/images/13_jpg.rf.574e8abd8da3ea321caa40975852c70f.jpg  \n",
            " extracting: train/images/13_jpg.rf.5fae2559460dd17f4c1e94d0cb5d3c67.jpg  \n",
            " extracting: train/images/13_jpg.rf.67847dbf1be8f571d5cbcc77de25a68f.jpg  \n",
            " extracting: train/images/13_jpg.rf.77c0452bb08a28d15ae1e2b423693b4e.jpg  \n",
            " extracting: train/images/13_jpg.rf.822b933bdc86e2e2405246e15fc8caba.jpg  \n",
            " extracting: train/images/13_jpg.rf.9c0047c4302880b41e2c7e1aa1870bc7.jpg  \n",
            " extracting: train/images/13_jpg.rf.b4ef2745da9e37ed055e8264351513d7.jpg  \n",
            " extracting: train/images/13_jpg.rf.b61832a3113dced62abf92bc9cca33ed.jpg  \n",
            " extracting: train/images/13_jpg.rf.c9c8ba847658ee863eb9fd723f41d2b8.jpg  \n",
            " extracting: train/images/14_jpg.rf.2f47c6dcd3264d50ed4c414cf47f4655.jpg  \n",
            " extracting: train/images/14_jpg.rf.49873c0df5c577afb039b582164022f0.jpg  \n",
            " extracting: train/images/14_jpg.rf.4a1d63196ac913d9908330d18b74250b.jpg  \n",
            " extracting: train/images/14_jpg.rf.4a43a9b70de5b336bf859796bc00cc03.jpg  \n",
            " extracting: train/images/14_jpg.rf.a441bc792cdd3a1910585b143891973e.jpg  \n",
            " extracting: train/images/14_jpg.rf.cdbf89d07b6c3f764bd300d842234c57.jpg  \n",
            " extracting: train/images/14_jpg.rf.d49a7b904596958cc392550599e4d363.jpg  \n",
            " extracting: train/images/14_jpg.rf.f5cdf742967e7bf3ab8cfcda188d4b03.jpg  \n",
            " extracting: train/images/14_jpg.rf.faf940ae4891a14a429ca659707f4814.jpg  \n",
            " extracting: train/images/15_jpg.rf.1dc8395995983e73b14acb7300380554.jpg  \n",
            " extracting: train/images/15_jpg.rf.22d0b0f8119cfbcb424639d9b2a723df.jpg  \n",
            " extracting: train/images/15_jpg.rf.31ede15a747cc593ae4cedf388c361e5.jpg  \n",
            " extracting: train/images/15_jpg.rf.44ee89d631bbbad1b44276a6530e6662.jpg  \n",
            " extracting: train/images/15_jpg.rf.560bd884bcf29e72f46ab43bc4052b7d.jpg  \n",
            " extracting: train/images/15_jpg.rf.70d5f45eed0195299c2d2067d31f9922.jpg  \n",
            " extracting: train/images/15_jpg.rf.a681c609b1ca0448d3e3320ecaba1888.jpg  \n",
            " extracting: train/images/15_jpg.rf.c2c3e50347f0c0c4e93dca15fb1009f5.jpg  \n",
            " extracting: train/images/15_jpg.rf.f434801edd2ee2251893d035d51acc26.jpg  \n",
            " extracting: train/images/16_jpg.rf.32041dc55883975d962a63ea6ceb643c.jpg  \n",
            " extracting: train/images/16_jpg.rf.4480eb5824cc2ab629511b7cd7378876.jpg  \n",
            " extracting: train/images/16_jpg.rf.7202994207a1c763f43a5605298252fa.jpg  \n",
            " extracting: train/images/16_jpg.rf.77023736105ca720d018c7a5094f680c.jpg  \n",
            " extracting: train/images/16_jpg.rf.7e443f39521d7d34a461757584f71489.jpg  \n",
            " extracting: train/images/16_jpg.rf.872e1cf9dd13d744bb56a362f9f93f87.jpg  \n",
            " extracting: train/images/16_jpg.rf.8a56234899c48a50c7ee43b894f5253d.jpg  \n",
            " extracting: train/images/16_jpg.rf.8b829f7407ad03f5dec55d076fd35a8c.jpg  \n",
            " extracting: train/images/16_jpg.rf.8c93d9c0604b18f0e5cc3b9d05e42b0d.jpg  \n",
            " extracting: train/images/16_jpg.rf.a843ab4a08a9c7f7f5f97ea29d2711de.jpg  \n",
            " extracting: train/images/16_jpg.rf.c603bcb8358c76f33375fe71ec0ea0d9.jpg  \n",
            " extracting: train/images/16_jpg.rf.c755f271c1f6f121055ff6591cf90285.jpg  \n",
            " extracting: train/images/16_jpg.rf.d0a5702f3c149ed8b55aadab71f9d91b.jpg  \n",
            " extracting: train/images/16_jpg.rf.d95b7612c17a6a16b6de9c81435f4d46.jpg  \n",
            " extracting: train/images/16_jpg.rf.fc9d180d1b9071551da60eedab6aa1a7.jpg  \n",
            " extracting: train/images/17_jpg.rf.0ab257a0d6922cd88e268fcfb6356905.jpg  \n",
            " extracting: train/images/17_jpg.rf.14c553e7ef82e1d58397adff3e36641d.jpg  \n",
            " extracting: train/images/17_jpg.rf.190728d714211be8dd6fd2b71a695b02.jpg  \n",
            " extracting: train/images/17_jpg.rf.50073cebd3b529028fd0fe5a44fa1499.jpg  \n",
            " extracting: train/images/17_jpg.rf.5838c68e9942eebf28a7a7f7c57b8b00.jpg  \n",
            " extracting: train/images/17_jpg.rf.59059525e21004095941f09e4f359914.jpg  \n",
            " extracting: train/images/17_jpg.rf.703025044f7d965147cca2f49bb03f67.jpg  \n",
            " extracting: train/images/17_jpg.rf.7e073082794c5ae9250956a80285205d.jpg  \n",
            " extracting: train/images/17_jpg.rf.831a12e36756a5de2295236e756a6141.jpg  \n",
            " extracting: train/images/17_jpg.rf.8aa7ac2b988150306d090d086685e978.jpg  \n",
            " extracting: train/images/17_jpg.rf.98291eb4ef71fdd99bc22be82977486f.jpg  \n",
            " extracting: train/images/17_jpg.rf.a5c6dcc7e2c88a14f97cf74fea80811d.jpg  \n",
            " extracting: train/images/17_jpg.rf.a87e297d75f06e5f0336a1ce8bd86202.jpg  \n",
            " extracting: train/images/17_jpg.rf.c5c0ca31edabe8ae342a0f3fa706bb7e.jpg  \n",
            " extracting: train/images/17_jpg.rf.c7a68c0333373f049aaf2777c7ce7595.jpg  \n",
            " extracting: train/images/17_jpg.rf.ceda2c643d2b634c0aebfd791a19eb8e.jpg  \n",
            " extracting: train/images/17_jpg.rf.d826b3275fa68692af38440616de6ac0.jpg  \n",
            " extracting: train/images/17_jpg.rf.e64315c7df1b93ee1b3c7e7b9f0dff3d.jpg  \n",
            " extracting: train/images/18_jpg.rf.11a4cb78e17165d11ff4da2bc8039c5e.jpg  \n",
            " extracting: train/images/18_jpg.rf.49f43d1bb679b3f84b9591ea5b0e14e2.jpg  \n",
            " extracting: train/images/18_jpg.rf.62fbf4d172d6e70ee82be2e60593618d.jpg  \n",
            " extracting: train/images/18_jpg.rf.6ac5241ed1bd9b66c7282b81173975bb.jpg  \n",
            " extracting: train/images/18_jpg.rf.75acda99f916fa0043ec0e2469642cc0.jpg  \n",
            " extracting: train/images/18_jpg.rf.8968499037ea10cbe1894e84830afb8f.jpg  \n",
            " extracting: train/images/18_jpg.rf.9ada63730068da8eac16b37aa56a3ed9.jpg  \n",
            " extracting: train/images/18_jpg.rf.a0735845b0056aa1863ffa9451ba55eb.jpg  \n",
            " extracting: train/images/18_jpg.rf.ac69fbe108b430319c7a95d66364541f.jpg  \n",
            " extracting: train/images/18_jpg.rf.b809684b557e072ab0dd7f4cfe65976b.jpg  \n",
            " extracting: train/images/18_jpg.rf.d0c8a66c851d5d3eebbf4c04fc4dda58.jpg  \n",
            " extracting: train/images/18_jpg.rf.d3ef81dc409eb76ea94439466aa02486.jpg  \n",
            " extracting: train/images/18_jpg.rf.d54dd397d5b4b23aa8da19ff527f10c0.jpg  \n",
            " extracting: train/images/18_jpg.rf.e4c9038854861c4361c6626c0784cbe7.jpg  \n",
            " extracting: train/images/18_jpg.rf.f13d4d97478a229f6832f4a3a03709fd.jpg  \n",
            " extracting: train/images/19_jpg.rf.16be0723a3581a9b9ca4e7bc7d0ea941.jpg  \n",
            " extracting: train/images/19_jpg.rf.2d8a7bd011c9678a175ddeb9eb869517.jpg  \n",
            " extracting: train/images/19_jpg.rf.372b1c8d364300d46d146659a5bbb0c8.jpg  \n",
            " extracting: train/images/19_jpg.rf.744ac5a86a6e082911fac3ade39525e0.jpg  \n",
            " extracting: train/images/19_jpg.rf.7cd2874e9291c8793acc631a974bfa9e.jpg  \n",
            " extracting: train/images/19_jpg.rf.9137e91da7b6bbc3dc3c11cf14796fdc.jpg  \n",
            " extracting: train/images/19_jpg.rf.9203667876679a1187d373c816105d93.jpg  \n",
            " extracting: train/images/19_jpg.rf.924950b91914f71945fa223ffef8666a.jpg  \n",
            " extracting: train/images/19_jpg.rf.97a6eed3527ccd5b7ea7226869aeed1b.jpg  \n",
            " extracting: train/images/19_jpg.rf.bd1e7e1f617f4ef296c3b36bdcd403fb.jpg  \n",
            " extracting: train/images/19_jpg.rf.c5619856dcd7ff9f49d03084fafbf5d7.jpg  \n",
            " extracting: train/images/19_jpg.rf.e035d67b9d6eb1d3373fbecef01008cc.jpg  \n",
            " extracting: train/images/19_jpg.rf.e457f119af322e6c8c83c8d60d44ff4e.jpg  \n",
            " extracting: train/images/19_jpg.rf.e8e163973acfb366ec21931aba11f37a.jpg  \n",
            " extracting: train/images/19_jpg.rf.eb485a45c7cfa48ab9b9430b6e4e7695.jpg  \n",
            " extracting: train/images/1_jpg.rf.04323182068360993a6e245533fb2fb3.jpg  \n",
            " extracting: train/images/1_jpg.rf.0fbb9f520cd69574e7bb3c41ea7c1c05.jpg  \n",
            " extracting: train/images/1_jpg.rf.2b664f2bca0a7f7c3442eb2619578a31.jpg  \n",
            " extracting: train/images/1_jpg.rf.398703f25576acb77caa98cbcae85d8e.jpg  \n",
            " extracting: train/images/1_jpg.rf.41ff4bf5a42dcb6effd04ca2a711bc04.jpg  \n",
            " extracting: train/images/1_jpg.rf.493d9730500af0f28f91188a10218075.jpg  \n",
            " extracting: train/images/1_jpg.rf.4cf1badbb0aa7feb8337d4b5a10a57c0.jpg  \n",
            " extracting: train/images/1_jpg.rf.71ed7f61e762841d6b30add8f7da7421.jpg  \n",
            " extracting: train/images/1_jpg.rf.93b7b2f638edbc90d1946b1b2f94d773.jpg  \n",
            " extracting: train/images/1_jpg.rf.aa84f11d47607a555785198ad8f0e3af.jpg  \n",
            " extracting: train/images/1_jpg.rf.c315ad3175e89d6666d189940931f662.jpg  \n",
            " extracting: train/images/1_jpg.rf.cbff338490d3d5acfecfde8068dce9f4.jpg  \n",
            " extracting: train/images/1_jpg.rf.d290199f7087bd58672948ac32055ba5.jpg  \n",
            " extracting: train/images/1_jpg.rf.d460e8523fa31376c53def5d84fb1659.jpg  \n",
            " extracting: train/images/1_jpg.rf.da3824cce4c350293a03254aefdce768.jpg  \n",
            " extracting: train/images/1_jpg.rf.e2408ba77c472b4fb781be940fc530df.jpg  \n",
            " extracting: train/images/1_jpg.rf.f5e56ac52e078005791e0da7e56733ad.jpg  \n",
            " extracting: train/images/1_jpg.rf.f70cdf7daca231dbaad3ace2336edf2f.jpg  \n",
            " extracting: train/images/20_jpg.rf.540c724d4dcac67f1833a23baa329a67.jpg  \n",
            " extracting: train/images/20_jpg.rf.a34e1cfc95777642344f76ef57b33435.jpg  \n",
            " extracting: train/images/20_jpg.rf.aaa5ec5aadc0466514ec089bf39cb469.jpg  \n",
            " extracting: train/images/20_jpg.rf.ab4687a1221ed769dae0c2636542666c.jpg  \n",
            " extracting: train/images/20_jpg.rf.b7f4b7931bfcfe08876b5ea6b71efa11.jpg  \n",
            " extracting: train/images/20_jpg.rf.bf819a2256f56b94c41a6b5eedd224cd.jpg  \n",
            " extracting: train/images/20_jpg.rf.c47c63076be8eee93c1794bb83bb0698.jpg  \n",
            " extracting: train/images/20_jpg.rf.d2b0f06a356d15d8627a3ef37fcccd47.jpg  \n",
            " extracting: train/images/20_jpg.rf.d68516145224a75cdc75932f6b330eff.jpg  \n",
            " extracting: train/images/21_jpg.rf.08ad77ff2d429dcc040083acff75b664.jpg  \n",
            " extracting: train/images/21_jpg.rf.0e9b78852a97e44b17ff96111c10aca5.jpg  \n",
            " extracting: train/images/21_jpg.rf.243ce33362a51c7a62929c30c101e5e2.jpg  \n",
            " extracting: train/images/21_jpg.rf.24ae835b3d9e37f099db0f392e665d44.jpg  \n",
            " extracting: train/images/21_jpg.rf.318d38882dd33c3e6903d60cef86c44c.jpg  \n",
            " extracting: train/images/21_jpg.rf.76f374f1ea7a22e1c525c25ab4a5dbea.jpg  \n",
            " extracting: train/images/21_jpg.rf.81093aa04bf28b81e8e8b0b00c330437.jpg  \n",
            " extracting: train/images/21_jpg.rf.c82a918e25bc37a9cc96383b1d0fde25.jpg  \n",
            " extracting: train/images/21_jpg.rf.e098d5f0fb07f68fc4891ecd6942ffc2.jpg  \n",
            " extracting: train/images/22_jpg.rf.31c9ec8e81ed434b8e96e5ff80055615.jpg  \n",
            " extracting: train/images/22_jpg.rf.38318ba678f7f47b6c1ed2d07aca0aa5.jpg  \n",
            " extracting: train/images/22_jpg.rf.49720b236c193df3b7b1a4719f1d21b0.jpg  \n",
            " extracting: train/images/22_jpg.rf.7ce9dd4716b7d62a67b5b2f78734bd81.jpg  \n",
            " extracting: train/images/22_jpg.rf.7d68212af6b30d10dbd18ce050a23c6c.jpg  \n",
            " extracting: train/images/22_jpg.rf.95f0caaadef6deb3d7e3cf6e7aca76fe.jpg  \n",
            " extracting: train/images/22_jpg.rf.b4dc46062cb91a9ae541a70fad9c7933.jpg  \n",
            " extracting: train/images/22_jpg.rf.db5b67ae721e96e4febbc0d93fccd712.jpg  \n",
            " extracting: train/images/22_jpg.rf.dd5135c63937afdd1c80c91b85391ddd.jpg  \n",
            " extracting: train/images/22_jpg.rf.de8147d51f8fd5b01aa1e8f50ad83467.jpg  \n",
            " extracting: train/images/22_jpg.rf.dfeb400101b34780dc3186d92f8543a2.jpg  \n",
            " extracting: train/images/22_jpg.rf.e320b0dafa25b7a5e69153c217bf621e.jpg  \n",
            " extracting: train/images/22_jpg.rf.e3e972d9147f8b19da9c9559782f306c.jpg  \n",
            " extracting: train/images/22_jpg.rf.f3e082b2357962091748d34297097fbc.jpg  \n",
            " extracting: train/images/22_jpg.rf.fdc6a38c61b4522dc74815b0793b0a7f.jpg  \n",
            " extracting: train/images/23_jpg.rf.041964aff66ea00d8e7b37de529fee26.jpg  \n",
            " extracting: train/images/23_jpg.rf.08430f038caef358ac81a76d54b47bb6.jpg  \n",
            " extracting: train/images/23_jpg.rf.0b8004951b89c74404448cc085a60141.jpg  \n",
            " extracting: train/images/23_jpg.rf.40f4fc2b610ce913e5765aa07e068023.jpg  \n",
            " extracting: train/images/23_jpg.rf.58dc6f6b704badeb7c3763e9c57a04d4.jpg  \n",
            " extracting: train/images/23_jpg.rf.91393648c60dbbc68f9894de10e55c4c.jpg  \n",
            " extracting: train/images/23_jpg.rf.977596f6eea01e9e0397c4a2ab161a1f.jpg  \n",
            " extracting: train/images/23_jpg.rf.9b220029714a29de2a45494416291e9f.jpg  \n",
            " extracting: train/images/23_jpg.rf.a84681d22621ce914166f931e151fc7e.jpg  \n",
            " extracting: train/images/23_jpg.rf.b3139193b53f810d93fa2e5ad04b25d1.jpg  \n",
            " extracting: train/images/23_jpg.rf.c3ffd5de4a75d848cff0c971f9cf2d45.jpg  \n",
            " extracting: train/images/23_jpg.rf.d2d55ddebb3990c3212b26737f8186c5.jpg  \n",
            " extracting: train/images/23_jpg.rf.d4797615e3915ec9557acb392689703e.jpg  \n",
            " extracting: train/images/23_jpg.rf.d7b229134d495ce47e786837acdf0de8.jpg  \n",
            " extracting: train/images/23_jpg.rf.f79c5897d464fe787fbf7982d8e73358.jpg  \n",
            " extracting: train/images/24_jpg.rf.03f62d02101a385a11164f1be4b166db.jpg  \n",
            " extracting: train/images/24_jpg.rf.0d0056c692cdccb5eb376b41dde29a22.jpg  \n",
            " extracting: train/images/24_jpg.rf.162e00de72b87d39393efdebcc9942e7.jpg  \n",
            " extracting: train/images/24_jpg.rf.1ab3d5fa31abdf61775ded9efa422bdc.jpg  \n",
            " extracting: train/images/24_jpg.rf.240ca64ebe8f6006d8d8782b12d9e4c5.jpg  \n",
            " extracting: train/images/24_jpg.rf.3b20e3253525c6ace087440cc9f5a0d0.jpg  \n",
            " extracting: train/images/24_jpg.rf.42650644ea7be06f16612c33864ce956.jpg  \n",
            " extracting: train/images/24_jpg.rf.a29488964a1ab06cfb782f52d88ace03.jpg  \n",
            " extracting: train/images/24_jpg.rf.ad5088208976c17d9822d9f233149162.jpg  \n",
            " extracting: train/images/24_jpg.rf.b6cd8b4a294204fe006e1418410c8582.jpg  \n",
            " extracting: train/images/24_jpg.rf.d021351291cd2586d6cc2665314dd5e8.jpg  \n",
            " extracting: train/images/24_jpg.rf.d0975102ce11ef2c7a8a2cb86b0c48de.jpg  \n",
            " extracting: train/images/24_jpg.rf.d0bed18ad7d08fd1811f1f06b704ce34.jpg  \n",
            " extracting: train/images/24_jpg.rf.d4ca7a2e376ea5dd619155f312510747.jpg  \n",
            " extracting: train/images/24_jpg.rf.fe3c7196ed187a0e8a3ab39615dd4621.jpg  \n",
            " extracting: train/images/25_jpg.rf.02f227d8ff4f4b4456591a6461739206.jpg  \n",
            " extracting: train/images/25_jpg.rf.0f78e90544fa70699c88dca0b8a186a2.jpg  \n",
            " extracting: train/images/25_jpg.rf.1081abf6ba917ad7b8979719ab552a99.jpg  \n",
            " extracting: train/images/25_jpg.rf.11ebe976dd345f6d1d54fcac9427d41e.jpg  \n",
            " extracting: train/images/25_jpg.rf.5880551877e0e5b6b6d37ecf8f4ab989.jpg  \n",
            " extracting: train/images/25_jpg.rf.5b47b4f60bd141cd2ce9c0335c80075e.jpg  \n",
            " extracting: train/images/25_jpg.rf.66b30981ef4e665b9363131fdd499f62.jpg  \n",
            " extracting: train/images/25_jpg.rf.7298327219ca2b671a3d440db92db27a.jpg  \n",
            " extracting: train/images/25_jpg.rf.a1bac10f21fa3b3b6538a3209e68b3c9.jpg  \n",
            " extracting: train/images/25_jpg.rf.a36201d4cfe6ac8caf4c51537702a7c8.jpg  \n",
            " extracting: train/images/25_jpg.rf.a369d369b0ffb5e0335358b6e4ba94af.jpg  \n",
            " extracting: train/images/25_jpg.rf.a623c488373678c59f6b0e3ffd553609.jpg  \n",
            " extracting: train/images/25_jpg.rf.cc4ccf9c7e3f1fc0f6b1f3784a3daa81.jpg  \n",
            " extracting: train/images/25_jpg.rf.d8df1ea74ebdc4fce4d6fedfc41696a3.jpg  \n",
            " extracting: train/images/25_jpg.rf.f8b592af00892848d10534f9ba12e8af.jpg  \n",
            " extracting: train/images/26_jpg.rf.41b68c713965e7e957b081d4bf27fecf.jpg  \n",
            " extracting: train/images/26_jpg.rf.81c36625552fa4c2196e5ad470481ec5.jpg  \n",
            " extracting: train/images/26_jpg.rf.9970c0b7218ca64b8f81fee2f80294d6.jpg  \n",
            " extracting: train/images/26_jpg.rf.b0366cd38400cbb7fcc18c3fd74d92d4.jpg  \n",
            " extracting: train/images/26_jpg.rf.d12f83b5fc81cca25716ac39b3385309.jpg  \n",
            " extracting: train/images/26_jpg.rf.fe1dd6ff37dd6ff35bf941178c5e7424.jpg  \n",
            " extracting: train/images/27_jpg.rf.0be7e155bd62398ab2c3567fb98d6a1f.jpg  \n",
            " extracting: train/images/27_jpg.rf.0c946686015f74689ed9210a714f1040.jpg  \n",
            " extracting: train/images/27_jpg.rf.38d50673f60d0e1f94c192cce3eab49a.jpg  \n",
            " extracting: train/images/27_jpg.rf.39137a49954ed19292aa765185136de6.jpg  \n",
            " extracting: train/images/27_jpg.rf.3a86a4d9796bca15a6a1665332c42869.jpg  \n",
            " extracting: train/images/27_jpg.rf.5bf343bb106c74a0d5f74c5462f461df.jpg  \n",
            " extracting: train/images/27_jpg.rf.6b1cf6d10952b0a61f1b9bce04139ca5.jpg  \n",
            " extracting: train/images/27_jpg.rf.6dd2ffe0fc76bf49cb22331ae0093a80.jpg  \n",
            " extracting: train/images/27_jpg.rf.6ec37bb27b0dbd15edd8f5d295acb462.jpg  \n",
            " extracting: train/images/27_jpg.rf.7bc5723f2bc6bd1c252c37f3398f79ca.jpg  \n",
            " extracting: train/images/27_jpg.rf.993d31b3a8a66286dbb675d249e76461.jpg  \n",
            " extracting: train/images/27_jpg.rf.b039229d63c7e6cd17be99c3a95fb78c.jpg  \n",
            " extracting: train/images/27_jpg.rf.c00098b221f9ddea4df313cb01ae1ff0.jpg  \n",
            " extracting: train/images/27_jpg.rf.ccac1ab4c7366c5abf25cbdc5560bb0c.jpg  \n",
            " extracting: train/images/27_jpg.rf.f2494d47b7f55bde84362d361e919e44.jpg  \n",
            " extracting: train/images/28_jpg.rf.0347cbfeeb4dfbcf121f029803423d11.jpg  \n",
            " extracting: train/images/28_jpg.rf.09976f9f5eb20c730a23d308509b48be.jpg  \n",
            " extracting: train/images/28_jpg.rf.0c68789e5a34bba3b15eccd2d82348b7.jpg  \n",
            " extracting: train/images/28_jpg.rf.10c94ad4178b8dd664d23178db00f9f5.jpg  \n",
            " extracting: train/images/28_jpg.rf.3386e94be0368bbd895dddfd0ef98bc1.jpg  \n",
            " extracting: train/images/28_jpg.rf.39ce7871e712c9f51b6a66c17e43f9b0.jpg  \n",
            " extracting: train/images/28_jpg.rf.41b40e258583f7af5216777e247972c8.jpg  \n",
            " extracting: train/images/28_jpg.rf.6e1f295c459aeeefdc898ec247131689.jpg  \n",
            " extracting: train/images/28_jpg.rf.93e22ba9f38f9609689c23ae47432851.jpg  \n",
            " extracting: train/images/28_jpg.rf.a6571b3d5b169344f3643ab7640a660d.jpg  \n",
            " extracting: train/images/28_jpg.rf.ae76df21438fabdd51858706d663c23a.jpg  \n",
            " extracting: train/images/28_jpg.rf.b29d541d0f11d5a1d4482a238aa48cb9.jpg  \n",
            " extracting: train/images/29_jpg.rf.04cb0261d8094d5769ca50aef04c41b0.jpg  \n",
            " extracting: train/images/29_jpg.rf.062c9b9ce3f513c0f41c47d8f9c8add7.jpg  \n",
            " extracting: train/images/29_jpg.rf.18265029a414c1fe35d778d19c20a6dc.jpg  \n",
            " extracting: train/images/29_jpg.rf.344497ad24510bf4bc9dd14ce03f67d2.jpg  \n",
            " extracting: train/images/29_jpg.rf.36b1acf859d1bc51126e37ebd19cf565.jpg  \n",
            " extracting: train/images/29_jpg.rf.3e566ad4478ce1d7d3cd2e6e831335aa.jpg  \n",
            " extracting: train/images/29_jpg.rf.4004f6965b9ebeaddcec9515a7ac3953.jpg  \n",
            " extracting: train/images/29_jpg.rf.49565840d72ec297e874423832c304a8.jpg  \n",
            " extracting: train/images/29_jpg.rf.4ba19f9e339c28dcbc25483832471967.jpg  \n",
            " extracting: train/images/29_jpg.rf.59a8b02d143aac8495dee83b3e6e522a.jpg  \n",
            " extracting: train/images/29_jpg.rf.6c117ca05008b58e53898b1fbb5ae845.jpg  \n",
            " extracting: train/images/29_jpg.rf.7dacc46fbd93a54efaf2dd671ea3d202.jpg  \n",
            " extracting: train/images/29_jpg.rf.85395f611651d4cb2a234b7e61d9c99b.jpg  \n",
            " extracting: train/images/29_jpg.rf.c165095c84ff8fbfabdc969e14dab8f6.jpg  \n",
            " extracting: train/images/29_jpg.rf.cf31ec692fdcfd1147bb1fd4a433e58e.jpg  \n",
            " extracting: train/images/29_jpg.rf.db01808f56f69f529b4d8cd6955a95cd.jpg  \n",
            " extracting: train/images/29_jpg.rf.ec5b5246d5e5b452c6cfa482cef07481.jpg  \n",
            " extracting: train/images/29_jpg.rf.ff86d4a3d96d1b2fd908931035eeadf4.jpg  \n",
            " extracting: train/images/2_jpg.rf.3fb89e9623b95fbf182885f01925e683.jpg  \n",
            " extracting: train/images/2_jpg.rf.56938561686715d2354c5a1c9497b27b.jpg  \n",
            " extracting: train/images/2_jpg.rf.60a1f8492cd321b2137b96112e1d0fea.jpg  \n",
            " extracting: train/images/2_jpg.rf.67ec0e12f2ec2ba6fdd00b7f574fd68f.jpg  \n",
            " extracting: train/images/2_jpg.rf.6d1780bdb128530d77058bc80482479f.jpg  \n",
            " extracting: train/images/2_jpg.rf.738d596523d59a3db0be5d31326e48ce.jpg  \n",
            " extracting: train/images/2_jpg.rf.7ef8a31683cdda1ab09688abaae60b64.jpg  \n",
            " extracting: train/images/2_jpg.rf.879fac4f66a54c081816197b61f3e91d.jpg  \n",
            " extracting: train/images/2_jpg.rf.912a91c6d8ddc5545e7daf202a6bdebb.jpg  \n",
            " extracting: train/images/2_jpg.rf.92ad1a78b71c858cd6cdfe387a4f052a.jpg  \n",
            " extracting: train/images/2_jpg.rf.eca91ab4b7f01647485d08772f3b24ee.jpg  \n",
            " extracting: train/images/2_jpg.rf.f47436f0ed8a67755711e6588dac20a4.jpg  \n",
            " extracting: train/images/30_jpg.rf.07ab7b525eea4beb05bc1cc4345011d7.jpg  \n",
            " extracting: train/images/30_jpg.rf.16a66bf87e986dd86275b052336b9bde.jpg  \n",
            " extracting: train/images/30_jpg.rf.3fa51c93bd6d36e007b13578c01bc4b5.jpg  \n",
            " extracting: train/images/30_jpg.rf.6c86531b3e96bc9b2fbe6215cecd2df7.jpg  \n",
            " extracting: train/images/30_jpg.rf.6e7349f773abaa7e5f9fcacc7252bcea.jpg  \n",
            " extracting: train/images/30_jpg.rf.86d9239f4a4708d206a43b7fc70558a2.jpg  \n",
            " extracting: train/images/30_jpg.rf.9688cdbe25857d43d1bc636da25dcd9e.jpg  \n",
            " extracting: train/images/30_jpg.rf.97933b6c2c812ac3ec1abec2811faec9.jpg  \n",
            " extracting: train/images/30_jpg.rf.a7f18a3c3abed2c8d1007b0650944b32.jpg  \n",
            " extracting: train/images/30_jpg.rf.af796f17b80c029f3612d6c88234322d.jpg  \n",
            " extracting: train/images/30_jpg.rf.d13f51591f850b6f99475425ab6e9439.jpg  \n",
            " extracting: train/images/30_jpg.rf.d44c602d84deaed574aa4bb88a4ccaad.jpg  \n",
            " extracting: train/images/30_jpg.rf.e42d0fb5461b248f8e15b9f285f807c0.jpg  \n",
            " extracting: train/images/30_jpg.rf.f1aa7ce8e87985e3eae133bf62165426.jpg  \n",
            " extracting: train/images/30_jpg.rf.f869ad3f35f0a9cf82de9cb1b860af66.jpg  \n",
            " extracting: train/images/31_jpg.rf.1ae20582d24ad70e3f8c3f2c872c11ca.jpg  \n",
            " extracting: train/images/31_jpg.rf.1ba7d81e32871499d392fbf5e2fdac61.jpg  \n",
            " extracting: train/images/31_jpg.rf.220c8833058256859ee81c743103dc70.jpg  \n",
            " extracting: train/images/31_jpg.rf.4b9a2162bd0c300ce061713f1528e0c6.jpg  \n",
            " extracting: train/images/31_jpg.rf.642d7e19d197a340c6c2241b75a237e0.jpg  \n",
            " extracting: train/images/31_jpg.rf.6ab81ff08e2b0b658c22db07558b0bda.jpg  \n",
            " extracting: train/images/31_jpg.rf.792a890cccd87654349ce392aa43ed2a.jpg  \n",
            " extracting: train/images/31_jpg.rf.a280b66552222b6f777bd514aada0128.jpg  \n",
            " extracting: train/images/31_jpg.rf.a947294f51f715a424451e8e423b84d1.jpg  \n",
            " extracting: train/images/31_jpg.rf.af401dec7fa596e993f33be472210c9b.jpg  \n",
            " extracting: train/images/31_jpg.rf.eec44b81efa405aaedf7f7991c0dd1f4.jpg  \n",
            " extracting: train/images/31_jpg.rf.f59e042a620809860f8aff6324722960.jpg  \n",
            " extracting: train/images/32_jpg.rf.05de8a5987c81b3ef883d41ad6fa4498.jpg  \n",
            " extracting: train/images/32_jpg.rf.156454ecc02cfd625d8c2d33e4a90225.jpg  \n",
            " extracting: train/images/32_jpg.rf.2c72f455b473291f28bb780ea2e29954.jpg  \n",
            " extracting: train/images/32_jpg.rf.2cd196d58802d4df6c2d2b0c6474d4b3.jpg  \n",
            " extracting: train/images/32_jpg.rf.478d0dd2bf80a4ae9724629f4a01698b.jpg  \n",
            " extracting: train/images/32_jpg.rf.55f216051e5de6299b4f477d181d3244.jpg  \n",
            " extracting: train/images/32_jpg.rf.5b959402264a469b6181359c254691e9.jpg  \n",
            " extracting: train/images/32_jpg.rf.61a615019556eaf794a077ede6c6d6bb.jpg  \n",
            " extracting: train/images/32_jpg.rf.97ce6837889a4adf65f7ada275e4dc81.jpg  \n",
            " extracting: train/images/32_jpg.rf.a19d9484e96609e946edbfd7ee620508.jpg  \n",
            " extracting: train/images/32_jpg.rf.a4d0a05d615265b1ed6d62637506807a.jpg  \n",
            " extracting: train/images/32_jpg.rf.f085ca119db544168db8fc8b262c6dde.jpg  \n",
            " extracting: train/images/33_jpg.rf.35b1544630e90d98c44c8db090b9df5a.jpg  \n",
            " extracting: train/images/33_jpg.rf.5be126d155fb9ff681efabcc333ad334.jpg  \n",
            " extracting: train/images/33_jpg.rf.8ea617dab1f40ffd83f37870835cb3f2.jpg  \n",
            " extracting: train/images/33_jpg.rf.8f4eb7f10adf87f8800e284198509abe.jpg  \n",
            " extracting: train/images/33_jpg.rf.9c9a85eaf47a60569cb0da67c2fe4c87.jpg  \n",
            " extracting: train/images/33_jpg.rf.ab2b130fe3a4548110f7eb41b18fff7c.jpg  \n",
            " extracting: train/images/33_jpg.rf.ad7cb3b90730bc083398e67d6d43a705.jpg  \n",
            " extracting: train/images/33_jpg.rf.b5eec13c068a71c84dce0961b8d52a24.jpg  \n",
            " extracting: train/images/33_jpg.rf.b76516b8797d9b3461a18f25a3740209.jpg  \n",
            " extracting: train/images/33_jpg.rf.db6e623dae29102136a18a2bf8afd4a9.jpg  \n",
            " extracting: train/images/33_jpg.rf.f3c770e9c41e8768485bebea5099aa00.jpg  \n",
            " extracting: train/images/33_jpg.rf.f76b1d99e6cd96b22c1f12c7dba61ccd.jpg  \n",
            " extracting: train/images/34_jpg.rf.442c052691cd701b030d695c80b85c68.jpg  \n",
            " extracting: train/images/34_jpg.rf.541dc220d1545a5426c1529c9103af19.jpg  \n",
            " extracting: train/images/34_jpg.rf.8623dab02716153b768918093a58d050.jpg  \n",
            " extracting: train/images/34_jpg.rf.999f58fc1119f7bb8b204bc178b9c855.jpg  \n",
            " extracting: train/images/34_jpg.rf.b9f812d4ff86bc4c918bd121165e1e9d.jpg  \n",
            " extracting: train/images/34_jpg.rf.ce0738d34add62c15b7b75fbbc26b107.jpg  \n",
            " extracting: train/images/34_jpg.rf.d73f833cfdbe7cf3d8102c8d6c67b227.jpg  \n",
            " extracting: train/images/34_jpg.rf.d89b90e6e7abc12bcdbee3bea7f1c4ab.jpg  \n",
            " extracting: train/images/34_jpg.rf.fbaf8ddc152dc08d47788db9057446f8.jpg  \n",
            " extracting: train/images/35_jpg.rf.0ccc7825d051d8bb78156400e1b57d08.jpg  \n",
            " extracting: train/images/35_jpg.rf.26112b1212825e39cafe5d6ffca3783d.jpg  \n",
            " extracting: train/images/35_jpg.rf.732cef029db9e01878cddd54d2e8ce0b.jpg  \n",
            " extracting: train/images/35_jpg.rf.cfeec374ab128542cca9ad48629d861e.jpg  \n",
            " extracting: train/images/35_jpg.rf.d3e1e9c55265496d776ea70a1093f82b.jpg  \n",
            " extracting: train/images/35_jpg.rf.e23411c8c744ec14425f61089add19c4.jpg  \n",
            " extracting: train/images/35_jpg.rf.ea4c935ee14a53b59ce840a826c99ea3.jpg  \n",
            " extracting: train/images/35_jpg.rf.ee770a48f4912e2cfbeb2ff47f28f237.jpg  \n",
            " extracting: train/images/35_jpg.rf.f6ad1774ea36d2caf78cb8591b2f4f7f.jpg  \n",
            " extracting: train/images/36_jpg.rf.05b31983c1d276427a0a6b01a1ea1457.jpg  \n",
            " extracting: train/images/36_jpg.rf.6cc4f853659e519629511d7bd19a9f02.jpg  \n",
            " extracting: train/images/36_jpg.rf.78db970a1ebf2e6484b42da42a5f1102.jpg  \n",
            " extracting: train/images/36_jpg.rf.a06775e80455efe75c67e890c8e10c34.jpg  \n",
            " extracting: train/images/36_jpg.rf.ce25f82b17d2ce46af0577f78b221440.jpg  \n",
            " extracting: train/images/36_jpg.rf.d956005876a98c14112dddf6db21e6d8.jpg  \n",
            " extracting: train/images/36_jpg.rf.da4d39f3cafd0ef727bbcb86fbf0a864.jpg  \n",
            " extracting: train/images/36_jpg.rf.fea8a11fa6fd8ea5f23dc2cc3a3b8dbc.jpg  \n",
            " extracting: train/images/36_jpg.rf.fff26ff9fe635d9fcaeb14427809b91c.jpg  \n",
            " extracting: train/images/37_jpg.rf.0305503ea2055a60fc8c14f0d70c3a60.jpg  \n",
            " extracting: train/images/37_jpg.rf.34a1a68ae43727a30e13d2ef0ab0e455.jpg  \n",
            " extracting: train/images/37_jpg.rf.555046352abd13a3a4b23f8e5fe9679a.jpg  \n",
            " extracting: train/images/37_jpg.rf.63962c33c7a207e5df8efd34c407cbcc.jpg  \n",
            " extracting: train/images/37_jpg.rf.84cbbfb47300f032549a2ebb13d9cae2.jpg  \n",
            " extracting: train/images/37_jpg.rf.a6939d4ba6a39b0c3f2643f5e6acabcf.jpg  \n",
            " extracting: train/images/37_jpg.rf.abfa7a1c795340f983b0e6b51f077151.jpg  \n",
            " extracting: train/images/37_jpg.rf.aee30be7a4bab612fbfad61a147912c8.jpg  \n",
            " extracting: train/images/37_jpg.rf.e2fbcf112ef9906b94bbfe77e6749398.jpg  \n",
            " extracting: train/images/38_jpg.rf.02e7fa2a5fa35965d2faba21125732cc.jpg  \n",
            " extracting: train/images/38_jpg.rf.0f08d7ebf82ebf0d5427758a534a4b30.jpg  \n",
            " extracting: train/images/38_jpg.rf.4af95ea6b2b00d80335264922e7b579a.jpg  \n",
            " extracting: train/images/38_jpg.rf.60e5a1cd674a762ace188dc2654e944a.jpg  \n",
            " extracting: train/images/38_jpg.rf.63ce823870d9102906f0d2639a3c7ebc.jpg  \n",
            " extracting: train/images/38_jpg.rf.6de1242a2aa1d6294bdac4939cc2bcd2.jpg  \n",
            " extracting: train/images/38_jpg.rf.851b4b1ea87fbf6630fa8205428f3368.jpg  \n",
            " extracting: train/images/38_jpg.rf.b307ac56702c69153f7341e87f2809fc.jpg  \n",
            " extracting: train/images/38_jpg.rf.b5b8fc6a9e0872e9dfec4dc17eb985ae.jpg  \n",
            " extracting: train/images/38_jpg.rf.b9ac11ec4ce2ff7d4233acded1688bf5.jpg  \n",
            " extracting: train/images/38_jpg.rf.c6476f53b63b92b8ece8ece0d8ba3c66.jpg  \n",
            " extracting: train/images/38_jpg.rf.d715e8aa18a1796bd9fb28c4f7d23194.jpg  \n",
            " extracting: train/images/39_jpg.rf.112a5a8c9312b149d619ae5716a56d0d.jpg  \n",
            " extracting: train/images/39_jpg.rf.286067148c38d1b2cb685f36d79a1f43.jpg  \n",
            " extracting: train/images/39_jpg.rf.6ff95a2f7a78ceb4931284784a1740a3.jpg  \n",
            " extracting: train/images/39_jpg.rf.7e490ece220522b2a45e3658bf1b83dd.jpg  \n",
            " extracting: train/images/39_jpg.rf.c7d2f91f0f34e08340fb81afe887c2c2.jpg  \n",
            " extracting: train/images/39_jpg.rf.e810bdf6261b13be595239cf20205e8e.jpg  \n",
            " extracting: train/images/3_jpg.rf.0c1bc808e29781c481a578d0b97744ba.jpg  \n",
            " extracting: train/images/3_jpg.rf.0d7917958bf2ae531f2028587e035a90.jpg  \n",
            " extracting: train/images/3_jpg.rf.2815be9c8776e7986babc6d0266919f6.jpg  \n",
            " extracting: train/images/3_jpg.rf.42d5b28b6539fe59f1f3a90453684f52.jpg  \n",
            " extracting: train/images/3_jpg.rf.556fcbfcbc95959fdd9a62dce4ea3fe1.jpg  \n",
            " extracting: train/images/3_jpg.rf.5afa311741bec07731217fd7c417126d.jpg  \n",
            " extracting: train/images/3_jpg.rf.62fbcb3eef4040a02688e3f755b4865d.jpg  \n",
            " extracting: train/images/3_jpg.rf.6f020cd1465ee94c9be1bd2da47d1919.jpg  \n",
            " extracting: train/images/3_jpg.rf.9f8ede0301ae7a96364f48294e30a913.jpg  \n",
            " extracting: train/images/3_jpg.rf.a297db883d59abb7c98cc63e49e23c94.jpg  \n",
            " extracting: train/images/3_jpg.rf.c54ff8e3e84dd401c9e2ccc094bde8c4.jpg  \n",
            " extracting: train/images/3_jpg.rf.c5810285b209120cea0270201de6608e.jpg  \n",
            " extracting: train/images/3_jpg.rf.d05dff49c97eec2dd48d7757d6e1afe9.jpg  \n",
            " extracting: train/images/3_jpg.rf.de175b7aef621aa8373ba02e34bba00a.jpg  \n",
            " extracting: train/images/3_jpg.rf.df340223cda342c9cda722f5710e90e1.jpg  \n",
            " extracting: train/images/3_jpg.rf.e43af759005383ac9978e2b82338ed79.jpg  \n",
            " extracting: train/images/3_jpg.rf.f8cc1f5e494a8392e846839569935c1c.jpg  \n",
            " extracting: train/images/3_jpg.rf.fced85257604f9d2114a2ea12c3d4db8.jpg  \n",
            " extracting: train/images/40_jpg.rf.02ec551052c838de0df9dec048c5c5d6.jpg  \n",
            " extracting: train/images/40_jpg.rf.085007a33d9086922d598d5852466c70.jpg  \n",
            " extracting: train/images/40_jpg.rf.12eb0dc02221dc37d5ae7eac36e698cb.jpg  \n",
            " extracting: train/images/40_jpg.rf.383131fa0a33ad7fd1cc33d0a04a9606.jpg  \n",
            " extracting: train/images/40_jpg.rf.44e1187594c18eefcdbc99f970e5d1d5.jpg  \n",
            " extracting: train/images/40_jpg.rf.528946ea317497d692b9188d291ba269.jpg  \n",
            " extracting: train/images/40_jpg.rf.57ce62f08b6fffb188a8d3ac10c4bda0.jpg  \n",
            " extracting: train/images/40_jpg.rf.764ff59a82f7efd9746b47a142217a0e.jpg  \n",
            " extracting: train/images/40_jpg.rf.8c94474a30588a0a93255e2d5db91764.jpg  \n",
            " extracting: train/images/40_jpg.rf.b38c93d23f357bb703c8d6ac0269c5e9.jpg  \n",
            " extracting: train/images/40_jpg.rf.b58796c83773bbb2159df9375b08848d.jpg  \n",
            " extracting: train/images/40_jpg.rf.d18f4c7bdfaedba5cce20689ddec341e.jpg  \n",
            " extracting: train/images/41_jpg.rf.0e554d6d737bdb068e52cbde8c02a00f.jpg  \n",
            " extracting: train/images/41_jpg.rf.1558fc5a00d3c7b8635d129bc9b4d447.jpg  \n",
            " extracting: train/images/41_jpg.rf.640c3fba579a9cb9a0007e55a94355f0.jpg  \n",
            " extracting: train/images/41_jpg.rf.7069a914f78c39982486b27baaca6823.jpg  \n",
            " extracting: train/images/41_jpg.rf.a6306040835502a403c2d60ddb964c2f.jpg  \n",
            " extracting: train/images/41_jpg.rf.af583e84dc4d8f4b59cd6ea1f365cfe6.jpg  \n",
            " extracting: train/images/41_jpg.rf.bcdc1d682d12a1dc3ac5458f31d10743.jpg  \n",
            " extracting: train/images/41_jpg.rf.d6a156af884c533727f2cb899ee235b1.jpg  \n",
            " extracting: train/images/41_jpg.rf.d8cac180ebab344cc52c8642717f5117.jpg  \n",
            " extracting: train/images/41_jpg.rf.e67d3bfea2a17e547f91671600d83693.jpg  \n",
            " extracting: train/images/41_jpg.rf.ec8e262b4da6d84586400afcdc69e745.jpg  \n",
            " extracting: train/images/41_jpg.rf.fe24f2c7c06fb0d63b90014a323f42db.jpg  \n",
            " extracting: train/images/42_jpg.rf.3d5f4066c480cf0849944e02f808ba8c.jpg  \n",
            " extracting: train/images/42_jpg.rf.84bff2825a9b981c9d7e3533d7c0de2d.jpg  \n",
            " extracting: train/images/42_jpg.rf.8ac8855d870602924db2cb09d68ed345.jpg  \n",
            " extracting: train/images/42_jpg.rf.8bdf37e1e3e1e758f6773307ad58ac8e.jpg  \n",
            " extracting: train/images/42_jpg.rf.b0ddc8f280c517122e354438c25ea4f7.jpg  \n",
            " extracting: train/images/42_jpg.rf.cdd6959b51fb7033cebc26cb26e9fc3b.jpg  \n",
            " extracting: train/images/43_jpg.rf.1804f9fe32ab13ccc2dcc74002c13f9b.jpg  \n",
            " extracting: train/images/43_jpg.rf.1f4aad25c79a780fdebd25eec2a60bf2.jpg  \n",
            " extracting: train/images/43_jpg.rf.3111992dcaca6f747a4600dc03bde3c7.jpg  \n",
            " extracting: train/images/43_jpg.rf.76aa0272a13ede511955195ea22220e9.jpg  \n",
            " extracting: train/images/43_jpg.rf.7ba5d01aa3bd0472e267da11f1d5adec.jpg  \n",
            " extracting: train/images/43_jpg.rf.8e75de795c3e0c5f0617a815290453dc.jpg  \n",
            " extracting: train/images/43_jpg.rf.a84433d2b65a72af47e190024a0bf8d7.jpg  \n",
            " extracting: train/images/43_jpg.rf.af8b2d6a857be8f6c9154ddad574082d.jpg  \n",
            " extracting: train/images/43_jpg.rf.d35ace5e32f0cc0fbd828b03c4a9e543.jpg  \n",
            " extracting: train/images/44_jpg.rf.11bbff57416f6dcfe3e085de19c48196.jpg  \n",
            " extracting: train/images/44_jpg.rf.15c1a650acab2af1fb9df824e83ffa91.jpg  \n",
            " extracting: train/images/44_jpg.rf.1a9469a1f48c5613a6ebe785fcd316bc.jpg  \n",
            " extracting: train/images/44_jpg.rf.3509088255f2b7281cfc5e6f06f4127a.jpg  \n",
            " extracting: train/images/44_jpg.rf.390955146597ff5145a737459a86a328.jpg  \n",
            " extracting: train/images/44_jpg.rf.5da27f33ff39fb37f397565d723e454e.jpg  \n",
            " extracting: train/images/44_jpg.rf.91b1529add3510803f19107f553b0e24.jpg  \n",
            " extracting: train/images/44_jpg.rf.ba5acaecdb1e1793fd7524f7818c8261.jpg  \n",
            " extracting: train/images/44_jpg.rf.f6087e29a9a2c62840afa0c809d4f133.jpg  \n",
            " extracting: train/images/45_jpg.rf.2d7aca5ec6a4589ad96b0bd1d4a8f32d.jpg  \n",
            " extracting: train/images/45_jpg.rf.34272076b2c1a14a7ab2a81ee304470b.jpg  \n",
            " extracting: train/images/45_jpg.rf.3d21af0b238ec997f9d14619251312d8.jpg  \n",
            " extracting: train/images/45_jpg.rf.3f19672218738f7f8f3599027314aaa9.jpg  \n",
            " extracting: train/images/45_jpg.rf.61abe506e06adfb21389d986e81158db.jpg  \n",
            " extracting: train/images/45_jpg.rf.938ba93d53f4628e17362d10562e06e3.jpg  \n",
            " extracting: train/images/45_jpg.rf.93fca5fc5e2c27ae5581cb3a2819930f.jpg  \n",
            " extracting: train/images/45_jpg.rf.c46b5ac25bb0de45538df140dfb15ccb.jpg  \n",
            " extracting: train/images/45_jpg.rf.ee9214b92015a74f7465c7677382a5ee.jpg  \n",
            " extracting: train/images/46_jpg.rf.001c181f676d19e7b58aa3f9eb178f0f.jpg  \n",
            " extracting: train/images/46_jpg.rf.14493848c410f89bbccb4ecb5f3ef8bf.jpg  \n",
            " extracting: train/images/46_jpg.rf.38c83c91af168c87089c74be2ce81a9f.jpg  \n",
            " extracting: train/images/46_jpg.rf.3a900b0607fce8bdd0651dc0657ed400.jpg  \n",
            " extracting: train/images/46_jpg.rf.5090db9224612eb1534a7c8d081b19ef.jpg  \n",
            " extracting: train/images/46_jpg.rf.59aca362bda282c004eee633feb5706f.jpg  \n",
            " extracting: train/images/46_jpg.rf.89f51b7244164133c98ace90c222b335.jpg  \n",
            " extracting: train/images/46_jpg.rf.a1b4850d1f6d2c4eeeb17fb36eb716f7.jpg  \n",
            " extracting: train/images/46_jpg.rf.a9b56fe28c5f6fcefde81cb472a831b3.jpg  \n",
            " extracting: train/images/46_jpg.rf.b1363e2ee0c2fef9eedd66b00a0de8f8.jpg  \n",
            " extracting: train/images/46_jpg.rf.bf3e1d76fe9a145418c84e176a4ef3e8.jpg  \n",
            " extracting: train/images/46_jpg.rf.cf356370911a8c6838fab906e9d06e21.jpg  \n",
            " extracting: train/images/46_jpg.rf.db4c885e18ee8f17d236acabad2b42a1.jpg  \n",
            " extracting: train/images/46_jpg.rf.ebb084c91fe434d9d9970bb328bde818.jpg  \n",
            " extracting: train/images/46_jpg.rf.fa54719380c14334d507145f372ef2bd.jpg  \n",
            " extracting: train/images/47_jpg.rf.0fc4c13fcab831ec9f1ad2efbc8cfaa1.jpg  \n",
            " extracting: train/images/47_jpg.rf.49f14b3d5e2d1722de1b7a0bced39b2b.jpg  \n",
            " extracting: train/images/47_jpg.rf.6119ee6971af24b10a66492ef012ed1c.jpg  \n",
            " extracting: train/images/47_jpg.rf.6caf8b8c7dc68b925741aba2836bc07f.jpg  \n",
            " extracting: train/images/47_jpg.rf.7803d28b31aed26d78f3626bf8ca679c.jpg  \n",
            " extracting: train/images/47_jpg.rf.7e1b9e068648e0800344af401d259967.jpg  \n",
            " extracting: train/images/47_jpg.rf.ad376aee3e0564e277e506284e604ab4.jpg  \n",
            " extracting: train/images/47_jpg.rf.af08f52889be13bb08afa5b297d55025.jpg  \n",
            " extracting: train/images/47_jpg.rf.c59269265942071f64a370e11daeb065.jpg  \n",
            " extracting: train/images/48_jpg.rf.0d9213f8486e13bf9f719ce63af08a63.jpg  \n",
            " extracting: train/images/48_jpg.rf.1676967b2dfa77ab6a4a903e4f624d28.jpg  \n",
            " extracting: train/images/48_jpg.rf.384265384326c6cd28f406ef69cfaa7b.jpg  \n",
            " extracting: train/images/48_jpg.rf.3e7387eabdcb75f4b7cb8c121f0861e8.jpg  \n",
            " extracting: train/images/48_jpg.rf.4f94fff3f89d2dc900fc3a0f935be1de.jpg  \n",
            " extracting: train/images/48_jpg.rf.5b37af8ef0120fff68c6262154b3785e.jpg  \n",
            " extracting: train/images/48_jpg.rf.617f66c967a297887464c377c4c45b4d.jpg  \n",
            " extracting: train/images/48_jpg.rf.66d54c1c002372859df28f5869471bb7.jpg  \n",
            " extracting: train/images/48_jpg.rf.86d65f20f8081770f34f791869598be1.jpg  \n",
            " extracting: train/images/48_jpg.rf.8f7bf58d11a13759843a882038e842d9.jpg  \n",
            " extracting: train/images/48_jpg.rf.b02dae6f78a895f81214e5d2b4f0ed19.jpg  \n",
            " extracting: train/images/48_jpg.rf.fe8a8247f5051a931055022811a6a299.jpg  \n",
            " extracting: train/images/49_jpg.rf.14271312c50c295fe25ef8d5299b824c.jpg  \n",
            " extracting: train/images/49_jpg.rf.2bd49f66cb49dbe5c05bb2c96f440cdd.jpg  \n",
            " extracting: train/images/49_jpg.rf.2d2abf532812b29187c5881f9a0f9f5e.jpg  \n",
            " extracting: train/images/49_jpg.rf.68c5ee25397476f469dcf7c88f676658.jpg  \n",
            " extracting: train/images/49_jpg.rf.78da9e22b5f601d34dd35edb05911983.jpg  \n",
            " extracting: train/images/49_jpg.rf.9fb5275077c0370ea1d7251258a75380.jpg  \n",
            " extracting: train/images/49_jpg.rf.a8d8af93c68cca4666f571103b0bc6be.jpg  \n",
            " extracting: train/images/49_jpg.rf.c3526469afefa52140fb0bc48d2123fe.jpg  \n",
            " extracting: train/images/49_jpg.rf.d3a333e0509eaffe3b404ecb1dfb6a6a.jpg  \n",
            " extracting: train/images/4_jpg.rf.023696b3bd8a9a931fc43e98bb6b69c5.jpg  \n",
            " extracting: train/images/4_jpg.rf.094b65f50ed43fc76546cff3ad502f4b.jpg  \n",
            " extracting: train/images/4_jpg.rf.2fdfee9408c53da391be29c45854bbb2.jpg  \n",
            " extracting: train/images/4_jpg.rf.3a87c108ec4e38e4f0f5c8a3a1a6182b.jpg  \n",
            " extracting: train/images/4_jpg.rf.3a9a86b4905e0f1b584b84f23422ae1e.jpg  \n",
            " extracting: train/images/4_jpg.rf.5eed037f478b93004abcc6d7653d0775.jpg  \n",
            " extracting: train/images/4_jpg.rf.80e658ddbca59b1f1fe09621989519bd.jpg  \n",
            " extracting: train/images/4_jpg.rf.8e3b773021491a6ddef625c197e8db56.jpg  \n",
            " extracting: train/images/4_jpg.rf.dbdd8a019071e2e308baf384eb9ac76c.jpg  \n",
            " extracting: train/images/4_jpg.rf.e4a84ad4a614f7a16aebdd1ba69f60e2.jpg  \n",
            " extracting: train/images/4_jpg.rf.ec8116cd389a7261b6b200da7004cd91.jpg  \n",
            " extracting: train/images/4_jpg.rf.f2f26c96d9751a6657680f7911a76cd0.jpg  \n",
            " extracting: train/images/50_jpg.rf.0256150312a714b1ca02c5cd9d6ea11b.jpg  \n",
            " extracting: train/images/50_jpg.rf.06349810d094adffa82529fba416725a.jpg  \n",
            " extracting: train/images/50_jpg.rf.0d23f1e7c6d301c04599caa014d4bf0d.jpg  \n",
            " extracting: train/images/50_jpg.rf.208765fb36324e12f7bbc76163314df0.jpg  \n",
            " extracting: train/images/50_jpg.rf.54bf8ab9da8212fe46b107aa1e6ee63a.jpg  \n",
            " extracting: train/images/50_jpg.rf.5682ac3a934378ab40ff32559f3e6675.jpg  \n",
            " extracting: train/images/50_jpg.rf.6a0be87f353220ad8baf6c9e546c4f4a.jpg  \n",
            " extracting: train/images/50_jpg.rf.8bd4be1fa9496a9eab69f4664b47b4a3.jpg  \n",
            " extracting: train/images/50_jpg.rf.d1f4eb58080eb16945221cf515b088dd.jpg  \n",
            " extracting: train/images/51_jpg.rf.1716230c459aaea59be96bc58538de10.jpg  \n",
            " extracting: train/images/51_jpg.rf.5a8abe969ffbaf048b766026bb6df9ae.jpg  \n",
            " extracting: train/images/51_jpg.rf.64bb45b03a60b7361d1291d1d8946a7a.jpg  \n",
            " extracting: train/images/51_jpg.rf.6564d99bfefe50e639e3afdc7f5c74d8.jpg  \n",
            " extracting: train/images/51_jpg.rf.71d2e4acc274de2d1021b26deac0b7b2.jpg  \n",
            " extracting: train/images/51_jpg.rf.b298280d0c23d521f3f5db66331c9937.jpg  \n",
            " extracting: train/images/51_jpg.rf.bbdd31a6d8a484f5d3350c0c7b5cf79c.jpg  \n",
            " extracting: train/images/51_jpg.rf.c6f7128125bd1286256cd65325a8fee1.jpg  \n",
            " extracting: train/images/51_jpg.rf.e980b1eba49001ef165b00dffa8ac9ab.jpg  \n",
            " extracting: train/images/52_jpg.rf.0a0cabf39eb2dd2d8c7463c77929e2d8.jpg  \n",
            " extracting: train/images/52_jpg.rf.13805d2e15cb4e4e5ef3cdcbc284f064.jpg  \n",
            " extracting: train/images/52_jpg.rf.74b3a31591cdd81af6f41c08748a3513.jpg  \n",
            " extracting: train/images/52_jpg.rf.991feec1b18bcc82e12416e628a234a9.jpg  \n",
            " extracting: train/images/52_jpg.rf.ee80226c3b52857b0c944c8bfaa548fb.jpg  \n",
            " extracting: train/images/52_jpg.rf.f9eb44f58ad4e2117373967d3bbaad4d.jpg  \n",
            " extracting: train/images/53_jpg.rf.0d29ad1aa2238f3823a293e6e55eec94.jpg  \n",
            " extracting: train/images/53_jpg.rf.0fe646c1f7770844f094d4f1e4a07407.jpg  \n",
            " extracting: train/images/53_jpg.rf.14ae92358e975a1abf3fe3d4b92c0760.jpg  \n",
            " extracting: train/images/53_jpg.rf.28e2482ab3252e0ebf834569a9a3ece4.jpg  \n",
            " extracting: train/images/53_jpg.rf.4263464ec326d16f13cedf7ea0b61fa0.jpg  \n",
            " extracting: train/images/53_jpg.rf.5377d546bd8cba59a25c5f33f00e3da3.jpg  \n",
            " extracting: train/images/53_jpg.rf.6450283c2256814234bd0d672aa28f80.jpg  \n",
            " extracting: train/images/53_jpg.rf.a8d3fa71432bfa0807fe3ef5146df745.jpg  \n",
            " extracting: train/images/53_jpg.rf.d8ffdad450d21ba58eca5c367b8a2c9c.jpg  \n",
            " extracting: train/images/53_jpg.rf.e0a2fae4ebc13f1266fa3108b8e272e5.jpg  \n",
            " extracting: train/images/53_jpg.rf.f1e0d74649de1e6f0991b357d6562860.jpg  \n",
            " extracting: train/images/53_jpg.rf.fdbff8c8c77681ba56051ca1bc349524.jpg  \n",
            " extracting: train/images/54_jpg.rf.2dfb20993062952dd2e81bd6ecf9c979.jpg  \n",
            " extracting: train/images/54_jpg.rf.3e1205d0b843a27ba0fc8898f41b96cd.jpg  \n",
            " extracting: train/images/54_jpg.rf.d1580fddca592172923042229ea761f3.jpg  \n",
            " extracting: train/images/55_jpg.rf.164c754d61806c2c843d9a093718bc68.jpg  \n",
            " extracting: train/images/55_jpg.rf.1aae7caefb2173287d36e789617b346f.jpg  \n",
            " extracting: train/images/55_jpg.rf.d138967ecec535fda40dc849005e7c36.jpg  \n",
            " extracting: train/images/55_jpg.rf.d39102de109737a5a4e8e0a0c11c1a0a.jpg  \n",
            " extracting: train/images/55_jpg.rf.ec75de7930cd5b6668d2141facd52397.jpg  \n",
            " extracting: train/images/55_jpg.rf.f7f03b0857c9ec0aa7dd769898075615.jpg  \n",
            " extracting: train/images/56_jpg.rf.033102d64d7c3d6793f698e9b4d6f43d.jpg  \n",
            " extracting: train/images/56_jpg.rf.26deda9c22a4737d461b26f2bca1a17d.jpg  \n",
            " extracting: train/images/56_jpg.rf.51b74d205f2678f229ed70691cec6097.jpg  \n",
            " extracting: train/images/56_jpg.rf.637445a894a05dbef80ddbc0b0da0dfd.jpg  \n",
            " extracting: train/images/56_jpg.rf.7ba3d514a54e9c127d48b64dc99c6b11.jpg  \n",
            " extracting: train/images/56_jpg.rf.8dbb7013cef8d433a4c626e969369bfd.jpg  \n",
            " extracting: train/images/56_jpg.rf.9905f65bd080047bd5ea59d1aac799b3.jpg  \n",
            " extracting: train/images/56_jpg.rf.b3e1e0ad1b74051dddb15db2ab64cdf9.jpg  \n",
            " extracting: train/images/56_jpg.rf.c3376d7d7397257fd26bb93cf5b6b865.jpg  \n",
            " extracting: train/images/57_jpg.rf.0970bd626041048f933768e4226616b7.jpg  \n",
            " extracting: train/images/57_jpg.rf.3af41faaf19932932199135b0f3dd606.jpg  \n",
            " extracting: train/images/57_jpg.rf.494b18013d9d2df22c3bc21548ec4c6e.jpg  \n",
            " extracting: train/images/57_jpg.rf.53e92fe60013049a286204bb9d782df2.jpg  \n",
            " extracting: train/images/57_jpg.rf.691f35ec0819979ceb1148b6bd865d2c.jpg  \n",
            " extracting: train/images/57_jpg.rf.6ae7761ea56dbe2c64f78aaf6b584941.jpg  \n",
            " extracting: train/images/57_jpg.rf.6cce8384d5a3e259c51680ca43d2a61c.jpg  \n",
            " extracting: train/images/57_jpg.rf.9c7becc2917d740e85e25715f9271d4c.jpg  \n",
            " extracting: train/images/57_jpg.rf.cdda55f1dd349e28311dbcd271872773.jpg  \n",
            " extracting: train/images/58_jpg.rf.2ad1ab1fa32c9664856f98853620e507.jpg  \n",
            " extracting: train/images/58_jpg.rf.ce280b39b2306bfde88fa06adb150f16.jpg  \n",
            " extracting: train/images/58_jpg.rf.f336f4f152acfd78973572863a0fbc7c.jpg  \n",
            " extracting: train/images/59_jpg.rf.0f38c39181d52dd6e49718cbdd1a604e.jpg  \n",
            " extracting: train/images/59_jpg.rf.1249e5c211f7a44f886a9d2b1044ee4a.jpg  \n",
            " extracting: train/images/59_jpg.rf.1336c9728573b44387e71168afc0c295.jpg  \n",
            " extracting: train/images/59_jpg.rf.1baab7234f2372c2e236a2959c8d6f3f.jpg  \n",
            " extracting: train/images/59_jpg.rf.24f5a051e237fbd0cebb3ae3f97c21a7.jpg  \n",
            " extracting: train/images/59_jpg.rf.5461ebf1f68f74cbaa3bc21802138b56.jpg  \n",
            " extracting: train/images/59_jpg.rf.78abff60b59a11a55cd8c1e04d328eb7.jpg  \n",
            " extracting: train/images/59_jpg.rf.9a288087ecf67fcdfd7b16a1c9efcda3.jpg  \n",
            " extracting: train/images/59_jpg.rf.dead403b2f3e3d01db9212bc5e8c7499.jpg  \n",
            " extracting: train/images/5_jpg.rf.02becbc49f76bad27835be97655d3489.jpg  \n",
            " extracting: train/images/5_jpg.rf.1368f96bcfd8c1497e502c54987fa410.jpg  \n",
            " extracting: train/images/5_jpg.rf.153d91d234cf502c767995de18115fdd.jpg  \n",
            " extracting: train/images/5_jpg.rf.1af844bc0f409e300d816237dbcef2a7.jpg  \n",
            " extracting: train/images/5_jpg.rf.5675f379ff76400be05711826ac11943.jpg  \n",
            " extracting: train/images/5_jpg.rf.5d8aa5e83750b2cecd9d39729c9321a5.jpg  \n",
            " extracting: train/images/5_jpg.rf.5f67053f0cd32c1bafdfb37a471b4614.jpg  \n",
            " extracting: train/images/5_jpg.rf.69efc2d501a479a66d03925f948235b7.jpg  \n",
            " extracting: train/images/5_jpg.rf.7aafc6ecd0be58e371e712f3c0b9955b.jpg  \n",
            " extracting: train/images/5_jpg.rf.8542d5de7802345199af1daef48d492d.jpg  \n",
            " extracting: train/images/5_jpg.rf.87d52889694a6f8a590aa5aa4742afb8.jpg  \n",
            " extracting: train/images/5_jpg.rf.8fd7b8939c053399553a045fc98527b0.jpg  \n",
            " extracting: train/images/5_jpg.rf.90e5127186c11812137ad27920887aa4.jpg  \n",
            " extracting: train/images/5_jpg.rf.af4a26d10fecd59c1584eb2158cc9806.jpg  \n",
            " extracting: train/images/5_jpg.rf.af5ca26ee9c9fa8e1fd724793eed6cd4.jpg  \n",
            " extracting: train/images/5_jpg.rf.b0c132655897f39c440f5fd408254bbf.jpg  \n",
            " extracting: train/images/5_jpg.rf.b24fbada8e71534d0d66023c8696e514.jpg  \n",
            " extracting: train/images/5_jpg.rf.c0bc3f4afd041d2a9903904ea47e7aeb.jpg  \n",
            " extracting: train/images/5_jpg.rf.c2016f79f5bc9e0acd6928cba6306038.jpg  \n",
            " extracting: train/images/5_jpg.rf.ca6b03c4b716c975cf0a8463033c529b.jpg  \n",
            " extracting: train/images/5_jpg.rf.d2a169bc6824b246cabcca1524598bb7.jpg  \n",
            " extracting: train/images/5_jpg.rf.de5b526d8eeb7dfd95f7c0b504c89d17.jpg  \n",
            " extracting: train/images/5_jpg.rf.ee22d737501912df74d34c7e2a75ca74.jpg  \n",
            " extracting: train/images/5_jpg.rf.f3c30f0445dd82620f604e8890085123.jpg  \n",
            " extracting: train/images/60_jpg.rf.2707e6e9db2d9ca96316bcdf19f5a0a0.jpg  \n",
            " extracting: train/images/60_jpg.rf.57c726b787c7fedac78286594bcf2c76.jpg  \n",
            " extracting: train/images/60_jpg.rf.a4f49e851b4cd31fb4d93c0082d1da9e.jpg  \n",
            " extracting: train/images/60_jpg.rf.c705931cd043cc2364071b935bede22a.jpg  \n",
            " extracting: train/images/60_jpg.rf.d5882f69ba6ed9bb0bf74098b8b1e8af.jpg  \n",
            " extracting: train/images/60_jpg.rf.e206144615d03eb4ae04f558ec44a0c4.jpg  \n",
            " extracting: train/images/60_jpg.rf.f0fdff2d9cbd7c8b8b30f8dd416f95ee.jpg  \n",
            " extracting: train/images/60_jpg.rf.f1a0b8a9d6674dfa6b774bbf012dc9c6.jpg  \n",
            " extracting: train/images/60_jpg.rf.fc9ef46529048d7c45ad21a1e4dc9cbd.jpg  \n",
            " extracting: train/images/61_jpg.rf.24d2895db2994e7e2a967632d77457d1.jpg  \n",
            " extracting: train/images/61_jpg.rf.4aebf7db24735df7187fd6c7438a57ba.jpg  \n",
            " extracting: train/images/61_jpg.rf.4eedf19be08900dc03b61860a74f8c55.jpg  \n",
            " extracting: train/images/61_jpg.rf.58e943dea643cbc22deb6c0a35cfc4db.jpg  \n",
            " extracting: train/images/61_jpg.rf.8b324ee87b32d3bf86fd22785a6c2f9b.jpg  \n",
            " extracting: train/images/61_jpg.rf.8f0c297557506ca1688aed15f196750d.jpg  \n",
            " extracting: train/images/61_jpg.rf.e36d368e594a5839d1392671f03c4d2b.jpg  \n",
            " extracting: train/images/61_jpg.rf.e84e2d49c766cec30c3d7167b63c4175.jpg  \n",
            " extracting: train/images/61_jpg.rf.f4a92bd3c3dab110cf1f6a20866a6fd4.jpg  \n",
            " extracting: train/images/62_jpg.rf.240900ed991dee822b7e517c75ecd67a.jpg  \n",
            " extracting: train/images/62_jpg.rf.2819b3216270e172a1a7ae2584939665.jpg  \n",
            " extracting: train/images/62_jpg.rf.3d74ee679c64db3b08aa86a8d84d0c46.jpg  \n",
            " extracting: train/images/62_jpg.rf.607f93d57698c9b44fcf81e805c5fffb.jpg  \n",
            " extracting: train/images/62_jpg.rf.728217769d9bcd1cc29b9496ba52959c.jpg  \n",
            " extracting: train/images/62_jpg.rf.a644b3350807d388cb0d518db07717fd.jpg  \n",
            " extracting: train/images/62_jpg.rf.b7809f1eda51b68bc39d92c615a93fcc.jpg  \n",
            " extracting: train/images/62_jpg.rf.bb434ab851aea381784f965489fdca80.jpg  \n",
            " extracting: train/images/62_jpg.rf.c2f3cb072c1e5b2754a11b5997357aaf.jpg  \n",
            " extracting: train/images/63_jpg.rf.0dc192efa8fc819b44e6e7949e16c41c.jpg  \n",
            " extracting: train/images/63_jpg.rf.167253739769c430b10941c02c0aa5e2.jpg  \n",
            " extracting: train/images/63_jpg.rf.1f9199e80a4c31c42c1a4e210bcafdd8.jpg  \n",
            " extracting: train/images/63_jpg.rf.2ab8625d78688a9111b428f581a9cdca.jpg  \n",
            " extracting: train/images/63_jpg.rf.33b9200ffcaeb7b0292f637389baadff.jpg  \n",
            " extracting: train/images/63_jpg.rf.4814812831e88f18d1294c3eeae02793.jpg  \n",
            " extracting: train/images/63_jpg.rf.50fa58b699067446decfe88fe72c1a51.jpg  \n",
            " extracting: train/images/63_jpg.rf.609d94b26a3b5ea1eca02f1f8ff1b80c.jpg  \n",
            " extracting: train/images/63_jpg.rf.7053f68a9c9342f7340d29fd4e324942.jpg  \n",
            " extracting: train/images/63_jpg.rf.96428d7cfccad78bc1afb186e66b8631.jpg  \n",
            " extracting: train/images/63_jpg.rf.a346890b3a484a0a9c674559aefb9827.jpg  \n",
            " extracting: train/images/63_jpg.rf.abeb2a105c65d3d281fcedf979f2922b.jpg  \n",
            " extracting: train/images/63_jpg.rf.b47bb3bc82fca6a1c7e0231f50833502.jpg  \n",
            " extracting: train/images/63_jpg.rf.cb99596e807dad604fcdadfee60d120c.jpg  \n",
            " extracting: train/images/63_jpg.rf.fd3f439bb20a2b016233c583d322ab36.jpg  \n",
            " extracting: train/images/64_jpg.rf.2765ded5e2c91245c32d8ad2ed791166.jpg  \n",
            " extracting: train/images/64_jpg.rf.341e5673a9192c3e5ed0ffc6892c1061.jpg  \n",
            " extracting: train/images/64_jpg.rf.855035d7ee36c898ab2f8a2811806b0d.jpg  \n",
            " extracting: train/images/64_jpg.rf.af3c88f9aa60c228b934918fd5404367.jpg  \n",
            " extracting: train/images/64_jpg.rf.ecfcaa8a4434a1e8cc883f40274b87b0.jpg  \n",
            " extracting: train/images/64_jpg.rf.eef61274dce7d5c4c773e38854e254ab.jpg  \n",
            " extracting: train/images/65_jpg.rf.0480ba9450726f0552421d08c3109717.jpg  \n",
            " extracting: train/images/65_jpg.rf.8bec2ab02c130f38277f08f8908737d5.jpg  \n",
            " extracting: train/images/65_jpg.rf.b8bd3bc32f3b2c5f8f42861ada496940.jpg  \n",
            " extracting: train/images/66_jpg.rf.027f667a733e44b8852df96b1f89de08.jpg  \n",
            " extracting: train/images/66_jpg.rf.02caa5d050ecaaf2f24d8e763082ac95.jpg  \n",
            " extracting: train/images/66_jpg.rf.38f23828bb87f52b3b0d90bbaa804d92.jpg  \n",
            " extracting: train/images/66_jpg.rf.459e5a7d37ae0c793fe782a05905c6f1.jpg  \n",
            " extracting: train/images/66_jpg.rf.6e22ef7abc7e1964a319dae5dc97082a.jpg  \n",
            " extracting: train/images/66_jpg.rf.9c0f7be12e009f7d2a2ef86d6cc61498.jpg  \n",
            " extracting: train/images/66_jpg.rf.cd8267b14f4855273a668f9a3a53d82b.jpg  \n",
            " extracting: train/images/66_jpg.rf.faa06ee94be624fedcf5e696c1fa041d.jpg  \n",
            " extracting: train/images/66_jpg.rf.fc281222d0854b66182c28a94df70e3f.jpg  \n",
            " extracting: train/images/67_jpg.rf.01a432c11b6b615f42145175eedad84c.jpg  \n",
            " extracting: train/images/67_jpg.rf.1c73d483ab75c0b95fa33b5819f550c5.jpg  \n",
            " extracting: train/images/67_jpg.rf.53b9c603cb7a63739a1241a407554deb.jpg  \n",
            " extracting: train/images/67_jpg.rf.5883462381d0b4719e166dfdbbaa9ddf.jpg  \n",
            " extracting: train/images/67_jpg.rf.59f3935a8abdf8d04263fc561c617470.jpg  \n",
            " extracting: train/images/67_jpg.rf.643c6bc0289abb3f1c0e3f164aa142a5.jpg  \n",
            " extracting: train/images/67_jpg.rf.7304368430271470372879ff1af99362.jpg  \n",
            " extracting: train/images/67_jpg.rf.8873d852dea0d5cc499285734000204c.jpg  \n",
            " extracting: train/images/67_jpg.rf.ccda5af87af44b30e6fbf1f55559b484.jpg  \n",
            " extracting: train/images/68_jpg.rf.3f235d70cc25f13895922d2b276978c0.jpg  \n",
            " extracting: train/images/68_jpg.rf.bb445982de3c98f6a09305e345ed7031.jpg  \n",
            " extracting: train/images/68_jpg.rf.c348439d5ba970e633876325d7ba7293.jpg  \n",
            " extracting: train/images/68_jpg.rf.d8f58c4316c7ae09943b48745a22f59b.jpg  \n",
            " extracting: train/images/68_jpg.rf.e3e49487e81637a592931819597410c7.jpg  \n",
            " extracting: train/images/68_jpg.rf.f6ab853925bccf4ae153a29a62a98c73.jpg  \n",
            " extracting: train/images/69_jpg.rf.1a5f82e184a1f65c845e8edebae16b0a.jpg  \n",
            " extracting: train/images/69_jpg.rf.5fb07443cd9d0e7538fc22ca0a0d2e06.jpg  \n",
            " extracting: train/images/69_jpg.rf.a44569cccf625027732935196d97e290.jpg  \n",
            " extracting: train/images/69_jpg.rf.c63741d03b93baa9363f441d6b0a6046.jpg  \n",
            " extracting: train/images/69_jpg.rf.ca1f048b7e08d9f2abbe0e96a1738157.jpg  \n",
            " extracting: train/images/69_jpg.rf.daf156b10bbf5ff540e370795ea33cfc.jpg  \n",
            " extracting: train/images/6_jpg.rf.0eab4738e18a52e0668717778f6b4eb2.jpg  \n",
            " extracting: train/images/6_jpg.rf.1682be63f6e9e89db4ebbd7065eb9ab1.jpg  \n",
            " extracting: train/images/6_jpg.rf.18d50280708aa666113a946e785f968e.jpg  \n",
            " extracting: train/images/6_jpg.rf.2365f8e9f10c3f17f835e82bf047c5d4.jpg  \n",
            " extracting: train/images/6_jpg.rf.2edb74dd41914e6f24a26efb0bc389ce.jpg  \n",
            " extracting: train/images/6_jpg.rf.330b4301f37a8a223e904b7ec178059e.jpg  \n",
            " extracting: train/images/6_jpg.rf.368ea05aedb5b318a78c534fe887e9b0.jpg  \n",
            " extracting: train/images/6_jpg.rf.9c502ffb439aa57755fb0834dad04ee3.jpg  \n",
            " extracting: train/images/6_jpg.rf.ac4daddfee7f24667c0dadc5cca65f83.jpg  \n",
            " extracting: train/images/6_jpg.rf.ac95f2c05d0a23fabb80463ecf574d0f.jpg  \n",
            " extracting: train/images/6_jpg.rf.b5a66954ecbbe7b62bbd09f0686d4c76.jpg  \n",
            " extracting: train/images/6_jpg.rf.bea2911267e25918a896a2cea9b26196.jpg  \n",
            " extracting: train/images/6_jpg.rf.c26801008dd0efb46ebd35289e65a08b.jpg  \n",
            " extracting: train/images/6_jpg.rf.e129b055b64921dab6168ca892b93668.jpg  \n",
            " extracting: train/images/6_jpg.rf.f309fdb04b10101675705adb760235e6.jpg  \n",
            " extracting: train/images/70_jpg.rf.63fa01780913b7df180f459c526aac80.jpg  \n",
            " extracting: train/images/70_jpg.rf.797e8734ac0804ca4e64a207fd61f21a.jpg  \n",
            " extracting: train/images/70_jpg.rf.82354268daa4f131c98afae23b09f531.jpg  \n",
            " extracting: train/images/70_jpg.rf.afce5d6f59e359d85f09bc782c6e6ad8.jpg  \n",
            " extracting: train/images/70_jpg.rf.b66e5afd65229d139ae999565e572917.jpg  \n",
            " extracting: train/images/70_jpg.rf.b68cad4cdbc6657cd63a347a1967b4d4.jpg  \n",
            " extracting: train/images/70_jpg.rf.b992bd4bc0225c407b3f4587215a7685.jpg  \n",
            " extracting: train/images/70_jpg.rf.e98e259b51982ab12a3a310652030dc3.jpg  \n",
            " extracting: train/images/70_jpg.rf.fc6c208c5b798a3e407eb7bcd3b4a9bc.jpg  \n",
            " extracting: train/images/71_jpg.rf.10f5ac202ff58aad873c6fa8c61503e3.jpg  \n",
            " extracting: train/images/71_jpg.rf.156d6799bee6ed9cda2c1c84a837de68.jpg  \n",
            " extracting: train/images/71_jpg.rf.210a15c99c5fbd1ed20cca838884596b.jpg  \n",
            " extracting: train/images/71_jpg.rf.88e52a88f7621e582fe947be2046e09c.jpg  \n",
            " extracting: train/images/71_jpg.rf.bc12fa0758f8f9709d1eaa0d0a1d076d.jpg  \n",
            " extracting: train/images/71_jpg.rf.c649844cc34f03c2f08e30f407557fc9.jpg  \n",
            " extracting: train/images/71_jpg.rf.d3d4b3546bac70c4bc751d36348314a0.jpg  \n",
            " extracting: train/images/71_jpg.rf.d872ea912454421d9e2c6ce608732544.jpg  \n",
            " extracting: train/images/71_jpg.rf.d9c70d90dbfe6fa57a80b71410fa3a09.jpg  \n",
            " extracting: train/images/72_jpg.rf.218cff007964662f0084a0c398e6ed01.jpg  \n",
            " extracting: train/images/72_jpg.rf.8ef3a21a7e927aaeb73c8a95e55164b1.jpg  \n",
            " extracting: train/images/72_jpg.rf.a1fa35dfc673101e577904fce0b9ec34.jpg  \n",
            " extracting: train/images/72_jpg.rf.d5bcee3025de63c95b8a30dedbc8970f.jpg  \n",
            " extracting: train/images/72_jpg.rf.dc19b5d50b8c185269c3274042f45620.jpg  \n",
            " extracting: train/images/72_jpg.rf.f27fa49748326273e720b799d4c0ff26.jpg  \n",
            " extracting: train/images/73_jpg.rf.3e2c1308a21085c39b466d30257b3ca9.jpg  \n",
            " extracting: train/images/73_jpg.rf.4907fcde7003fee1b3daeb3018a6bef3.jpg  \n",
            " extracting: train/images/73_jpg.rf.6fdf90134acfe3501b43b0058759e12e.jpg  \n",
            " extracting: train/images/73_jpg.rf.7349b62c3d2bac1e5e7c4d7ed329b6a3.jpg  \n",
            " extracting: train/images/73_jpg.rf.8153394289cbb31e7cb1489aa2314f58.jpg  \n",
            " extracting: train/images/73_jpg.rf.8b2f83b1ca606529ab6d65dadf8c7baa.jpg  \n",
            " extracting: train/images/73_jpg.rf.e48abb89ebbc5fae30dc3d0ddc374a9f.jpg  \n",
            " extracting: train/images/73_jpg.rf.e6b76685f83a6cf2b90c30e579a2a8f9.jpg  \n",
            " extracting: train/images/73_jpg.rf.ffe55b81644fb435521827a14eaca615.jpg  \n",
            " extracting: train/images/74_jpg.rf.0a7396c1384cf6e64558cb821d4ed623.jpg  \n",
            " extracting: train/images/74_jpg.rf.0b38f21a9cad1aa102a2194e02d062a2.jpg  \n",
            " extracting: train/images/74_jpg.rf.18071f0fc9d09a06460917a47ebc53dd.jpg  \n",
            " extracting: train/images/74_jpg.rf.3ef23fb5e6780649daa7216dd2e95444.jpg  \n",
            " extracting: train/images/74_jpg.rf.53d7303362191f2660acae92d81e9b46.jpg  \n",
            " extracting: train/images/74_jpg.rf.738e65a61ef9bd1c96b6e19edec5a1ad.jpg  \n",
            " extracting: train/images/74_jpg.rf.985e8593505d9bf069ed9a93827f9ce7.jpg  \n",
            " extracting: train/images/74_jpg.rf.996755c7dc0eefb472738d7104b3adef.jpg  \n",
            " extracting: train/images/74_jpg.rf.cd48386e4d72cbff6da5edc6e9119a9f.jpg  \n",
            " extracting: train/images/75_jpg.rf.19e01d25a991483561f31c09a61adf7c.jpg  \n",
            " extracting: train/images/75_jpg.rf.583859a9bb5accad95547a0fbaae2b57.jpg  \n",
            " extracting: train/images/75_jpg.rf.5c02f7621fd37de54f79653212fbc346.jpg  \n",
            " extracting: train/images/75_jpg.rf.91da93e1e927071ec6edc19b51a2dd34.jpg  \n",
            " extracting: train/images/75_jpg.rf.97b100be211261d283334ba95a714646.jpg  \n",
            " extracting: train/images/75_jpg.rf.9ea33d0d8ab271d50747b661b890a3df.jpg  \n",
            " extracting: train/images/75_jpg.rf.9fd0587cf7a0fe70da23b0272cd80f62.jpg  \n",
            " extracting: train/images/75_jpg.rf.ba9a51710663d3c97a541d7e81bbc527.jpg  \n",
            " extracting: train/images/75_jpg.rf.c7dade086913106d9bcc96ec9e0f0e47.jpg  \n",
            " extracting: train/images/75_jpg.rf.ec4c32a3a048441c7b2b9a33d61c9ddb.jpg  \n",
            " extracting: train/images/75_jpg.rf.f8ff246e05a1475bd3bc7a3f8f898498.jpg  \n",
            " extracting: train/images/75_jpg.rf.febd2364e8cc7a0ac1d5f8314a114238.jpg  \n",
            " extracting: train/images/76_jpg.rf.1443d0b259dfbe8db0166fe4b5e240f9.jpg  \n",
            " extracting: train/images/76_jpg.rf.5cdb84906bc3234ab3309acf67c4596c.jpg  \n",
            " extracting: train/images/76_jpg.rf.9381781a40aeaeebc33cfa91f01c758d.jpg  \n",
            " extracting: train/images/76_jpg.rf.ea8160b0a58c662436b3f92e61fa1288.jpg  \n",
            " extracting: train/images/76_jpg.rf.f127fb5e2957d8f1c91101441f20b732.jpg  \n",
            " extracting: train/images/76_jpg.rf.ff394c7b151e45e6bb1b207708c0d61d.jpg  \n",
            " extracting: train/images/77_jpg.rf.3c2eac2916616f01387e406ee87c604b.jpg  \n",
            " extracting: train/images/77_jpg.rf.3c3bbf0438ebc0ad00ac7f5c016730b0.jpg  \n",
            " extracting: train/images/77_jpg.rf.46cf094b37ceb383cf06eddd5ab0eaaa.jpg  \n",
            " extracting: train/images/77_jpg.rf.5469e2405912ba91858f2bea827a28f0.jpg  \n",
            " extracting: train/images/77_jpg.rf.7434f2ffd23869ae332e58477e3c57e7.jpg  \n",
            " extracting: train/images/77_jpg.rf.c9b1d38a31116ebd306c1a689dd3f727.jpg  \n",
            " extracting: train/images/77_jpg.rf.d361599ec01f7e9dade29431a88328dc.jpg  \n",
            " extracting: train/images/77_jpg.rf.e27bd7696605f28b3ca89837107a8382.jpg  \n",
            " extracting: train/images/77_jpg.rf.f358e1b9aa5ad616cf9901ff27480339.jpg  \n",
            " extracting: train/images/78_jpg.rf.30c9c8560a5122b82942612e7aa85996.jpg  \n",
            " extracting: train/images/78_jpg.rf.431f1cf1f01d74754240aa6c2d696b65.jpg  \n",
            " extracting: train/images/78_jpg.rf.4377a6b94faa2edcef030dde453f996e.jpg  \n",
            " extracting: train/images/78_jpg.rf.64f9b22d50dedbeea7e560a8812604e0.jpg  \n",
            " extracting: train/images/78_jpg.rf.8edeab4c11c84415516a9d237c481dda.jpg  \n",
            " extracting: train/images/78_jpg.rf.d63af3cb325b99536d319c60f00730b9.jpg  \n",
            " extracting: train/images/79_jpg.rf.2c3250102f0ba3d05391510830a14eb2.jpg  \n",
            " extracting: train/images/79_jpg.rf.44e2701bb9b361f9f8a46e98d33b8482.jpg  \n",
            " extracting: train/images/79_jpg.rf.8003c88222f1506493b783159fe18116.jpg  \n",
            " extracting: train/images/79_jpg.rf.901d2b0acc9837ef7c1565b3ea3f259f.jpg  \n",
            " extracting: train/images/79_jpg.rf.be736f09a8dda334ea2fab50fc873992.jpg  \n",
            " extracting: train/images/79_jpg.rf.e3712b5750a71ece2b3dd17e7ef4907c.jpg  \n",
            " extracting: train/images/7_jpg.rf.013cb6ff2c3af581892f2c4ce14694bd.jpg  \n",
            " extracting: train/images/7_jpg.rf.04d94954ae84896535de11374423d5cc.jpg  \n",
            " extracting: train/images/7_jpg.rf.0e3cb3dcd5e71133bcfe09c3ccc980f3.jpg  \n",
            " extracting: train/images/7_jpg.rf.188cd94fe6080047a431236f9c81c3a1.jpg  \n",
            " extracting: train/images/7_jpg.rf.270bcdc647d88f047481b1004a8e2bfc.jpg  \n",
            " extracting: train/images/7_jpg.rf.38a210830f53e1cce0897aeac60c32b8.jpg  \n",
            " extracting: train/images/7_jpg.rf.58fddb077761c00d2b5ae2d377c7b204.jpg  \n",
            " extracting: train/images/7_jpg.rf.5a49c883c9bf263e3dd3b64cdf49a999.jpg  \n",
            " extracting: train/images/7_jpg.rf.6267e8c76df35d9b353b744e05528dd0.jpg  \n",
            " extracting: train/images/7_jpg.rf.6c42087de7f34a9f8bababf81523bc60.jpg  \n",
            " extracting: train/images/7_jpg.rf.736be1e2277a2d2a0ae013dc9be15453.jpg  \n",
            " extracting: train/images/7_jpg.rf.96665f4cc42d1ac7dbbdb74b51d86743.jpg  \n",
            " extracting: train/images/7_jpg.rf.9d1e2aa02e8d5e35582007e9b4efa391.jpg  \n",
            " extracting: train/images/7_jpg.rf.b6a0af428f1cbe32d13af458a8d402b3.jpg  \n",
            " extracting: train/images/7_jpg.rf.cf81001ec8278e6e44813976ff8f8054.jpg  \n",
            " extracting: train/images/7_jpg.rf.e3c486b64dd669643339ba46ae6e4c2b.jpg  \n",
            " extracting: train/images/7_jpg.rf.f8900bc1fa9ff9ee8cb17602ff12bd8d.jpg  \n",
            " extracting: train/images/7_jpg.rf.fc2561dfa1ec65e67e101e0f4f03f79f.jpg  \n",
            " extracting: train/images/80_jpg.rf.32a75583b5b3929c58f3d5f65203a029.jpg  \n",
            " extracting: train/images/80_jpg.rf.64c2b5de217b7fd6fc290cd768fe1e2c.jpg  \n",
            " extracting: train/images/80_jpg.rf.81b4cdd87f592cc02ce7bdf447903222.jpg  \n",
            " extracting: train/images/80_jpg.rf.90ad54334119e6df39d50cfed56908b6.jpg  \n",
            " extracting: train/images/80_jpg.rf.92cd8bc62089368c2f31f232d508a8de.jpg  \n",
            " extracting: train/images/80_jpg.rf.d0b3bdcd7e1bb8daa868ee7c527160fc.jpg  \n",
            " extracting: train/images/81_jpg.rf.1a5f13372627c5698e994149a67a9aa3.jpg  \n",
            " extracting: train/images/81_jpg.rf.324bef89ba843e447cb5467c9537f398.jpg  \n",
            " extracting: train/images/81_jpg.rf.5d3a8554b46c37cd7498479832e2a28a.jpg  \n",
            " extracting: train/images/81_jpg.rf.6f39728427f3fea3baad45b3ddf08e6b.jpg  \n",
            " extracting: train/images/81_jpg.rf.75c3450cd3991cf80f8f48019c132c63.jpg  \n",
            " extracting: train/images/81_jpg.rf.785760ecc0a9582799b7eefb4ebc4475.jpg  \n",
            " extracting: train/images/81_jpg.rf.7944f92bdc104cd7f32d37591cc8b010.jpg  \n",
            " extracting: train/images/81_jpg.rf.84323064bb95428b5f803faea840f613.jpg  \n",
            " extracting: train/images/81_jpg.rf.865a29ef638e9e40285e76edb427f828.jpg  \n",
            " extracting: train/images/81_jpg.rf.c9fca2b12d2475ecbf508332d4ba8f9d.jpg  \n",
            " extracting: train/images/81_jpg.rf.f12d09b88165dbb7c365c08114ee6448.jpg  \n",
            " extracting: train/images/81_jpg.rf.f1ca94cb525e2ff9e041336e04d47ea9.jpg  \n",
            " extracting: train/images/82_jpg.rf.03e48e600c77eb01bac1f9bf268b3816.jpg  \n",
            " extracting: train/images/82_jpg.rf.0993f5cc6aaa564dd74e0b46802bfd92.jpg  \n",
            " extracting: train/images/82_jpg.rf.10813763f82f68e9b8c8c969c9e66a71.jpg  \n",
            " extracting: train/images/82_jpg.rf.1cd9e9ea3244f0c6ea7ef4bd9c1bb4e1.jpg  \n",
            " extracting: train/images/82_jpg.rf.3e89fefe72f2e6d175e7bfe6e12455b7.jpg  \n",
            " extracting: train/images/82_jpg.rf.451a9a189b7251026323b153256de5db.jpg  \n",
            " extracting: train/images/82_jpg.rf.4924f4f8ccb3cdaa7cea074d4e2278de.jpg  \n",
            " extracting: train/images/82_jpg.rf.4e254504eaef52a500de22523b85f8cc.jpg  \n",
            " extracting: train/images/82_jpg.rf.5ede2153c3be5e3e069f66f493c4ee17.jpg  \n",
            " extracting: train/images/83_jpg.rf.2f54685355d3595d43eb1f956facdcde.jpg  \n",
            " extracting: train/images/83_jpg.rf.698d4a9621427cbd00fa2bf6b34ffecf.jpg  \n",
            " extracting: train/images/83_jpg.rf.77373741a7e337d8ebb0f5105eddc4bd.jpg  \n",
            " extracting: train/images/83_jpg.rf.8db49bbf42b752bfe600bd509d91b4df.jpg  \n",
            " extracting: train/images/83_jpg.rf.a45c8bee0a7ca68726484310ec935c19.jpg  \n",
            " extracting: train/images/83_jpg.rf.b957f89cd6ee39e9214234c30dd09aa5.jpg  \n",
            " extracting: train/images/83_jpg.rf.b9d2a05da64bf3cb5515bd9887848982.jpg  \n",
            " extracting: train/images/83_jpg.rf.d0a4838f813a9cf37dca66909d9fc851.jpg  \n",
            " extracting: train/images/83_jpg.rf.ed7f96ee1ce675f8181c712361fc7a55.jpg  \n",
            " extracting: train/images/84_jpg.rf.16f00c486ad67bcaa6ef1796b2952501.jpg  \n",
            " extracting: train/images/84_jpg.rf.3796b8d30867d2aa2e972cf1180f552b.jpg  \n",
            " extracting: train/images/84_jpg.rf.7e9e087be41baeaffc7e29fdad9141d7.jpg  \n",
            " extracting: train/images/84_jpg.rf.94d9417fe8b303468cacb10080f328b0.jpg  \n",
            " extracting: train/images/84_jpg.rf.bdfebc6b6008eb266562a0d9deae6ef6.jpg  \n",
            " extracting: train/images/84_jpg.rf.d4d79d84a4aeaded257cdd1a23866a89.jpg  \n",
            " extracting: train/images/85_jpg.rf.0cbbe6bb8173afec1fe55ef2c29c9080.jpg  \n",
            " extracting: train/images/85_jpg.rf.1ff6058f380252dab392a5b7f2025433.jpg  \n",
            " extracting: train/images/85_jpg.rf.261f5606961ed1fe50dddd52fa1748f1.jpg  \n",
            " extracting: train/images/85_jpg.rf.2e97db4e01c62e7a6994d5795497a237.jpg  \n",
            " extracting: train/images/85_jpg.rf.4ba2bcafc3de0157d80cc52282a6a563.jpg  \n",
            " extracting: train/images/85_jpg.rf.66b8be2e77c3892a106b14c807c99388.jpg  \n",
            " extracting: train/images/85_jpg.rf.7825027a92bb0a0c277036062e7a7b5d.jpg  \n",
            " extracting: train/images/85_jpg.rf.c355b84057c6976b8bc1d533468423a4.jpg  \n",
            " extracting: train/images/85_jpg.rf.fa4992b6d4a3e33d5c67511e62fa4ad6.jpg  \n",
            " extracting: train/images/86_jpg.rf.017633fca3000f104b29fed840980a0e.jpg  \n",
            " extracting: train/images/86_jpg.rf.03cb3d556f654845de222a1da247666c.jpg  \n",
            " extracting: train/images/86_jpg.rf.52aef0c180364993b5637a6fd1de1ecc.jpg  \n",
            " extracting: train/images/86_jpg.rf.6f7e9486cf680fc94736efa55864c988.jpg  \n",
            " extracting: train/images/86_jpg.rf.740a7838883da019b8de37e75ae59660.jpg  \n",
            " extracting: train/images/86_jpg.rf.9bcc3637411977195564e1b83eda6c76.jpg  \n",
            " extracting: train/images/87_jpg.rf.36583861eda5bee4388e48aefab1fe09.jpg  \n",
            " extracting: train/images/87_jpg.rf.99cf808499498aa0e2852d1d2dd0a081.jpg  \n",
            " extracting: train/images/87_jpg.rf.c6304faddf30571f2efa436a41f9c1a8.jpg  \n",
            " extracting: train/images/88_jpg.rf.6b20840714471153d0ec6663eadc8a67.jpg  \n",
            " extracting: train/images/88_jpg.rf.d90070e5cd27cbd48701fc2ee8037609.jpg  \n",
            " extracting: train/images/88_jpg.rf.fbce5301446479c63bbb1a6f0f1cda3e.jpg  \n",
            " extracting: train/images/89_jpg.rf.06e9b410980fb38f6527d5a3dc10260e.jpg  \n",
            " extracting: train/images/89_jpg.rf.1af3ce5ddedc08cb285c3b8c045bdefc.jpg  \n",
            " extracting: train/images/89_jpg.rf.6cf35d7cb0dc7bea37aadc347ffe8cf6.jpg  \n",
            " extracting: train/images/89_jpg.rf.da364a8fd16c32fee161251ec65ae59a.jpg  \n",
            " extracting: train/images/89_jpg.rf.f23cd893a9a1e80e2144cac208f1bcc0.jpg  \n",
            " extracting: train/images/89_jpg.rf.fc82a8eba26d940ebb9dea70669c2f29.jpg  \n",
            " extracting: train/images/8_jpg.rf.2dbee58fe7cfa68cf5ba658bceb8dc4c.jpg  \n",
            " extracting: train/images/8_jpg.rf.62ed098855da4ca3bd0a9990632c0c6d.jpg  \n",
            " extracting: train/images/8_jpg.rf.70e949fcb1adea8122678ad523f7b093.jpg  \n",
            " extracting: train/images/8_jpg.rf.7ccca0e9febc314f51c7e3327d6a0998.jpg  \n",
            " extracting: train/images/8_jpg.rf.97358b4e0ee095e2cefaec421ba5a5e8.jpg  \n",
            " extracting: train/images/8_jpg.rf.98840bdd12a67a1ff6b89fa9d093d6d1.jpg  \n",
            " extracting: train/images/8_jpg.rf.ab7eb63300c4136eff4ba2d38cf06b35.jpg  \n",
            " extracting: train/images/8_jpg.rf.cdf6e73ad75474023d6cb13d5d967b7d.jpg  \n",
            " extracting: train/images/8_jpg.rf.d7aed5ce67a3e354e05a554b914fd54e.jpg  \n",
            " extracting: train/images/90_jpg.rf.03e0f5bafac6805a14e3f97e6b426840.jpg  \n",
            " extracting: train/images/90_jpg.rf.6f4fab29cc2a8ca9a18c5dcb024b7f07.jpg  \n",
            " extracting: train/images/90_jpg.rf.832f7a8be2e677df723a5f5a4362dd12.jpg  \n",
            " extracting: train/images/90_jpg.rf.839a4d982542b026eb91d180fbccfe31.jpg  \n",
            " extracting: train/images/90_jpg.rf.c943a58c0251a8ec52f897ed763670c7.jpg  \n",
            " extracting: train/images/90_jpg.rf.e8148ac8aa70624c7e8fc70b6b439557.jpg  \n",
            " extracting: train/images/91_jpg.rf.01bf86d3b2271d4a40b283e5faf7bc30.jpg  \n",
            " extracting: train/images/91_jpg.rf.2d72ec3f2ccaefd8b465d9996cbc6bdb.jpg  \n",
            " extracting: train/images/91_jpg.rf.74eba66e5b1d42015da345d78d5ae9e5.jpg  \n",
            " extracting: train/images/91_jpg.rf.7b29992e7dd9ea3f9c6484b8d8f826eb.jpg  \n",
            " extracting: train/images/91_jpg.rf.7ff7a2375719faff0fbadba967d93bb2.jpg  \n",
            " extracting: train/images/91_jpg.rf.a4d5ba7268b07a0d260fd832ac57d7b9.jpg  \n",
            " extracting: train/images/92_jpg.rf.57996f38c6bc7134f30d3635608280f8.jpg  \n",
            " extracting: train/images/92_jpg.rf.8a3d7a0ffb6e53cf9e6f650070c3cc7e.jpg  \n",
            " extracting: train/images/92_jpg.rf.ef397432d9fd1cd98a1aca28b68ecb68.jpg  \n",
            " extracting: train/images/9_jpg.rf.02f049ae0a8e6d05930bf76756862545.jpg  \n",
            " extracting: train/images/9_jpg.rf.39dd3b22c546efa0e42290f582172e12.jpg  \n",
            " extracting: train/images/9_jpg.rf.3e427dea726c89694efedba91e2596e5.jpg  \n",
            " extracting: train/images/9_jpg.rf.479af001a896bd454b6c5805aac04625.jpg  \n",
            " extracting: train/images/9_jpg.rf.577ad80a6fde666bf248337f881f6273.jpg  \n",
            " extracting: train/images/9_jpg.rf.5a5e831b30a2b7f75f8bb594f364003e.jpg  \n",
            " extracting: train/images/9_jpg.rf.5f1923f323cc0e8a58e41f01851c828d.jpg  \n",
            " extracting: train/images/9_jpg.rf.6aa835c89265f701d6413b038c665c7a.jpg  \n",
            " extracting: train/images/9_jpg.rf.6d4eb249e2d5c21871f8176bf326e846.jpg  \n",
            " extracting: train/images/9_jpg.rf.857e7ef0c970010578e90b55e12bfa8b.jpg  \n",
            " extracting: train/images/9_jpg.rf.8f833ec2ec60859993daa9df857dcae9.jpg  \n",
            " extracting: train/images/9_jpg.rf.97d2c20961273ac16c27038a9feecfb4.jpg  \n",
            " extracting: train/images/9_jpg.rf.9823e5dc1f8c700c21863ed273493a03.jpg  \n",
            " extracting: train/images/9_jpg.rf.a7ad4f4bd047ffb9dcc1c12e81ccc614.jpg  \n",
            " extracting: train/images/9_jpg.rf.c56efd4cfc3141c50ea4ac88689e5bcd.jpg  \n",
            " extracting: train/images/9_jpg.rf.c68e537377b81a15f5bbc697df7b2a21.jpg  \n",
            " extracting: train/images/9_jpg.rf.d2b5938de95d51f0935810f017018019.jpg  \n",
            " extracting: train/images/9_jpg.rf.f22d68b8947db146c35f2a17a2956437.jpg  \n",
            "   creating: train/labels/\n",
            "  inflating: train/labels/0_jpg.rf.1fba421d0659b7d6c9a1b46c9b7cc6db.txt  \n",
            "  inflating: train/labels/0_jpg.rf.234fa3a3349466a32beb3dc4606e302d.txt  \n",
            "  inflating: train/labels/0_jpg.rf.37763b38fc819ef1f35a00935b187e61.txt  \n",
            "  inflating: train/labels/0_jpg.rf.7449f27bf831a2d0c27fc61e18555fd7.txt  \n",
            "  inflating: train/labels/0_jpg.rf.f1cf3fa1790bdd6ff49058e03b51f7c7.txt  \n",
            "  inflating: train/labels/0_jpg.rf.f7a46a74d39c48c950847ac927a4c733.txt  \n",
            "  inflating: train/labels/10_jpg.rf.017884a408fb9593c837d528a44e65ce.txt  \n",
            "  inflating: train/labels/10_jpg.rf.032b04839f70eeb73d7dd557734de22b.txt  \n",
            "  inflating: train/labels/10_jpg.rf.03a74e6792ab0a0a2b7ddb59fa968c34.txt  \n",
            "  inflating: train/labels/10_jpg.rf.0aea6c088d31a5547133acce2df6d243.txt  \n",
            "  inflating: train/labels/10_jpg.rf.3879fc8bcd0d56ef9f605b0b207caf45.txt  \n",
            "  inflating: train/labels/10_jpg.rf.3e21532a99ffb2a1b1beedcf72be699a.txt  \n",
            "  inflating: train/labels/10_jpg.rf.3f590762a9e1c9eb855a8acf7842df5e.txt  \n",
            "  inflating: train/labels/10_jpg.rf.52656cc75e90f2124463faee88b55fd3.txt  \n",
            "  inflating: train/labels/10_jpg.rf.571d142800a94394552da27d3f9a606e.txt  \n",
            "  inflating: train/labels/10_jpg.rf.617d2060ed1edaab77fcd6b2714b2864.txt  \n",
            "  inflating: train/labels/10_jpg.rf.9dd5acf350d7fca48771b7195b0e9139.txt  \n",
            "  inflating: train/labels/10_jpg.rf.a2978f3ebdfeb760578c2aa560add4a6.txt  \n",
            "  inflating: train/labels/10_jpg.rf.a353c0acf8dbe5c41f0ba4ed7ca74081.txt  \n",
            "  inflating: train/labels/10_jpg.rf.bccca4a8307e0fe419edd6d4d3c5fef5.txt  \n",
            "  inflating: train/labels/10_jpg.rf.eb7a28175dac863d83c094d0c29cfbb7.txt  \n",
            "  inflating: train/labels/11_jpg.rf.2d91f81cad76d85f010dd6e785ed9314.txt  \n",
            "  inflating: train/labels/11_jpg.rf.31e9aff27f101a95567cc652cd70f529.txt  \n",
            "  inflating: train/labels/11_jpg.rf.42c92c52d2af2563c86dfab8ad9296b2.txt  \n",
            "  inflating: train/labels/11_jpg.rf.43a2a5cce282caba593f06f9cfd3de41.txt  \n",
            "  inflating: train/labels/11_jpg.rf.4546710ff6e9588bed123e9bab0d7fb9.txt  \n",
            "  inflating: train/labels/11_jpg.rf.55fda22b33b5ef5cea5220b5e5a9e977.txt  \n",
            "  inflating: train/labels/11_jpg.rf.710a03093777267f001b46ed1234a496.txt  \n",
            "  inflating: train/labels/11_jpg.rf.bb8a309a4ef24460828cae363ef76e68.txt  \n",
            "  inflating: train/labels/11_jpg.rf.be72f805a6426c9d25cd1cf4516341c2.txt  \n",
            "  inflating: train/labels/11_jpg.rf.d18984e2d3cb840709ecbd584da4a02c.txt  \n",
            "  inflating: train/labels/11_jpg.rf.d3502b68b2f8df8cd753e7795bb617b7.txt  \n",
            "  inflating: train/labels/11_jpg.rf.eec8e6e99933313472458bbeb83e2cc4.txt  \n",
            "  inflating: train/labels/12_jpg.rf.2bbab336752627e476d1c4f41c9478c9.txt  \n",
            "  inflating: train/labels/12_jpg.rf.3f7a1fb7ce3d89fda5a0d939405868de.txt  \n",
            "  inflating: train/labels/12_jpg.rf.8837d0c23302a3c2133fbb3d2211bbb0.txt  \n",
            "  inflating: train/labels/12_jpg.rf.8a3d926c1609cbe7e22b0d48d7a46b4c.txt  \n",
            "  inflating: train/labels/12_jpg.rf.9ba1a2b069e3a17b27d31e6b68ce4417.txt  \n",
            "  inflating: train/labels/12_jpg.rf.c2285478559b399322170c8346cb22ff.txt  \n",
            "  inflating: train/labels/13_jpg.rf.0aa637819f0996771e44636fd23b2257.txt  \n",
            "  inflating: train/labels/13_jpg.rf.1b2739a867cf442b0028d02745309076.txt  \n",
            "  inflating: train/labels/13_jpg.rf.1e66b39bddca74b3797fcdf461de9753.txt  \n",
            "  inflating: train/labels/13_jpg.rf.2426b83813f181a165ffee871c682a18.txt  \n",
            "  inflating: train/labels/13_jpg.rf.333807de4ff5d8bb355f3842a59d3d28.txt  \n",
            "  inflating: train/labels/13_jpg.rf.38c15037e57da2758046456e1f53d71a.txt  \n",
            "  inflating: train/labels/13_jpg.rf.574e8abd8da3ea321caa40975852c70f.txt  \n",
            "  inflating: train/labels/13_jpg.rf.5fae2559460dd17f4c1e94d0cb5d3c67.txt  \n",
            "  inflating: train/labels/13_jpg.rf.67847dbf1be8f571d5cbcc77de25a68f.txt  \n",
            "  inflating: train/labels/13_jpg.rf.77c0452bb08a28d15ae1e2b423693b4e.txt  \n",
            "  inflating: train/labels/13_jpg.rf.822b933bdc86e2e2405246e15fc8caba.txt  \n",
            "  inflating: train/labels/13_jpg.rf.9c0047c4302880b41e2c7e1aa1870bc7.txt  \n",
            "  inflating: train/labels/13_jpg.rf.b4ef2745da9e37ed055e8264351513d7.txt  \n",
            "  inflating: train/labels/13_jpg.rf.b61832a3113dced62abf92bc9cca33ed.txt  \n",
            "  inflating: train/labels/13_jpg.rf.c9c8ba847658ee863eb9fd723f41d2b8.txt  \n",
            "  inflating: train/labels/14_jpg.rf.2f47c6dcd3264d50ed4c414cf47f4655.txt  \n",
            "  inflating: train/labels/14_jpg.rf.49873c0df5c577afb039b582164022f0.txt  \n",
            "  inflating: train/labels/14_jpg.rf.4a1d63196ac913d9908330d18b74250b.txt  \n",
            "  inflating: train/labels/14_jpg.rf.4a43a9b70de5b336bf859796bc00cc03.txt  \n",
            "  inflating: train/labels/14_jpg.rf.a441bc792cdd3a1910585b143891973e.txt  \n",
            "  inflating: train/labels/14_jpg.rf.cdbf89d07b6c3f764bd300d842234c57.txt  \n",
            "  inflating: train/labels/14_jpg.rf.d49a7b904596958cc392550599e4d363.txt  \n",
            "  inflating: train/labels/14_jpg.rf.f5cdf742967e7bf3ab8cfcda188d4b03.txt  \n",
            "  inflating: train/labels/14_jpg.rf.faf940ae4891a14a429ca659707f4814.txt  \n",
            "  inflating: train/labels/15_jpg.rf.1dc8395995983e73b14acb7300380554.txt  \n",
            "  inflating: train/labels/15_jpg.rf.22d0b0f8119cfbcb424639d9b2a723df.txt  \n",
            "  inflating: train/labels/15_jpg.rf.31ede15a747cc593ae4cedf388c361e5.txt  \n",
            "  inflating: train/labels/15_jpg.rf.44ee89d631bbbad1b44276a6530e6662.txt  \n",
            "  inflating: train/labels/15_jpg.rf.560bd884bcf29e72f46ab43bc4052b7d.txt  \n",
            "  inflating: train/labels/15_jpg.rf.70d5f45eed0195299c2d2067d31f9922.txt  \n",
            "  inflating: train/labels/15_jpg.rf.a681c609b1ca0448d3e3320ecaba1888.txt  \n",
            "  inflating: train/labels/15_jpg.rf.c2c3e50347f0c0c4e93dca15fb1009f5.txt  \n",
            "  inflating: train/labels/15_jpg.rf.f434801edd2ee2251893d035d51acc26.txt  \n",
            "  inflating: train/labels/16_jpg.rf.32041dc55883975d962a63ea6ceb643c.txt  \n",
            "  inflating: train/labels/16_jpg.rf.4480eb5824cc2ab629511b7cd7378876.txt  \n",
            "  inflating: train/labels/16_jpg.rf.7202994207a1c763f43a5605298252fa.txt  \n",
            "  inflating: train/labels/16_jpg.rf.77023736105ca720d018c7a5094f680c.txt  \n",
            "  inflating: train/labels/16_jpg.rf.7e443f39521d7d34a461757584f71489.txt  \n",
            "  inflating: train/labels/16_jpg.rf.872e1cf9dd13d744bb56a362f9f93f87.txt  \n",
            "  inflating: train/labels/16_jpg.rf.8a56234899c48a50c7ee43b894f5253d.txt  \n",
            "  inflating: train/labels/16_jpg.rf.8b829f7407ad03f5dec55d076fd35a8c.txt  \n",
            "  inflating: train/labels/16_jpg.rf.8c93d9c0604b18f0e5cc3b9d05e42b0d.txt  \n",
            "  inflating: train/labels/16_jpg.rf.a843ab4a08a9c7f7f5f97ea29d2711de.txt  \n",
            "  inflating: train/labels/16_jpg.rf.c603bcb8358c76f33375fe71ec0ea0d9.txt  \n",
            "  inflating: train/labels/16_jpg.rf.c755f271c1f6f121055ff6591cf90285.txt  \n",
            "  inflating: train/labels/16_jpg.rf.d0a5702f3c149ed8b55aadab71f9d91b.txt  \n",
            "  inflating: train/labels/16_jpg.rf.d95b7612c17a6a16b6de9c81435f4d46.txt  \n",
            "  inflating: train/labels/16_jpg.rf.fc9d180d1b9071551da60eedab6aa1a7.txt  \n",
            "  inflating: train/labels/17_jpg.rf.0ab257a0d6922cd88e268fcfb6356905.txt  \n",
            "  inflating: train/labels/17_jpg.rf.14c553e7ef82e1d58397adff3e36641d.txt  \n",
            "  inflating: train/labels/17_jpg.rf.190728d714211be8dd6fd2b71a695b02.txt  \n",
            "  inflating: train/labels/17_jpg.rf.50073cebd3b529028fd0fe5a44fa1499.txt  \n",
            "  inflating: train/labels/17_jpg.rf.5838c68e9942eebf28a7a7f7c57b8b00.txt  \n",
            "  inflating: train/labels/17_jpg.rf.59059525e21004095941f09e4f359914.txt  \n",
            "  inflating: train/labels/17_jpg.rf.703025044f7d965147cca2f49bb03f67.txt  \n",
            "  inflating: train/labels/17_jpg.rf.7e073082794c5ae9250956a80285205d.txt  \n",
            "  inflating: train/labels/17_jpg.rf.831a12e36756a5de2295236e756a6141.txt  \n",
            "  inflating: train/labels/17_jpg.rf.8aa7ac2b988150306d090d086685e978.txt  \n",
            "  inflating: train/labels/17_jpg.rf.98291eb4ef71fdd99bc22be82977486f.txt  \n",
            "  inflating: train/labels/17_jpg.rf.a5c6dcc7e2c88a14f97cf74fea80811d.txt  \n",
            "  inflating: train/labels/17_jpg.rf.a87e297d75f06e5f0336a1ce8bd86202.txt  \n",
            "  inflating: train/labels/17_jpg.rf.c5c0ca31edabe8ae342a0f3fa706bb7e.txt  \n",
            "  inflating: train/labels/17_jpg.rf.c7a68c0333373f049aaf2777c7ce7595.txt  \n",
            "  inflating: train/labels/17_jpg.rf.ceda2c643d2b634c0aebfd791a19eb8e.txt  \n",
            "  inflating: train/labels/17_jpg.rf.d826b3275fa68692af38440616de6ac0.txt  \n",
            "  inflating: train/labels/17_jpg.rf.e64315c7df1b93ee1b3c7e7b9f0dff3d.txt  \n",
            "  inflating: train/labels/18_jpg.rf.11a4cb78e17165d11ff4da2bc8039c5e.txt  \n",
            "  inflating: train/labels/18_jpg.rf.49f43d1bb679b3f84b9591ea5b0e14e2.txt  \n",
            "  inflating: train/labels/18_jpg.rf.62fbf4d172d6e70ee82be2e60593618d.txt  \n",
            "  inflating: train/labels/18_jpg.rf.6ac5241ed1bd9b66c7282b81173975bb.txt  \n",
            "  inflating: train/labels/18_jpg.rf.75acda99f916fa0043ec0e2469642cc0.txt  \n",
            "  inflating: train/labels/18_jpg.rf.8968499037ea10cbe1894e84830afb8f.txt  \n",
            "  inflating: train/labels/18_jpg.rf.9ada63730068da8eac16b37aa56a3ed9.txt  \n",
            "  inflating: train/labels/18_jpg.rf.a0735845b0056aa1863ffa9451ba55eb.txt  \n",
            "  inflating: train/labels/18_jpg.rf.ac69fbe108b430319c7a95d66364541f.txt  \n",
            "  inflating: train/labels/18_jpg.rf.b809684b557e072ab0dd7f4cfe65976b.txt  \n",
            "  inflating: train/labels/18_jpg.rf.d0c8a66c851d5d3eebbf4c04fc4dda58.txt  \n",
            "  inflating: train/labels/18_jpg.rf.d3ef81dc409eb76ea94439466aa02486.txt  \n",
            "  inflating: train/labels/18_jpg.rf.d54dd397d5b4b23aa8da19ff527f10c0.txt  \n",
            "  inflating: train/labels/18_jpg.rf.e4c9038854861c4361c6626c0784cbe7.txt  \n",
            "  inflating: train/labels/18_jpg.rf.f13d4d97478a229f6832f4a3a03709fd.txt  \n",
            "  inflating: train/labels/19_jpg.rf.16be0723a3581a9b9ca4e7bc7d0ea941.txt  \n",
            "  inflating: train/labels/19_jpg.rf.2d8a7bd011c9678a175ddeb9eb869517.txt  \n",
            "  inflating: train/labels/19_jpg.rf.372b1c8d364300d46d146659a5bbb0c8.txt  \n",
            "  inflating: train/labels/19_jpg.rf.744ac5a86a6e082911fac3ade39525e0.txt  \n",
            "  inflating: train/labels/19_jpg.rf.7cd2874e9291c8793acc631a974bfa9e.txt  \n",
            "  inflating: train/labels/19_jpg.rf.9137e91da7b6bbc3dc3c11cf14796fdc.txt  \n",
            "  inflating: train/labels/19_jpg.rf.9203667876679a1187d373c816105d93.txt  \n",
            "  inflating: train/labels/19_jpg.rf.924950b91914f71945fa223ffef8666a.txt  \n",
            "  inflating: train/labels/19_jpg.rf.97a6eed3527ccd5b7ea7226869aeed1b.txt  \n",
            "  inflating: train/labels/19_jpg.rf.bd1e7e1f617f4ef296c3b36bdcd403fb.txt  \n",
            "  inflating: train/labels/19_jpg.rf.c5619856dcd7ff9f49d03084fafbf5d7.txt  \n",
            "  inflating: train/labels/19_jpg.rf.e035d67b9d6eb1d3373fbecef01008cc.txt  \n",
            "  inflating: train/labels/19_jpg.rf.e457f119af322e6c8c83c8d60d44ff4e.txt  \n",
            "  inflating: train/labels/19_jpg.rf.e8e163973acfb366ec21931aba11f37a.txt  \n",
            "  inflating: train/labels/19_jpg.rf.eb485a45c7cfa48ab9b9430b6e4e7695.txt  \n",
            "  inflating: train/labels/1_jpg.rf.04323182068360993a6e245533fb2fb3.txt  \n",
            "  inflating: train/labels/1_jpg.rf.0fbb9f520cd69574e7bb3c41ea7c1c05.txt  \n",
            "  inflating: train/labels/1_jpg.rf.2b664f2bca0a7f7c3442eb2619578a31.txt  \n",
            "  inflating: train/labels/1_jpg.rf.398703f25576acb77caa98cbcae85d8e.txt  \n",
            "  inflating: train/labels/1_jpg.rf.41ff4bf5a42dcb6effd04ca2a711bc04.txt  \n",
            "  inflating: train/labels/1_jpg.rf.493d9730500af0f28f91188a10218075.txt  \n",
            "  inflating: train/labels/1_jpg.rf.4cf1badbb0aa7feb8337d4b5a10a57c0.txt  \n",
            "  inflating: train/labels/1_jpg.rf.71ed7f61e762841d6b30add8f7da7421.txt  \n",
            "  inflating: train/labels/1_jpg.rf.93b7b2f638edbc90d1946b1b2f94d773.txt  \n",
            "  inflating: train/labels/1_jpg.rf.aa84f11d47607a555785198ad8f0e3af.txt  \n",
            "  inflating: train/labels/1_jpg.rf.c315ad3175e89d6666d189940931f662.txt  \n",
            "  inflating: train/labels/1_jpg.rf.cbff338490d3d5acfecfde8068dce9f4.txt  \n",
            "  inflating: train/labels/1_jpg.rf.d290199f7087bd58672948ac32055ba5.txt  \n",
            "  inflating: train/labels/1_jpg.rf.d460e8523fa31376c53def5d84fb1659.txt  \n",
            "  inflating: train/labels/1_jpg.rf.da3824cce4c350293a03254aefdce768.txt  \n",
            "  inflating: train/labels/1_jpg.rf.e2408ba77c472b4fb781be940fc530df.txt  \n",
            "  inflating: train/labels/1_jpg.rf.f5e56ac52e078005791e0da7e56733ad.txt  \n",
            "  inflating: train/labels/1_jpg.rf.f70cdf7daca231dbaad3ace2336edf2f.txt  \n",
            "  inflating: train/labels/20_jpg.rf.540c724d4dcac67f1833a23baa329a67.txt  \n",
            "  inflating: train/labels/20_jpg.rf.a34e1cfc95777642344f76ef57b33435.txt  \n",
            "  inflating: train/labels/20_jpg.rf.aaa5ec5aadc0466514ec089bf39cb469.txt  \n",
            "  inflating: train/labels/20_jpg.rf.ab4687a1221ed769dae0c2636542666c.txt  \n",
            "  inflating: train/labels/20_jpg.rf.b7f4b7931bfcfe08876b5ea6b71efa11.txt  \n",
            "  inflating: train/labels/20_jpg.rf.bf819a2256f56b94c41a6b5eedd224cd.txt  \n",
            "  inflating: train/labels/20_jpg.rf.c47c63076be8eee93c1794bb83bb0698.txt  \n",
            "  inflating: train/labels/20_jpg.rf.d2b0f06a356d15d8627a3ef37fcccd47.txt  \n",
            "  inflating: train/labels/20_jpg.rf.d68516145224a75cdc75932f6b330eff.txt  \n",
            "  inflating: train/labels/21_jpg.rf.08ad77ff2d429dcc040083acff75b664.txt  \n",
            "  inflating: train/labels/21_jpg.rf.0e9b78852a97e44b17ff96111c10aca5.txt  \n",
            "  inflating: train/labels/21_jpg.rf.243ce33362a51c7a62929c30c101e5e2.txt  \n",
            "  inflating: train/labels/21_jpg.rf.24ae835b3d9e37f099db0f392e665d44.txt  \n",
            "  inflating: train/labels/21_jpg.rf.318d38882dd33c3e6903d60cef86c44c.txt  \n",
            "  inflating: train/labels/21_jpg.rf.76f374f1ea7a22e1c525c25ab4a5dbea.txt  \n",
            "  inflating: train/labels/21_jpg.rf.81093aa04bf28b81e8e8b0b00c330437.txt  \n",
            "  inflating: train/labels/21_jpg.rf.c82a918e25bc37a9cc96383b1d0fde25.txt  \n",
            "  inflating: train/labels/21_jpg.rf.e098d5f0fb07f68fc4891ecd6942ffc2.txt  \n",
            "  inflating: train/labels/22_jpg.rf.31c9ec8e81ed434b8e96e5ff80055615.txt  \n",
            "  inflating: train/labels/22_jpg.rf.38318ba678f7f47b6c1ed2d07aca0aa5.txt  \n",
            "  inflating: train/labels/22_jpg.rf.49720b236c193df3b7b1a4719f1d21b0.txt  \n",
            "  inflating: train/labels/22_jpg.rf.7ce9dd4716b7d62a67b5b2f78734bd81.txt  \n",
            "  inflating: train/labels/22_jpg.rf.7d68212af6b30d10dbd18ce050a23c6c.txt  \n",
            "  inflating: train/labels/22_jpg.rf.95f0caaadef6deb3d7e3cf6e7aca76fe.txt  \n",
            "  inflating: train/labels/22_jpg.rf.b4dc46062cb91a9ae541a70fad9c7933.txt  \n",
            "  inflating: train/labels/22_jpg.rf.db5b67ae721e96e4febbc0d93fccd712.txt  \n",
            "  inflating: train/labels/22_jpg.rf.dd5135c63937afdd1c80c91b85391ddd.txt  \n",
            "  inflating: train/labels/22_jpg.rf.de8147d51f8fd5b01aa1e8f50ad83467.txt  \n",
            "  inflating: train/labels/22_jpg.rf.dfeb400101b34780dc3186d92f8543a2.txt  \n",
            "  inflating: train/labels/22_jpg.rf.e320b0dafa25b7a5e69153c217bf621e.txt  \n",
            "  inflating: train/labels/22_jpg.rf.e3e972d9147f8b19da9c9559782f306c.txt  \n",
            "  inflating: train/labels/22_jpg.rf.f3e082b2357962091748d34297097fbc.txt  \n",
            "  inflating: train/labels/22_jpg.rf.fdc6a38c61b4522dc74815b0793b0a7f.txt  \n",
            "  inflating: train/labels/23_jpg.rf.041964aff66ea00d8e7b37de529fee26.txt  \n",
            "  inflating: train/labels/23_jpg.rf.08430f038caef358ac81a76d54b47bb6.txt  \n",
            "  inflating: train/labels/23_jpg.rf.0b8004951b89c74404448cc085a60141.txt  \n",
            "  inflating: train/labels/23_jpg.rf.40f4fc2b610ce913e5765aa07e068023.txt  \n",
            "  inflating: train/labels/23_jpg.rf.58dc6f6b704badeb7c3763e9c57a04d4.txt  \n",
            "  inflating: train/labels/23_jpg.rf.91393648c60dbbc68f9894de10e55c4c.txt  \n",
            "  inflating: train/labels/23_jpg.rf.977596f6eea01e9e0397c4a2ab161a1f.txt  \n",
            "  inflating: train/labels/23_jpg.rf.9b220029714a29de2a45494416291e9f.txt  \n",
            "  inflating: train/labels/23_jpg.rf.a84681d22621ce914166f931e151fc7e.txt  \n",
            "  inflating: train/labels/23_jpg.rf.b3139193b53f810d93fa2e5ad04b25d1.txt  \n",
            "  inflating: train/labels/23_jpg.rf.c3ffd5de4a75d848cff0c971f9cf2d45.txt  \n",
            "  inflating: train/labels/23_jpg.rf.d2d55ddebb3990c3212b26737f8186c5.txt  \n",
            "  inflating: train/labels/23_jpg.rf.d4797615e3915ec9557acb392689703e.txt  \n",
            "  inflating: train/labels/23_jpg.rf.d7b229134d495ce47e786837acdf0de8.txt  \n",
            "  inflating: train/labels/23_jpg.rf.f79c5897d464fe787fbf7982d8e73358.txt  \n",
            "  inflating: train/labels/24_jpg.rf.03f62d02101a385a11164f1be4b166db.txt  \n",
            "  inflating: train/labels/24_jpg.rf.0d0056c692cdccb5eb376b41dde29a22.txt  \n",
            "  inflating: train/labels/24_jpg.rf.162e00de72b87d39393efdebcc9942e7.txt  \n",
            "  inflating: train/labels/24_jpg.rf.1ab3d5fa31abdf61775ded9efa422bdc.txt  \n",
            "  inflating: train/labels/24_jpg.rf.240ca64ebe8f6006d8d8782b12d9e4c5.txt  \n",
            "  inflating: train/labels/24_jpg.rf.3b20e3253525c6ace087440cc9f5a0d0.txt  \n",
            "  inflating: train/labels/24_jpg.rf.42650644ea7be06f16612c33864ce956.txt  \n",
            "  inflating: train/labels/24_jpg.rf.a29488964a1ab06cfb782f52d88ace03.txt  \n",
            "  inflating: train/labels/24_jpg.rf.ad5088208976c17d9822d9f233149162.txt  \n",
            "  inflating: train/labels/24_jpg.rf.b6cd8b4a294204fe006e1418410c8582.txt  \n",
            "  inflating: train/labels/24_jpg.rf.d021351291cd2586d6cc2665314dd5e8.txt  \n",
            "  inflating: train/labels/24_jpg.rf.d0975102ce11ef2c7a8a2cb86b0c48de.txt  \n",
            "  inflating: train/labels/24_jpg.rf.d0bed18ad7d08fd1811f1f06b704ce34.txt  \n",
            "  inflating: train/labels/24_jpg.rf.d4ca7a2e376ea5dd619155f312510747.txt  \n",
            "  inflating: train/labels/24_jpg.rf.fe3c7196ed187a0e8a3ab39615dd4621.txt  \n",
            "  inflating: train/labels/25_jpg.rf.02f227d8ff4f4b4456591a6461739206.txt  \n",
            "  inflating: train/labels/25_jpg.rf.0f78e90544fa70699c88dca0b8a186a2.txt  \n",
            "  inflating: train/labels/25_jpg.rf.1081abf6ba917ad7b8979719ab552a99.txt  \n",
            "  inflating: train/labels/25_jpg.rf.11ebe976dd345f6d1d54fcac9427d41e.txt  \n",
            "  inflating: train/labels/25_jpg.rf.5880551877e0e5b6b6d37ecf8f4ab989.txt  \n",
            "  inflating: train/labels/25_jpg.rf.5b47b4f60bd141cd2ce9c0335c80075e.txt  \n",
            "  inflating: train/labels/25_jpg.rf.66b30981ef4e665b9363131fdd499f62.txt  \n",
            "  inflating: train/labels/25_jpg.rf.7298327219ca2b671a3d440db92db27a.txt  \n",
            "  inflating: train/labels/25_jpg.rf.a1bac10f21fa3b3b6538a3209e68b3c9.txt  \n",
            "  inflating: train/labels/25_jpg.rf.a36201d4cfe6ac8caf4c51537702a7c8.txt  \n",
            "  inflating: train/labels/25_jpg.rf.a369d369b0ffb5e0335358b6e4ba94af.txt  \n",
            "  inflating: train/labels/25_jpg.rf.a623c488373678c59f6b0e3ffd553609.txt  \n",
            "  inflating: train/labels/25_jpg.rf.cc4ccf9c7e3f1fc0f6b1f3784a3daa81.txt  \n",
            "  inflating: train/labels/25_jpg.rf.d8df1ea74ebdc4fce4d6fedfc41696a3.txt  \n",
            "  inflating: train/labels/25_jpg.rf.f8b592af00892848d10534f9ba12e8af.txt  \n",
            "  inflating: train/labels/26_jpg.rf.41b68c713965e7e957b081d4bf27fecf.txt  \n",
            "  inflating: train/labels/26_jpg.rf.81c36625552fa4c2196e5ad470481ec5.txt  \n",
            "  inflating: train/labels/26_jpg.rf.9970c0b7218ca64b8f81fee2f80294d6.txt  \n",
            "  inflating: train/labels/26_jpg.rf.b0366cd38400cbb7fcc18c3fd74d92d4.txt  \n",
            "  inflating: train/labels/26_jpg.rf.d12f83b5fc81cca25716ac39b3385309.txt  \n",
            "  inflating: train/labels/26_jpg.rf.fe1dd6ff37dd6ff35bf941178c5e7424.txt  \n",
            "  inflating: train/labels/27_jpg.rf.0be7e155bd62398ab2c3567fb98d6a1f.txt  \n",
            "  inflating: train/labels/27_jpg.rf.0c946686015f74689ed9210a714f1040.txt  \n",
            "  inflating: train/labels/27_jpg.rf.38d50673f60d0e1f94c192cce3eab49a.txt  \n",
            "  inflating: train/labels/27_jpg.rf.39137a49954ed19292aa765185136de6.txt  \n",
            "  inflating: train/labels/27_jpg.rf.3a86a4d9796bca15a6a1665332c42869.txt  \n",
            "  inflating: train/labels/27_jpg.rf.5bf343bb106c74a0d5f74c5462f461df.txt  \n",
            "  inflating: train/labels/27_jpg.rf.6b1cf6d10952b0a61f1b9bce04139ca5.txt  \n",
            "  inflating: train/labels/27_jpg.rf.6dd2ffe0fc76bf49cb22331ae0093a80.txt  \n",
            "  inflating: train/labels/27_jpg.rf.6ec37bb27b0dbd15edd8f5d295acb462.txt  \n",
            "  inflating: train/labels/27_jpg.rf.7bc5723f2bc6bd1c252c37f3398f79ca.txt  \n",
            "  inflating: train/labels/27_jpg.rf.993d31b3a8a66286dbb675d249e76461.txt  \n",
            "  inflating: train/labels/27_jpg.rf.b039229d63c7e6cd17be99c3a95fb78c.txt  \n",
            "  inflating: train/labels/27_jpg.rf.c00098b221f9ddea4df313cb01ae1ff0.txt  \n",
            "  inflating: train/labels/27_jpg.rf.ccac1ab4c7366c5abf25cbdc5560bb0c.txt  \n",
            "  inflating: train/labels/27_jpg.rf.f2494d47b7f55bde84362d361e919e44.txt  \n",
            "  inflating: train/labels/28_jpg.rf.0347cbfeeb4dfbcf121f029803423d11.txt  \n",
            "  inflating: train/labels/28_jpg.rf.09976f9f5eb20c730a23d308509b48be.txt  \n",
            "  inflating: train/labels/28_jpg.rf.0c68789e5a34bba3b15eccd2d82348b7.txt  \n",
            "  inflating: train/labels/28_jpg.rf.10c94ad4178b8dd664d23178db00f9f5.txt  \n",
            "  inflating: train/labels/28_jpg.rf.3386e94be0368bbd895dddfd0ef98bc1.txt  \n",
            "  inflating: train/labels/28_jpg.rf.39ce7871e712c9f51b6a66c17e43f9b0.txt  \n",
            "  inflating: train/labels/28_jpg.rf.41b40e258583f7af5216777e247972c8.txt  \n",
            "  inflating: train/labels/28_jpg.rf.6e1f295c459aeeefdc898ec247131689.txt  \n",
            "  inflating: train/labels/28_jpg.rf.93e22ba9f38f9609689c23ae47432851.txt  \n",
            "  inflating: train/labels/28_jpg.rf.a6571b3d5b169344f3643ab7640a660d.txt  \n",
            "  inflating: train/labels/28_jpg.rf.ae76df21438fabdd51858706d663c23a.txt  \n",
            "  inflating: train/labels/28_jpg.rf.b29d541d0f11d5a1d4482a238aa48cb9.txt  \n",
            "  inflating: train/labels/29_jpg.rf.04cb0261d8094d5769ca50aef04c41b0.txt  \n",
            "  inflating: train/labels/29_jpg.rf.062c9b9ce3f513c0f41c47d8f9c8add7.txt  \n",
            "  inflating: train/labels/29_jpg.rf.18265029a414c1fe35d778d19c20a6dc.txt  \n",
            "  inflating: train/labels/29_jpg.rf.344497ad24510bf4bc9dd14ce03f67d2.txt  \n",
            "  inflating: train/labels/29_jpg.rf.36b1acf859d1bc51126e37ebd19cf565.txt  \n",
            "  inflating: train/labels/29_jpg.rf.3e566ad4478ce1d7d3cd2e6e831335aa.txt  \n",
            "  inflating: train/labels/29_jpg.rf.4004f6965b9ebeaddcec9515a7ac3953.txt  \n",
            "  inflating: train/labels/29_jpg.rf.49565840d72ec297e874423832c304a8.txt  \n",
            "  inflating: train/labels/29_jpg.rf.4ba19f9e339c28dcbc25483832471967.txt  \n",
            "  inflating: train/labels/29_jpg.rf.59a8b02d143aac8495dee83b3e6e522a.txt  \n",
            "  inflating: train/labels/29_jpg.rf.6c117ca05008b58e53898b1fbb5ae845.txt  \n",
            "  inflating: train/labels/29_jpg.rf.7dacc46fbd93a54efaf2dd671ea3d202.txt  \n",
            "  inflating: train/labels/29_jpg.rf.85395f611651d4cb2a234b7e61d9c99b.txt  \n",
            "  inflating: train/labels/29_jpg.rf.c165095c84ff8fbfabdc969e14dab8f6.txt  \n",
            "  inflating: train/labels/29_jpg.rf.cf31ec692fdcfd1147bb1fd4a433e58e.txt  \n",
            "  inflating: train/labels/29_jpg.rf.db01808f56f69f529b4d8cd6955a95cd.txt  \n",
            "  inflating: train/labels/29_jpg.rf.ec5b5246d5e5b452c6cfa482cef07481.txt  \n",
            "  inflating: train/labels/29_jpg.rf.ff86d4a3d96d1b2fd908931035eeadf4.txt  \n",
            "  inflating: train/labels/2_jpg.rf.3fb89e9623b95fbf182885f01925e683.txt  \n",
            "  inflating: train/labels/2_jpg.rf.56938561686715d2354c5a1c9497b27b.txt  \n",
            "  inflating: train/labels/2_jpg.rf.60a1f8492cd321b2137b96112e1d0fea.txt  \n",
            "  inflating: train/labels/2_jpg.rf.67ec0e12f2ec2ba6fdd00b7f574fd68f.txt  \n",
            "  inflating: train/labels/2_jpg.rf.6d1780bdb128530d77058bc80482479f.txt  \n",
            "  inflating: train/labels/2_jpg.rf.738d596523d59a3db0be5d31326e48ce.txt  \n",
            "  inflating: train/labels/2_jpg.rf.7ef8a31683cdda1ab09688abaae60b64.txt  \n",
            "  inflating: train/labels/2_jpg.rf.879fac4f66a54c081816197b61f3e91d.txt  \n",
            "  inflating: train/labels/2_jpg.rf.912a91c6d8ddc5545e7daf202a6bdebb.txt  \n",
            "  inflating: train/labels/2_jpg.rf.92ad1a78b71c858cd6cdfe387a4f052a.txt  \n",
            "  inflating: train/labels/2_jpg.rf.eca91ab4b7f01647485d08772f3b24ee.txt  \n",
            "  inflating: train/labels/2_jpg.rf.f47436f0ed8a67755711e6588dac20a4.txt  \n",
            "  inflating: train/labels/30_jpg.rf.07ab7b525eea4beb05bc1cc4345011d7.txt  \n",
            "  inflating: train/labels/30_jpg.rf.16a66bf87e986dd86275b052336b9bde.txt  \n",
            "  inflating: train/labels/30_jpg.rf.3fa51c93bd6d36e007b13578c01bc4b5.txt  \n",
            "  inflating: train/labels/30_jpg.rf.6c86531b3e96bc9b2fbe6215cecd2df7.txt  \n",
            "  inflating: train/labels/30_jpg.rf.6e7349f773abaa7e5f9fcacc7252bcea.txt  \n",
            "  inflating: train/labels/30_jpg.rf.86d9239f4a4708d206a43b7fc70558a2.txt  \n",
            "  inflating: train/labels/30_jpg.rf.9688cdbe25857d43d1bc636da25dcd9e.txt  \n",
            "  inflating: train/labels/30_jpg.rf.97933b6c2c812ac3ec1abec2811faec9.txt  \n",
            "  inflating: train/labels/30_jpg.rf.a7f18a3c3abed2c8d1007b0650944b32.txt  \n",
            "  inflating: train/labels/30_jpg.rf.af796f17b80c029f3612d6c88234322d.txt  \n",
            "  inflating: train/labels/30_jpg.rf.d13f51591f850b6f99475425ab6e9439.txt  \n",
            "  inflating: train/labels/30_jpg.rf.d44c602d84deaed574aa4bb88a4ccaad.txt  \n",
            "  inflating: train/labels/30_jpg.rf.e42d0fb5461b248f8e15b9f285f807c0.txt  \n",
            "  inflating: train/labels/30_jpg.rf.f1aa7ce8e87985e3eae133bf62165426.txt  \n",
            "  inflating: train/labels/30_jpg.rf.f869ad3f35f0a9cf82de9cb1b860af66.txt  \n",
            "  inflating: train/labels/31_jpg.rf.1ae20582d24ad70e3f8c3f2c872c11ca.txt  \n",
            "  inflating: train/labels/31_jpg.rf.1ba7d81e32871499d392fbf5e2fdac61.txt  \n",
            "  inflating: train/labels/31_jpg.rf.220c8833058256859ee81c743103dc70.txt  \n",
            "  inflating: train/labels/31_jpg.rf.4b9a2162bd0c300ce061713f1528e0c6.txt  \n",
            "  inflating: train/labels/31_jpg.rf.642d7e19d197a340c6c2241b75a237e0.txt  \n",
            "  inflating: train/labels/31_jpg.rf.6ab81ff08e2b0b658c22db07558b0bda.txt  \n",
            "  inflating: train/labels/31_jpg.rf.792a890cccd87654349ce392aa43ed2a.txt  \n",
            "  inflating: train/labels/31_jpg.rf.a280b66552222b6f777bd514aada0128.txt  \n",
            "  inflating: train/labels/31_jpg.rf.a947294f51f715a424451e8e423b84d1.txt  \n",
            "  inflating: train/labels/31_jpg.rf.af401dec7fa596e993f33be472210c9b.txt  \n",
            "  inflating: train/labels/31_jpg.rf.eec44b81efa405aaedf7f7991c0dd1f4.txt  \n",
            "  inflating: train/labels/31_jpg.rf.f59e042a620809860f8aff6324722960.txt  \n",
            "  inflating: train/labels/32_jpg.rf.05de8a5987c81b3ef883d41ad6fa4498.txt  \n",
            "  inflating: train/labels/32_jpg.rf.156454ecc02cfd625d8c2d33e4a90225.txt  \n",
            "  inflating: train/labels/32_jpg.rf.2c72f455b473291f28bb780ea2e29954.txt  \n",
            "  inflating: train/labels/32_jpg.rf.2cd196d58802d4df6c2d2b0c6474d4b3.txt  \n",
            "  inflating: train/labels/32_jpg.rf.478d0dd2bf80a4ae9724629f4a01698b.txt  \n",
            "  inflating: train/labels/32_jpg.rf.55f216051e5de6299b4f477d181d3244.txt  \n",
            "  inflating: train/labels/32_jpg.rf.5b959402264a469b6181359c254691e9.txt  \n",
            "  inflating: train/labels/32_jpg.rf.61a615019556eaf794a077ede6c6d6bb.txt  \n",
            "  inflating: train/labels/32_jpg.rf.97ce6837889a4adf65f7ada275e4dc81.txt  \n",
            "  inflating: train/labels/32_jpg.rf.a19d9484e96609e946edbfd7ee620508.txt  \n",
            "  inflating: train/labels/32_jpg.rf.a4d0a05d615265b1ed6d62637506807a.txt  \n",
            "  inflating: train/labels/32_jpg.rf.f085ca119db544168db8fc8b262c6dde.txt  \n",
            "  inflating: train/labels/33_jpg.rf.35b1544630e90d98c44c8db090b9df5a.txt  \n",
            "  inflating: train/labels/33_jpg.rf.5be126d155fb9ff681efabcc333ad334.txt  \n",
            "  inflating: train/labels/33_jpg.rf.8ea617dab1f40ffd83f37870835cb3f2.txt  \n",
            "  inflating: train/labels/33_jpg.rf.8f4eb7f10adf87f8800e284198509abe.txt  \n",
            "  inflating: train/labels/33_jpg.rf.9c9a85eaf47a60569cb0da67c2fe4c87.txt  \n",
            "  inflating: train/labels/33_jpg.rf.ab2b130fe3a4548110f7eb41b18fff7c.txt  \n",
            "  inflating: train/labels/33_jpg.rf.ad7cb3b90730bc083398e67d6d43a705.txt  \n",
            "  inflating: train/labels/33_jpg.rf.b5eec13c068a71c84dce0961b8d52a24.txt  \n",
            "  inflating: train/labels/33_jpg.rf.b76516b8797d9b3461a18f25a3740209.txt  \n",
            "  inflating: train/labels/33_jpg.rf.db6e623dae29102136a18a2bf8afd4a9.txt  \n",
            "  inflating: train/labels/33_jpg.rf.f3c770e9c41e8768485bebea5099aa00.txt  \n",
            "  inflating: train/labels/33_jpg.rf.f76b1d99e6cd96b22c1f12c7dba61ccd.txt  \n",
            "  inflating: train/labels/34_jpg.rf.442c052691cd701b030d695c80b85c68.txt  \n",
            "  inflating: train/labels/34_jpg.rf.541dc220d1545a5426c1529c9103af19.txt  \n",
            "  inflating: train/labels/34_jpg.rf.8623dab02716153b768918093a58d050.txt  \n",
            "  inflating: train/labels/34_jpg.rf.999f58fc1119f7bb8b204bc178b9c855.txt  \n",
            "  inflating: train/labels/34_jpg.rf.b9f812d4ff86bc4c918bd121165e1e9d.txt  \n",
            "  inflating: train/labels/34_jpg.rf.ce0738d34add62c15b7b75fbbc26b107.txt  \n",
            "  inflating: train/labels/34_jpg.rf.d73f833cfdbe7cf3d8102c8d6c67b227.txt  \n",
            "  inflating: train/labels/34_jpg.rf.d89b90e6e7abc12bcdbee3bea7f1c4ab.txt  \n",
            "  inflating: train/labels/34_jpg.rf.fbaf8ddc152dc08d47788db9057446f8.txt  \n",
            "  inflating: train/labels/35_jpg.rf.0ccc7825d051d8bb78156400e1b57d08.txt  \n",
            "  inflating: train/labels/35_jpg.rf.26112b1212825e39cafe5d6ffca3783d.txt  \n",
            "  inflating: train/labels/35_jpg.rf.732cef029db9e01878cddd54d2e8ce0b.txt  \n",
            "  inflating: train/labels/35_jpg.rf.cfeec374ab128542cca9ad48629d861e.txt  \n",
            "  inflating: train/labels/35_jpg.rf.d3e1e9c55265496d776ea70a1093f82b.txt  \n",
            "  inflating: train/labels/35_jpg.rf.e23411c8c744ec14425f61089add19c4.txt  \n",
            "  inflating: train/labels/35_jpg.rf.ea4c935ee14a53b59ce840a826c99ea3.txt  \n",
            "  inflating: train/labels/35_jpg.rf.ee770a48f4912e2cfbeb2ff47f28f237.txt  \n",
            "  inflating: train/labels/35_jpg.rf.f6ad1774ea36d2caf78cb8591b2f4f7f.txt  \n",
            "  inflating: train/labels/36_jpg.rf.05b31983c1d276427a0a6b01a1ea1457.txt  \n",
            "  inflating: train/labels/36_jpg.rf.6cc4f853659e519629511d7bd19a9f02.txt  \n",
            "  inflating: train/labels/36_jpg.rf.78db970a1ebf2e6484b42da42a5f1102.txt  \n",
            "  inflating: train/labels/36_jpg.rf.a06775e80455efe75c67e890c8e10c34.txt  \n",
            "  inflating: train/labels/36_jpg.rf.ce25f82b17d2ce46af0577f78b221440.txt  \n",
            "  inflating: train/labels/36_jpg.rf.d956005876a98c14112dddf6db21e6d8.txt  \n",
            "  inflating: train/labels/36_jpg.rf.da4d39f3cafd0ef727bbcb86fbf0a864.txt  \n",
            "  inflating: train/labels/36_jpg.rf.fea8a11fa6fd8ea5f23dc2cc3a3b8dbc.txt  \n",
            "  inflating: train/labels/36_jpg.rf.fff26ff9fe635d9fcaeb14427809b91c.txt  \n",
            "  inflating: train/labels/37_jpg.rf.0305503ea2055a60fc8c14f0d70c3a60.txt  \n",
            "  inflating: train/labels/37_jpg.rf.34a1a68ae43727a30e13d2ef0ab0e455.txt  \n",
            "  inflating: train/labels/37_jpg.rf.555046352abd13a3a4b23f8e5fe9679a.txt  \n",
            "  inflating: train/labels/37_jpg.rf.63962c33c7a207e5df8efd34c407cbcc.txt  \n",
            "  inflating: train/labels/37_jpg.rf.84cbbfb47300f032549a2ebb13d9cae2.txt  \n",
            "  inflating: train/labels/37_jpg.rf.a6939d4ba6a39b0c3f2643f5e6acabcf.txt  \n",
            "  inflating: train/labels/37_jpg.rf.abfa7a1c795340f983b0e6b51f077151.txt  \n",
            "  inflating: train/labels/37_jpg.rf.aee30be7a4bab612fbfad61a147912c8.txt  \n",
            "  inflating: train/labels/37_jpg.rf.e2fbcf112ef9906b94bbfe77e6749398.txt  \n",
            "  inflating: train/labels/38_jpg.rf.02e7fa2a5fa35965d2faba21125732cc.txt  \n",
            "  inflating: train/labels/38_jpg.rf.0f08d7ebf82ebf0d5427758a534a4b30.txt  \n",
            "  inflating: train/labels/38_jpg.rf.4af95ea6b2b00d80335264922e7b579a.txt  \n",
            "  inflating: train/labels/38_jpg.rf.60e5a1cd674a762ace188dc2654e944a.txt  \n",
            "  inflating: train/labels/38_jpg.rf.63ce823870d9102906f0d2639a3c7ebc.txt  \n",
            "  inflating: train/labels/38_jpg.rf.6de1242a2aa1d6294bdac4939cc2bcd2.txt  \n",
            "  inflating: train/labels/38_jpg.rf.851b4b1ea87fbf6630fa8205428f3368.txt  \n",
            "  inflating: train/labels/38_jpg.rf.b307ac56702c69153f7341e87f2809fc.txt  \n",
            "  inflating: train/labels/38_jpg.rf.b5b8fc6a9e0872e9dfec4dc17eb985ae.txt  \n",
            "  inflating: train/labels/38_jpg.rf.b9ac11ec4ce2ff7d4233acded1688bf5.txt  \n",
            "  inflating: train/labels/38_jpg.rf.c6476f53b63b92b8ece8ece0d8ba3c66.txt  \n",
            "  inflating: train/labels/38_jpg.rf.d715e8aa18a1796bd9fb28c4f7d23194.txt  \n",
            "  inflating: train/labels/39_jpg.rf.112a5a8c9312b149d619ae5716a56d0d.txt  \n",
            "  inflating: train/labels/39_jpg.rf.286067148c38d1b2cb685f36d79a1f43.txt  \n",
            "  inflating: train/labels/39_jpg.rf.6ff95a2f7a78ceb4931284784a1740a3.txt  \n",
            "  inflating: train/labels/39_jpg.rf.7e490ece220522b2a45e3658bf1b83dd.txt  \n",
            "  inflating: train/labels/39_jpg.rf.c7d2f91f0f34e08340fb81afe887c2c2.txt  \n",
            "  inflating: train/labels/39_jpg.rf.e810bdf6261b13be595239cf20205e8e.txt  \n",
            "  inflating: train/labels/3_jpg.rf.0c1bc808e29781c481a578d0b97744ba.txt  \n",
            "  inflating: train/labels/3_jpg.rf.0d7917958bf2ae531f2028587e035a90.txt  \n",
            "  inflating: train/labels/3_jpg.rf.2815be9c8776e7986babc6d0266919f6.txt  \n",
            "  inflating: train/labels/3_jpg.rf.42d5b28b6539fe59f1f3a90453684f52.txt  \n",
            "  inflating: train/labels/3_jpg.rf.556fcbfcbc95959fdd9a62dce4ea3fe1.txt  \n",
            "  inflating: train/labels/3_jpg.rf.5afa311741bec07731217fd7c417126d.txt  \n",
            "  inflating: train/labels/3_jpg.rf.62fbcb3eef4040a02688e3f755b4865d.txt  \n",
            "  inflating: train/labels/3_jpg.rf.6f020cd1465ee94c9be1bd2da47d1919.txt  \n",
            "  inflating: train/labels/3_jpg.rf.9f8ede0301ae7a96364f48294e30a913.txt  \n",
            "  inflating: train/labels/3_jpg.rf.a297db883d59abb7c98cc63e49e23c94.txt  \n",
            "  inflating: train/labels/3_jpg.rf.c54ff8e3e84dd401c9e2ccc094bde8c4.txt  \n",
            "  inflating: train/labels/3_jpg.rf.c5810285b209120cea0270201de6608e.txt  \n",
            "  inflating: train/labels/3_jpg.rf.d05dff49c97eec2dd48d7757d6e1afe9.txt  \n",
            "  inflating: train/labels/3_jpg.rf.de175b7aef621aa8373ba02e34bba00a.txt  \n",
            "  inflating: train/labels/3_jpg.rf.df340223cda342c9cda722f5710e90e1.txt  \n",
            "  inflating: train/labels/3_jpg.rf.e43af759005383ac9978e2b82338ed79.txt  \n",
            "  inflating: train/labels/3_jpg.rf.f8cc1f5e494a8392e846839569935c1c.txt  \n",
            "  inflating: train/labels/3_jpg.rf.fced85257604f9d2114a2ea12c3d4db8.txt  \n",
            "  inflating: train/labels/40_jpg.rf.02ec551052c838de0df9dec048c5c5d6.txt  \n",
            "  inflating: train/labels/40_jpg.rf.085007a33d9086922d598d5852466c70.txt  \n",
            "  inflating: train/labels/40_jpg.rf.12eb0dc02221dc37d5ae7eac36e698cb.txt  \n",
            "  inflating: train/labels/40_jpg.rf.383131fa0a33ad7fd1cc33d0a04a9606.txt  \n",
            "  inflating: train/labels/40_jpg.rf.44e1187594c18eefcdbc99f970e5d1d5.txt  \n",
            "  inflating: train/labels/40_jpg.rf.528946ea317497d692b9188d291ba269.txt  \n",
            "  inflating: train/labels/40_jpg.rf.57ce62f08b6fffb188a8d3ac10c4bda0.txt  \n",
            "  inflating: train/labels/40_jpg.rf.764ff59a82f7efd9746b47a142217a0e.txt  \n",
            "  inflating: train/labels/40_jpg.rf.8c94474a30588a0a93255e2d5db91764.txt  \n",
            "  inflating: train/labels/40_jpg.rf.b38c93d23f357bb703c8d6ac0269c5e9.txt  \n",
            "  inflating: train/labels/40_jpg.rf.b58796c83773bbb2159df9375b08848d.txt  \n",
            "  inflating: train/labels/40_jpg.rf.d18f4c7bdfaedba5cce20689ddec341e.txt  \n",
            "  inflating: train/labels/41_jpg.rf.0e554d6d737bdb068e52cbde8c02a00f.txt  \n",
            "  inflating: train/labels/41_jpg.rf.1558fc5a00d3c7b8635d129bc9b4d447.txt  \n",
            "  inflating: train/labels/41_jpg.rf.640c3fba579a9cb9a0007e55a94355f0.txt  \n",
            "  inflating: train/labels/41_jpg.rf.7069a914f78c39982486b27baaca6823.txt  \n",
            "  inflating: train/labels/41_jpg.rf.a6306040835502a403c2d60ddb964c2f.txt  \n",
            "  inflating: train/labels/41_jpg.rf.af583e84dc4d8f4b59cd6ea1f365cfe6.txt  \n",
            "  inflating: train/labels/41_jpg.rf.bcdc1d682d12a1dc3ac5458f31d10743.txt  \n",
            "  inflating: train/labels/41_jpg.rf.d6a156af884c533727f2cb899ee235b1.txt  \n",
            "  inflating: train/labels/41_jpg.rf.d8cac180ebab344cc52c8642717f5117.txt  \n",
            "  inflating: train/labels/41_jpg.rf.e67d3bfea2a17e547f91671600d83693.txt  \n",
            "  inflating: train/labels/41_jpg.rf.ec8e262b4da6d84586400afcdc69e745.txt  \n",
            "  inflating: train/labels/41_jpg.rf.fe24f2c7c06fb0d63b90014a323f42db.txt  \n",
            "  inflating: train/labels/42_jpg.rf.3d5f4066c480cf0849944e02f808ba8c.txt  \n",
            "  inflating: train/labels/42_jpg.rf.84bff2825a9b981c9d7e3533d7c0de2d.txt  \n",
            "  inflating: train/labels/42_jpg.rf.8ac8855d870602924db2cb09d68ed345.txt  \n",
            "  inflating: train/labels/42_jpg.rf.8bdf37e1e3e1e758f6773307ad58ac8e.txt  \n",
            "  inflating: train/labels/42_jpg.rf.b0ddc8f280c517122e354438c25ea4f7.txt  \n",
            "  inflating: train/labels/42_jpg.rf.cdd6959b51fb7033cebc26cb26e9fc3b.txt  \n",
            "  inflating: train/labels/43_jpg.rf.1804f9fe32ab13ccc2dcc74002c13f9b.txt  \n",
            "  inflating: train/labels/43_jpg.rf.1f4aad25c79a780fdebd25eec2a60bf2.txt  \n",
            "  inflating: train/labels/43_jpg.rf.3111992dcaca6f747a4600dc03bde3c7.txt  \n",
            "  inflating: train/labels/43_jpg.rf.76aa0272a13ede511955195ea22220e9.txt  \n",
            "  inflating: train/labels/43_jpg.rf.7ba5d01aa3bd0472e267da11f1d5adec.txt  \n",
            "  inflating: train/labels/43_jpg.rf.8e75de795c3e0c5f0617a815290453dc.txt  \n",
            "  inflating: train/labels/43_jpg.rf.a84433d2b65a72af47e190024a0bf8d7.txt  \n",
            "  inflating: train/labels/43_jpg.rf.af8b2d6a857be8f6c9154ddad574082d.txt  \n",
            "  inflating: train/labels/43_jpg.rf.d35ace5e32f0cc0fbd828b03c4a9e543.txt  \n",
            "  inflating: train/labels/44_jpg.rf.11bbff57416f6dcfe3e085de19c48196.txt  \n",
            "  inflating: train/labels/44_jpg.rf.15c1a650acab2af1fb9df824e83ffa91.txt  \n",
            "  inflating: train/labels/44_jpg.rf.1a9469a1f48c5613a6ebe785fcd316bc.txt  \n",
            "  inflating: train/labels/44_jpg.rf.3509088255f2b7281cfc5e6f06f4127a.txt  \n",
            "  inflating: train/labels/44_jpg.rf.390955146597ff5145a737459a86a328.txt  \n",
            "  inflating: train/labels/44_jpg.rf.5da27f33ff39fb37f397565d723e454e.txt  \n",
            "  inflating: train/labels/44_jpg.rf.91b1529add3510803f19107f553b0e24.txt  \n",
            "  inflating: train/labels/44_jpg.rf.ba5acaecdb1e1793fd7524f7818c8261.txt  \n",
            "  inflating: train/labels/44_jpg.rf.f6087e29a9a2c62840afa0c809d4f133.txt  \n",
            "  inflating: train/labels/45_jpg.rf.2d7aca5ec6a4589ad96b0bd1d4a8f32d.txt  \n",
            "  inflating: train/labels/45_jpg.rf.34272076b2c1a14a7ab2a81ee304470b.txt  \n",
            "  inflating: train/labels/45_jpg.rf.3d21af0b238ec997f9d14619251312d8.txt  \n",
            "  inflating: train/labels/45_jpg.rf.3f19672218738f7f8f3599027314aaa9.txt  \n",
            "  inflating: train/labels/45_jpg.rf.61abe506e06adfb21389d986e81158db.txt  \n",
            "  inflating: train/labels/45_jpg.rf.938ba93d53f4628e17362d10562e06e3.txt  \n",
            "  inflating: train/labels/45_jpg.rf.93fca5fc5e2c27ae5581cb3a2819930f.txt  \n",
            "  inflating: train/labels/45_jpg.rf.c46b5ac25bb0de45538df140dfb15ccb.txt  \n",
            "  inflating: train/labels/45_jpg.rf.ee9214b92015a74f7465c7677382a5ee.txt  \n",
            "  inflating: train/labels/46_jpg.rf.001c181f676d19e7b58aa3f9eb178f0f.txt  \n",
            "  inflating: train/labels/46_jpg.rf.14493848c410f89bbccb4ecb5f3ef8bf.txt  \n",
            "  inflating: train/labels/46_jpg.rf.38c83c91af168c87089c74be2ce81a9f.txt  \n",
            "  inflating: train/labels/46_jpg.rf.3a900b0607fce8bdd0651dc0657ed400.txt  \n",
            "  inflating: train/labels/46_jpg.rf.5090db9224612eb1534a7c8d081b19ef.txt  \n",
            "  inflating: train/labels/46_jpg.rf.59aca362bda282c004eee633feb5706f.txt  \n",
            "  inflating: train/labels/46_jpg.rf.89f51b7244164133c98ace90c222b335.txt  \n",
            "  inflating: train/labels/46_jpg.rf.a1b4850d1f6d2c4eeeb17fb36eb716f7.txt  \n",
            "  inflating: train/labels/46_jpg.rf.a9b56fe28c5f6fcefde81cb472a831b3.txt  \n",
            "  inflating: train/labels/46_jpg.rf.b1363e2ee0c2fef9eedd66b00a0de8f8.txt  \n",
            "  inflating: train/labels/46_jpg.rf.bf3e1d76fe9a145418c84e176a4ef3e8.txt  \n",
            "  inflating: train/labels/46_jpg.rf.cf356370911a8c6838fab906e9d06e21.txt  \n",
            "  inflating: train/labels/46_jpg.rf.db4c885e18ee8f17d236acabad2b42a1.txt  \n",
            "  inflating: train/labels/46_jpg.rf.ebb084c91fe434d9d9970bb328bde818.txt  \n",
            "  inflating: train/labels/46_jpg.rf.fa54719380c14334d507145f372ef2bd.txt  \n",
            "  inflating: train/labels/47_jpg.rf.0fc4c13fcab831ec9f1ad2efbc8cfaa1.txt  \n",
            "  inflating: train/labels/47_jpg.rf.49f14b3d5e2d1722de1b7a0bced39b2b.txt  \n",
            "  inflating: train/labels/47_jpg.rf.6119ee6971af24b10a66492ef012ed1c.txt  \n",
            "  inflating: train/labels/47_jpg.rf.6caf8b8c7dc68b925741aba2836bc07f.txt  \n",
            "  inflating: train/labels/47_jpg.rf.7803d28b31aed26d78f3626bf8ca679c.txt  \n",
            "  inflating: train/labels/47_jpg.rf.7e1b9e068648e0800344af401d259967.txt  \n",
            "  inflating: train/labels/47_jpg.rf.ad376aee3e0564e277e506284e604ab4.txt  \n",
            "  inflating: train/labels/47_jpg.rf.af08f52889be13bb08afa5b297d55025.txt  \n",
            "  inflating: train/labels/47_jpg.rf.c59269265942071f64a370e11daeb065.txt  \n",
            "  inflating: train/labels/48_jpg.rf.0d9213f8486e13bf9f719ce63af08a63.txt  \n",
            "  inflating: train/labels/48_jpg.rf.1676967b2dfa77ab6a4a903e4f624d28.txt  \n",
            "  inflating: train/labels/48_jpg.rf.384265384326c6cd28f406ef69cfaa7b.txt  \n",
            "  inflating: train/labels/48_jpg.rf.3e7387eabdcb75f4b7cb8c121f0861e8.txt  \n",
            "  inflating: train/labels/48_jpg.rf.4f94fff3f89d2dc900fc3a0f935be1de.txt  \n",
            "  inflating: train/labels/48_jpg.rf.5b37af8ef0120fff68c6262154b3785e.txt  \n",
            "  inflating: train/labels/48_jpg.rf.617f66c967a297887464c377c4c45b4d.txt  \n",
            "  inflating: train/labels/48_jpg.rf.66d54c1c002372859df28f5869471bb7.txt  \n",
            "  inflating: train/labels/48_jpg.rf.86d65f20f8081770f34f791869598be1.txt  \n",
            "  inflating: train/labels/48_jpg.rf.8f7bf58d11a13759843a882038e842d9.txt  \n",
            "  inflating: train/labels/48_jpg.rf.b02dae6f78a895f81214e5d2b4f0ed19.txt  \n",
            "  inflating: train/labels/48_jpg.rf.fe8a8247f5051a931055022811a6a299.txt  \n",
            "  inflating: train/labels/49_jpg.rf.14271312c50c295fe25ef8d5299b824c.txt  \n",
            "  inflating: train/labels/49_jpg.rf.2bd49f66cb49dbe5c05bb2c96f440cdd.txt  \n",
            "  inflating: train/labels/49_jpg.rf.2d2abf532812b29187c5881f9a0f9f5e.txt  \n",
            "  inflating: train/labels/49_jpg.rf.68c5ee25397476f469dcf7c88f676658.txt  \n",
            "  inflating: train/labels/49_jpg.rf.78da9e22b5f601d34dd35edb05911983.txt  \n",
            "  inflating: train/labels/49_jpg.rf.9fb5275077c0370ea1d7251258a75380.txt  \n",
            "  inflating: train/labels/49_jpg.rf.a8d8af93c68cca4666f571103b0bc6be.txt  \n",
            "  inflating: train/labels/49_jpg.rf.c3526469afefa52140fb0bc48d2123fe.txt  \n",
            "  inflating: train/labels/49_jpg.rf.d3a333e0509eaffe3b404ecb1dfb6a6a.txt  \n",
            "  inflating: train/labels/4_jpg.rf.023696b3bd8a9a931fc43e98bb6b69c5.txt  \n",
            "  inflating: train/labels/4_jpg.rf.094b65f50ed43fc76546cff3ad502f4b.txt  \n",
            "  inflating: train/labels/4_jpg.rf.2fdfee9408c53da391be29c45854bbb2.txt  \n",
            "  inflating: train/labels/4_jpg.rf.3a87c108ec4e38e4f0f5c8a3a1a6182b.txt  \n",
            "  inflating: train/labels/4_jpg.rf.3a9a86b4905e0f1b584b84f23422ae1e.txt  \n",
            "  inflating: train/labels/4_jpg.rf.5eed037f478b93004abcc6d7653d0775.txt  \n",
            "  inflating: train/labels/4_jpg.rf.80e658ddbca59b1f1fe09621989519bd.txt  \n",
            "  inflating: train/labels/4_jpg.rf.8e3b773021491a6ddef625c197e8db56.txt  \n",
            "  inflating: train/labels/4_jpg.rf.dbdd8a019071e2e308baf384eb9ac76c.txt  \n",
            "  inflating: train/labels/4_jpg.rf.e4a84ad4a614f7a16aebdd1ba69f60e2.txt  \n",
            "  inflating: train/labels/4_jpg.rf.ec8116cd389a7261b6b200da7004cd91.txt  \n",
            "  inflating: train/labels/4_jpg.rf.f2f26c96d9751a6657680f7911a76cd0.txt  \n",
            "  inflating: train/labels/50_jpg.rf.0256150312a714b1ca02c5cd9d6ea11b.txt  \n",
            "  inflating: train/labels/50_jpg.rf.06349810d094adffa82529fba416725a.txt  \n",
            "  inflating: train/labels/50_jpg.rf.0d23f1e7c6d301c04599caa014d4bf0d.txt  \n",
            "  inflating: train/labels/50_jpg.rf.208765fb36324e12f7bbc76163314df0.txt  \n",
            "  inflating: train/labels/50_jpg.rf.54bf8ab9da8212fe46b107aa1e6ee63a.txt  \n",
            "  inflating: train/labels/50_jpg.rf.5682ac3a934378ab40ff32559f3e6675.txt  \n",
            "  inflating: train/labels/50_jpg.rf.6a0be87f353220ad8baf6c9e546c4f4a.txt  \n",
            "  inflating: train/labels/50_jpg.rf.8bd4be1fa9496a9eab69f4664b47b4a3.txt  \n",
            "  inflating: train/labels/50_jpg.rf.d1f4eb58080eb16945221cf515b088dd.txt  \n",
            "  inflating: train/labels/51_jpg.rf.1716230c459aaea59be96bc58538de10.txt  \n",
            "  inflating: train/labels/51_jpg.rf.5a8abe969ffbaf048b766026bb6df9ae.txt  \n",
            "  inflating: train/labels/51_jpg.rf.64bb45b03a60b7361d1291d1d8946a7a.txt  \n",
            "  inflating: train/labels/51_jpg.rf.6564d99bfefe50e639e3afdc7f5c74d8.txt  \n",
            "  inflating: train/labels/51_jpg.rf.71d2e4acc274de2d1021b26deac0b7b2.txt  \n",
            "  inflating: train/labels/51_jpg.rf.b298280d0c23d521f3f5db66331c9937.txt  \n",
            "  inflating: train/labels/51_jpg.rf.bbdd31a6d8a484f5d3350c0c7b5cf79c.txt  \n",
            "  inflating: train/labels/51_jpg.rf.c6f7128125bd1286256cd65325a8fee1.txt  \n",
            "  inflating: train/labels/51_jpg.rf.e980b1eba49001ef165b00dffa8ac9ab.txt  \n",
            "  inflating: train/labels/52_jpg.rf.0a0cabf39eb2dd2d8c7463c77929e2d8.txt  \n",
            "  inflating: train/labels/52_jpg.rf.13805d2e15cb4e4e5ef3cdcbc284f064.txt  \n",
            "  inflating: train/labels/52_jpg.rf.74b3a31591cdd81af6f41c08748a3513.txt  \n",
            "  inflating: train/labels/52_jpg.rf.991feec1b18bcc82e12416e628a234a9.txt  \n",
            "  inflating: train/labels/52_jpg.rf.ee80226c3b52857b0c944c8bfaa548fb.txt  \n",
            "  inflating: train/labels/52_jpg.rf.f9eb44f58ad4e2117373967d3bbaad4d.txt  \n",
            "  inflating: train/labels/53_jpg.rf.0d29ad1aa2238f3823a293e6e55eec94.txt  \n",
            "  inflating: train/labels/53_jpg.rf.0fe646c1f7770844f094d4f1e4a07407.txt  \n",
            "  inflating: train/labels/53_jpg.rf.14ae92358e975a1abf3fe3d4b92c0760.txt  \n",
            "  inflating: train/labels/53_jpg.rf.28e2482ab3252e0ebf834569a9a3ece4.txt  \n",
            "  inflating: train/labels/53_jpg.rf.4263464ec326d16f13cedf7ea0b61fa0.txt  \n",
            "  inflating: train/labels/53_jpg.rf.5377d546bd8cba59a25c5f33f00e3da3.txt  \n",
            "  inflating: train/labels/53_jpg.rf.6450283c2256814234bd0d672aa28f80.txt  \n",
            "  inflating: train/labels/53_jpg.rf.a8d3fa71432bfa0807fe3ef5146df745.txt  \n",
            "  inflating: train/labels/53_jpg.rf.d8ffdad450d21ba58eca5c367b8a2c9c.txt  \n",
            "  inflating: train/labels/53_jpg.rf.e0a2fae4ebc13f1266fa3108b8e272e5.txt  \n",
            "  inflating: train/labels/53_jpg.rf.f1e0d74649de1e6f0991b357d6562860.txt  \n",
            "  inflating: train/labels/53_jpg.rf.fdbff8c8c77681ba56051ca1bc349524.txt  \n",
            "  inflating: train/labels/54_jpg.rf.2dfb20993062952dd2e81bd6ecf9c979.txt  \n",
            "  inflating: train/labels/54_jpg.rf.3e1205d0b843a27ba0fc8898f41b96cd.txt  \n",
            "  inflating: train/labels/54_jpg.rf.d1580fddca592172923042229ea761f3.txt  \n",
            "  inflating: train/labels/55_jpg.rf.164c754d61806c2c843d9a093718bc68.txt  \n",
            "  inflating: train/labels/55_jpg.rf.1aae7caefb2173287d36e789617b346f.txt  \n",
            "  inflating: train/labels/55_jpg.rf.d138967ecec535fda40dc849005e7c36.txt  \n",
            "  inflating: train/labels/55_jpg.rf.d39102de109737a5a4e8e0a0c11c1a0a.txt  \n",
            "  inflating: train/labels/55_jpg.rf.ec75de7930cd5b6668d2141facd52397.txt  \n",
            "  inflating: train/labels/55_jpg.rf.f7f03b0857c9ec0aa7dd769898075615.txt  \n",
            "  inflating: train/labels/56_jpg.rf.033102d64d7c3d6793f698e9b4d6f43d.txt  \n",
            "  inflating: train/labels/56_jpg.rf.26deda9c22a4737d461b26f2bca1a17d.txt  \n",
            "  inflating: train/labels/56_jpg.rf.51b74d205f2678f229ed70691cec6097.txt  \n",
            "  inflating: train/labels/56_jpg.rf.637445a894a05dbef80ddbc0b0da0dfd.txt  \n",
            "  inflating: train/labels/56_jpg.rf.7ba3d514a54e9c127d48b64dc99c6b11.txt  \n",
            "  inflating: train/labels/56_jpg.rf.8dbb7013cef8d433a4c626e969369bfd.txt  \n",
            "  inflating: train/labels/56_jpg.rf.9905f65bd080047bd5ea59d1aac799b3.txt  \n",
            "  inflating: train/labels/56_jpg.rf.b3e1e0ad1b74051dddb15db2ab64cdf9.txt  \n",
            "  inflating: train/labels/56_jpg.rf.c3376d7d7397257fd26bb93cf5b6b865.txt  \n",
            "  inflating: train/labels/57_jpg.rf.0970bd626041048f933768e4226616b7.txt  \n",
            "  inflating: train/labels/57_jpg.rf.3af41faaf19932932199135b0f3dd606.txt  \n",
            "  inflating: train/labels/57_jpg.rf.494b18013d9d2df22c3bc21548ec4c6e.txt  \n",
            "  inflating: train/labels/57_jpg.rf.53e92fe60013049a286204bb9d782df2.txt  \n",
            "  inflating: train/labels/57_jpg.rf.691f35ec0819979ceb1148b6bd865d2c.txt  \n",
            "  inflating: train/labels/57_jpg.rf.6ae7761ea56dbe2c64f78aaf6b584941.txt  \n",
            "  inflating: train/labels/57_jpg.rf.6cce8384d5a3e259c51680ca43d2a61c.txt  \n",
            "  inflating: train/labels/57_jpg.rf.9c7becc2917d740e85e25715f9271d4c.txt  \n",
            "  inflating: train/labels/57_jpg.rf.cdda55f1dd349e28311dbcd271872773.txt  \n",
            "  inflating: train/labels/58_jpg.rf.2ad1ab1fa32c9664856f98853620e507.txt  \n",
            "  inflating: train/labels/58_jpg.rf.ce280b39b2306bfde88fa06adb150f16.txt  \n",
            "  inflating: train/labels/58_jpg.rf.f336f4f152acfd78973572863a0fbc7c.txt  \n",
            "  inflating: train/labels/59_jpg.rf.0f38c39181d52dd6e49718cbdd1a604e.txt  \n",
            "  inflating: train/labels/59_jpg.rf.1249e5c211f7a44f886a9d2b1044ee4a.txt  \n",
            "  inflating: train/labels/59_jpg.rf.1336c9728573b44387e71168afc0c295.txt  \n",
            "  inflating: train/labels/59_jpg.rf.1baab7234f2372c2e236a2959c8d6f3f.txt  \n",
            "  inflating: train/labels/59_jpg.rf.24f5a051e237fbd0cebb3ae3f97c21a7.txt  \n",
            "  inflating: train/labels/59_jpg.rf.5461ebf1f68f74cbaa3bc21802138b56.txt  \n",
            "  inflating: train/labels/59_jpg.rf.78abff60b59a11a55cd8c1e04d328eb7.txt  \n",
            "  inflating: train/labels/59_jpg.rf.9a288087ecf67fcdfd7b16a1c9efcda3.txt  \n",
            "  inflating: train/labels/59_jpg.rf.dead403b2f3e3d01db9212bc5e8c7499.txt  \n",
            "  inflating: train/labels/5_jpg.rf.02becbc49f76bad27835be97655d3489.txt  \n",
            "  inflating: train/labels/5_jpg.rf.1368f96bcfd8c1497e502c54987fa410.txt  \n",
            "  inflating: train/labels/5_jpg.rf.153d91d234cf502c767995de18115fdd.txt  \n",
            "  inflating: train/labels/5_jpg.rf.1af844bc0f409e300d816237dbcef2a7.txt  \n",
            "  inflating: train/labels/5_jpg.rf.5675f379ff76400be05711826ac11943.txt  \n",
            "  inflating: train/labels/5_jpg.rf.5d8aa5e83750b2cecd9d39729c9321a5.txt  \n",
            "  inflating: train/labels/5_jpg.rf.5f67053f0cd32c1bafdfb37a471b4614.txt  \n",
            "  inflating: train/labels/5_jpg.rf.69efc2d501a479a66d03925f948235b7.txt  \n",
            "  inflating: train/labels/5_jpg.rf.7aafc6ecd0be58e371e712f3c0b9955b.txt  \n",
            "  inflating: train/labels/5_jpg.rf.8542d5de7802345199af1daef48d492d.txt  \n",
            "  inflating: train/labels/5_jpg.rf.87d52889694a6f8a590aa5aa4742afb8.txt  \n",
            "  inflating: train/labels/5_jpg.rf.8fd7b8939c053399553a045fc98527b0.txt  \n",
            "  inflating: train/labels/5_jpg.rf.90e5127186c11812137ad27920887aa4.txt  \n",
            "  inflating: train/labels/5_jpg.rf.af4a26d10fecd59c1584eb2158cc9806.txt  \n",
            "  inflating: train/labels/5_jpg.rf.af5ca26ee9c9fa8e1fd724793eed6cd4.txt  \n",
            "  inflating: train/labels/5_jpg.rf.b0c132655897f39c440f5fd408254bbf.txt  \n",
            "  inflating: train/labels/5_jpg.rf.b24fbada8e71534d0d66023c8696e514.txt  \n",
            "  inflating: train/labels/5_jpg.rf.c0bc3f4afd041d2a9903904ea47e7aeb.txt  \n",
            "  inflating: train/labels/5_jpg.rf.c2016f79f5bc9e0acd6928cba6306038.txt  \n",
            "  inflating: train/labels/5_jpg.rf.ca6b03c4b716c975cf0a8463033c529b.txt  \n",
            "  inflating: train/labels/5_jpg.rf.d2a169bc6824b246cabcca1524598bb7.txt  \n",
            "  inflating: train/labels/5_jpg.rf.de5b526d8eeb7dfd95f7c0b504c89d17.txt  \n",
            "  inflating: train/labels/5_jpg.rf.ee22d737501912df74d34c7e2a75ca74.txt  \n",
            "  inflating: train/labels/5_jpg.rf.f3c30f0445dd82620f604e8890085123.txt  \n",
            "  inflating: train/labels/60_jpg.rf.2707e6e9db2d9ca96316bcdf19f5a0a0.txt  \n",
            "  inflating: train/labels/60_jpg.rf.57c726b787c7fedac78286594bcf2c76.txt  \n",
            "  inflating: train/labels/60_jpg.rf.a4f49e851b4cd31fb4d93c0082d1da9e.txt  \n",
            "  inflating: train/labels/60_jpg.rf.c705931cd043cc2364071b935bede22a.txt  \n",
            "  inflating: train/labels/60_jpg.rf.d5882f69ba6ed9bb0bf74098b8b1e8af.txt  \n",
            "  inflating: train/labels/60_jpg.rf.e206144615d03eb4ae04f558ec44a0c4.txt  \n",
            "  inflating: train/labels/60_jpg.rf.f0fdff2d9cbd7c8b8b30f8dd416f95ee.txt  \n",
            "  inflating: train/labels/60_jpg.rf.f1a0b8a9d6674dfa6b774bbf012dc9c6.txt  \n",
            "  inflating: train/labels/60_jpg.rf.fc9ef46529048d7c45ad21a1e4dc9cbd.txt  \n",
            "  inflating: train/labels/61_jpg.rf.24d2895db2994e7e2a967632d77457d1.txt  \n",
            "  inflating: train/labels/61_jpg.rf.4aebf7db24735df7187fd6c7438a57ba.txt  \n",
            "  inflating: train/labels/61_jpg.rf.4eedf19be08900dc03b61860a74f8c55.txt  \n",
            "  inflating: train/labels/61_jpg.rf.58e943dea643cbc22deb6c0a35cfc4db.txt  \n",
            "  inflating: train/labels/61_jpg.rf.8b324ee87b32d3bf86fd22785a6c2f9b.txt  \n",
            "  inflating: train/labels/61_jpg.rf.8f0c297557506ca1688aed15f196750d.txt  \n",
            "  inflating: train/labels/61_jpg.rf.e36d368e594a5839d1392671f03c4d2b.txt  \n",
            "  inflating: train/labels/61_jpg.rf.e84e2d49c766cec30c3d7167b63c4175.txt  \n",
            "  inflating: train/labels/61_jpg.rf.f4a92bd3c3dab110cf1f6a20866a6fd4.txt  \n",
            "  inflating: train/labels/62_jpg.rf.240900ed991dee822b7e517c75ecd67a.txt  \n",
            "  inflating: train/labels/62_jpg.rf.2819b3216270e172a1a7ae2584939665.txt  \n",
            "  inflating: train/labels/62_jpg.rf.3d74ee679c64db3b08aa86a8d84d0c46.txt  \n",
            "  inflating: train/labels/62_jpg.rf.607f93d57698c9b44fcf81e805c5fffb.txt  \n",
            "  inflating: train/labels/62_jpg.rf.728217769d9bcd1cc29b9496ba52959c.txt  \n",
            "  inflating: train/labels/62_jpg.rf.a644b3350807d388cb0d518db07717fd.txt  \n",
            "  inflating: train/labels/62_jpg.rf.b7809f1eda51b68bc39d92c615a93fcc.txt  \n",
            "  inflating: train/labels/62_jpg.rf.bb434ab851aea381784f965489fdca80.txt  \n",
            "  inflating: train/labels/62_jpg.rf.c2f3cb072c1e5b2754a11b5997357aaf.txt  \n",
            "  inflating: train/labels/63_jpg.rf.0dc192efa8fc819b44e6e7949e16c41c.txt  \n",
            "  inflating: train/labels/63_jpg.rf.167253739769c430b10941c02c0aa5e2.txt  \n",
            "  inflating: train/labels/63_jpg.rf.1f9199e80a4c31c42c1a4e210bcafdd8.txt  \n",
            "  inflating: train/labels/63_jpg.rf.2ab8625d78688a9111b428f581a9cdca.txt  \n",
            "  inflating: train/labels/63_jpg.rf.33b9200ffcaeb7b0292f637389baadff.txt  \n",
            "  inflating: train/labels/63_jpg.rf.4814812831e88f18d1294c3eeae02793.txt  \n",
            "  inflating: train/labels/63_jpg.rf.50fa58b699067446decfe88fe72c1a51.txt  \n",
            "  inflating: train/labels/63_jpg.rf.609d94b26a3b5ea1eca02f1f8ff1b80c.txt  \n",
            "  inflating: train/labels/63_jpg.rf.7053f68a9c9342f7340d29fd4e324942.txt  \n",
            "  inflating: train/labels/63_jpg.rf.96428d7cfccad78bc1afb186e66b8631.txt  \n",
            "  inflating: train/labels/63_jpg.rf.a346890b3a484a0a9c674559aefb9827.txt  \n",
            "  inflating: train/labels/63_jpg.rf.abeb2a105c65d3d281fcedf979f2922b.txt  \n",
            "  inflating: train/labels/63_jpg.rf.b47bb3bc82fca6a1c7e0231f50833502.txt  \n",
            "  inflating: train/labels/63_jpg.rf.cb99596e807dad604fcdadfee60d120c.txt  \n",
            "  inflating: train/labels/63_jpg.rf.fd3f439bb20a2b016233c583d322ab36.txt  \n",
            "  inflating: train/labels/64_jpg.rf.2765ded5e2c91245c32d8ad2ed791166.txt  \n",
            "  inflating: train/labels/64_jpg.rf.341e5673a9192c3e5ed0ffc6892c1061.txt  \n",
            "  inflating: train/labels/64_jpg.rf.855035d7ee36c898ab2f8a2811806b0d.txt  \n",
            "  inflating: train/labels/64_jpg.rf.af3c88f9aa60c228b934918fd5404367.txt  \n",
            "  inflating: train/labels/64_jpg.rf.ecfcaa8a4434a1e8cc883f40274b87b0.txt  \n",
            "  inflating: train/labels/64_jpg.rf.eef61274dce7d5c4c773e38854e254ab.txt  \n",
            "  inflating: train/labels/65_jpg.rf.0480ba9450726f0552421d08c3109717.txt  \n",
            "  inflating: train/labels/65_jpg.rf.8bec2ab02c130f38277f08f8908737d5.txt  \n",
            "  inflating: train/labels/65_jpg.rf.b8bd3bc32f3b2c5f8f42861ada496940.txt  \n",
            "  inflating: train/labels/66_jpg.rf.027f667a733e44b8852df96b1f89de08.txt  \n",
            "  inflating: train/labels/66_jpg.rf.02caa5d050ecaaf2f24d8e763082ac95.txt  \n",
            "  inflating: train/labels/66_jpg.rf.38f23828bb87f52b3b0d90bbaa804d92.txt  \n",
            "  inflating: train/labels/66_jpg.rf.459e5a7d37ae0c793fe782a05905c6f1.txt  \n",
            "  inflating: train/labels/66_jpg.rf.6e22ef7abc7e1964a319dae5dc97082a.txt  \n",
            "  inflating: train/labels/66_jpg.rf.9c0f7be12e009f7d2a2ef86d6cc61498.txt  \n",
            "  inflating: train/labels/66_jpg.rf.cd8267b14f4855273a668f9a3a53d82b.txt  \n",
            "  inflating: train/labels/66_jpg.rf.faa06ee94be624fedcf5e696c1fa041d.txt  \n",
            "  inflating: train/labels/66_jpg.rf.fc281222d0854b66182c28a94df70e3f.txt  \n",
            "  inflating: train/labels/67_jpg.rf.01a432c11b6b615f42145175eedad84c.txt  \n",
            "  inflating: train/labels/67_jpg.rf.1c73d483ab75c0b95fa33b5819f550c5.txt  \n",
            "  inflating: train/labels/67_jpg.rf.53b9c603cb7a63739a1241a407554deb.txt  \n",
            "  inflating: train/labels/67_jpg.rf.5883462381d0b4719e166dfdbbaa9ddf.txt  \n",
            "  inflating: train/labels/67_jpg.rf.59f3935a8abdf8d04263fc561c617470.txt  \n",
            "  inflating: train/labels/67_jpg.rf.643c6bc0289abb3f1c0e3f164aa142a5.txt  \n",
            "  inflating: train/labels/67_jpg.rf.7304368430271470372879ff1af99362.txt  \n",
            "  inflating: train/labels/67_jpg.rf.8873d852dea0d5cc499285734000204c.txt  \n",
            "  inflating: train/labels/67_jpg.rf.ccda5af87af44b30e6fbf1f55559b484.txt  \n",
            "  inflating: train/labels/68_jpg.rf.3f235d70cc25f13895922d2b276978c0.txt  \n",
            "  inflating: train/labels/68_jpg.rf.bb445982de3c98f6a09305e345ed7031.txt  \n",
            "  inflating: train/labels/68_jpg.rf.c348439d5ba970e633876325d7ba7293.txt  \n",
            "  inflating: train/labels/68_jpg.rf.d8f58c4316c7ae09943b48745a22f59b.txt  \n",
            "  inflating: train/labels/68_jpg.rf.e3e49487e81637a592931819597410c7.txt  \n",
            "  inflating: train/labels/68_jpg.rf.f6ab853925bccf4ae153a29a62a98c73.txt  \n",
            "  inflating: train/labels/69_jpg.rf.1a5f82e184a1f65c845e8edebae16b0a.txt  \n",
            "  inflating: train/labels/69_jpg.rf.5fb07443cd9d0e7538fc22ca0a0d2e06.txt  \n",
            "  inflating: train/labels/69_jpg.rf.a44569cccf625027732935196d97e290.txt  \n",
            "  inflating: train/labels/69_jpg.rf.c63741d03b93baa9363f441d6b0a6046.txt  \n",
            "  inflating: train/labels/69_jpg.rf.ca1f048b7e08d9f2abbe0e96a1738157.txt  \n",
            "  inflating: train/labels/69_jpg.rf.daf156b10bbf5ff540e370795ea33cfc.txt  \n",
            "  inflating: train/labels/6_jpg.rf.0eab4738e18a52e0668717778f6b4eb2.txt  \n",
            "  inflating: train/labels/6_jpg.rf.1682be63f6e9e89db4ebbd7065eb9ab1.txt  \n",
            "  inflating: train/labels/6_jpg.rf.18d50280708aa666113a946e785f968e.txt  \n",
            "  inflating: train/labels/6_jpg.rf.2365f8e9f10c3f17f835e82bf047c5d4.txt  \n",
            "  inflating: train/labels/6_jpg.rf.2edb74dd41914e6f24a26efb0bc389ce.txt  \n",
            "  inflating: train/labels/6_jpg.rf.330b4301f37a8a223e904b7ec178059e.txt  \n",
            "  inflating: train/labels/6_jpg.rf.368ea05aedb5b318a78c534fe887e9b0.txt  \n",
            "  inflating: train/labels/6_jpg.rf.9c502ffb439aa57755fb0834dad04ee3.txt  \n",
            "  inflating: train/labels/6_jpg.rf.ac4daddfee7f24667c0dadc5cca65f83.txt  \n",
            "  inflating: train/labels/6_jpg.rf.ac95f2c05d0a23fabb80463ecf574d0f.txt  \n",
            "  inflating: train/labels/6_jpg.rf.b5a66954ecbbe7b62bbd09f0686d4c76.txt  \n",
            "  inflating: train/labels/6_jpg.rf.bea2911267e25918a896a2cea9b26196.txt  \n",
            "  inflating: train/labels/6_jpg.rf.c26801008dd0efb46ebd35289e65a08b.txt  \n",
            "  inflating: train/labels/6_jpg.rf.e129b055b64921dab6168ca892b93668.txt  \n",
            "  inflating: train/labels/6_jpg.rf.f309fdb04b10101675705adb760235e6.txt  \n",
            "  inflating: train/labels/70_jpg.rf.63fa01780913b7df180f459c526aac80.txt  \n",
            "  inflating: train/labels/70_jpg.rf.797e8734ac0804ca4e64a207fd61f21a.txt  \n",
            "  inflating: train/labels/70_jpg.rf.82354268daa4f131c98afae23b09f531.txt  \n",
            "  inflating: train/labels/70_jpg.rf.afce5d6f59e359d85f09bc782c6e6ad8.txt  \n",
            "  inflating: train/labels/70_jpg.rf.b66e5afd65229d139ae999565e572917.txt  \n",
            "  inflating: train/labels/70_jpg.rf.b68cad4cdbc6657cd63a347a1967b4d4.txt  \n",
            "  inflating: train/labels/70_jpg.rf.b992bd4bc0225c407b3f4587215a7685.txt  \n",
            "  inflating: train/labels/70_jpg.rf.e98e259b51982ab12a3a310652030dc3.txt  \n",
            "  inflating: train/labels/70_jpg.rf.fc6c208c5b798a3e407eb7bcd3b4a9bc.txt  \n",
            "  inflating: train/labels/71_jpg.rf.10f5ac202ff58aad873c6fa8c61503e3.txt  \n",
            "  inflating: train/labels/71_jpg.rf.156d6799bee6ed9cda2c1c84a837de68.txt  \n",
            "  inflating: train/labels/71_jpg.rf.210a15c99c5fbd1ed20cca838884596b.txt  \n",
            "  inflating: train/labels/71_jpg.rf.88e52a88f7621e582fe947be2046e09c.txt  \n",
            "  inflating: train/labels/71_jpg.rf.bc12fa0758f8f9709d1eaa0d0a1d076d.txt  \n",
            "  inflating: train/labels/71_jpg.rf.c649844cc34f03c2f08e30f407557fc9.txt  \n",
            "  inflating: train/labels/71_jpg.rf.d3d4b3546bac70c4bc751d36348314a0.txt  \n",
            "  inflating: train/labels/71_jpg.rf.d872ea912454421d9e2c6ce608732544.txt  \n",
            "  inflating: train/labels/71_jpg.rf.d9c70d90dbfe6fa57a80b71410fa3a09.txt  \n",
            "  inflating: train/labels/72_jpg.rf.218cff007964662f0084a0c398e6ed01.txt  \n",
            "  inflating: train/labels/72_jpg.rf.8ef3a21a7e927aaeb73c8a95e55164b1.txt  \n",
            "  inflating: train/labels/72_jpg.rf.a1fa35dfc673101e577904fce0b9ec34.txt  \n",
            "  inflating: train/labels/72_jpg.rf.d5bcee3025de63c95b8a30dedbc8970f.txt  \n",
            "  inflating: train/labels/72_jpg.rf.dc19b5d50b8c185269c3274042f45620.txt  \n",
            "  inflating: train/labels/72_jpg.rf.f27fa49748326273e720b799d4c0ff26.txt  \n",
            "  inflating: train/labels/73_jpg.rf.3e2c1308a21085c39b466d30257b3ca9.txt  \n",
            "  inflating: train/labels/73_jpg.rf.4907fcde7003fee1b3daeb3018a6bef3.txt  \n",
            "  inflating: train/labels/73_jpg.rf.6fdf90134acfe3501b43b0058759e12e.txt  \n",
            "  inflating: train/labels/73_jpg.rf.7349b62c3d2bac1e5e7c4d7ed329b6a3.txt  \n",
            "  inflating: train/labels/73_jpg.rf.8153394289cbb31e7cb1489aa2314f58.txt  \n",
            "  inflating: train/labels/73_jpg.rf.8b2f83b1ca606529ab6d65dadf8c7baa.txt  \n",
            "  inflating: train/labels/73_jpg.rf.e48abb89ebbc5fae30dc3d0ddc374a9f.txt  \n",
            "  inflating: train/labels/73_jpg.rf.e6b76685f83a6cf2b90c30e579a2a8f9.txt  \n",
            "  inflating: train/labels/73_jpg.rf.ffe55b81644fb435521827a14eaca615.txt  \n",
            "  inflating: train/labels/74_jpg.rf.0a7396c1384cf6e64558cb821d4ed623.txt  \n",
            "  inflating: train/labels/74_jpg.rf.0b38f21a9cad1aa102a2194e02d062a2.txt  \n",
            "  inflating: train/labels/74_jpg.rf.18071f0fc9d09a06460917a47ebc53dd.txt  \n",
            "  inflating: train/labels/74_jpg.rf.3ef23fb5e6780649daa7216dd2e95444.txt  \n",
            "  inflating: train/labels/74_jpg.rf.53d7303362191f2660acae92d81e9b46.txt  \n",
            "  inflating: train/labels/74_jpg.rf.738e65a61ef9bd1c96b6e19edec5a1ad.txt  \n",
            "  inflating: train/labels/74_jpg.rf.985e8593505d9bf069ed9a93827f9ce7.txt  \n",
            "  inflating: train/labels/74_jpg.rf.996755c7dc0eefb472738d7104b3adef.txt  \n",
            "  inflating: train/labels/74_jpg.rf.cd48386e4d72cbff6da5edc6e9119a9f.txt  \n",
            "  inflating: train/labels/75_jpg.rf.19e01d25a991483561f31c09a61adf7c.txt  \n",
            "  inflating: train/labels/75_jpg.rf.583859a9bb5accad95547a0fbaae2b57.txt  \n",
            "  inflating: train/labels/75_jpg.rf.5c02f7621fd37de54f79653212fbc346.txt  \n",
            "  inflating: train/labels/75_jpg.rf.91da93e1e927071ec6edc19b51a2dd34.txt  \n",
            "  inflating: train/labels/75_jpg.rf.97b100be211261d283334ba95a714646.txt  \n",
            "  inflating: train/labels/75_jpg.rf.9ea33d0d8ab271d50747b661b890a3df.txt  \n",
            "  inflating: train/labels/75_jpg.rf.9fd0587cf7a0fe70da23b0272cd80f62.txt  \n",
            "  inflating: train/labels/75_jpg.rf.ba9a51710663d3c97a541d7e81bbc527.txt  \n",
            "  inflating: train/labels/75_jpg.rf.c7dade086913106d9bcc96ec9e0f0e47.txt  \n",
            "  inflating: train/labels/75_jpg.rf.ec4c32a3a048441c7b2b9a33d61c9ddb.txt  \n",
            "  inflating: train/labels/75_jpg.rf.f8ff246e05a1475bd3bc7a3f8f898498.txt  \n",
            "  inflating: train/labels/75_jpg.rf.febd2364e8cc7a0ac1d5f8314a114238.txt  \n",
            "  inflating: train/labels/76_jpg.rf.1443d0b259dfbe8db0166fe4b5e240f9.txt  \n",
            "  inflating: train/labels/76_jpg.rf.5cdb84906bc3234ab3309acf67c4596c.txt  \n",
            "  inflating: train/labels/76_jpg.rf.9381781a40aeaeebc33cfa91f01c758d.txt  \n",
            "  inflating: train/labels/76_jpg.rf.ea8160b0a58c662436b3f92e61fa1288.txt  \n",
            "  inflating: train/labels/76_jpg.rf.f127fb5e2957d8f1c91101441f20b732.txt  \n",
            "  inflating: train/labels/76_jpg.rf.ff394c7b151e45e6bb1b207708c0d61d.txt  \n",
            "  inflating: train/labels/77_jpg.rf.3c2eac2916616f01387e406ee87c604b.txt  \n",
            "  inflating: train/labels/77_jpg.rf.3c3bbf0438ebc0ad00ac7f5c016730b0.txt  \n",
            "  inflating: train/labels/77_jpg.rf.46cf094b37ceb383cf06eddd5ab0eaaa.txt  \n",
            "  inflating: train/labels/77_jpg.rf.5469e2405912ba91858f2bea827a28f0.txt  \n",
            "  inflating: train/labels/77_jpg.rf.7434f2ffd23869ae332e58477e3c57e7.txt  \n",
            "  inflating: train/labels/77_jpg.rf.c9b1d38a31116ebd306c1a689dd3f727.txt  \n",
            "  inflating: train/labels/77_jpg.rf.d361599ec01f7e9dade29431a88328dc.txt  \n",
            "  inflating: train/labels/77_jpg.rf.e27bd7696605f28b3ca89837107a8382.txt  \n",
            "  inflating: train/labels/77_jpg.rf.f358e1b9aa5ad616cf9901ff27480339.txt  \n",
            "  inflating: train/labels/78_jpg.rf.30c9c8560a5122b82942612e7aa85996.txt  \n",
            "  inflating: train/labels/78_jpg.rf.431f1cf1f01d74754240aa6c2d696b65.txt  \n",
            "  inflating: train/labels/78_jpg.rf.4377a6b94faa2edcef030dde453f996e.txt  \n",
            "  inflating: train/labels/78_jpg.rf.64f9b22d50dedbeea7e560a8812604e0.txt  \n",
            "  inflating: train/labels/78_jpg.rf.8edeab4c11c84415516a9d237c481dda.txt  \n",
            "  inflating: train/labels/78_jpg.rf.d63af3cb325b99536d319c60f00730b9.txt  \n",
            "  inflating: train/labels/79_jpg.rf.2c3250102f0ba3d05391510830a14eb2.txt  \n",
            "  inflating: train/labels/79_jpg.rf.44e2701bb9b361f9f8a46e98d33b8482.txt  \n",
            "  inflating: train/labels/79_jpg.rf.8003c88222f1506493b783159fe18116.txt  \n",
            "  inflating: train/labels/79_jpg.rf.901d2b0acc9837ef7c1565b3ea3f259f.txt  \n",
            "  inflating: train/labels/79_jpg.rf.be736f09a8dda334ea2fab50fc873992.txt  \n",
            "  inflating: train/labels/79_jpg.rf.e3712b5750a71ece2b3dd17e7ef4907c.txt  \n",
            "  inflating: train/labels/7_jpg.rf.013cb6ff2c3af581892f2c4ce14694bd.txt  \n",
            "  inflating: train/labels/7_jpg.rf.04d94954ae84896535de11374423d5cc.txt  \n",
            "  inflating: train/labels/7_jpg.rf.0e3cb3dcd5e71133bcfe09c3ccc980f3.txt  \n",
            "  inflating: train/labels/7_jpg.rf.188cd94fe6080047a431236f9c81c3a1.txt  \n",
            "  inflating: train/labels/7_jpg.rf.270bcdc647d88f047481b1004a8e2bfc.txt  \n",
            "  inflating: train/labels/7_jpg.rf.38a210830f53e1cce0897aeac60c32b8.txt  \n",
            "  inflating: train/labels/7_jpg.rf.58fddb077761c00d2b5ae2d377c7b204.txt  \n",
            "  inflating: train/labels/7_jpg.rf.5a49c883c9bf263e3dd3b64cdf49a999.txt  \n",
            "  inflating: train/labels/7_jpg.rf.6267e8c76df35d9b353b744e05528dd0.txt  \n",
            "  inflating: train/labels/7_jpg.rf.6c42087de7f34a9f8bababf81523bc60.txt  \n",
            "  inflating: train/labels/7_jpg.rf.736be1e2277a2d2a0ae013dc9be15453.txt  \n",
            "  inflating: train/labels/7_jpg.rf.96665f4cc42d1ac7dbbdb74b51d86743.txt  \n",
            "  inflating: train/labels/7_jpg.rf.9d1e2aa02e8d5e35582007e9b4efa391.txt  \n",
            "  inflating: train/labels/7_jpg.rf.b6a0af428f1cbe32d13af458a8d402b3.txt  \n",
            "  inflating: train/labels/7_jpg.rf.cf81001ec8278e6e44813976ff8f8054.txt  \n",
            "  inflating: train/labels/7_jpg.rf.e3c486b64dd669643339ba46ae6e4c2b.txt  \n",
            "  inflating: train/labels/7_jpg.rf.f8900bc1fa9ff9ee8cb17602ff12bd8d.txt  \n",
            "  inflating: train/labels/7_jpg.rf.fc2561dfa1ec65e67e101e0f4f03f79f.txt  \n",
            "  inflating: train/labels/80_jpg.rf.32a75583b5b3929c58f3d5f65203a029.txt  \n",
            "  inflating: train/labels/80_jpg.rf.64c2b5de217b7fd6fc290cd768fe1e2c.txt  \n",
            "  inflating: train/labels/80_jpg.rf.81b4cdd87f592cc02ce7bdf447903222.txt  \n",
            "  inflating: train/labels/80_jpg.rf.90ad54334119e6df39d50cfed56908b6.txt  \n",
            "  inflating: train/labels/80_jpg.rf.92cd8bc62089368c2f31f232d508a8de.txt  \n",
            "  inflating: train/labels/80_jpg.rf.d0b3bdcd7e1bb8daa868ee7c527160fc.txt  \n",
            "  inflating: train/labels/81_jpg.rf.1a5f13372627c5698e994149a67a9aa3.txt  \n",
            "  inflating: train/labels/81_jpg.rf.324bef89ba843e447cb5467c9537f398.txt  \n",
            "  inflating: train/labels/81_jpg.rf.5d3a8554b46c37cd7498479832e2a28a.txt  \n",
            "  inflating: train/labels/81_jpg.rf.6f39728427f3fea3baad45b3ddf08e6b.txt  \n",
            "  inflating: train/labels/81_jpg.rf.75c3450cd3991cf80f8f48019c132c63.txt  \n",
            "  inflating: train/labels/81_jpg.rf.785760ecc0a9582799b7eefb4ebc4475.txt  \n",
            "  inflating: train/labels/81_jpg.rf.7944f92bdc104cd7f32d37591cc8b010.txt  \n",
            "  inflating: train/labels/81_jpg.rf.84323064bb95428b5f803faea840f613.txt  \n",
            "  inflating: train/labels/81_jpg.rf.865a29ef638e9e40285e76edb427f828.txt  \n",
            "  inflating: train/labels/81_jpg.rf.c9fca2b12d2475ecbf508332d4ba8f9d.txt  \n",
            "  inflating: train/labels/81_jpg.rf.f12d09b88165dbb7c365c08114ee6448.txt  \n",
            "  inflating: train/labels/81_jpg.rf.f1ca94cb525e2ff9e041336e04d47ea9.txt  \n",
            "  inflating: train/labels/82_jpg.rf.03e48e600c77eb01bac1f9bf268b3816.txt  \n",
            "  inflating: train/labels/82_jpg.rf.0993f5cc6aaa564dd74e0b46802bfd92.txt  \n",
            "  inflating: train/labels/82_jpg.rf.10813763f82f68e9b8c8c969c9e66a71.txt  \n",
            "  inflating: train/labels/82_jpg.rf.1cd9e9ea3244f0c6ea7ef4bd9c1bb4e1.txt  \n",
            "  inflating: train/labels/82_jpg.rf.3e89fefe72f2e6d175e7bfe6e12455b7.txt  \n",
            "  inflating: train/labels/82_jpg.rf.451a9a189b7251026323b153256de5db.txt  \n",
            "  inflating: train/labels/82_jpg.rf.4924f4f8ccb3cdaa7cea074d4e2278de.txt  \n",
            "  inflating: train/labels/82_jpg.rf.4e254504eaef52a500de22523b85f8cc.txt  \n",
            "  inflating: train/labels/82_jpg.rf.5ede2153c3be5e3e069f66f493c4ee17.txt  \n",
            "  inflating: train/labels/83_jpg.rf.2f54685355d3595d43eb1f956facdcde.txt  \n",
            "  inflating: train/labels/83_jpg.rf.698d4a9621427cbd00fa2bf6b34ffecf.txt  \n",
            "  inflating: train/labels/83_jpg.rf.77373741a7e337d8ebb0f5105eddc4bd.txt  \n",
            "  inflating: train/labels/83_jpg.rf.8db49bbf42b752bfe600bd509d91b4df.txt  \n",
            "  inflating: train/labels/83_jpg.rf.a45c8bee0a7ca68726484310ec935c19.txt  \n",
            "  inflating: train/labels/83_jpg.rf.b957f89cd6ee39e9214234c30dd09aa5.txt  \n",
            "  inflating: train/labels/83_jpg.rf.b9d2a05da64bf3cb5515bd9887848982.txt  \n",
            "  inflating: train/labels/83_jpg.rf.d0a4838f813a9cf37dca66909d9fc851.txt  \n",
            "  inflating: train/labels/83_jpg.rf.ed7f96ee1ce675f8181c712361fc7a55.txt  \n",
            "  inflating: train/labels/84_jpg.rf.16f00c486ad67bcaa6ef1796b2952501.txt  \n",
            "  inflating: train/labels/84_jpg.rf.3796b8d30867d2aa2e972cf1180f552b.txt  \n",
            "  inflating: train/labels/84_jpg.rf.7e9e087be41baeaffc7e29fdad9141d7.txt  \n",
            "  inflating: train/labels/84_jpg.rf.94d9417fe8b303468cacb10080f328b0.txt  \n",
            "  inflating: train/labels/84_jpg.rf.bdfebc6b6008eb266562a0d9deae6ef6.txt  \n",
            "  inflating: train/labels/84_jpg.rf.d4d79d84a4aeaded257cdd1a23866a89.txt  \n",
            "  inflating: train/labels/85_jpg.rf.0cbbe6bb8173afec1fe55ef2c29c9080.txt  \n",
            "  inflating: train/labels/85_jpg.rf.1ff6058f380252dab392a5b7f2025433.txt  \n",
            "  inflating: train/labels/85_jpg.rf.261f5606961ed1fe50dddd52fa1748f1.txt  \n",
            "  inflating: train/labels/85_jpg.rf.2e97db4e01c62e7a6994d5795497a237.txt  \n",
            "  inflating: train/labels/85_jpg.rf.4ba2bcafc3de0157d80cc52282a6a563.txt  \n",
            "  inflating: train/labels/85_jpg.rf.66b8be2e77c3892a106b14c807c99388.txt  \n",
            "  inflating: train/labels/85_jpg.rf.7825027a92bb0a0c277036062e7a7b5d.txt  \n",
            "  inflating: train/labels/85_jpg.rf.c355b84057c6976b8bc1d533468423a4.txt  \n",
            "  inflating: train/labels/85_jpg.rf.fa4992b6d4a3e33d5c67511e62fa4ad6.txt  \n",
            "  inflating: train/labels/86_jpg.rf.017633fca3000f104b29fed840980a0e.txt  \n",
            "  inflating: train/labels/86_jpg.rf.03cb3d556f654845de222a1da247666c.txt  \n",
            "  inflating: train/labels/86_jpg.rf.52aef0c180364993b5637a6fd1de1ecc.txt  \n",
            "  inflating: train/labels/86_jpg.rf.6f7e9486cf680fc94736efa55864c988.txt  \n",
            "  inflating: train/labels/86_jpg.rf.740a7838883da019b8de37e75ae59660.txt  \n",
            "  inflating: train/labels/86_jpg.rf.9bcc3637411977195564e1b83eda6c76.txt  \n",
            "  inflating: train/labels/87_jpg.rf.36583861eda5bee4388e48aefab1fe09.txt  \n",
            "  inflating: train/labels/87_jpg.rf.99cf808499498aa0e2852d1d2dd0a081.txt  \n",
            "  inflating: train/labels/87_jpg.rf.c6304faddf30571f2efa436a41f9c1a8.txt  \n",
            "  inflating: train/labels/88_jpg.rf.6b20840714471153d0ec6663eadc8a67.txt  \n",
            "  inflating: train/labels/88_jpg.rf.d90070e5cd27cbd48701fc2ee8037609.txt  \n",
            "  inflating: train/labels/88_jpg.rf.fbce5301446479c63bbb1a6f0f1cda3e.txt  \n",
            "  inflating: train/labels/89_jpg.rf.06e9b410980fb38f6527d5a3dc10260e.txt  \n",
            "  inflating: train/labels/89_jpg.rf.1af3ce5ddedc08cb285c3b8c045bdefc.txt  \n",
            "  inflating: train/labels/89_jpg.rf.6cf35d7cb0dc7bea37aadc347ffe8cf6.txt  \n",
            "  inflating: train/labels/89_jpg.rf.da364a8fd16c32fee161251ec65ae59a.txt  \n",
            "  inflating: train/labels/89_jpg.rf.f23cd893a9a1e80e2144cac208f1bcc0.txt  \n",
            "  inflating: train/labels/89_jpg.rf.fc82a8eba26d940ebb9dea70669c2f29.txt  \n",
            "  inflating: train/labels/8_jpg.rf.2dbee58fe7cfa68cf5ba658bceb8dc4c.txt  \n",
            "  inflating: train/labels/8_jpg.rf.62ed098855da4ca3bd0a9990632c0c6d.txt  \n",
            "  inflating: train/labels/8_jpg.rf.70e949fcb1adea8122678ad523f7b093.txt  \n",
            "  inflating: train/labels/8_jpg.rf.7ccca0e9febc314f51c7e3327d6a0998.txt  \n",
            "  inflating: train/labels/8_jpg.rf.97358b4e0ee095e2cefaec421ba5a5e8.txt  \n",
            "  inflating: train/labels/8_jpg.rf.98840bdd12a67a1ff6b89fa9d093d6d1.txt  \n",
            "  inflating: train/labels/8_jpg.rf.ab7eb63300c4136eff4ba2d38cf06b35.txt  \n",
            "  inflating: train/labels/8_jpg.rf.cdf6e73ad75474023d6cb13d5d967b7d.txt  \n",
            "  inflating: train/labels/8_jpg.rf.d7aed5ce67a3e354e05a554b914fd54e.txt  \n",
            "  inflating: train/labels/90_jpg.rf.03e0f5bafac6805a14e3f97e6b426840.txt  \n",
            "  inflating: train/labels/90_jpg.rf.6f4fab29cc2a8ca9a18c5dcb024b7f07.txt  \n",
            "  inflating: train/labels/90_jpg.rf.832f7a8be2e677df723a5f5a4362dd12.txt  \n",
            "  inflating: train/labels/90_jpg.rf.839a4d982542b026eb91d180fbccfe31.txt  \n",
            "  inflating: train/labels/90_jpg.rf.c943a58c0251a8ec52f897ed763670c7.txt  \n",
            "  inflating: train/labels/90_jpg.rf.e8148ac8aa70624c7e8fc70b6b439557.txt  \n",
            "  inflating: train/labels/91_jpg.rf.01bf86d3b2271d4a40b283e5faf7bc30.txt  \n",
            "  inflating: train/labels/91_jpg.rf.2d72ec3f2ccaefd8b465d9996cbc6bdb.txt  \n",
            "  inflating: train/labels/91_jpg.rf.74eba66e5b1d42015da345d78d5ae9e5.txt  \n",
            "  inflating: train/labels/91_jpg.rf.7b29992e7dd9ea3f9c6484b8d8f826eb.txt  \n",
            "  inflating: train/labels/91_jpg.rf.7ff7a2375719faff0fbadba967d93bb2.txt  \n",
            "  inflating: train/labels/91_jpg.rf.a4d5ba7268b07a0d260fd832ac57d7b9.txt  \n",
            "  inflating: train/labels/92_jpg.rf.57996f38c6bc7134f30d3635608280f8.txt  \n",
            "  inflating: train/labels/92_jpg.rf.8a3d7a0ffb6e53cf9e6f650070c3cc7e.txt  \n",
            "  inflating: train/labels/92_jpg.rf.ef397432d9fd1cd98a1aca28b68ecb68.txt  \n",
            "  inflating: train/labels/9_jpg.rf.02f049ae0a8e6d05930bf76756862545.txt  \n",
            "  inflating: train/labels/9_jpg.rf.39dd3b22c546efa0e42290f582172e12.txt  \n",
            "  inflating: train/labels/9_jpg.rf.3e427dea726c89694efedba91e2596e5.txt  \n",
            "  inflating: train/labels/9_jpg.rf.479af001a896bd454b6c5805aac04625.txt  \n",
            "  inflating: train/labels/9_jpg.rf.577ad80a6fde666bf248337f881f6273.txt  \n",
            "  inflating: train/labels/9_jpg.rf.5a5e831b30a2b7f75f8bb594f364003e.txt  \n",
            "  inflating: train/labels/9_jpg.rf.5f1923f323cc0e8a58e41f01851c828d.txt  \n",
            "  inflating: train/labels/9_jpg.rf.6aa835c89265f701d6413b038c665c7a.txt  \n",
            "  inflating: train/labels/9_jpg.rf.6d4eb249e2d5c21871f8176bf326e846.txt  \n",
            "  inflating: train/labels/9_jpg.rf.857e7ef0c970010578e90b55e12bfa8b.txt  \n",
            "  inflating: train/labels/9_jpg.rf.8f833ec2ec60859993daa9df857dcae9.txt  \n",
            "  inflating: train/labels/9_jpg.rf.97d2c20961273ac16c27038a9feecfb4.txt  \n",
            "  inflating: train/labels/9_jpg.rf.9823e5dc1f8c700c21863ed273493a03.txt  \n",
            "  inflating: train/labels/9_jpg.rf.a7ad4f4bd047ffb9dcc1c12e81ccc614.txt  \n",
            "  inflating: train/labels/9_jpg.rf.c56efd4cfc3141c50ea4ac88689e5bcd.txt  \n",
            "  inflating: train/labels/9_jpg.rf.c68e537377b81a15f5bbc697df7b2a21.txt  \n",
            "  inflating: train/labels/9_jpg.rf.d2b5938de95d51f0935810f017018019.txt  \n",
            "  inflating: train/labels/9_jpg.rf.f22d68b8947db146c35f2a17a2956437.txt  \n",
            "   creating: valid/\n",
            "   creating: valid/images/\n",
            " extracting: valid/images/0_jpg.rf.74f87a30f078d760d9505b3c3938442d.jpg  \n",
            " extracting: valid/images/0_jpg.rf.7c48d08c77c30aff446b43a1464c19fe.jpg  \n",
            " extracting: valid/images/0_jpg.rf.9b75f4bdf1638b6da263eab7f13af412.jpg  \n",
            " extracting: valid/images/0_jpg.rf.9dc142f41bbc83f5a2b78ea3ff08ef2c.jpg  \n",
            " extracting: valid/images/0_jpg.rf.ea0c0feaaeef88eecfba704da10d84e6.jpg  \n",
            " extracting: valid/images/10_jpg.rf.1e2d8a465ee2061803bbbe48327aadf8.jpg  \n",
            " extracting: valid/images/10_jpg.rf.4ef73617411b1575ba393841409cbd78.jpg  \n",
            " extracting: valid/images/11_jpg.rf.8712a1fe5a00ea966d697dab7966cac1.jpg  \n",
            " extracting: valid/images/11_jpg.rf.8e0eedbcc6080bb4892ae03bdf35e28b.jpg  \n",
            " extracting: valid/images/12_jpg.rf.1924e0454370b2b43897a9f36f7e491b.jpg  \n",
            " extracting: valid/images/12_jpg.rf.3485e764f84f672b984972858c39cbee.jpg  \n",
            " extracting: valid/images/12_jpg.rf.d3b2100bc1e5dfa5f1aadd1e37b878a3.jpg  \n",
            " extracting: valid/images/12_jpg.rf.eea0067b46ad2cdeb571776ee94b0b6d.jpg  \n",
            " extracting: valid/images/13_jpg.rf.92c69bf945b1583561d3a603cc1a0983.jpg  \n",
            " extracting: valid/images/13_jpg.rf.da5d5b9cd6d3afef92bc89f022641749.jpg  \n",
            " extracting: valid/images/14_jpg.rf.3155f2b1df52faae4133bfe8e7ea9393.jpg  \n",
            " extracting: valid/images/14_jpg.rf.3dcabb9a145d1bbd501e341fb25d3b74.jpg  \n",
            " extracting: valid/images/14_jpg.rf.76f4121676c8d9edad7041078d0398de.jpg  \n",
            " extracting: valid/images/15_jpg.rf.ad6d48c4996b3d584719b45cdb9ebddc.jpg  \n",
            " extracting: valid/images/16_jpg.rf.3d571a8d69c25a107c6a7f7067655ac7.jpg  \n",
            " extracting: valid/images/17_jpg.rf.acdedaf1772c1778fde4eaf695e402c9.jpg  \n",
            " extracting: valid/images/1_jpg.rf.6aa44b675e602b8988d9eac5b95057b9.jpg  \n",
            " extracting: valid/images/20_jpg.rf.3583563ac08cff367e18e6139140b06d.jpg  \n",
            " extracting: valid/images/20_jpg.rf.c2f09fecea42ae1e3cb220ea9fc9a252.jpg  \n",
            " extracting: valid/images/21_jpg.rf.bdc5a76ceca24d0a8ed1ad3a619140da.jpg  \n",
            " extracting: valid/images/23_jpg.rf.2cf7bc774d2f40387bd6f222e2ae679f.jpg  \n",
            " extracting: valid/images/23_jpg.rf.92418a027ca976335af907b7e9d2e2d2.jpg  \n",
            " extracting: valid/images/24_jpg.rf.2e1b2f3551e8804ed9bed87b45919c8e.jpg  \n",
            " extracting: valid/images/24_jpg.rf.5dd7d9c49ab2b0b3984312c4f4d361dc.jpg  \n",
            " extracting: valid/images/25_jpg.rf.b117ee7237deb14fc0472940ef045c5f.jpg  \n",
            " extracting: valid/images/25_jpg.rf.bdf8b0239819ab792fc5037e4c5e0e19.jpg  \n",
            " extracting: valid/images/26_jpg.rf.36c79f5ccbcdba3bb779335a8c75ba06.jpg  \n",
            " extracting: valid/images/26_jpg.rf.477abe6ebca055ded05fc9e85a6f8d8f.jpg  \n",
            " extracting: valid/images/26_jpg.rf.b028424b21ace941bcc5d90b3f8d4323.jpg  \n",
            " extracting: valid/images/27_jpg.rf.2cb8b86dd948f0624962e10264c2112b.jpg  \n",
            " extracting: valid/images/28_jpg.rf.016cee09433bff9196963a521aec890b.jpg  \n",
            " extracting: valid/images/28_jpg.rf.5aafdf606858dee0fada3ade85a71551.jpg  \n",
            " extracting: valid/images/29_jpg.rf.55d58907e9ec3db693114793fbe2ebc5.jpg  \n",
            " extracting: valid/images/2_jpg.rf.8c6cefabac69a60f6b0ca19cf6e8bd1c.jpg  \n",
            " extracting: valid/images/30_jpg.rf.875ced71d48d1f8ee315e089d570494b.jpg  \n",
            " extracting: valid/images/31_jpg.rf.4cb94dcc2810579a66c4ed477d7ee3ec.jpg  \n",
            " extracting: valid/images/31_jpg.rf.c4d58a05dd8de122e5fa6087cfc846c5.jpg  \n",
            " extracting: valid/images/32_jpg.rf.06b12954173e64d0aaaa71dfda9af505.jpg  \n",
            " extracting: valid/images/34_jpg.rf.6ca05c5572428fd08bffb2b1c2cb4226.jpg  \n",
            " extracting: valid/images/35_jpg.rf.0faf6090ef52914a7cb73c1dbc6cfc4c.jpg  \n",
            " extracting: valid/images/36_jpg.rf.076852e19c2f0556e207a42a7e58dfe8.jpg  \n",
            " extracting: valid/images/36_jpg.rf.e88fe5769ba665e5114d8a5dbe2824f5.jpg  \n",
            " extracting: valid/images/38_jpg.rf.7a6043f424cc17bab0f9c47a58f1d703.jpg  \n",
            " extracting: valid/images/39_jpg.rf.9b7ff72dec76ebbca0878ff8486c0ae3.jpg  \n",
            " extracting: valid/images/3_jpg.rf.03552529f252ce57ec70bff35f9a1c59.jpg  \n",
            " extracting: valid/images/40_jpg.rf.94be64bef8f4b95a4802bec21879bb42.jpg  \n",
            " extracting: valid/images/41_jpg.rf.00febb14f480a0cda228a1fa218b4c7e.jpg  \n",
            " extracting: valid/images/42_jpg.rf.3e31eab05ecdca45feb18a16ed1888e1.jpg  \n",
            " extracting: valid/images/45_jpg.rf.7b4d7c87eff5580eca8c9a54c9f3f8c8.jpg  \n",
            " extracting: valid/images/47_jpg.rf.6765de2820ee4b2ed6bc0d676348ed29.jpg  \n",
            " extracting: valid/images/47_jpg.rf.f8463e56df3fcc664c8ea276a2ddb5bb.jpg  \n",
            " extracting: valid/images/49_jpg.rf.e933ae1bb25d84eaa16188026aaf76db.jpg  \n",
            " extracting: valid/images/4_jpg.rf.b96e9f715aede6699070f1dfa6283593.jpg  \n",
            " extracting: valid/images/4_jpg.rf.d49393789b5eea56a32195fc88fb4388.jpg  \n",
            " extracting: valid/images/51_jpg.rf.c2f681004664260e3ea59d9d79b66d9f.jpg  \n",
            " extracting: valid/images/52_jpg.rf.5422344f87a7f56247ef80c479021afd.jpg  \n",
            " extracting: valid/images/52_jpg.rf.eafb24317b49118059f7c0adad6349c4.jpg  \n",
            " extracting: valid/images/54_jpg.rf.016052165242d17a09a1beda4f38f157.jpg  \n",
            " extracting: valid/images/54_jpg.rf.59a0b8d6a966c4bda63aad0796fe03f8.jpg  \n",
            " extracting: valid/images/54_jpg.rf.b972eb53526fd59dd47e922d19027654.jpg  \n",
            " extracting: valid/images/55_jpg.rf.161abbb7e7fc24d4470bfd88b731fcf3.jpg  \n",
            " extracting: valid/images/55_jpg.rf.7708972dff5377057ef5c2007f14c091.jpg  \n",
            " extracting: valid/images/57_jpg.rf.5532c141850b88b0ae422f01056f6179.jpg  \n",
            " extracting: valid/images/58_jpg.rf.3c1aa572478e0fdc0d6540466929f3b4.jpg  \n",
            " extracting: valid/images/58_jpg.rf.42f840f2be7982e118d32ad61cc62e6a.jpg  \n",
            " extracting: valid/images/58_jpg.rf.fb1cb93835de904e5d4448548f00e923.jpg  \n",
            " extracting: valid/images/60_jpg.rf.4cf1fbf4b9ee45a84163b1af183d428b.jpg  \n",
            " extracting: valid/images/60_jpg.rf.88680e63f183f170bceb6864364fbaaa.jpg  \n",
            " extracting: valid/images/61_jpg.rf.49799e6962fc5520b1c534ef159f9668.jpg  \n",
            " extracting: valid/images/61_jpg.rf.c87532bfbe20551b6fdeed8b3b469056.jpg  \n",
            " extracting: valid/images/62_jpg.rf.d56c9e0545ed50b583e16c02345f45c9.jpg  \n",
            " extracting: valid/images/65_jpg.rf.76d108829461c070688f1904ec877063.jpg  \n",
            " extracting: valid/images/65_jpg.rf.e8b713cfc64414c474cbda796bf4b47f.jpg  \n",
            " extracting: valid/images/66_jpg.rf.08ddec9ed91c1dce3dfbd499b279745a.jpg  \n",
            " extracting: valid/images/67_jpg.rf.8db4ade3f258549788cd3eedc7654dd8.jpg  \n",
            " extracting: valid/images/68_jpg.rf.c53eb52f098ed4418af4f30d0d26c925.jpg  \n",
            " extracting: valid/images/68_jpg.rf.ea5c7126691ba37c5735e2a709e1334d.jpg  \n",
            " extracting: valid/images/68_jpg.rf.fa31fc53b287c982ccf32ece7f4af363.jpg  \n",
            " extracting: valid/images/69_jpg.rf.5359fd717e81ed80564707c7e00f830d.jpg  \n",
            " extracting: valid/images/69_jpg.rf.84990bf472ec859ff86df823d2c9de66.jpg  \n",
            " extracting: valid/images/6_jpg.rf.9bfcbad4a38c8dcdfb86f731697df05e.jpg  \n",
            " extracting: valid/images/70_jpg.rf.58593fe646c592682113ad4a0d4ba261.jpg  \n",
            " extracting: valid/images/71_jpg.rf.63124ae5acdf782b7e491bc11267a6ae.jpg  \n",
            " extracting: valid/images/73_jpg.rf.0b9b6b2ad7dd0e460a501fdbe5e6a107.jpg  \n",
            " extracting: valid/images/74_jpg.rf.c5046c71fad0b2f197e81fe93a137e7a.jpg  \n",
            " extracting: valid/images/76_jpg.rf.6799b6eb661674439cc21e55ccb88724.jpg  \n",
            " extracting: valid/images/77_jpg.rf.fae1ca46e50652a70a1953d07e8d606d.jpg  \n",
            " extracting: valid/images/79_jpg.rf.2c7e0b11f9d4909d6bd921eaf6a3c3a0.jpg  \n",
            " extracting: valid/images/80_jpg.rf.f558ba76a99c7f99fda605f352b09d5b.jpg  \n",
            " extracting: valid/images/82_jpg.rf.9960047b3ecac89307a45e20cd733227.jpg  \n",
            " extracting: valid/images/84_jpg.rf.8493504dd91832d1ecf128d4cfc48f10.jpg  \n",
            " extracting: valid/images/86_jpg.rf.dee034b5590872bf96a477ae3b67aeee.jpg  \n",
            " extracting: valid/images/88_jpg.rf.d4004b7f72523b294678870721eef071.jpg  \n",
            " extracting: valid/images/8_jpg.rf.0aa89d2dd6c5015b94c04b2869f38a97.jpg  \n",
            " extracting: valid/images/8_jpg.rf.249da1d4054a66cd2c9b5d41b4fab84f.jpg  \n",
            " extracting: valid/images/8_jpg.rf.32870539f8245b8de8682d231c377949.jpg  \n",
            " extracting: valid/images/90_jpg.rf.68be5449786281188f6b8f30d9e428d2.jpg  \n",
            " extracting: valid/images/92_jpg.rf.9ca59f99c93b6da86e70992f9b4b14b1.jpg  \n",
            " extracting: valid/images/93_jpg.rf.4fc5203b9ff55d1e6460a2ddae3ca485.jpg  \n",
            "   creating: valid/labels/\n",
            "  inflating: valid/labels/0_jpg.rf.74f87a30f078d760d9505b3c3938442d.txt  \n",
            "  inflating: valid/labels/0_jpg.rf.7c48d08c77c30aff446b43a1464c19fe.txt  \n",
            "  inflating: valid/labels/0_jpg.rf.9b75f4bdf1638b6da263eab7f13af412.txt  \n",
            "  inflating: valid/labels/0_jpg.rf.9dc142f41bbc83f5a2b78ea3ff08ef2c.txt  \n",
            "  inflating: valid/labels/0_jpg.rf.ea0c0feaaeef88eecfba704da10d84e6.txt  \n",
            "  inflating: valid/labels/10_jpg.rf.1e2d8a465ee2061803bbbe48327aadf8.txt  \n",
            "  inflating: valid/labels/10_jpg.rf.4ef73617411b1575ba393841409cbd78.txt  \n",
            "  inflating: valid/labels/11_jpg.rf.8712a1fe5a00ea966d697dab7966cac1.txt  \n",
            "  inflating: valid/labels/11_jpg.rf.8e0eedbcc6080bb4892ae03bdf35e28b.txt  \n",
            "  inflating: valid/labels/12_jpg.rf.1924e0454370b2b43897a9f36f7e491b.txt  \n",
            "  inflating: valid/labels/12_jpg.rf.3485e764f84f672b984972858c39cbee.txt  \n",
            "  inflating: valid/labels/12_jpg.rf.d3b2100bc1e5dfa5f1aadd1e37b878a3.txt  \n",
            "  inflating: valid/labels/12_jpg.rf.eea0067b46ad2cdeb571776ee94b0b6d.txt  \n",
            "  inflating: valid/labels/13_jpg.rf.92c69bf945b1583561d3a603cc1a0983.txt  \n",
            "  inflating: valid/labels/13_jpg.rf.da5d5b9cd6d3afef92bc89f022641749.txt  \n",
            "  inflating: valid/labels/14_jpg.rf.3155f2b1df52faae4133bfe8e7ea9393.txt  \n",
            "  inflating: valid/labels/14_jpg.rf.3dcabb9a145d1bbd501e341fb25d3b74.txt  \n",
            "  inflating: valid/labels/14_jpg.rf.76f4121676c8d9edad7041078d0398de.txt  \n",
            "  inflating: valid/labels/15_jpg.rf.ad6d48c4996b3d584719b45cdb9ebddc.txt  \n",
            "  inflating: valid/labels/16_jpg.rf.3d571a8d69c25a107c6a7f7067655ac7.txt  \n",
            "  inflating: valid/labels/17_jpg.rf.acdedaf1772c1778fde4eaf695e402c9.txt  \n",
            "  inflating: valid/labels/1_jpg.rf.6aa44b675e602b8988d9eac5b95057b9.txt  \n",
            "  inflating: valid/labels/20_jpg.rf.3583563ac08cff367e18e6139140b06d.txt  \n",
            "  inflating: valid/labels/20_jpg.rf.c2f09fecea42ae1e3cb220ea9fc9a252.txt  \n",
            "  inflating: valid/labels/21_jpg.rf.bdc5a76ceca24d0a8ed1ad3a619140da.txt  \n",
            "  inflating: valid/labels/23_jpg.rf.2cf7bc774d2f40387bd6f222e2ae679f.txt  \n",
            "  inflating: valid/labels/23_jpg.rf.92418a027ca976335af907b7e9d2e2d2.txt  \n",
            "  inflating: valid/labels/24_jpg.rf.2e1b2f3551e8804ed9bed87b45919c8e.txt  \n",
            "  inflating: valid/labels/24_jpg.rf.5dd7d9c49ab2b0b3984312c4f4d361dc.txt  \n",
            "  inflating: valid/labels/25_jpg.rf.b117ee7237deb14fc0472940ef045c5f.txt  \n",
            "  inflating: valid/labels/25_jpg.rf.bdf8b0239819ab792fc5037e4c5e0e19.txt  \n",
            "  inflating: valid/labels/26_jpg.rf.36c79f5ccbcdba3bb779335a8c75ba06.txt  \n",
            "  inflating: valid/labels/26_jpg.rf.477abe6ebca055ded05fc9e85a6f8d8f.txt  \n",
            "  inflating: valid/labels/26_jpg.rf.b028424b21ace941bcc5d90b3f8d4323.txt  \n",
            "  inflating: valid/labels/27_jpg.rf.2cb8b86dd948f0624962e10264c2112b.txt  \n",
            "  inflating: valid/labels/28_jpg.rf.016cee09433bff9196963a521aec890b.txt  \n",
            "  inflating: valid/labels/28_jpg.rf.5aafdf606858dee0fada3ade85a71551.txt  \n",
            "  inflating: valid/labels/29_jpg.rf.55d58907e9ec3db693114793fbe2ebc5.txt  \n",
            "  inflating: valid/labels/2_jpg.rf.8c6cefabac69a60f6b0ca19cf6e8bd1c.txt  \n",
            "  inflating: valid/labels/30_jpg.rf.875ced71d48d1f8ee315e089d570494b.txt  \n",
            "  inflating: valid/labels/31_jpg.rf.4cb94dcc2810579a66c4ed477d7ee3ec.txt  \n",
            "  inflating: valid/labels/31_jpg.rf.c4d58a05dd8de122e5fa6087cfc846c5.txt  \n",
            "  inflating: valid/labels/32_jpg.rf.06b12954173e64d0aaaa71dfda9af505.txt  \n",
            "  inflating: valid/labels/34_jpg.rf.6ca05c5572428fd08bffb2b1c2cb4226.txt  \n",
            "  inflating: valid/labels/35_jpg.rf.0faf6090ef52914a7cb73c1dbc6cfc4c.txt  \n",
            "  inflating: valid/labels/36_jpg.rf.076852e19c2f0556e207a42a7e58dfe8.txt  \n",
            "  inflating: valid/labels/36_jpg.rf.e88fe5769ba665e5114d8a5dbe2824f5.txt  \n",
            "  inflating: valid/labels/38_jpg.rf.7a6043f424cc17bab0f9c47a58f1d703.txt  \n",
            "  inflating: valid/labels/39_jpg.rf.9b7ff72dec76ebbca0878ff8486c0ae3.txt  \n",
            "  inflating: valid/labels/3_jpg.rf.03552529f252ce57ec70bff35f9a1c59.txt  \n",
            "  inflating: valid/labels/40_jpg.rf.94be64bef8f4b95a4802bec21879bb42.txt  \n",
            "  inflating: valid/labels/41_jpg.rf.00febb14f480a0cda228a1fa218b4c7e.txt  \n",
            "  inflating: valid/labels/42_jpg.rf.3e31eab05ecdca45feb18a16ed1888e1.txt  \n",
            "  inflating: valid/labels/45_jpg.rf.7b4d7c87eff5580eca8c9a54c9f3f8c8.txt  \n",
            "  inflating: valid/labels/47_jpg.rf.6765de2820ee4b2ed6bc0d676348ed29.txt  \n",
            "  inflating: valid/labels/47_jpg.rf.f8463e56df3fcc664c8ea276a2ddb5bb.txt  \n",
            "  inflating: valid/labels/49_jpg.rf.e933ae1bb25d84eaa16188026aaf76db.txt  \n",
            "  inflating: valid/labels/4_jpg.rf.b96e9f715aede6699070f1dfa6283593.txt  \n",
            "  inflating: valid/labels/4_jpg.rf.d49393789b5eea56a32195fc88fb4388.txt  \n",
            "  inflating: valid/labels/51_jpg.rf.c2f681004664260e3ea59d9d79b66d9f.txt  \n",
            "  inflating: valid/labels/52_jpg.rf.5422344f87a7f56247ef80c479021afd.txt  \n",
            "  inflating: valid/labels/52_jpg.rf.eafb24317b49118059f7c0adad6349c4.txt  \n",
            "  inflating: valid/labels/54_jpg.rf.016052165242d17a09a1beda4f38f157.txt  \n",
            "  inflating: valid/labels/54_jpg.rf.59a0b8d6a966c4bda63aad0796fe03f8.txt  \n",
            "  inflating: valid/labels/54_jpg.rf.b972eb53526fd59dd47e922d19027654.txt  \n",
            "  inflating: valid/labels/55_jpg.rf.161abbb7e7fc24d4470bfd88b731fcf3.txt  \n",
            "  inflating: valid/labels/55_jpg.rf.7708972dff5377057ef5c2007f14c091.txt  \n",
            "  inflating: valid/labels/57_jpg.rf.5532c141850b88b0ae422f01056f6179.txt  \n",
            "  inflating: valid/labels/58_jpg.rf.3c1aa572478e0fdc0d6540466929f3b4.txt  \n",
            "  inflating: valid/labels/58_jpg.rf.42f840f2be7982e118d32ad61cc62e6a.txt  \n",
            "  inflating: valid/labels/58_jpg.rf.fb1cb93835de904e5d4448548f00e923.txt  \n",
            "  inflating: valid/labels/60_jpg.rf.4cf1fbf4b9ee45a84163b1af183d428b.txt  \n",
            "  inflating: valid/labels/60_jpg.rf.88680e63f183f170bceb6864364fbaaa.txt  \n",
            "  inflating: valid/labels/61_jpg.rf.49799e6962fc5520b1c534ef159f9668.txt  \n",
            "  inflating: valid/labels/61_jpg.rf.c87532bfbe20551b6fdeed8b3b469056.txt  \n",
            "  inflating: valid/labels/62_jpg.rf.d56c9e0545ed50b583e16c02345f45c9.txt  \n",
            "  inflating: valid/labels/65_jpg.rf.76d108829461c070688f1904ec877063.txt  \n",
            "  inflating: valid/labels/65_jpg.rf.e8b713cfc64414c474cbda796bf4b47f.txt  \n",
            "  inflating: valid/labels/66_jpg.rf.08ddec9ed91c1dce3dfbd499b279745a.txt  \n",
            "  inflating: valid/labels/67_jpg.rf.8db4ade3f258549788cd3eedc7654dd8.txt  \n",
            "  inflating: valid/labels/68_jpg.rf.c53eb52f098ed4418af4f30d0d26c925.txt  \n",
            "  inflating: valid/labels/68_jpg.rf.ea5c7126691ba37c5735e2a709e1334d.txt  \n",
            "  inflating: valid/labels/68_jpg.rf.fa31fc53b287c982ccf32ece7f4af363.txt  \n",
            "  inflating: valid/labels/69_jpg.rf.5359fd717e81ed80564707c7e00f830d.txt  \n",
            "  inflating: valid/labels/69_jpg.rf.84990bf472ec859ff86df823d2c9de66.txt  \n",
            "  inflating: valid/labels/6_jpg.rf.9bfcbad4a38c8dcdfb86f731697df05e.txt  \n",
            "  inflating: valid/labels/70_jpg.rf.58593fe646c592682113ad4a0d4ba261.txt  \n",
            "  inflating: valid/labels/71_jpg.rf.63124ae5acdf782b7e491bc11267a6ae.txt  \n",
            "  inflating: valid/labels/73_jpg.rf.0b9b6b2ad7dd0e460a501fdbe5e6a107.txt  \n",
            "  inflating: valid/labels/74_jpg.rf.c5046c71fad0b2f197e81fe93a137e7a.txt  \n",
            "  inflating: valid/labels/76_jpg.rf.6799b6eb661674439cc21e55ccb88724.txt  \n",
            "  inflating: valid/labels/77_jpg.rf.fae1ca46e50652a70a1953d07e8d606d.txt  \n",
            "  inflating: valid/labels/79_jpg.rf.2c7e0b11f9d4909d6bd921eaf6a3c3a0.txt  \n",
            "  inflating: valid/labels/80_jpg.rf.f558ba76a99c7f99fda605f352b09d5b.txt  \n",
            "  inflating: valid/labels/82_jpg.rf.9960047b3ecac89307a45e20cd733227.txt  \n",
            "  inflating: valid/labels/84_jpg.rf.8493504dd91832d1ecf128d4cfc48f10.txt  \n",
            "  inflating: valid/labels/86_jpg.rf.dee034b5590872bf96a477ae3b67aeee.txt  \n",
            "  inflating: valid/labels/88_jpg.rf.d4004b7f72523b294678870721eef071.txt  \n",
            "  inflating: valid/labels/8_jpg.rf.0aa89d2dd6c5015b94c04b2869f38a97.txt  \n",
            "  inflating: valid/labels/8_jpg.rf.249da1d4054a66cd2c9b5d41b4fab84f.txt  \n",
            "  inflating: valid/labels/8_jpg.rf.32870539f8245b8de8682d231c377949.txt  \n",
            "  inflating: valid/labels/90_jpg.rf.68be5449786281188f6b8f30d9e428d2.txt  \n",
            "  inflating: valid/labels/92_jpg.rf.9ca59f99c93b6da86e70992f9b4b14b1.txt  \n",
            "  inflating: valid/labels/93_jpg.rf.4fc5203b9ff55d1e6460a2ddae3ca485.txt  \n"
          ]
        }
      ],
      "source": [
        "!curl -L \"https://app.roboflow.com/ds/5vRR2nsHd5?key=MYAPIKEY\" > roboflow.zip; unzip roboflow.zip; rm roboflow.zip"
      ]
    },
    {
      "cell_type": "markdown",
      "metadata": {
        "id": "_r78jD2ajD5g"
      },
      "source": [
        "# **Tìm kiếm khoảng learning rate**\n"
      ]
    },
    {
      "cell_type": "code",
      "execution_count": null,
      "metadata": {
        "colab": {
          "base_uri": "https://localhost:8080/"
        },
        "id": "kdl_CVz9kA3a",
        "outputId": "55271e49-db2a-49c9-c56b-895d1287cf2d",
        "collapsed": true
      },
      "outputs": [
        {
          "name": "stdout",
          "output_type": "stream",
          "text": [
            "\n",
            "🔹 Đang thử nghiệm với Learning Rate: 0.01\n",
            "Ultralytics 8.3.94 🚀 Python-3.11.11 torch-2.6.0+cu124 CUDA:0 (Tesla T4, 15095MiB)\n",
            "\u001b[34m\u001b[1mengine/trainer: \u001b[0mtask=detect, mode=train, model=yolov8m.pt, data=/content/Rice_Seed_Data/data.yaml, epochs=10, time=None, patience=100, batch=16, imgsz=512, save=True, save_period=-1, cache=False, device=0, workers=8, project=None, name=train2, exist_ok=False, pretrained=True, optimizer=Adam, verbose=True, seed=0, deterministic=True, single_cls=False, rect=False, cos_lr=False, close_mosaic=10, resume=False, amp=True, fraction=1.0, profile=False, freeze=None, multi_scale=False, overlap_mask=True, mask_ratio=4, dropout=0.0, val=True, split=val, save_json=False, save_hybrid=False, conf=None, iou=0.7, max_det=300, half=False, dnn=False, plots=True, source=None, vid_stride=1, stream_buffer=False, visualize=False, augment=False, agnostic_nms=False, classes=None, retina_masks=False, embed=None, show=False, save_frames=False, save_txt=False, save_conf=False, save_crop=False, show_labels=True, show_conf=True, show_boxes=True, line_width=None, format=torchscript, keras=False, optimize=False, int8=False, dynamic=False, simplify=True, opset=None, workspace=None, nms=False, lr0=0.01, lrf=0.01, momentum=0.937, weight_decay=0.0005, warmup_epochs=3.0, warmup_momentum=0.8, warmup_bias_lr=0.1, box=7.5, cls=0.5, dfl=1.5, pose=12.0, kobj=1.0, nbs=64, hsv_h=0.015, hsv_s=0.7, hsv_v=0.4, degrees=0.0, translate=0.1, scale=0.5, shear=0.0, perspective=0.0, flipud=0.0, fliplr=0.5, bgr=0.0, mosaic=1.0, mixup=0.0, copy_paste=0.0, copy_paste_mode=flip, auto_augment=randaugment, erasing=0.4, crop_fraction=1.0, cfg=None, tracker=botsort.yaml, save_dir=runs/detect/train2\n",
            "Downloading https://ultralytics.com/assets/Arial.ttf to '/root/.config/Ultralytics/Arial.ttf'...\n"
          ]
        },
        {
          "name": "stderr",
          "output_type": "stream",
          "text": [
            "100%|██████████| 755k/755k [00:00<00:00, 14.6MB/s]\n"
          ]
        },
        {
          "name": "stdout",
          "output_type": "stream",
          "text": [
            "Overriding model.yaml nc=80 with nc=1\n",
            "\n",
            "                   from  n    params  module                                       arguments                     \n",
            "  0                  -1  1      1392  ultralytics.nn.modules.conv.Conv             [3, 48, 3, 2]                 \n",
            "  1                  -1  1     41664  ultralytics.nn.modules.conv.Conv             [48, 96, 3, 2]                \n",
            "  2                  -1  2    111360  ultralytics.nn.modules.block.C2f             [96, 96, 2, True]             \n",
            "  3                  -1  1    166272  ultralytics.nn.modules.conv.Conv             [96, 192, 3, 2]               \n",
            "  4                  -1  4    813312  ultralytics.nn.modules.block.C2f             [192, 192, 4, True]           \n",
            "  5                  -1  1    664320  ultralytics.nn.modules.conv.Conv             [192, 384, 3, 2]              \n",
            "  6                  -1  4   3248640  ultralytics.nn.modules.block.C2f             [384, 384, 4, True]           \n",
            "  7                  -1  1   1991808  ultralytics.nn.modules.conv.Conv             [384, 576, 3, 2]              \n",
            "  8                  -1  2   3985920  ultralytics.nn.modules.block.C2f             [576, 576, 2, True]           \n",
            "  9                  -1  1    831168  ultralytics.nn.modules.block.SPPF            [576, 576, 5]                 \n",
            " 10                  -1  1         0  torch.nn.modules.upsampling.Upsample         [None, 2, 'nearest']          \n",
            " 11             [-1, 6]  1         0  ultralytics.nn.modules.conv.Concat           [1]                           \n",
            " 12                  -1  2   1993728  ultralytics.nn.modules.block.C2f             [960, 384, 2]                 \n",
            " 13                  -1  1         0  torch.nn.modules.upsampling.Upsample         [None, 2, 'nearest']          \n",
            " 14             [-1, 4]  1         0  ultralytics.nn.modules.conv.Concat           [1]                           \n",
            " 15                  -1  2    517632  ultralytics.nn.modules.block.C2f             [576, 192, 2]                 \n",
            " 16                  -1  1    332160  ultralytics.nn.modules.conv.Conv             [192, 192, 3, 2]              \n",
            " 17            [-1, 12]  1         0  ultralytics.nn.modules.conv.Concat           [1]                           \n",
            " 18                  -1  2   1846272  ultralytics.nn.modules.block.C2f             [576, 384, 2]                 \n",
            " 19                  -1  1   1327872  ultralytics.nn.modules.conv.Conv             [384, 384, 3, 2]              \n",
            " 20             [-1, 9]  1         0  ultralytics.nn.modules.conv.Concat           [1]                           \n",
            " 21                  -1  2   4207104  ultralytics.nn.modules.block.C2f             [960, 576, 2]                 \n",
            " 22        [15, 18, 21]  1   3776275  ultralytics.nn.modules.head.Detect           [1, [192, 384, 576]]          \n",
            "Model summary: 169 layers, 25,856,899 parameters, 25,856,883 gradients, 79.1 GFLOPs\n",
            "\n",
            "Transferred 469/475 items from pretrained weights\n",
            "\u001b[34m\u001b[1mTensorBoard: \u001b[0mStart with 'tensorboard --logdir runs/detect/train2', view at http://localhost:6006/\n",
            "Freezing layer 'model.22.dfl.conv.weight'\n",
            "\u001b[34m\u001b[1mAMP: \u001b[0mrunning Automatic Mixed Precision (AMP) checks...\n",
            "Downloading https://github.com/ultralytics/assets/releases/download/v8.3.0/yolo11n.pt to 'yolo11n.pt'...\n"
          ]
        },
        {
          "name": "stderr",
          "output_type": "stream",
          "text": [
            "100%|██████████| 5.35M/5.35M [00:00<00:00, 66.4MB/s]\n"
          ]
        },
        {
          "name": "stdout",
          "output_type": "stream",
          "text": [
            "\u001b[34m\u001b[1mAMP: \u001b[0mchecks passed ✅\n"
          ]
        },
        {
          "name": "stderr",
          "output_type": "stream",
          "text": [
            "\u001b[34m\u001b[1mtrain: \u001b[0mScanning /content/Rice_Seed_Data/train/labels... 888 images, 0 backgrounds, 0 corrupt: 100%|██████████| 888/888 [00:00<00:00, 2273.27it/s]"
          ]
        },
        {
          "name": "stdout",
          "output_type": "stream",
          "text": [
            "\u001b[34m\u001b[1mtrain: \u001b[0mWARNING ⚠️ /content/Rice_Seed_Data/train/images/_10_jpg.rf.774c74ca43a26af392b315dbf0e65261.jpg: 1 duplicate labels removed\n",
            "\u001b[34m\u001b[1mtrain: \u001b[0mWARNING ⚠️ /content/Rice_Seed_Data/train/images/_10_jpg.rf.9011ac83f0d167684f43cc25e60c6c6a.jpg: 1 duplicate labels removed\n",
            "\u001b[34m\u001b[1mtrain: \u001b[0mWARNING ⚠️ /content/Rice_Seed_Data/train/images/_10_jpg.rf.d5882f8719837ddaa8161e1b0c7093cf.jpg: 1 duplicate labels removed\n",
            "\u001b[34m\u001b[1mtrain: \u001b[0mWARNING ⚠️ /content/Rice_Seed_Data/train/images/_124_jpg.rf.abdbcef5a345645571c29d2e6df4ed83.jpg: 1 duplicate labels removed\n",
            "\u001b[34m\u001b[1mtrain: \u001b[0mWARNING ⚠️ /content/Rice_Seed_Data/train/images/_169_jpg.rf.41c3d88bc8e98a741cfc6c1b4c1951fe.jpg: 1 duplicate labels removed\n",
            "\u001b[34m\u001b[1mtrain: \u001b[0mWARNING ⚠️ /content/Rice_Seed_Data/train/images/_169_jpg.rf.8bb029427cff36aaef32579a81f3e0b0.jpg: 1 duplicate labels removed\n",
            "\u001b[34m\u001b[1mtrain: \u001b[0mWARNING ⚠️ /content/Rice_Seed_Data/train/images/_169_jpg.rf.9ce19c501059d839a5bbdf377eed9d38.jpg: 1 duplicate labels removed\n",
            "\u001b[34m\u001b[1mtrain: \u001b[0mWARNING ⚠️ /content/Rice_Seed_Data/train/images/_206_jpg.rf.2647b8c31704e8877f290a64ba0b98b4.jpg: 1 duplicate labels removed\n",
            "\u001b[34m\u001b[1mtrain: \u001b[0mWARNING ⚠️ /content/Rice_Seed_Data/train/images/_206_jpg.rf.5d338d3c381b63266932a20536ede544.jpg: 1 duplicate labels removed\n",
            "\u001b[34m\u001b[1mtrain: \u001b[0mWARNING ⚠️ /content/Rice_Seed_Data/train/images/_206_jpg.rf.8589efc6a0f2da25c680dd9565a0133f.jpg: 1 duplicate labels removed\n",
            "\u001b[34m\u001b[1mtrain: \u001b[0mWARNING ⚠️ /content/Rice_Seed_Data/train/images/_208_jpg.rf.5f4fca6381c48fb0eda4eb86fdcbc4e5.jpg: 1 duplicate labels removed\n",
            "\u001b[34m\u001b[1mtrain: \u001b[0mWARNING ⚠️ /content/Rice_Seed_Data/train/images/_208_jpg.rf.a9469460ccf8aa29e79d017746728269.jpg: 1 duplicate labels removed\n",
            "\u001b[34m\u001b[1mtrain: \u001b[0mWARNING ⚠️ /content/Rice_Seed_Data/train/images/_211_jpg.rf.430ac1b269a2ecd95697052c618c0919.jpg: 1 duplicate labels removed\n",
            "\u001b[34m\u001b[1mtrain: \u001b[0mWARNING ⚠️ /content/Rice_Seed_Data/train/images/_211_jpg.rf.44bed3628bf8fef1fdecb51b7a9124fe.jpg: 1 duplicate labels removed\n",
            "\u001b[34m\u001b[1mtrain: \u001b[0mWARNING ⚠️ /content/Rice_Seed_Data/train/images/_211_jpg.rf.ced6ea60cf12c226a283669e4e4becba.jpg: 1 duplicate labels removed\n",
            "\u001b[34m\u001b[1mtrain: \u001b[0mWARNING ⚠️ /content/Rice_Seed_Data/train/images/_261_jpg.rf.2df4538573105e17e9a53828746604ad.jpg: 1 duplicate labels removed\n",
            "\u001b[34m\u001b[1mtrain: \u001b[0mWARNING ⚠️ /content/Rice_Seed_Data/train/images/_261_jpg.rf.b7e99d5507723866be324eaeb3c9b102.jpg: 1 duplicate labels removed\n",
            "\u001b[34m\u001b[1mtrain: \u001b[0mWARNING ⚠️ /content/Rice_Seed_Data/train/images/_261_jpg.rf.d2399546616fe00c5205089d84c46cf3.jpg: 1 duplicate labels removed\n",
            "\u001b[34m\u001b[1mtrain: \u001b[0mWARNING ⚠️ /content/Rice_Seed_Data/train/images/_371_jpg.rf.276e7df5008b3c3a1698df62354e5f08.jpg: 1 duplicate labels removed\n",
            "\u001b[34m\u001b[1mtrain: \u001b[0mWARNING ⚠️ /content/Rice_Seed_Data/train/images/_42_jpg.rf.0ff315744ac5733ade7cbf2fef4feace.jpg: 1 duplicate labels removed\n",
            "\u001b[34m\u001b[1mtrain: \u001b[0mWARNING ⚠️ /content/Rice_Seed_Data/train/images/_42_jpg.rf.8bbcb0eebe2cd8bd3742e83af576de3d.jpg: 1 duplicate labels removed\n",
            "\u001b[34m\u001b[1mtrain: \u001b[0mWARNING ⚠️ /content/Rice_Seed_Data/train/images/_42_jpg.rf.c9f75c72b064f8d1c508484352545d62.jpg: 1 duplicate labels removed\n",
            "\u001b[34m\u001b[1mtrain: \u001b[0mWARNING ⚠️ /content/Rice_Seed_Data/train/images/_451_jpg.rf.3b22fcdfcd962116c0e62df7a958f3b6.jpg: 1 duplicate labels removed\n",
            "\u001b[34m\u001b[1mtrain: \u001b[0mWARNING ⚠️ /content/Rice_Seed_Data/train/images/_451_jpg.rf.cf61acb597cb8baf245f77e0fc28e667.jpg: 1 duplicate labels removed\n",
            "\u001b[34m\u001b[1mtrain: \u001b[0mWARNING ⚠️ /content/Rice_Seed_Data/train/images/_451_jpg.rf.efe424bae0416ea71c7864b9d1f14292.jpg: 1 duplicate labels removed\n",
            "\u001b[34m\u001b[1mtrain: \u001b[0mWARNING ⚠️ /content/Rice_Seed_Data/train/images/_471_jpg.rf.2fb084f3e423afdc94576e23ec97cc72.jpg: 1 duplicate labels removed\n",
            "\u001b[34m\u001b[1mtrain: \u001b[0mWARNING ⚠️ /content/Rice_Seed_Data/train/images/_471_jpg.rf.bb721ddd78dd78205a6505340c9f8792.jpg: 1 duplicate labels removed\n",
            "\u001b[34m\u001b[1mtrain: \u001b[0mWARNING ⚠️ /content/Rice_Seed_Data/train/images/_471_jpg.rf.fee64502d42ba918304376f2e1f1b947.jpg: 1 duplicate labels removed\n",
            "\u001b[34m\u001b[1mtrain: \u001b[0mWARNING ⚠️ /content/Rice_Seed_Data/train/images/_47_jpg.rf.42ef0d70280117d9f58e42e33ba018e2.jpg: 1 duplicate labels removed\n",
            "\u001b[34m\u001b[1mtrain: \u001b[0mWARNING ⚠️ /content/Rice_Seed_Data/train/images/_47_jpg.rf.47662a93f0704bed4154fce8af79bcf3.jpg: 1 duplicate labels removed\n",
            "\u001b[34m\u001b[1mtrain: \u001b[0mWARNING ⚠️ /content/Rice_Seed_Data/train/images/_47_jpg.rf.f47742fd625727faf7fa5d1086a73b07.jpg: 2 duplicate labels removed\n",
            "\u001b[34m\u001b[1mtrain: \u001b[0mWARNING ⚠️ /content/Rice_Seed_Data/train/images/_493_jpg.rf.f4f401791e0cbc4565dac499e80ed6b0.jpg: 1 duplicate labels removed\n",
            "\u001b[34m\u001b[1mtrain: \u001b[0mWARNING ⚠️ /content/Rice_Seed_Data/train/images/_502_jpg.rf.9d9719714683cbc1a6acaa8f2e42ab04.jpg: 1 duplicate labels removed\n",
            "\u001b[34m\u001b[1mtrain: \u001b[0mWARNING ⚠️ /content/Rice_Seed_Data/train/images/_502_jpg.rf.ab94018b23760053ddd59927e884f7a0.jpg: 1 duplicate labels removed\n",
            "\u001b[34m\u001b[1mtrain: \u001b[0mWARNING ⚠️ /content/Rice_Seed_Data/train/images/_60_jpg.rf.018d378428cf60069fd382cf56aa5f7f.jpg: 1 duplicate labels removed\n",
            "\u001b[34m\u001b[1mtrain: \u001b[0mWARNING ⚠️ /content/Rice_Seed_Data/train/images/_60_jpg.rf.ce2adf29596eea535c4c16244f5d4a82.jpg: 1 duplicate labels removed\n",
            "\u001b[34m\u001b[1mtrain: \u001b[0mWARNING ⚠️ /content/Rice_Seed_Data/train/images/_60_jpg.rf.f7c9b8a6b9fcfc0fdda3ec30a4a13f1a.jpg: 1 duplicate labels removed\n",
            "\u001b[34m\u001b[1mtrain: \u001b[0mWARNING ⚠️ /content/Rice_Seed_Data/train/images/_64_jpg.rf.7fd31a6f1cb8814772abba861c479c6b.jpg: 1 duplicate labels removed\n",
            "\u001b[34m\u001b[1mtrain: \u001b[0mWARNING ⚠️ /content/Rice_Seed_Data/train/images/_81_jpg.rf.10592a720ae236ed919d5b66a95c520e.jpg: 1 duplicate labels removed\n",
            "\u001b[34m\u001b[1mtrain: \u001b[0mWARNING ⚠️ /content/Rice_Seed_Data/train/images/_81_jpg.rf.b05d26acd29fe1b3e46d95759ea231e8.jpg: 1 duplicate labels removed\n",
            "\u001b[34m\u001b[1mtrain: \u001b[0mWARNING ⚠️ /content/Rice_Seed_Data/train/images/_81_jpg.rf.d06bb81e98de42c31aed18098007c3ad.jpg: 1 duplicate labels removed\n",
            "\u001b[34m\u001b[1mtrain: \u001b[0mWARNING ⚠️ /content/Rice_Seed_Data/train/images/_88_jpg.rf.49c89dd7002fb3630cc4e92a6fddff2e.jpg: 1 duplicate labels removed\n",
            "\u001b[34m\u001b[1mtrain: \u001b[0mWARNING ⚠️ /content/Rice_Seed_Data/train/images/_88_jpg.rf.6b90553912158e671201388b6da7068f.jpg: 1 duplicate labels removed\n",
            "\u001b[34m\u001b[1mtrain: \u001b[0mWARNING ⚠️ /content/Rice_Seed_Data/train/images/_88_jpg.rf.dcd1381648d43676fb63a6b8506ebbe8.jpg: 1 duplicate labels removed\n",
            "\u001b[34m\u001b[1mtrain: \u001b[0mWARNING ⚠️ /content/Rice_Seed_Data/train/images/_9_jpg.rf.395d0d3b7523e403380b9878067f92e2.jpg: 1 duplicate labels removed\n",
            "\u001b[34m\u001b[1mtrain: \u001b[0mWARNING ⚠️ /content/Rice_Seed_Data/train/images/_9_jpg.rf.3a023c2438fd5818ab669d5a5bf44af3.jpg: 1 duplicate labels removed\n",
            "\u001b[34m\u001b[1mtrain: \u001b[0mWARNING ⚠️ /content/Rice_Seed_Data/train/images/_9_jpg.rf.8271cedb6d82d715bbf3e4f4bbd580e3.jpg: 1 duplicate labels removed\n"
          ]
        },
        {
          "name": "stderr",
          "output_type": "stream",
          "text": [
            "\n"
          ]
        },
        {
          "name": "stdout",
          "output_type": "stream",
          "text": [
            "\u001b[34m\u001b[1mtrain: \u001b[0mNew cache created: /content/Rice_Seed_Data/train/labels.cache\n",
            "\u001b[34m\u001b[1malbumentations: \u001b[0mBlur(p=0.01, blur_limit=(3, 7)), MedianBlur(p=0.01, blur_limit=(3, 7)), ToGray(p=0.01, num_output_channels=3, method='weighted_average'), CLAHE(p=0.01, clip_limit=(1.0, 4.0), tile_grid_size=(8, 8))\n"
          ]
        },
        {
          "name": "stderr",
          "output_type": "stream",
          "text": [
            "\u001b[34m\u001b[1mval: \u001b[0mScanning /content/Rice_Seed_Data/valid/labels... 99 images, 0 backgrounds, 0 corrupt: 100%|██████████| 99/99 [00:00<00:00, 1568.01it/s]"
          ]
        },
        {
          "name": "stdout",
          "output_type": "stream",
          "text": [
            "\u001b[34m\u001b[1mval: \u001b[0mWARNING ⚠️ /content/Rice_Seed_Data/valid/images/_117_jpg.rf.d32c31dd2840e11822463c01a718ad8d.jpg: 1 duplicate labels removed\n",
            "\u001b[34m\u001b[1mval: \u001b[0mWARNING ⚠️ /content/Rice_Seed_Data/valid/images/_127_jpg.rf.7f9464fd8f40d7c8d6c80e6bea60e465.jpg: 1 duplicate labels removed\n",
            "\u001b[34m\u001b[1mval: \u001b[0mWARNING ⚠️ /content/Rice_Seed_Data/valid/images/_129_jpg.rf.ddbcb58947af17762ce8d20e1672af70.jpg: 1 duplicate labels removed\n",
            "\u001b[34m\u001b[1mval: \u001b[0mWARNING ⚠️ /content/Rice_Seed_Data/valid/images/_225_jpg.rf.662e612411b3900c0e731c52c7267866.jpg: 1 duplicate labels removed\n",
            "\u001b[34m\u001b[1mval: \u001b[0mWARNING ⚠️ /content/Rice_Seed_Data/valid/images/_343_jpg.rf.e54f5d8cfed063b6c2122277ab8bab7b.jpg: 1 duplicate labels removed\n",
            "\u001b[34m\u001b[1mval: \u001b[0mWARNING ⚠️ /content/Rice_Seed_Data/valid/images/_56_jpg.rf.b9094b78810e03b483c5f747e17e956e.jpg: 1 duplicate labels removed\n",
            "\u001b[34m\u001b[1mval: \u001b[0mNew cache created: /content/Rice_Seed_Data/valid/labels.cache\n"
          ]
        },
        {
          "name": "stderr",
          "output_type": "stream",
          "text": [
            "\n"
          ]
        },
        {
          "name": "stdout",
          "output_type": "stream",
          "text": [
            "Plotting labels to runs/detect/train2/labels.jpg... \n",
            "\u001b[34m\u001b[1moptimizer:\u001b[0m Adam(lr=0.01, momentum=0.937) with parameter groups 77 weight(decay=0.0), 84 weight(decay=0.0005), 83 bias(decay=0.0)\n",
            "\u001b[34m\u001b[1mTensorBoard: \u001b[0mmodel graph visualization added ✅\n",
            "Image sizes 512 train, 512 val\n",
            "Using 2 dataloader workers\n",
            "Logging results to \u001b[1mruns/detect/train2\u001b[0m\n",
            "Starting training for 10 epochs...\n",
            "Closing dataloader mosaic\n",
            "\u001b[34m\u001b[1malbumentations: \u001b[0mBlur(p=0.01, blur_limit=(3, 7)), MedianBlur(p=0.01, blur_limit=(3, 7)), ToGray(p=0.01, num_output_channels=3, method='weighted_average'), CLAHE(p=0.01, clip_limit=(1.0, 4.0), tile_grid_size=(8, 8))\n",
            "\n",
            "      Epoch    GPU_mem   box_loss   cls_loss   dfl_loss  Instances       Size\n"
          ]
        },
        {
          "name": "stderr",
          "output_type": "stream",
          "text": [
            "       1/10      4.41G       1.51      1.593      1.306         73        512: 100%|██████████| 56/56 [00:21<00:00,  2.60it/s]\n",
            "                 Class     Images  Instances      Box(P          R      mAP50  mAP50-95): 100%|██████████| 4/4 [00:01<00:00,  3.17it/s]"
          ]
        },
        {
          "name": "stdout",
          "output_type": "stream",
          "text": [
            "                   all         99       1160          0          0          0          0\n"
          ]
        },
        {
          "name": "stderr",
          "output_type": "stream",
          "text": [
            "\n"
          ]
        },
        {
          "name": "stdout",
          "output_type": "stream",
          "text": [
            "\n",
            "      Epoch    GPU_mem   box_loss   cls_loss   dfl_loss  Instances       Size\n"
          ]
        },
        {
          "name": "stderr",
          "output_type": "stream",
          "text": [
            "       2/10      5.21G      1.447     0.9054      1.304        109        512: 100%|██████████| 56/56 [00:18<00:00,  2.98it/s]\n",
            "                 Class     Images  Instances      Box(P          R      mAP50  mAP50-95): 100%|██████████| 4/4 [00:01<00:00,  2.08it/s]"
          ]
        },
        {
          "name": "stdout",
          "output_type": "stream",
          "text": [
            "                   all         99       1160     0.0516       0.14     0.0343     0.0119\n"
          ]
        },
        {
          "name": "stderr",
          "output_type": "stream",
          "text": [
            "\n"
          ]
        },
        {
          "name": "stdout",
          "output_type": "stream",
          "text": [
            "\n",
            "      Epoch    GPU_mem   box_loss   cls_loss   dfl_loss  Instances       Size\n"
          ]
        },
        {
          "name": "stderr",
          "output_type": "stream",
          "text": [
            "       3/10      5.29G      1.406     0.8437      1.278         85        512: 100%|██████████| 56/56 [00:19<00:00,  2.94it/s]\n",
            "                 Class     Images  Instances      Box(P          R      mAP50  mAP50-95): 100%|██████████| 4/4 [00:01<00:00,  2.64it/s]"
          ]
        },
        {
          "name": "stdout",
          "output_type": "stream",
          "text": [
            "                   all         99       1160     0.0765      0.224     0.0461     0.0199\n"
          ]
        },
        {
          "name": "stderr",
          "output_type": "stream",
          "text": [
            "\n"
          ]
        },
        {
          "name": "stdout",
          "output_type": "stream",
          "text": [
            "\n",
            "      Epoch    GPU_mem   box_loss   cls_loss   dfl_loss  Instances       Size\n"
          ]
        },
        {
          "name": "stderr",
          "output_type": "stream",
          "text": [
            "       4/10      5.36G       1.37     0.7762      1.265         75        512: 100%|██████████| 56/56 [00:18<00:00,  2.96it/s]\n",
            "                 Class     Images  Instances      Box(P          R      mAP50  mAP50-95): 100%|██████████| 4/4 [00:01<00:00,  3.81it/s]"
          ]
        },
        {
          "name": "stdout",
          "output_type": "stream",
          "text": [
            "                   all         99       1160      0.888      0.937      0.954      0.609\n"
          ]
        },
        {
          "name": "stderr",
          "output_type": "stream",
          "text": [
            "\n"
          ]
        },
        {
          "name": "stdout",
          "output_type": "stream",
          "text": [
            "\n",
            "      Epoch    GPU_mem   box_loss   cls_loss   dfl_loss  Instances       Size\n"
          ]
        },
        {
          "name": "stderr",
          "output_type": "stream",
          "text": [
            "       5/10      5.42G      1.296     0.7391      1.243        110        512: 100%|██████████| 56/56 [00:19<00:00,  2.88it/s]\n",
            "                 Class     Images  Instances      Box(P          R      mAP50  mAP50-95): 100%|██████████| 4/4 [00:01<00:00,  3.84it/s]"
          ]
        },
        {
          "name": "stdout",
          "output_type": "stream",
          "text": [
            "                   all         99       1160      0.842      0.934      0.941      0.799\n"
          ]
        },
        {
          "name": "stderr",
          "output_type": "stream",
          "text": [
            "\n"
          ]
        },
        {
          "name": "stdout",
          "output_type": "stream",
          "text": [
            "\n",
            "      Epoch    GPU_mem   box_loss   cls_loss   dfl_loss  Instances       Size\n"
          ]
        },
        {
          "name": "stderr",
          "output_type": "stream",
          "text": [
            "       6/10      5.49G       1.23      0.689       1.22         74        512: 100%|██████████| 56/56 [00:18<00:00,  2.96it/s]\n",
            "                 Class     Images  Instances      Box(P          R      mAP50  mAP50-95): 100%|██████████| 4/4 [00:01<00:00,  3.82it/s]"
          ]
        },
        {
          "name": "stdout",
          "output_type": "stream",
          "text": [
            "                   all         99       1160      0.884      0.932      0.947       0.79\n"
          ]
        },
        {
          "name": "stderr",
          "output_type": "stream",
          "text": [
            "\n"
          ]
        },
        {
          "name": "stdout",
          "output_type": "stream",
          "text": [
            "\n",
            "      Epoch    GPU_mem   box_loss   cls_loss   dfl_loss  Instances       Size\n"
          ]
        },
        {
          "name": "stderr",
          "output_type": "stream",
          "text": [
            "       7/10      5.56G      1.232     0.6781      1.229         61        512: 100%|██████████| 56/56 [00:19<00:00,  2.90it/s]\n",
            "                 Class     Images  Instances      Box(P          R      mAP50  mAP50-95): 100%|██████████| 4/4 [00:01<00:00,  3.07it/s]"
          ]
        },
        {
          "name": "stdout",
          "output_type": "stream",
          "text": [
            "                   all         99       1160      0.866      0.982      0.943      0.791\n"
          ]
        },
        {
          "name": "stderr",
          "output_type": "stream",
          "text": [
            "\n"
          ]
        },
        {
          "name": "stdout",
          "output_type": "stream",
          "text": [
            "\n",
            "      Epoch    GPU_mem   box_loss   cls_loss   dfl_loss  Instances       Size\n"
          ]
        },
        {
          "name": "stderr",
          "output_type": "stream",
          "text": [
            "       8/10      5.94G      1.192     0.6469      1.218         98        512: 100%|██████████| 56/56 [00:18<00:00,  2.98it/s]\n",
            "                 Class     Images  Instances      Box(P          R      mAP50  mAP50-95): 100%|██████████| 4/4 [00:01<00:00,  3.85it/s]"
          ]
        },
        {
          "name": "stdout",
          "output_type": "stream",
          "text": [
            "                   all         99       1160      0.878      0.974      0.966      0.834\n"
          ]
        },
        {
          "name": "stderr",
          "output_type": "stream",
          "text": [
            "\n"
          ]
        },
        {
          "name": "stdout",
          "output_type": "stream",
          "text": [
            "\n",
            "      Epoch    GPU_mem   box_loss   cls_loss   dfl_loss  Instances       Size\n"
          ]
        },
        {
          "name": "stderr",
          "output_type": "stream",
          "text": [
            "       9/10      6.01G      1.173     0.6215      1.207        107        512: 100%|██████████| 56/56 [00:19<00:00,  2.93it/s]\n",
            "                 Class     Images  Instances      Box(P          R      mAP50  mAP50-95): 100%|██████████| 4/4 [00:01<00:00,  3.85it/s]"
          ]
        },
        {
          "name": "stdout",
          "output_type": "stream",
          "text": [
            "                   all         99       1160      0.892       0.97      0.973      0.874\n"
          ]
        },
        {
          "name": "stderr",
          "output_type": "stream",
          "text": [
            "\n"
          ]
        },
        {
          "name": "stdout",
          "output_type": "stream",
          "text": [
            "\n",
            "      Epoch    GPU_mem   box_loss   cls_loss   dfl_loss  Instances       Size\n"
          ]
        },
        {
          "name": "stderr",
          "output_type": "stream",
          "text": [
            "      10/10      6.07G      1.138     0.6042      1.204         82        512: 100%|██████████| 56/56 [00:18<00:00,  2.97it/s]\n",
            "                 Class     Images  Instances      Box(P          R      mAP50  mAP50-95): 100%|██████████| 4/4 [00:01<00:00,  3.40it/s]"
          ]
        },
        {
          "name": "stdout",
          "output_type": "stream",
          "text": [
            "                   all         99       1160      0.913      0.981      0.975      0.866\n"
          ]
        },
        {
          "name": "stderr",
          "output_type": "stream",
          "text": [
            "\n"
          ]
        },
        {
          "name": "stdout",
          "output_type": "stream",
          "text": [
            "\n",
            "10 epochs completed in 0.062 hours.\n",
            "Optimizer stripped from runs/detect/train2/weights/last.pt, 52.0MB\n",
            "Optimizer stripped from runs/detect/train2/weights/best.pt, 52.0MB\n",
            "\n",
            "Validating runs/detect/train2/weights/best.pt...\n",
            "Ultralytics 8.3.94 🚀 Python-3.11.11 torch-2.6.0+cu124 CUDA:0 (Tesla T4, 15095MiB)\n",
            "Model summary (fused): 92 layers, 25,840,339 parameters, 0 gradients, 78.7 GFLOPs\n"
          ]
        },
        {
          "name": "stderr",
          "output_type": "stream",
          "text": [
            "                 Class     Images  Instances      Box(P          R      mAP50  mAP50-95): 100%|██████████| 4/4 [00:02<00:00,  1.53it/s]\n"
          ]
        },
        {
          "name": "stdout",
          "output_type": "stream",
          "text": [
            "                   all         99       1160      0.892      0.972      0.973      0.873\n",
            "Speed: 0.3ms preprocess, 8.0ms inference, 0.0ms loss, 2.9ms postprocess per image\n",
            "Results saved to \u001b[1mruns/detect/train2\u001b[0m\n",
            "\n",
            "🔹 Đang thử nghiệm với Learning Rate: 0.008\n",
            "Ultralytics 8.3.94 🚀 Python-3.11.11 torch-2.6.0+cu124 CUDA:0 (Tesla T4, 15095MiB)\n",
            "\u001b[34m\u001b[1mengine/trainer: \u001b[0mtask=detect, mode=train, model=yolov8m.pt, data=/content/Rice_Seed_Data/data.yaml, epochs=10, time=None, patience=100, batch=16, imgsz=512, save=True, save_period=-1, cache=False, device=0, workers=8, project=None, name=train22, exist_ok=False, pretrained=True, optimizer=Adam, verbose=True, seed=0, deterministic=True, single_cls=False, rect=False, cos_lr=False, close_mosaic=10, resume=False, amp=True, fraction=1.0, profile=False, freeze=None, multi_scale=False, overlap_mask=True, mask_ratio=4, dropout=0.0, val=True, split=val, save_json=False, save_hybrid=False, conf=None, iou=0.7, max_det=300, half=False, dnn=False, plots=True, source=None, vid_stride=1, stream_buffer=False, visualize=False, augment=False, agnostic_nms=False, classes=None, retina_masks=False, embed=None, show=False, save_frames=False, save_txt=False, save_conf=False, save_crop=False, show_labels=True, show_conf=True, show_boxes=True, line_width=None, format=torchscript, keras=False, optimize=False, int8=False, dynamic=False, simplify=True, opset=None, workspace=None, nms=False, lr0=0.008, lrf=0.01, momentum=0.937, weight_decay=0.0005, warmup_epochs=3.0, warmup_momentum=0.8, warmup_bias_lr=0.1, box=7.5, cls=0.5, dfl=1.5, pose=12.0, kobj=1.0, nbs=64, hsv_h=0.015, hsv_s=0.7, hsv_v=0.4, degrees=0.0, translate=0.1, scale=0.5, shear=0.0, perspective=0.0, flipud=0.0, fliplr=0.5, bgr=0.0, mosaic=1.0, mixup=0.0, copy_paste=0.0, copy_paste_mode=flip, auto_augment=randaugment, erasing=0.4, crop_fraction=1.0, cfg=None, tracker=botsort.yaml, save_dir=runs/detect/train22\n",
            "\n",
            "                   from  n    params  module                                       arguments                     \n",
            "  0                  -1  1      1392  ultralytics.nn.modules.conv.Conv             [3, 48, 3, 2]                 \n",
            "  1                  -1  1     41664  ultralytics.nn.modules.conv.Conv             [48, 96, 3, 2]                \n",
            "  2                  -1  2    111360  ultralytics.nn.modules.block.C2f             [96, 96, 2, True]             \n",
            "  3                  -1  1    166272  ultralytics.nn.modules.conv.Conv             [96, 192, 3, 2]               \n",
            "  4                  -1  4    813312  ultralytics.nn.modules.block.C2f             [192, 192, 4, True]           \n",
            "  5                  -1  1    664320  ultralytics.nn.modules.conv.Conv             [192, 384, 3, 2]              \n",
            "  6                  -1  4   3248640  ultralytics.nn.modules.block.C2f             [384, 384, 4, True]           \n",
            "  7                  -1  1   1991808  ultralytics.nn.modules.conv.Conv             [384, 576, 3, 2]              \n",
            "  8                  -1  2   3985920  ultralytics.nn.modules.block.C2f             [576, 576, 2, True]           \n",
            "  9                  -1  1    831168  ultralytics.nn.modules.block.SPPF            [576, 576, 5]                 \n",
            " 10                  -1  1         0  torch.nn.modules.upsampling.Upsample         [None, 2, 'nearest']          \n",
            " 11             [-1, 6]  1         0  ultralytics.nn.modules.conv.Concat           [1]                           \n",
            " 12                  -1  2   1993728  ultralytics.nn.modules.block.C2f             [960, 384, 2]                 \n",
            " 13                  -1  1         0  torch.nn.modules.upsampling.Upsample         [None, 2, 'nearest']          \n",
            " 14             [-1, 4]  1         0  ultralytics.nn.modules.conv.Concat           [1]                           \n",
            " 15                  -1  2    517632  ultralytics.nn.modules.block.C2f             [576, 192, 2]                 \n",
            " 16                  -1  1    332160  ultralytics.nn.modules.conv.Conv             [192, 192, 3, 2]              \n",
            " 17            [-1, 12]  1         0  ultralytics.nn.modules.conv.Concat           [1]                           \n",
            " 18                  -1  2   1846272  ultralytics.nn.modules.block.C2f             [576, 384, 2]                 \n",
            " 19                  -1  1   1327872  ultralytics.nn.modules.conv.Conv             [384, 384, 3, 2]              \n",
            " 20             [-1, 9]  1         0  ultralytics.nn.modules.conv.Concat           [1]                           \n",
            " 21                  -1  2   4207104  ultralytics.nn.modules.block.C2f             [960, 576, 2]                 \n",
            " 22        [15, 18, 21]  1   3776275  ultralytics.nn.modules.head.Detect           [1, [192, 384, 576]]          \n",
            "Model summary: 169 layers, 25,856,899 parameters, 25,856,883 gradients, 79.1 GFLOPs\n",
            "\n",
            "Transferred 475/475 items from pretrained weights\n",
            "\u001b[34m\u001b[1mTensorBoard: \u001b[0mStart with 'tensorboard --logdir runs/detect/train22', view at http://localhost:6006/\n",
            "Freezing layer 'model.22.dfl.conv.weight'\n",
            "\u001b[34m\u001b[1mAMP: \u001b[0mrunning Automatic Mixed Precision (AMP) checks...\n",
            "\u001b[34m\u001b[1mAMP: \u001b[0mchecks passed ✅\n"
          ]
        },
        {
          "name": "stderr",
          "output_type": "stream",
          "text": [
            "\u001b[34m\u001b[1mtrain: \u001b[0mScanning /content/Rice_Seed_Data/train/labels.cache... 888 images, 0 backgrounds, 0 corrupt: 100%|██████████| 888/888 [00:00<?, ?it/s]"
          ]
        },
        {
          "name": "stdout",
          "output_type": "stream",
          "text": [
            "\u001b[34m\u001b[1mtrain: \u001b[0mWARNING ⚠️ /content/Rice_Seed_Data/train/images/_10_jpg.rf.774c74ca43a26af392b315dbf0e65261.jpg: 1 duplicate labels removed\n",
            "\u001b[34m\u001b[1mtrain: \u001b[0mWARNING ⚠️ /content/Rice_Seed_Data/train/images/_10_jpg.rf.9011ac83f0d167684f43cc25e60c6c6a.jpg: 1 duplicate labels removed\n",
            "\u001b[34m\u001b[1mtrain: \u001b[0mWARNING ⚠️ /content/Rice_Seed_Data/train/images/_10_jpg.rf.d5882f8719837ddaa8161e1b0c7093cf.jpg: 1 duplicate labels removed\n",
            "\u001b[34m\u001b[1mtrain: \u001b[0mWARNING ⚠️ /content/Rice_Seed_Data/train/images/_124_jpg.rf.abdbcef5a345645571c29d2e6df4ed83.jpg: 1 duplicate labels removed\n",
            "\u001b[34m\u001b[1mtrain: \u001b[0mWARNING ⚠️ /content/Rice_Seed_Data/train/images/_169_jpg.rf.41c3d88bc8e98a741cfc6c1b4c1951fe.jpg: 1 duplicate labels removed\n",
            "\u001b[34m\u001b[1mtrain: \u001b[0mWARNING ⚠️ /content/Rice_Seed_Data/train/images/_169_jpg.rf.8bb029427cff36aaef32579a81f3e0b0.jpg: 1 duplicate labels removed\n",
            "\u001b[34m\u001b[1mtrain: \u001b[0mWARNING ⚠️ /content/Rice_Seed_Data/train/images/_169_jpg.rf.9ce19c501059d839a5bbdf377eed9d38.jpg: 1 duplicate labels removed\n",
            "\u001b[34m\u001b[1mtrain: \u001b[0mWARNING ⚠️ /content/Rice_Seed_Data/train/images/_206_jpg.rf.2647b8c31704e8877f290a64ba0b98b4.jpg: 1 duplicate labels removed\n",
            "\u001b[34m\u001b[1mtrain: \u001b[0mWARNING ⚠️ /content/Rice_Seed_Data/train/images/_206_jpg.rf.5d338d3c381b63266932a20536ede544.jpg: 1 duplicate labels removed\n",
            "\u001b[34m\u001b[1mtrain: \u001b[0mWARNING ⚠️ /content/Rice_Seed_Data/train/images/_206_jpg.rf.8589efc6a0f2da25c680dd9565a0133f.jpg: 1 duplicate labels removed\n",
            "\u001b[34m\u001b[1mtrain: \u001b[0mWARNING ⚠️ /content/Rice_Seed_Data/train/images/_208_jpg.rf.5f4fca6381c48fb0eda4eb86fdcbc4e5.jpg: 1 duplicate labels removed\n",
            "\u001b[34m\u001b[1mtrain: \u001b[0mWARNING ⚠️ /content/Rice_Seed_Data/train/images/_208_jpg.rf.a9469460ccf8aa29e79d017746728269.jpg: 1 duplicate labels removed\n",
            "\u001b[34m\u001b[1mtrain: \u001b[0mWARNING ⚠️ /content/Rice_Seed_Data/train/images/_211_jpg.rf.430ac1b269a2ecd95697052c618c0919.jpg: 1 duplicate labels removed\n",
            "\u001b[34m\u001b[1mtrain: \u001b[0mWARNING ⚠️ /content/Rice_Seed_Data/train/images/_211_jpg.rf.44bed3628bf8fef1fdecb51b7a9124fe.jpg: 1 duplicate labels removed\n",
            "\u001b[34m\u001b[1mtrain: \u001b[0mWARNING ⚠️ /content/Rice_Seed_Data/train/images/_211_jpg.rf.ced6ea60cf12c226a283669e4e4becba.jpg: 1 duplicate labels removed\n",
            "\u001b[34m\u001b[1mtrain: \u001b[0mWARNING ⚠️ /content/Rice_Seed_Data/train/images/_261_jpg.rf.2df4538573105e17e9a53828746604ad.jpg: 1 duplicate labels removed\n",
            "\u001b[34m\u001b[1mtrain: \u001b[0mWARNING ⚠️ /content/Rice_Seed_Data/train/images/_261_jpg.rf.b7e99d5507723866be324eaeb3c9b102.jpg: 1 duplicate labels removed\n",
            "\u001b[34m\u001b[1mtrain: \u001b[0mWARNING ⚠️ /content/Rice_Seed_Data/train/images/_261_jpg.rf.d2399546616fe00c5205089d84c46cf3.jpg: 1 duplicate labels removed\n",
            "\u001b[34m\u001b[1mtrain: \u001b[0mWARNING ⚠️ /content/Rice_Seed_Data/train/images/_371_jpg.rf.276e7df5008b3c3a1698df62354e5f08.jpg: 1 duplicate labels removed\n",
            "\u001b[34m\u001b[1mtrain: \u001b[0mWARNING ⚠️ /content/Rice_Seed_Data/train/images/_42_jpg.rf.0ff315744ac5733ade7cbf2fef4feace.jpg: 1 duplicate labels removed\n",
            "\u001b[34m\u001b[1mtrain: \u001b[0mWARNING ⚠️ /content/Rice_Seed_Data/train/images/_42_jpg.rf.8bbcb0eebe2cd8bd3742e83af576de3d.jpg: 1 duplicate labels removed\n",
            "\u001b[34m\u001b[1mtrain: \u001b[0mWARNING ⚠️ /content/Rice_Seed_Data/train/images/_42_jpg.rf.c9f75c72b064f8d1c508484352545d62.jpg: 1 duplicate labels removed\n",
            "\u001b[34m\u001b[1mtrain: \u001b[0mWARNING ⚠️ /content/Rice_Seed_Data/train/images/_451_jpg.rf.3b22fcdfcd962116c0e62df7a958f3b6.jpg: 1 duplicate labels removed\n",
            "\u001b[34m\u001b[1mtrain: \u001b[0mWARNING ⚠️ /content/Rice_Seed_Data/train/images/_451_jpg.rf.cf61acb597cb8baf245f77e0fc28e667.jpg: 1 duplicate labels removed\n",
            "\u001b[34m\u001b[1mtrain: \u001b[0mWARNING ⚠️ /content/Rice_Seed_Data/train/images/_451_jpg.rf.efe424bae0416ea71c7864b9d1f14292.jpg: 1 duplicate labels removed\n",
            "\u001b[34m\u001b[1mtrain: \u001b[0mWARNING ⚠️ /content/Rice_Seed_Data/train/images/_471_jpg.rf.2fb084f3e423afdc94576e23ec97cc72.jpg: 1 duplicate labels removed\n",
            "\u001b[34m\u001b[1mtrain: \u001b[0mWARNING ⚠️ /content/Rice_Seed_Data/train/images/_471_jpg.rf.bb721ddd78dd78205a6505340c9f8792.jpg: 1 duplicate labels removed\n",
            "\u001b[34m\u001b[1mtrain: \u001b[0mWARNING ⚠️ /content/Rice_Seed_Data/train/images/_471_jpg.rf.fee64502d42ba918304376f2e1f1b947.jpg: 1 duplicate labels removed\n",
            "\u001b[34m\u001b[1mtrain: \u001b[0mWARNING ⚠️ /content/Rice_Seed_Data/train/images/_47_jpg.rf.42ef0d70280117d9f58e42e33ba018e2.jpg: 1 duplicate labels removed\n",
            "\u001b[34m\u001b[1mtrain: \u001b[0mWARNING ⚠️ /content/Rice_Seed_Data/train/images/_47_jpg.rf.47662a93f0704bed4154fce8af79bcf3.jpg: 1 duplicate labels removed\n",
            "\u001b[34m\u001b[1mtrain: \u001b[0mWARNING ⚠️ /content/Rice_Seed_Data/train/images/_47_jpg.rf.f47742fd625727faf7fa5d1086a73b07.jpg: 2 duplicate labels removed\n",
            "\u001b[34m\u001b[1mtrain: \u001b[0mWARNING ⚠️ /content/Rice_Seed_Data/train/images/_493_jpg.rf.f4f401791e0cbc4565dac499e80ed6b0.jpg: 1 duplicate labels removed\n",
            "\u001b[34m\u001b[1mtrain: \u001b[0mWARNING ⚠️ /content/Rice_Seed_Data/train/images/_502_jpg.rf.9d9719714683cbc1a6acaa8f2e42ab04.jpg: 1 duplicate labels removed\n",
            "\u001b[34m\u001b[1mtrain: \u001b[0mWARNING ⚠️ /content/Rice_Seed_Data/train/images/_502_jpg.rf.ab94018b23760053ddd59927e884f7a0.jpg: 1 duplicate labels removed\n",
            "\u001b[34m\u001b[1mtrain: \u001b[0mWARNING ⚠️ /content/Rice_Seed_Data/train/images/_60_jpg.rf.018d378428cf60069fd382cf56aa5f7f.jpg: 1 duplicate labels removed\n",
            "\u001b[34m\u001b[1mtrain: \u001b[0mWARNING ⚠️ /content/Rice_Seed_Data/train/images/_60_jpg.rf.ce2adf29596eea535c4c16244f5d4a82.jpg: 1 duplicate labels removed\n",
            "\u001b[34m\u001b[1mtrain: \u001b[0mWARNING ⚠️ /content/Rice_Seed_Data/train/images/_60_jpg.rf.f7c9b8a6b9fcfc0fdda3ec30a4a13f1a.jpg: 1 duplicate labels removed\n",
            "\u001b[34m\u001b[1mtrain: \u001b[0mWARNING ⚠️ /content/Rice_Seed_Data/train/images/_64_jpg.rf.7fd31a6f1cb8814772abba861c479c6b.jpg: 1 duplicate labels removed\n",
            "\u001b[34m\u001b[1mtrain: \u001b[0mWARNING ⚠️ /content/Rice_Seed_Data/train/images/_81_jpg.rf.10592a720ae236ed919d5b66a95c520e.jpg: 1 duplicate labels removed\n",
            "\u001b[34m\u001b[1mtrain: \u001b[0mWARNING ⚠️ /content/Rice_Seed_Data/train/images/_81_jpg.rf.b05d26acd29fe1b3e46d95759ea231e8.jpg: 1 duplicate labels removed\n",
            "\u001b[34m\u001b[1mtrain: \u001b[0mWARNING ⚠️ /content/Rice_Seed_Data/train/images/_81_jpg.rf.d06bb81e98de42c31aed18098007c3ad.jpg: 1 duplicate labels removed\n",
            "\u001b[34m\u001b[1mtrain: \u001b[0mWARNING ⚠️ /content/Rice_Seed_Data/train/images/_88_jpg.rf.49c89dd7002fb3630cc4e92a6fddff2e.jpg: 1 duplicate labels removed\n",
            "\u001b[34m\u001b[1mtrain: \u001b[0mWARNING ⚠️ /content/Rice_Seed_Data/train/images/_88_jpg.rf.6b90553912158e671201388b6da7068f.jpg: 1 duplicate labels removed\n",
            "\u001b[34m\u001b[1mtrain: \u001b[0mWARNING ⚠️ /content/Rice_Seed_Data/train/images/_88_jpg.rf.dcd1381648d43676fb63a6b8506ebbe8.jpg: 1 duplicate labels removed\n",
            "\u001b[34m\u001b[1mtrain: \u001b[0mWARNING ⚠️ /content/Rice_Seed_Data/train/images/_9_jpg.rf.395d0d3b7523e403380b9878067f92e2.jpg: 1 duplicate labels removed\n",
            "\u001b[34m\u001b[1mtrain: \u001b[0mWARNING ⚠️ /content/Rice_Seed_Data/train/images/_9_jpg.rf.3a023c2438fd5818ab669d5a5bf44af3.jpg: 1 duplicate labels removed\n",
            "\u001b[34m\u001b[1mtrain: \u001b[0mWARNING ⚠️ /content/Rice_Seed_Data/train/images/_9_jpg.rf.8271cedb6d82d715bbf3e4f4bbd580e3.jpg: 1 duplicate labels removed\n",
            "\u001b[34m\u001b[1malbumentations: \u001b[0mBlur(p=0.01, blur_limit=(3, 7)), MedianBlur(p=0.01, blur_limit=(3, 7)), ToGray(p=0.01, num_output_channels=3, method='weighted_average'), CLAHE(p=0.01, clip_limit=(1.0, 4.0), tile_grid_size=(8, 8))\n"
          ]
        },
        {
          "name": "stderr",
          "output_type": "stream",
          "text": [
            "\n",
            "\u001b[34m\u001b[1mval: \u001b[0mScanning /content/Rice_Seed_Data/valid/labels.cache... 99 images, 0 backgrounds, 0 corrupt: 100%|██████████| 99/99 [00:00<?, ?it/s]"
          ]
        },
        {
          "name": "stdout",
          "output_type": "stream",
          "text": [
            "\u001b[34m\u001b[1mval: \u001b[0mWARNING ⚠️ /content/Rice_Seed_Data/valid/images/_117_jpg.rf.d32c31dd2840e11822463c01a718ad8d.jpg: 1 duplicate labels removed\n",
            "\u001b[34m\u001b[1mval: \u001b[0mWARNING ⚠️ /content/Rice_Seed_Data/valid/images/_127_jpg.rf.7f9464fd8f40d7c8d6c80e6bea60e465.jpg: 1 duplicate labels removed\n",
            "\u001b[34m\u001b[1mval: \u001b[0mWARNING ⚠️ /content/Rice_Seed_Data/valid/images/_129_jpg.rf.ddbcb58947af17762ce8d20e1672af70.jpg: 1 duplicate labels removed\n",
            "\u001b[34m\u001b[1mval: \u001b[0mWARNING ⚠️ /content/Rice_Seed_Data/valid/images/_225_jpg.rf.662e612411b3900c0e731c52c7267866.jpg: 1 duplicate labels removed\n",
            "\u001b[34m\u001b[1mval: \u001b[0mWARNING ⚠️ /content/Rice_Seed_Data/valid/images/_343_jpg.rf.e54f5d8cfed063b6c2122277ab8bab7b.jpg: 1 duplicate labels removed\n",
            "\u001b[34m\u001b[1mval: \u001b[0mWARNING ⚠️ /content/Rice_Seed_Data/valid/images/_56_jpg.rf.b9094b78810e03b483c5f747e17e956e.jpg: 1 duplicate labels removed\n"
          ]
        },
        {
          "name": "stderr",
          "output_type": "stream",
          "text": [
            "\n"
          ]
        },
        {
          "name": "stdout",
          "output_type": "stream",
          "text": [
            "Plotting labels to runs/detect/train22/labels.jpg... \n",
            "\u001b[34m\u001b[1moptimizer:\u001b[0m Adam(lr=0.008, momentum=0.937) with parameter groups 77 weight(decay=0.0), 84 weight(decay=0.0005), 83 bias(decay=0.0)\n",
            "\u001b[34m\u001b[1mTensorBoard: \u001b[0mmodel graph visualization added ✅\n",
            "Image sizes 512 train, 512 val\n",
            "Using 2 dataloader workers\n",
            "Logging results to \u001b[1mruns/detect/train22\u001b[0m\n",
            "Starting training for 10 epochs...\n",
            "Closing dataloader mosaic\n",
            "\u001b[34m\u001b[1malbumentations: \u001b[0mBlur(p=0.01, blur_limit=(3, 7)), MedianBlur(p=0.01, blur_limit=(3, 7)), ToGray(p=0.01, num_output_channels=3, method='weighted_average'), CLAHE(p=0.01, clip_limit=(1.0, 4.0), tile_grid_size=(8, 8))\n",
            "\n",
            "      Epoch    GPU_mem   box_loss   cls_loss   dfl_loss  Instances       Size\n"
          ]
        },
        {
          "name": "stderr",
          "output_type": "stream",
          "text": [
            "       1/10      5.05G      1.209     0.6495       1.23         73        512: 100%|██████████| 56/56 [00:20<00:00,  2.71it/s]\n",
            "                 Class     Images  Instances      Box(P          R      mAP50  mAP50-95): 100%|██████████| 4/4 [00:01<00:00,  2.88it/s]"
          ]
        },
        {
          "name": "stdout",
          "output_type": "stream",
          "text": [
            "                   all         99       1160      0.857      0.979      0.931      0.799\n"
          ]
        },
        {
          "name": "stderr",
          "output_type": "stream",
          "text": [
            "\n"
          ]
        },
        {
          "name": "stdout",
          "output_type": "stream",
          "text": [
            "\n",
            "      Epoch    GPU_mem   box_loss   cls_loss   dfl_loss  Instances       Size\n"
          ]
        },
        {
          "name": "stderr",
          "output_type": "stream",
          "text": [
            "       2/10       5.8G      1.227     0.6783      1.252        109        512: 100%|██████████| 56/56 [00:19<00:00,  2.86it/s]\n",
            "                 Class     Images  Instances      Box(P          R      mAP50  mAP50-95): 100%|██████████| 4/4 [00:01<00:00,  3.82it/s]"
          ]
        },
        {
          "name": "stdout",
          "output_type": "stream",
          "text": [
            "                   all         99       1160      0.856      0.971      0.944      0.787\n"
          ]
        },
        {
          "name": "stderr",
          "output_type": "stream",
          "text": [
            "\n"
          ]
        },
        {
          "name": "stdout",
          "output_type": "stream",
          "text": [
            "\n",
            "      Epoch    GPU_mem   box_loss   cls_loss   dfl_loss  Instances       Size\n"
          ]
        },
        {
          "name": "stderr",
          "output_type": "stream",
          "text": [
            "       3/10       5.8G      1.228     0.6608      1.252         85        512: 100%|██████████| 56/56 [00:19<00:00,  2.88it/s]\n",
            "                 Class     Images  Instances      Box(P          R      mAP50  mAP50-95): 100%|██████████| 4/4 [00:01<00:00,  2.84it/s]"
          ]
        },
        {
          "name": "stdout",
          "output_type": "stream",
          "text": [
            "                   all         99       1160      0.867      0.907      0.938      0.773\n"
          ]
        },
        {
          "name": "stderr",
          "output_type": "stream",
          "text": [
            "\n"
          ]
        },
        {
          "name": "stdout",
          "output_type": "stream",
          "text": [
            "\n",
            "      Epoch    GPU_mem   box_loss   cls_loss   dfl_loss  Instances       Size\n"
          ]
        },
        {
          "name": "stderr",
          "output_type": "stream",
          "text": [
            "       4/10       5.8G      1.227     0.6637      1.255         75        512: 100%|██████████| 56/56 [00:18<00:00,  2.96it/s]\n",
            "                 Class     Images  Instances      Box(P          R      mAP50  mAP50-95): 100%|██████████| 4/4 [00:01<00:00,  3.84it/s]"
          ]
        },
        {
          "name": "stdout",
          "output_type": "stream",
          "text": [
            "                   all         99       1160      0.886      0.978      0.949      0.788\n"
          ]
        },
        {
          "name": "stderr",
          "output_type": "stream",
          "text": [
            "\n"
          ]
        },
        {
          "name": "stdout",
          "output_type": "stream",
          "text": [
            "\n",
            "      Epoch    GPU_mem   box_loss   cls_loss   dfl_loss  Instances       Size\n"
          ]
        },
        {
          "name": "stderr",
          "output_type": "stream",
          "text": [
            "       5/10      5.84G      1.224     0.6706      1.262        110        512: 100%|██████████| 56/56 [00:19<00:00,  2.92it/s]\n",
            "                 Class     Images  Instances      Box(P          R      mAP50  mAP50-95): 100%|██████████| 4/4 [00:01<00:00,  3.04it/s]"
          ]
        },
        {
          "name": "stdout",
          "output_type": "stream",
          "text": [
            "                   all         99       1160      0.906      0.968       0.97      0.728\n"
          ]
        },
        {
          "name": "stderr",
          "output_type": "stream",
          "text": [
            "\n"
          ]
        },
        {
          "name": "stdout",
          "output_type": "stream",
          "text": [
            "\n",
            "      Epoch    GPU_mem   box_loss   cls_loss   dfl_loss  Instances       Size\n"
          ]
        },
        {
          "name": "stderr",
          "output_type": "stream",
          "text": [
            "       6/10      5.87G      1.196     0.6295      1.241         74        512: 100%|██████████| 56/56 [00:19<00:00,  2.85it/s]\n",
            "                 Class     Images  Instances      Box(P          R      mAP50  mAP50-95): 100%|██████████| 4/4 [00:01<00:00,  3.80it/s]"
          ]
        },
        {
          "name": "stdout",
          "output_type": "stream",
          "text": [
            "                   all         99       1160       0.91       0.98      0.964      0.807\n"
          ]
        },
        {
          "name": "stderr",
          "output_type": "stream",
          "text": [
            "\n"
          ]
        },
        {
          "name": "stdout",
          "output_type": "stream",
          "text": [
            "\n",
            "      Epoch    GPU_mem   box_loss   cls_loss   dfl_loss  Instances       Size\n"
          ]
        },
        {
          "name": "stderr",
          "output_type": "stream",
          "text": [
            "       7/10      5.87G      1.175     0.6201      1.233         61        512: 100%|██████████| 56/56 [00:19<00:00,  2.87it/s]\n",
            "                 Class     Images  Instances      Box(P          R      mAP50  mAP50-95): 100%|██████████| 4/4 [00:01<00:00,  3.87it/s]"
          ]
        },
        {
          "name": "stdout",
          "output_type": "stream",
          "text": [
            "                   all         99       1160      0.913      0.974      0.977       0.88\n"
          ]
        },
        {
          "name": "stderr",
          "output_type": "stream",
          "text": [
            "\n"
          ]
        },
        {
          "name": "stdout",
          "output_type": "stream",
          "text": [
            "\n",
            "      Epoch    GPU_mem   box_loss   cls_loss   dfl_loss  Instances       Size\n"
          ]
        },
        {
          "name": "stderr",
          "output_type": "stream",
          "text": [
            "       8/10      5.87G      1.119     0.5897      1.215         98        512: 100%|██████████| 56/56 [00:19<00:00,  2.95it/s]\n",
            "                 Class     Images  Instances      Box(P          R      mAP50  mAP50-95): 100%|██████████| 4/4 [00:01<00:00,  3.89it/s]"
          ]
        },
        {
          "name": "stdout",
          "output_type": "stream",
          "text": [
            "                   all         99       1160      0.906      0.972      0.971      0.873\n"
          ]
        },
        {
          "name": "stderr",
          "output_type": "stream",
          "text": [
            "\n"
          ]
        },
        {
          "name": "stdout",
          "output_type": "stream",
          "text": [
            "\n",
            "      Epoch    GPU_mem   box_loss   cls_loss   dfl_loss  Instances       Size\n"
          ]
        },
        {
          "name": "stderr",
          "output_type": "stream",
          "text": [
            "       9/10      5.87G      1.131     0.5721      1.222        107        512: 100%|██████████| 56/56 [00:19<00:00,  2.89it/s]\n",
            "                 Class     Images  Instances      Box(P          R      mAP50  mAP50-95): 100%|██████████| 4/4 [00:01<00:00,  3.89it/s]"
          ]
        },
        {
          "name": "stdout",
          "output_type": "stream",
          "text": [
            "                   all         99       1160      0.937      0.982       0.98      0.855\n"
          ]
        },
        {
          "name": "stderr",
          "output_type": "stream",
          "text": [
            "\n"
          ]
        },
        {
          "name": "stdout",
          "output_type": "stream",
          "text": [
            "\n",
            "      Epoch    GPU_mem   box_loss   cls_loss   dfl_loss  Instances       Size\n"
          ]
        },
        {
          "name": "stderr",
          "output_type": "stream",
          "text": [
            "      10/10      5.87G       1.09     0.5523      1.211         82        512: 100%|██████████| 56/56 [00:18<00:00,  2.97it/s]\n",
            "                 Class     Images  Instances      Box(P          R      mAP50  mAP50-95): 100%|██████████| 4/4 [00:01<00:00,  3.89it/s]"
          ]
        },
        {
          "name": "stdout",
          "output_type": "stream",
          "text": [
            "                   all         99       1160      0.934      0.976      0.978      0.918\n"
          ]
        },
        {
          "name": "stderr",
          "output_type": "stream",
          "text": [
            "\n"
          ]
        },
        {
          "name": "stdout",
          "output_type": "stream",
          "text": [
            "\n",
            "10 epochs completed in 0.061 hours.\n",
            "Optimizer stripped from runs/detect/train22/weights/last.pt, 52.0MB\n",
            "Optimizer stripped from runs/detect/train22/weights/best.pt, 52.0MB\n",
            "\n",
            "Validating runs/detect/train22/weights/best.pt...\n",
            "Ultralytics 8.3.94 🚀 Python-3.11.11 torch-2.6.0+cu124 CUDA:0 (Tesla T4, 15095MiB)\n",
            "Model summary (fused): 92 layers, 25,840,339 parameters, 0 gradients, 78.7 GFLOPs\n"
          ]
        },
        {
          "name": "stderr",
          "output_type": "stream",
          "text": [
            "                 Class     Images  Instances      Box(P          R      mAP50  mAP50-95): 100%|██████████| 4/4 [00:02<00:00,  1.37it/s]\n"
          ]
        },
        {
          "name": "stdout",
          "output_type": "stream",
          "text": [
            "                   all         99       1160      0.934      0.976      0.978      0.918\n",
            "Speed: 0.3ms preprocess, 7.2ms inference, 0.0ms loss, 4.8ms postprocess per image\n",
            "Results saved to \u001b[1mruns/detect/train22\u001b[0m\n",
            "\n",
            "🔹 Đang thử nghiệm với Learning Rate: 0.004\n",
            "Ultralytics 8.3.94 🚀 Python-3.11.11 torch-2.6.0+cu124 CUDA:0 (Tesla T4, 15095MiB)\n",
            "\u001b[34m\u001b[1mengine/trainer: \u001b[0mtask=detect, mode=train, model=yolov8m.pt, data=/content/Rice_Seed_Data/data.yaml, epochs=10, time=None, patience=100, batch=16, imgsz=512, save=True, save_period=-1, cache=False, device=0, workers=8, project=None, name=train222, exist_ok=False, pretrained=True, optimizer=Adam, verbose=True, seed=0, deterministic=True, single_cls=False, rect=False, cos_lr=False, close_mosaic=10, resume=False, amp=True, fraction=1.0, profile=False, freeze=None, multi_scale=False, overlap_mask=True, mask_ratio=4, dropout=0.0, val=True, split=val, save_json=False, save_hybrid=False, conf=None, iou=0.7, max_det=300, half=False, dnn=False, plots=True, source=None, vid_stride=1, stream_buffer=False, visualize=False, augment=False, agnostic_nms=False, classes=None, retina_masks=False, embed=None, show=False, save_frames=False, save_txt=False, save_conf=False, save_crop=False, show_labels=True, show_conf=True, show_boxes=True, line_width=None, format=torchscript, keras=False, optimize=False, int8=False, dynamic=False, simplify=True, opset=None, workspace=None, nms=False, lr0=0.004, lrf=0.01, momentum=0.937, weight_decay=0.0005, warmup_epochs=3.0, warmup_momentum=0.8, warmup_bias_lr=0.1, box=7.5, cls=0.5, dfl=1.5, pose=12.0, kobj=1.0, nbs=64, hsv_h=0.015, hsv_s=0.7, hsv_v=0.4, degrees=0.0, translate=0.1, scale=0.5, shear=0.0, perspective=0.0, flipud=0.0, fliplr=0.5, bgr=0.0, mosaic=1.0, mixup=0.0, copy_paste=0.0, copy_paste_mode=flip, auto_augment=randaugment, erasing=0.4, crop_fraction=1.0, cfg=None, tracker=botsort.yaml, save_dir=runs/detect/train222\n",
            "\n",
            "                   from  n    params  module                                       arguments                     \n",
            "  0                  -1  1      1392  ultralytics.nn.modules.conv.Conv             [3, 48, 3, 2]                 \n",
            "  1                  -1  1     41664  ultralytics.nn.modules.conv.Conv             [48, 96, 3, 2]                \n",
            "  2                  -1  2    111360  ultralytics.nn.modules.block.C2f             [96, 96, 2, True]             \n",
            "  3                  -1  1    166272  ultralytics.nn.modules.conv.Conv             [96, 192, 3, 2]               \n",
            "  4                  -1  4    813312  ultralytics.nn.modules.block.C2f             [192, 192, 4, True]           \n",
            "  5                  -1  1    664320  ultralytics.nn.modules.conv.Conv             [192, 384, 3, 2]              \n",
            "  6                  -1  4   3248640  ultralytics.nn.modules.block.C2f             [384, 384, 4, True]           \n",
            "  7                  -1  1   1991808  ultralytics.nn.modules.conv.Conv             [384, 576, 3, 2]              \n",
            "  8                  -1  2   3985920  ultralytics.nn.modules.block.C2f             [576, 576, 2, True]           \n",
            "  9                  -1  1    831168  ultralytics.nn.modules.block.SPPF            [576, 576, 5]                 \n",
            " 10                  -1  1         0  torch.nn.modules.upsampling.Upsample         [None, 2, 'nearest']          \n",
            " 11             [-1, 6]  1         0  ultralytics.nn.modules.conv.Concat           [1]                           \n",
            " 12                  -1  2   1993728  ultralytics.nn.modules.block.C2f             [960, 384, 2]                 \n",
            " 13                  -1  1         0  torch.nn.modules.upsampling.Upsample         [None, 2, 'nearest']          \n",
            " 14             [-1, 4]  1         0  ultralytics.nn.modules.conv.Concat           [1]                           \n",
            " 15                  -1  2    517632  ultralytics.nn.modules.block.C2f             [576, 192, 2]                 \n",
            " 16                  -1  1    332160  ultralytics.nn.modules.conv.Conv             [192, 192, 3, 2]              \n",
            " 17            [-1, 12]  1         0  ultralytics.nn.modules.conv.Concat           [1]                           \n",
            " 18                  -1  2   1846272  ultralytics.nn.modules.block.C2f             [576, 384, 2]                 \n",
            " 19                  -1  1   1327872  ultralytics.nn.modules.conv.Conv             [384, 384, 3, 2]              \n",
            " 20             [-1, 9]  1         0  ultralytics.nn.modules.conv.Concat           [1]                           \n",
            " 21                  -1  2   4207104  ultralytics.nn.modules.block.C2f             [960, 576, 2]                 \n",
            " 22        [15, 18, 21]  1   3776275  ultralytics.nn.modules.head.Detect           [1, [192, 384, 576]]          \n",
            "Model summary: 169 layers, 25,856,899 parameters, 25,856,883 gradients, 79.1 GFLOPs\n",
            "\n",
            "Transferred 475/475 items from pretrained weights\n",
            "\u001b[34m\u001b[1mTensorBoard: \u001b[0mStart with 'tensorboard --logdir runs/detect/train222', view at http://localhost:6006/\n",
            "Freezing layer 'model.22.dfl.conv.weight'\n",
            "\u001b[34m\u001b[1mAMP: \u001b[0mrunning Automatic Mixed Precision (AMP) checks...\n",
            "\u001b[34m\u001b[1mAMP: \u001b[0mchecks passed ✅\n"
          ]
        },
        {
          "name": "stderr",
          "output_type": "stream",
          "text": [
            "\u001b[34m\u001b[1mtrain: \u001b[0mScanning /content/Rice_Seed_Data/train/labels.cache... 888 images, 0 backgrounds, 0 corrupt: 100%|██████████| 888/888 [00:00<?, ?it/s]"
          ]
        },
        {
          "name": "stdout",
          "output_type": "stream",
          "text": [
            "\u001b[34m\u001b[1mtrain: \u001b[0mWARNING ⚠️ /content/Rice_Seed_Data/train/images/_10_jpg.rf.774c74ca43a26af392b315dbf0e65261.jpg: 1 duplicate labels removed\n",
            "\u001b[34m\u001b[1mtrain: \u001b[0mWARNING ⚠️ /content/Rice_Seed_Data/train/images/_10_jpg.rf.9011ac83f0d167684f43cc25e60c6c6a.jpg: 1 duplicate labels removed\n",
            "\u001b[34m\u001b[1mtrain: \u001b[0mWARNING ⚠️ /content/Rice_Seed_Data/train/images/_10_jpg.rf.d5882f8719837ddaa8161e1b0c7093cf.jpg: 1 duplicate labels removed\n",
            "\u001b[34m\u001b[1mtrain: \u001b[0mWARNING ⚠️ /content/Rice_Seed_Data/train/images/_124_jpg.rf.abdbcef5a345645571c29d2e6df4ed83.jpg: 1 duplicate labels removed\n",
            "\u001b[34m\u001b[1mtrain: \u001b[0mWARNING ⚠️ /content/Rice_Seed_Data/train/images/_169_jpg.rf.41c3d88bc8e98a741cfc6c1b4c1951fe.jpg: 1 duplicate labels removed\n",
            "\u001b[34m\u001b[1mtrain: \u001b[0mWARNING ⚠️ /content/Rice_Seed_Data/train/images/_169_jpg.rf.8bb029427cff36aaef32579a81f3e0b0.jpg: 1 duplicate labels removed\n",
            "\u001b[34m\u001b[1mtrain: \u001b[0mWARNING ⚠️ /content/Rice_Seed_Data/train/images/_169_jpg.rf.9ce19c501059d839a5bbdf377eed9d38.jpg: 1 duplicate labels removed\n",
            "\u001b[34m\u001b[1mtrain: \u001b[0mWARNING ⚠️ /content/Rice_Seed_Data/train/images/_206_jpg.rf.2647b8c31704e8877f290a64ba0b98b4.jpg: 1 duplicate labels removed\n",
            "\u001b[34m\u001b[1mtrain: \u001b[0mWARNING ⚠️ /content/Rice_Seed_Data/train/images/_206_jpg.rf.5d338d3c381b63266932a20536ede544.jpg: 1 duplicate labels removed\n",
            "\u001b[34m\u001b[1mtrain: \u001b[0mWARNING ⚠️ /content/Rice_Seed_Data/train/images/_206_jpg.rf.8589efc6a0f2da25c680dd9565a0133f.jpg: 1 duplicate labels removed\n",
            "\u001b[34m\u001b[1mtrain: \u001b[0mWARNING ⚠️ /content/Rice_Seed_Data/train/images/_208_jpg.rf.5f4fca6381c48fb0eda4eb86fdcbc4e5.jpg: 1 duplicate labels removed\n",
            "\u001b[34m\u001b[1mtrain: \u001b[0mWARNING ⚠️ /content/Rice_Seed_Data/train/images/_208_jpg.rf.a9469460ccf8aa29e79d017746728269.jpg: 1 duplicate labels removed\n",
            "\u001b[34m\u001b[1mtrain: \u001b[0mWARNING ⚠️ /content/Rice_Seed_Data/train/images/_211_jpg.rf.430ac1b269a2ecd95697052c618c0919.jpg: 1 duplicate labels removed\n",
            "\u001b[34m\u001b[1mtrain: \u001b[0mWARNING ⚠️ /content/Rice_Seed_Data/train/images/_211_jpg.rf.44bed3628bf8fef1fdecb51b7a9124fe.jpg: 1 duplicate labels removed\n",
            "\u001b[34m\u001b[1mtrain: \u001b[0mWARNING ⚠️ /content/Rice_Seed_Data/train/images/_211_jpg.rf.ced6ea60cf12c226a283669e4e4becba.jpg: 1 duplicate labels removed\n",
            "\u001b[34m\u001b[1mtrain: \u001b[0mWARNING ⚠️ /content/Rice_Seed_Data/train/images/_261_jpg.rf.2df4538573105e17e9a53828746604ad.jpg: 1 duplicate labels removed\n",
            "\u001b[34m\u001b[1mtrain: \u001b[0mWARNING ⚠️ /content/Rice_Seed_Data/train/images/_261_jpg.rf.b7e99d5507723866be324eaeb3c9b102.jpg: 1 duplicate labels removed\n",
            "\u001b[34m\u001b[1mtrain: \u001b[0mWARNING ⚠️ /content/Rice_Seed_Data/train/images/_261_jpg.rf.d2399546616fe00c5205089d84c46cf3.jpg: 1 duplicate labels removed\n",
            "\u001b[34m\u001b[1mtrain: \u001b[0mWARNING ⚠️ /content/Rice_Seed_Data/train/images/_371_jpg.rf.276e7df5008b3c3a1698df62354e5f08.jpg: 1 duplicate labels removed\n",
            "\u001b[34m\u001b[1mtrain: \u001b[0mWARNING ⚠️ /content/Rice_Seed_Data/train/images/_42_jpg.rf.0ff315744ac5733ade7cbf2fef4feace.jpg: 1 duplicate labels removed\n",
            "\u001b[34m\u001b[1mtrain: \u001b[0mWARNING ⚠️ /content/Rice_Seed_Data/train/images/_42_jpg.rf.8bbcb0eebe2cd8bd3742e83af576de3d.jpg: 1 duplicate labels removed\n",
            "\u001b[34m\u001b[1mtrain: \u001b[0mWARNING ⚠️ /content/Rice_Seed_Data/train/images/_42_jpg.rf.c9f75c72b064f8d1c508484352545d62.jpg: 1 duplicate labels removed\n",
            "\u001b[34m\u001b[1mtrain: \u001b[0mWARNING ⚠️ /content/Rice_Seed_Data/train/images/_451_jpg.rf.3b22fcdfcd962116c0e62df7a958f3b6.jpg: 1 duplicate labels removed\n",
            "\u001b[34m\u001b[1mtrain: \u001b[0mWARNING ⚠️ /content/Rice_Seed_Data/train/images/_451_jpg.rf.cf61acb597cb8baf245f77e0fc28e667.jpg: 1 duplicate labels removed\n",
            "\u001b[34m\u001b[1mtrain: \u001b[0mWARNING ⚠️ /content/Rice_Seed_Data/train/images/_451_jpg.rf.efe424bae0416ea71c7864b9d1f14292.jpg: 1 duplicate labels removed\n",
            "\u001b[34m\u001b[1mtrain: \u001b[0mWARNING ⚠️ /content/Rice_Seed_Data/train/images/_471_jpg.rf.2fb084f3e423afdc94576e23ec97cc72.jpg: 1 duplicate labels removed\n",
            "\u001b[34m\u001b[1mtrain: \u001b[0mWARNING ⚠️ /content/Rice_Seed_Data/train/images/_471_jpg.rf.bb721ddd78dd78205a6505340c9f8792.jpg: 1 duplicate labels removed\n",
            "\u001b[34m\u001b[1mtrain: \u001b[0mWARNING ⚠️ /content/Rice_Seed_Data/train/images/_471_jpg.rf.fee64502d42ba918304376f2e1f1b947.jpg: 1 duplicate labels removed\n",
            "\u001b[34m\u001b[1mtrain: \u001b[0mWARNING ⚠️ /content/Rice_Seed_Data/train/images/_47_jpg.rf.42ef0d70280117d9f58e42e33ba018e2.jpg: 1 duplicate labels removed\n",
            "\u001b[34m\u001b[1mtrain: \u001b[0mWARNING ⚠️ /content/Rice_Seed_Data/train/images/_47_jpg.rf.47662a93f0704bed4154fce8af79bcf3.jpg: 1 duplicate labels removed\n",
            "\u001b[34m\u001b[1mtrain: \u001b[0mWARNING ⚠️ /content/Rice_Seed_Data/train/images/_47_jpg.rf.f47742fd625727faf7fa5d1086a73b07.jpg: 2 duplicate labels removed\n",
            "\u001b[34m\u001b[1mtrain: \u001b[0mWARNING ⚠️ /content/Rice_Seed_Data/train/images/_493_jpg.rf.f4f401791e0cbc4565dac499e80ed6b0.jpg: 1 duplicate labels removed\n",
            "\u001b[34m\u001b[1mtrain: \u001b[0mWARNING ⚠️ /content/Rice_Seed_Data/train/images/_502_jpg.rf.9d9719714683cbc1a6acaa8f2e42ab04.jpg: 1 duplicate labels removed\n",
            "\u001b[34m\u001b[1mtrain: \u001b[0mWARNING ⚠️ /content/Rice_Seed_Data/train/images/_502_jpg.rf.ab94018b23760053ddd59927e884f7a0.jpg: 1 duplicate labels removed\n",
            "\u001b[34m\u001b[1mtrain: \u001b[0mWARNING ⚠️ /content/Rice_Seed_Data/train/images/_60_jpg.rf.018d378428cf60069fd382cf56aa5f7f.jpg: 1 duplicate labels removed\n",
            "\u001b[34m\u001b[1mtrain: \u001b[0mWARNING ⚠️ /content/Rice_Seed_Data/train/images/_60_jpg.rf.ce2adf29596eea535c4c16244f5d4a82.jpg: 1 duplicate labels removed\n",
            "\u001b[34m\u001b[1mtrain: \u001b[0mWARNING ⚠️ /content/Rice_Seed_Data/train/images/_60_jpg.rf.f7c9b8a6b9fcfc0fdda3ec30a4a13f1a.jpg: 1 duplicate labels removed\n",
            "\u001b[34m\u001b[1mtrain: \u001b[0mWARNING ⚠️ /content/Rice_Seed_Data/train/images/_64_jpg.rf.7fd31a6f1cb8814772abba861c479c6b.jpg: 1 duplicate labels removed\n",
            "\u001b[34m\u001b[1mtrain: \u001b[0mWARNING ⚠️ /content/Rice_Seed_Data/train/images/_81_jpg.rf.10592a720ae236ed919d5b66a95c520e.jpg: 1 duplicate labels removed\n",
            "\u001b[34m\u001b[1mtrain: \u001b[0mWARNING ⚠️ /content/Rice_Seed_Data/train/images/_81_jpg.rf.b05d26acd29fe1b3e46d95759ea231e8.jpg: 1 duplicate labels removed\n",
            "\u001b[34m\u001b[1mtrain: \u001b[0mWARNING ⚠️ /content/Rice_Seed_Data/train/images/_81_jpg.rf.d06bb81e98de42c31aed18098007c3ad.jpg: 1 duplicate labels removed\n",
            "\u001b[34m\u001b[1mtrain: \u001b[0mWARNING ⚠️ /content/Rice_Seed_Data/train/images/_88_jpg.rf.49c89dd7002fb3630cc4e92a6fddff2e.jpg: 1 duplicate labels removed\n",
            "\u001b[34m\u001b[1mtrain: \u001b[0mWARNING ⚠️ /content/Rice_Seed_Data/train/images/_88_jpg.rf.6b90553912158e671201388b6da7068f.jpg: 1 duplicate labels removed\n",
            "\u001b[34m\u001b[1mtrain: \u001b[0mWARNING ⚠️ /content/Rice_Seed_Data/train/images/_88_jpg.rf.dcd1381648d43676fb63a6b8506ebbe8.jpg: 1 duplicate labels removed\n",
            "\u001b[34m\u001b[1mtrain: \u001b[0mWARNING ⚠️ /content/Rice_Seed_Data/train/images/_9_jpg.rf.395d0d3b7523e403380b9878067f92e2.jpg: 1 duplicate labels removed\n",
            "\u001b[34m\u001b[1mtrain: \u001b[0mWARNING ⚠️ /content/Rice_Seed_Data/train/images/_9_jpg.rf.3a023c2438fd5818ab669d5a5bf44af3.jpg: 1 duplicate labels removed\n",
            "\u001b[34m\u001b[1mtrain: \u001b[0mWARNING ⚠️ /content/Rice_Seed_Data/train/images/_9_jpg.rf.8271cedb6d82d715bbf3e4f4bbd580e3.jpg: 1 duplicate labels removed\n",
            "\u001b[34m\u001b[1malbumentations: \u001b[0mBlur(p=0.01, blur_limit=(3, 7)), MedianBlur(p=0.01, blur_limit=(3, 7)), ToGray(p=0.01, num_output_channels=3, method='weighted_average'), CLAHE(p=0.01, clip_limit=(1.0, 4.0), tile_grid_size=(8, 8))\n"
          ]
        },
        {
          "name": "stderr",
          "output_type": "stream",
          "text": [
            "\n",
            "\u001b[34m\u001b[1mval: \u001b[0mScanning /content/Rice_Seed_Data/valid/labels.cache... 99 images, 0 backgrounds, 0 corrupt: 100%|██████████| 99/99 [00:00<?, ?it/s]"
          ]
        },
        {
          "name": "stdout",
          "output_type": "stream",
          "text": [
            "\u001b[34m\u001b[1mval: \u001b[0mWARNING ⚠️ /content/Rice_Seed_Data/valid/images/_117_jpg.rf.d32c31dd2840e11822463c01a718ad8d.jpg: 1 duplicate labels removed\n",
            "\u001b[34m\u001b[1mval: \u001b[0mWARNING ⚠️ /content/Rice_Seed_Data/valid/images/_127_jpg.rf.7f9464fd8f40d7c8d6c80e6bea60e465.jpg: 1 duplicate labels removed\n",
            "\u001b[34m\u001b[1mval: \u001b[0mWARNING ⚠️ /content/Rice_Seed_Data/valid/images/_129_jpg.rf.ddbcb58947af17762ce8d20e1672af70.jpg: 1 duplicate labels removed\n",
            "\u001b[34m\u001b[1mval: \u001b[0mWARNING ⚠️ /content/Rice_Seed_Data/valid/images/_225_jpg.rf.662e612411b3900c0e731c52c7267866.jpg: 1 duplicate labels removed\n",
            "\u001b[34m\u001b[1mval: \u001b[0mWARNING ⚠️ /content/Rice_Seed_Data/valid/images/_343_jpg.rf.e54f5d8cfed063b6c2122277ab8bab7b.jpg: 1 duplicate labels removed\n",
            "\u001b[34m\u001b[1mval: \u001b[0mWARNING ⚠️ /content/Rice_Seed_Data/valid/images/_56_jpg.rf.b9094b78810e03b483c5f747e17e956e.jpg: 1 duplicate labels removed\n"
          ]
        },
        {
          "name": "stderr",
          "output_type": "stream",
          "text": [
            "\n"
          ]
        },
        {
          "name": "stdout",
          "output_type": "stream",
          "text": [
            "Plotting labels to runs/detect/train222/labels.jpg... \n",
            "\u001b[34m\u001b[1moptimizer:\u001b[0m Adam(lr=0.004, momentum=0.937) with parameter groups 77 weight(decay=0.0), 84 weight(decay=0.0005), 83 bias(decay=0.0)\n",
            "\u001b[34m\u001b[1mTensorBoard: \u001b[0mmodel graph visualization added ✅\n",
            "Image sizes 512 train, 512 val\n",
            "Using 2 dataloader workers\n",
            "Logging results to \u001b[1mruns/detect/train222\u001b[0m\n",
            "Starting training for 10 epochs...\n",
            "Closing dataloader mosaic\n",
            "\u001b[34m\u001b[1malbumentations: \u001b[0mBlur(p=0.01, blur_limit=(3, 7)), MedianBlur(p=0.01, blur_limit=(3, 7)), ToGray(p=0.01, num_output_channels=3, method='weighted_average'), CLAHE(p=0.01, clip_limit=(1.0, 4.0), tile_grid_size=(8, 8))\n",
            "\n",
            "      Epoch    GPU_mem   box_loss   cls_loss   dfl_loss  Instances       Size\n"
          ]
        },
        {
          "name": "stderr",
          "output_type": "stream",
          "text": [
            "       1/10      4.85G      1.102     0.5694      1.211         73        512: 100%|██████████| 56/56 [00:20<00:00,  2.72it/s]\n",
            "                 Class     Images  Instances      Box(P          R      mAP50  mAP50-95): 100%|██████████| 4/4 [00:01<00:00,  3.79it/s]"
          ]
        },
        {
          "name": "stdout",
          "output_type": "stream",
          "text": [
            "                   all         99       1160      0.921       0.98      0.975      0.924\n"
          ]
        },
        {
          "name": "stderr",
          "output_type": "stream",
          "text": [
            "\n"
          ]
        },
        {
          "name": "stdout",
          "output_type": "stream",
          "text": [
            "\n",
            "      Epoch    GPU_mem   box_loss   cls_loss   dfl_loss  Instances       Size\n"
          ]
        },
        {
          "name": "stderr",
          "output_type": "stream",
          "text": [
            "       2/10       5.6G      1.104     0.5627      1.215        109        512: 100%|██████████| 56/56 [00:19<00:00,  2.81it/s]\n",
            "                 Class     Images  Instances      Box(P          R      mAP50  mAP50-95): 100%|██████████| 4/4 [00:01<00:00,  3.73it/s]"
          ]
        },
        {
          "name": "stdout",
          "output_type": "stream",
          "text": [
            "                   all         99       1160      0.928      0.966      0.979      0.875\n"
          ]
        },
        {
          "name": "stderr",
          "output_type": "stream",
          "text": [
            "\n"
          ]
        },
        {
          "name": "stdout",
          "output_type": "stream",
          "text": [
            "\n",
            "      Epoch    GPU_mem   box_loss   cls_loss   dfl_loss  Instances       Size\n"
          ]
        },
        {
          "name": "stderr",
          "output_type": "stream",
          "text": [
            "       3/10      5.62G      1.116     0.5809      1.209         85        512: 100%|██████████| 56/56 [00:19<00:00,  2.93it/s]\n",
            "                 Class     Images  Instances      Box(P          R      mAP50  mAP50-95): 100%|██████████| 4/4 [00:01<00:00,  3.44it/s]"
          ]
        },
        {
          "name": "stdout",
          "output_type": "stream",
          "text": [
            "                   all         99       1160      0.942      0.978      0.975      0.892\n"
          ]
        },
        {
          "name": "stderr",
          "output_type": "stream",
          "text": [
            "\n"
          ]
        },
        {
          "name": "stdout",
          "output_type": "stream",
          "text": [
            "\n",
            "      Epoch    GPU_mem   box_loss   cls_loss   dfl_loss  Instances       Size\n"
          ]
        },
        {
          "name": "stderr",
          "output_type": "stream",
          "text": [
            "       4/10      5.62G      1.136     0.5795      1.226         75        512: 100%|██████████| 56/56 [00:19<00:00,  2.91it/s]\n",
            "                 Class     Images  Instances      Box(P          R      mAP50  mAP50-95): 100%|██████████| 4/4 [00:01<00:00,  3.88it/s]"
          ]
        },
        {
          "name": "stdout",
          "output_type": "stream",
          "text": [
            "                   all         99       1160      0.935      0.971       0.98      0.903\n"
          ]
        },
        {
          "name": "stderr",
          "output_type": "stream",
          "text": [
            "\n"
          ]
        },
        {
          "name": "stdout",
          "output_type": "stream",
          "text": [
            "\n",
            "      Epoch    GPU_mem   box_loss   cls_loss   dfl_loss  Instances       Size\n"
          ]
        },
        {
          "name": "stderr",
          "output_type": "stream",
          "text": [
            "       5/10      5.62G      1.129      0.568       1.23        110        512: 100%|██████████| 56/56 [00:19<00:00,  2.91it/s]\n",
            "                 Class     Images  Instances      Box(P          R      mAP50  mAP50-95): 100%|██████████| 4/4 [00:01<00:00,  3.15it/s]"
          ]
        },
        {
          "name": "stdout",
          "output_type": "stream",
          "text": [
            "                   all         99       1160      0.945      0.978      0.985      0.886\n"
          ]
        },
        {
          "name": "stderr",
          "output_type": "stream",
          "text": [
            "\n"
          ]
        },
        {
          "name": "stdout",
          "output_type": "stream",
          "text": [
            "\n",
            "      Epoch    GPU_mem   box_loss   cls_loss   dfl_loss  Instances       Size\n"
          ]
        },
        {
          "name": "stderr",
          "output_type": "stream",
          "text": [
            "       6/10      5.62G      1.082     0.5441       1.21         74        512: 100%|██████████| 56/56 [00:18<00:00,  2.96it/s]\n",
            "                 Class     Images  Instances      Box(P          R      mAP50  mAP50-95): 100%|██████████| 4/4 [00:01<00:00,  3.86it/s]"
          ]
        },
        {
          "name": "stdout",
          "output_type": "stream",
          "text": [
            "                   all         99       1160      0.949      0.982      0.988      0.879\n"
          ]
        },
        {
          "name": "stderr",
          "output_type": "stream",
          "text": [
            "\n"
          ]
        },
        {
          "name": "stdout",
          "output_type": "stream",
          "text": [
            "\n",
            "      Epoch    GPU_mem   box_loss   cls_loss   dfl_loss  Instances       Size\n"
          ]
        },
        {
          "name": "stderr",
          "output_type": "stream",
          "text": [
            "       7/10      5.62G      1.105     0.5434      1.215         61        512: 100%|██████████| 56/56 [00:19<00:00,  2.93it/s]\n",
            "                 Class     Images  Instances      Box(P          R      mAP50  mAP50-95): 100%|██████████| 4/4 [00:01<00:00,  2.92it/s]"
          ]
        },
        {
          "name": "stdout",
          "output_type": "stream",
          "text": [
            "                   all         99       1160      0.953      0.983      0.987      0.911\n"
          ]
        },
        {
          "name": "stderr",
          "output_type": "stream",
          "text": [
            "\n"
          ]
        },
        {
          "name": "stdout",
          "output_type": "stream",
          "text": [
            "\n",
            "      Epoch    GPU_mem   box_loss   cls_loss   dfl_loss  Instances       Size\n"
          ]
        },
        {
          "name": "stderr",
          "output_type": "stream",
          "text": [
            "       8/10      5.62G      1.059     0.5263      1.201         98        512: 100%|██████████| 56/56 [00:18<00:00,  2.95it/s]\n",
            "                 Class     Images  Instances      Box(P          R      mAP50  mAP50-95): 100%|██████████| 4/4 [00:01<00:00,  3.86it/s]"
          ]
        },
        {
          "name": "stdout",
          "output_type": "stream",
          "text": [
            "                   all         99       1160       0.96      0.979      0.987      0.909\n"
          ]
        },
        {
          "name": "stderr",
          "output_type": "stream",
          "text": [
            "\n"
          ]
        },
        {
          "name": "stdout",
          "output_type": "stream",
          "text": [
            "\n",
            "      Epoch    GPU_mem   box_loss   cls_loss   dfl_loss  Instances       Size\n"
          ]
        },
        {
          "name": "stderr",
          "output_type": "stream",
          "text": [
            "       9/10      5.62G      1.047      0.521      1.182        107        512: 100%|██████████| 56/56 [00:19<00:00,  2.91it/s]\n",
            "                 Class     Images  Instances      Box(P          R      mAP50  mAP50-95): 100%|██████████| 4/4 [00:01<00:00,  3.11it/s]"
          ]
        },
        {
          "name": "stdout",
          "output_type": "stream",
          "text": [
            "                   all         99       1160      0.949      0.977      0.986      0.895\n"
          ]
        },
        {
          "name": "stderr",
          "output_type": "stream",
          "text": [
            "\n"
          ]
        },
        {
          "name": "stdout",
          "output_type": "stream",
          "text": [
            "\n",
            "      Epoch    GPU_mem   box_loss   cls_loss   dfl_loss  Instances       Size\n"
          ]
        },
        {
          "name": "stderr",
          "output_type": "stream",
          "text": [
            "      10/10      5.62G      1.024     0.5006      1.175         82        512: 100%|██████████| 56/56 [00:18<00:00,  2.96it/s]\n",
            "                 Class     Images  Instances      Box(P          R      mAP50  mAP50-95): 100%|██████████| 4/4 [00:01<00:00,  3.83it/s]"
          ]
        },
        {
          "name": "stdout",
          "output_type": "stream",
          "text": [
            "                   all         99       1160      0.965      0.975      0.991      0.947\n"
          ]
        },
        {
          "name": "stderr",
          "output_type": "stream",
          "text": [
            "\n"
          ]
        },
        {
          "name": "stdout",
          "output_type": "stream",
          "text": [
            "\n",
            "10 epochs completed in 0.061 hours.\n",
            "Optimizer stripped from runs/detect/train222/weights/last.pt, 52.0MB\n",
            "Optimizer stripped from runs/detect/train222/weights/best.pt, 52.0MB\n",
            "\n",
            "Validating runs/detect/train222/weights/best.pt...\n",
            "Ultralytics 8.3.94 🚀 Python-3.11.11 torch-2.6.0+cu124 CUDA:0 (Tesla T4, 15095MiB)\n",
            "Model summary (fused): 92 layers, 25,840,339 parameters, 0 gradients, 78.7 GFLOPs\n"
          ]
        },
        {
          "name": "stderr",
          "output_type": "stream",
          "text": [
            "                 Class     Images  Instances      Box(P          R      mAP50  mAP50-95): 100%|██████████| 4/4 [00:03<00:00,  1.32it/s]\n"
          ]
        },
        {
          "name": "stdout",
          "output_type": "stream",
          "text": [
            "                   all         99       1160      0.965      0.975      0.991      0.947\n",
            "Speed: 0.3ms preprocess, 9.3ms inference, 0.0ms loss, 3.2ms postprocess per image\n",
            "Results saved to \u001b[1mruns/detect/train222\u001b[0m\n",
            "\n",
            "🔹 Đang thử nghiệm với Learning Rate: 0.001\n",
            "Ultralytics 8.3.94 🚀 Python-3.11.11 torch-2.6.0+cu124 CUDA:0 (Tesla T4, 15095MiB)\n",
            "\u001b[34m\u001b[1mengine/trainer: \u001b[0mtask=detect, mode=train, model=yolov8m.pt, data=/content/Rice_Seed_Data/data.yaml, epochs=10, time=None, patience=100, batch=16, imgsz=512, save=True, save_period=-1, cache=False, device=0, workers=8, project=None, name=train2222, exist_ok=False, pretrained=True, optimizer=Adam, verbose=True, seed=0, deterministic=True, single_cls=False, rect=False, cos_lr=False, close_mosaic=10, resume=False, amp=True, fraction=1.0, profile=False, freeze=None, multi_scale=False, overlap_mask=True, mask_ratio=4, dropout=0.0, val=True, split=val, save_json=False, save_hybrid=False, conf=None, iou=0.7, max_det=300, half=False, dnn=False, plots=True, source=None, vid_stride=1, stream_buffer=False, visualize=False, augment=False, agnostic_nms=False, classes=None, retina_masks=False, embed=None, show=False, save_frames=False, save_txt=False, save_conf=False, save_crop=False, show_labels=True, show_conf=True, show_boxes=True, line_width=None, format=torchscript, keras=False, optimize=False, int8=False, dynamic=False, simplify=True, opset=None, workspace=None, nms=False, lr0=0.001, lrf=0.01, momentum=0.937, weight_decay=0.0005, warmup_epochs=3.0, warmup_momentum=0.8, warmup_bias_lr=0.1, box=7.5, cls=0.5, dfl=1.5, pose=12.0, kobj=1.0, nbs=64, hsv_h=0.015, hsv_s=0.7, hsv_v=0.4, degrees=0.0, translate=0.1, scale=0.5, shear=0.0, perspective=0.0, flipud=0.0, fliplr=0.5, bgr=0.0, mosaic=1.0, mixup=0.0, copy_paste=0.0, copy_paste_mode=flip, auto_augment=randaugment, erasing=0.4, crop_fraction=1.0, cfg=None, tracker=botsort.yaml, save_dir=runs/detect/train2222\n",
            "\n",
            "                   from  n    params  module                                       arguments                     \n",
            "  0                  -1  1      1392  ultralytics.nn.modules.conv.Conv             [3, 48, 3, 2]                 \n",
            "  1                  -1  1     41664  ultralytics.nn.modules.conv.Conv             [48, 96, 3, 2]                \n",
            "  2                  -1  2    111360  ultralytics.nn.modules.block.C2f             [96, 96, 2, True]             \n",
            "  3                  -1  1    166272  ultralytics.nn.modules.conv.Conv             [96, 192, 3, 2]               \n",
            "  4                  -1  4    813312  ultralytics.nn.modules.block.C2f             [192, 192, 4, True]           \n",
            "  5                  -1  1    664320  ultralytics.nn.modules.conv.Conv             [192, 384, 3, 2]              \n",
            "  6                  -1  4   3248640  ultralytics.nn.modules.block.C2f             [384, 384, 4, True]           \n",
            "  7                  -1  1   1991808  ultralytics.nn.modules.conv.Conv             [384, 576, 3, 2]              \n",
            "  8                  -1  2   3985920  ultralytics.nn.modules.block.C2f             [576, 576, 2, True]           \n",
            "  9                  -1  1    831168  ultralytics.nn.modules.block.SPPF            [576, 576, 5]                 \n",
            " 10                  -1  1         0  torch.nn.modules.upsampling.Upsample         [None, 2, 'nearest']          \n",
            " 11             [-1, 6]  1         0  ultralytics.nn.modules.conv.Concat           [1]                           \n",
            " 12                  -1  2   1993728  ultralytics.nn.modules.block.C2f             [960, 384, 2]                 \n",
            " 13                  -1  1         0  torch.nn.modules.upsampling.Upsample         [None, 2, 'nearest']          \n",
            " 14             [-1, 4]  1         0  ultralytics.nn.modules.conv.Concat           [1]                           \n",
            " 15                  -1  2    517632  ultralytics.nn.modules.block.C2f             [576, 192, 2]                 \n",
            " 16                  -1  1    332160  ultralytics.nn.modules.conv.Conv             [192, 192, 3, 2]              \n",
            " 17            [-1, 12]  1         0  ultralytics.nn.modules.conv.Concat           [1]                           \n",
            " 18                  -1  2   1846272  ultralytics.nn.modules.block.C2f             [576, 384, 2]                 \n",
            " 19                  -1  1   1327872  ultralytics.nn.modules.conv.Conv             [384, 384, 3, 2]              \n",
            " 20             [-1, 9]  1         0  ultralytics.nn.modules.conv.Concat           [1]                           \n",
            " 21                  -1  2   4207104  ultralytics.nn.modules.block.C2f             [960, 576, 2]                 \n",
            " 22        [15, 18, 21]  1   3776275  ultralytics.nn.modules.head.Detect           [1, [192, 384, 576]]          \n",
            "Model summary: 169 layers, 25,856,899 parameters, 25,856,883 gradients, 79.1 GFLOPs\n",
            "\n",
            "Transferred 475/475 items from pretrained weights\n",
            "\u001b[34m\u001b[1mTensorBoard: \u001b[0mStart with 'tensorboard --logdir runs/detect/train2222', view at http://localhost:6006/\n",
            "Freezing layer 'model.22.dfl.conv.weight'\n",
            "\u001b[34m\u001b[1mAMP: \u001b[0mrunning Automatic Mixed Precision (AMP) checks...\n",
            "\u001b[34m\u001b[1mAMP: \u001b[0mchecks passed ✅\n"
          ]
        },
        {
          "name": "stderr",
          "output_type": "stream",
          "text": [
            "\u001b[34m\u001b[1mtrain: \u001b[0mScanning /content/Rice_Seed_Data/train/labels.cache... 888 images, 0 backgrounds, 0 corrupt: 100%|██████████| 888/888 [00:00<?, ?it/s]"
          ]
        },
        {
          "name": "stdout",
          "output_type": "stream",
          "text": [
            "\u001b[34m\u001b[1mtrain: \u001b[0mWARNING ⚠️ /content/Rice_Seed_Data/train/images/_10_jpg.rf.774c74ca43a26af392b315dbf0e65261.jpg: 1 duplicate labels removed\n",
            "\u001b[34m\u001b[1mtrain: \u001b[0mWARNING ⚠️ /content/Rice_Seed_Data/train/images/_10_jpg.rf.9011ac83f0d167684f43cc25e60c6c6a.jpg: 1 duplicate labels removed\n",
            "\u001b[34m\u001b[1mtrain: \u001b[0mWARNING ⚠️ /content/Rice_Seed_Data/train/images/_10_jpg.rf.d5882f8719837ddaa8161e1b0c7093cf.jpg: 1 duplicate labels removed\n",
            "\u001b[34m\u001b[1mtrain: \u001b[0mWARNING ⚠️ /content/Rice_Seed_Data/train/images/_124_jpg.rf.abdbcef5a345645571c29d2e6df4ed83.jpg: 1 duplicate labels removed\n",
            "\u001b[34m\u001b[1mtrain: \u001b[0mWARNING ⚠️ /content/Rice_Seed_Data/train/images/_169_jpg.rf.41c3d88bc8e98a741cfc6c1b4c1951fe.jpg: 1 duplicate labels removed\n",
            "\u001b[34m\u001b[1mtrain: \u001b[0mWARNING ⚠️ /content/Rice_Seed_Data/train/images/_169_jpg.rf.8bb029427cff36aaef32579a81f3e0b0.jpg: 1 duplicate labels removed\n",
            "\u001b[34m\u001b[1mtrain: \u001b[0mWARNING ⚠️ /content/Rice_Seed_Data/train/images/_169_jpg.rf.9ce19c501059d839a5bbdf377eed9d38.jpg: 1 duplicate labels removed\n",
            "\u001b[34m\u001b[1mtrain: \u001b[0mWARNING ⚠️ /content/Rice_Seed_Data/train/images/_206_jpg.rf.2647b8c31704e8877f290a64ba0b98b4.jpg: 1 duplicate labels removed\n",
            "\u001b[34m\u001b[1mtrain: \u001b[0mWARNING ⚠️ /content/Rice_Seed_Data/train/images/_206_jpg.rf.5d338d3c381b63266932a20536ede544.jpg: 1 duplicate labels removed\n",
            "\u001b[34m\u001b[1mtrain: \u001b[0mWARNING ⚠️ /content/Rice_Seed_Data/train/images/_206_jpg.rf.8589efc6a0f2da25c680dd9565a0133f.jpg: 1 duplicate labels removed\n",
            "\u001b[34m\u001b[1mtrain: \u001b[0mWARNING ⚠️ /content/Rice_Seed_Data/train/images/_208_jpg.rf.5f4fca6381c48fb0eda4eb86fdcbc4e5.jpg: 1 duplicate labels removed\n",
            "\u001b[34m\u001b[1mtrain: \u001b[0mWARNING ⚠️ /content/Rice_Seed_Data/train/images/_208_jpg.rf.a9469460ccf8aa29e79d017746728269.jpg: 1 duplicate labels removed\n",
            "\u001b[34m\u001b[1mtrain: \u001b[0mWARNING ⚠️ /content/Rice_Seed_Data/train/images/_211_jpg.rf.430ac1b269a2ecd95697052c618c0919.jpg: 1 duplicate labels removed\n",
            "\u001b[34m\u001b[1mtrain: \u001b[0mWARNING ⚠️ /content/Rice_Seed_Data/train/images/_211_jpg.rf.44bed3628bf8fef1fdecb51b7a9124fe.jpg: 1 duplicate labels removed\n",
            "\u001b[34m\u001b[1mtrain: \u001b[0mWARNING ⚠️ /content/Rice_Seed_Data/train/images/_211_jpg.rf.ced6ea60cf12c226a283669e4e4becba.jpg: 1 duplicate labels removed\n",
            "\u001b[34m\u001b[1mtrain: \u001b[0mWARNING ⚠️ /content/Rice_Seed_Data/train/images/_261_jpg.rf.2df4538573105e17e9a53828746604ad.jpg: 1 duplicate labels removed\n",
            "\u001b[34m\u001b[1mtrain: \u001b[0mWARNING ⚠️ /content/Rice_Seed_Data/train/images/_261_jpg.rf.b7e99d5507723866be324eaeb3c9b102.jpg: 1 duplicate labels removed\n",
            "\u001b[34m\u001b[1mtrain: \u001b[0mWARNING ⚠️ /content/Rice_Seed_Data/train/images/_261_jpg.rf.d2399546616fe00c5205089d84c46cf3.jpg: 1 duplicate labels removed\n",
            "\u001b[34m\u001b[1mtrain: \u001b[0mWARNING ⚠️ /content/Rice_Seed_Data/train/images/_371_jpg.rf.276e7df5008b3c3a1698df62354e5f08.jpg: 1 duplicate labels removed\n",
            "\u001b[34m\u001b[1mtrain: \u001b[0mWARNING ⚠️ /content/Rice_Seed_Data/train/images/_42_jpg.rf.0ff315744ac5733ade7cbf2fef4feace.jpg: 1 duplicate labels removed\n",
            "\u001b[34m\u001b[1mtrain: \u001b[0mWARNING ⚠️ /content/Rice_Seed_Data/train/images/_42_jpg.rf.8bbcb0eebe2cd8bd3742e83af576de3d.jpg: 1 duplicate labels removed\n",
            "\u001b[34m\u001b[1mtrain: \u001b[0mWARNING ⚠️ /content/Rice_Seed_Data/train/images/_42_jpg.rf.c9f75c72b064f8d1c508484352545d62.jpg: 1 duplicate labels removed\n",
            "\u001b[34m\u001b[1mtrain: \u001b[0mWARNING ⚠️ /content/Rice_Seed_Data/train/images/_451_jpg.rf.3b22fcdfcd962116c0e62df7a958f3b6.jpg: 1 duplicate labels removed\n",
            "\u001b[34m\u001b[1mtrain: \u001b[0mWARNING ⚠️ /content/Rice_Seed_Data/train/images/_451_jpg.rf.cf61acb597cb8baf245f77e0fc28e667.jpg: 1 duplicate labels removed\n",
            "\u001b[34m\u001b[1mtrain: \u001b[0mWARNING ⚠️ /content/Rice_Seed_Data/train/images/_451_jpg.rf.efe424bae0416ea71c7864b9d1f14292.jpg: 1 duplicate labels removed\n",
            "\u001b[34m\u001b[1mtrain: \u001b[0mWARNING ⚠️ /content/Rice_Seed_Data/train/images/_471_jpg.rf.2fb084f3e423afdc94576e23ec97cc72.jpg: 1 duplicate labels removed\n",
            "\u001b[34m\u001b[1mtrain: \u001b[0mWARNING ⚠️ /content/Rice_Seed_Data/train/images/_471_jpg.rf.bb721ddd78dd78205a6505340c9f8792.jpg: 1 duplicate labels removed\n",
            "\u001b[34m\u001b[1mtrain: \u001b[0mWARNING ⚠️ /content/Rice_Seed_Data/train/images/_471_jpg.rf.fee64502d42ba918304376f2e1f1b947.jpg: 1 duplicate labels removed\n",
            "\u001b[34m\u001b[1mtrain: \u001b[0mWARNING ⚠️ /content/Rice_Seed_Data/train/images/_47_jpg.rf.42ef0d70280117d9f58e42e33ba018e2.jpg: 1 duplicate labels removed\n",
            "\u001b[34m\u001b[1mtrain: \u001b[0mWARNING ⚠️ /content/Rice_Seed_Data/train/images/_47_jpg.rf.47662a93f0704bed4154fce8af79bcf3.jpg: 1 duplicate labels removed\n",
            "\u001b[34m\u001b[1mtrain: \u001b[0mWARNING ⚠️ /content/Rice_Seed_Data/train/images/_47_jpg.rf.f47742fd625727faf7fa5d1086a73b07.jpg: 2 duplicate labels removed\n",
            "\u001b[34m\u001b[1mtrain: \u001b[0mWARNING ⚠️ /content/Rice_Seed_Data/train/images/_493_jpg.rf.f4f401791e0cbc4565dac499e80ed6b0.jpg: 1 duplicate labels removed\n",
            "\u001b[34m\u001b[1mtrain: \u001b[0mWARNING ⚠️ /content/Rice_Seed_Data/train/images/_502_jpg.rf.9d9719714683cbc1a6acaa8f2e42ab04.jpg: 1 duplicate labels removed\n",
            "\u001b[34m\u001b[1mtrain: \u001b[0mWARNING ⚠️ /content/Rice_Seed_Data/train/images/_502_jpg.rf.ab94018b23760053ddd59927e884f7a0.jpg: 1 duplicate labels removed\n",
            "\u001b[34m\u001b[1mtrain: \u001b[0mWARNING ⚠️ /content/Rice_Seed_Data/train/images/_60_jpg.rf.018d378428cf60069fd382cf56aa5f7f.jpg: 1 duplicate labels removed\n",
            "\u001b[34m\u001b[1mtrain: \u001b[0mWARNING ⚠️ /content/Rice_Seed_Data/train/images/_60_jpg.rf.ce2adf29596eea535c4c16244f5d4a82.jpg: 1 duplicate labels removed\n",
            "\u001b[34m\u001b[1mtrain: \u001b[0mWARNING ⚠️ /content/Rice_Seed_Data/train/images/_60_jpg.rf.f7c9b8a6b9fcfc0fdda3ec30a4a13f1a.jpg: 1 duplicate labels removed\n",
            "\u001b[34m\u001b[1mtrain: \u001b[0mWARNING ⚠️ /content/Rice_Seed_Data/train/images/_64_jpg.rf.7fd31a6f1cb8814772abba861c479c6b.jpg: 1 duplicate labels removed\n",
            "\u001b[34m\u001b[1mtrain: \u001b[0mWARNING ⚠️ /content/Rice_Seed_Data/train/images/_81_jpg.rf.10592a720ae236ed919d5b66a95c520e.jpg: 1 duplicate labels removed\n",
            "\u001b[34m\u001b[1mtrain: \u001b[0mWARNING ⚠️ /content/Rice_Seed_Data/train/images/_81_jpg.rf.b05d26acd29fe1b3e46d95759ea231e8.jpg: 1 duplicate labels removed\n",
            "\u001b[34m\u001b[1mtrain: \u001b[0mWARNING ⚠️ /content/Rice_Seed_Data/train/images/_81_jpg.rf.d06bb81e98de42c31aed18098007c3ad.jpg: 1 duplicate labels removed\n",
            "\u001b[34m\u001b[1mtrain: \u001b[0mWARNING ⚠️ /content/Rice_Seed_Data/train/images/_88_jpg.rf.49c89dd7002fb3630cc4e92a6fddff2e.jpg: 1 duplicate labels removed\n",
            "\u001b[34m\u001b[1mtrain: \u001b[0mWARNING ⚠️ /content/Rice_Seed_Data/train/images/_88_jpg.rf.6b90553912158e671201388b6da7068f.jpg: 1 duplicate labels removed\n",
            "\u001b[34m\u001b[1mtrain: \u001b[0mWARNING ⚠️ /content/Rice_Seed_Data/train/images/_88_jpg.rf.dcd1381648d43676fb63a6b8506ebbe8.jpg: 1 duplicate labels removed\n",
            "\u001b[34m\u001b[1mtrain: \u001b[0mWARNING ⚠️ /content/Rice_Seed_Data/train/images/_9_jpg.rf.395d0d3b7523e403380b9878067f92e2.jpg: 1 duplicate labels removed\n",
            "\u001b[34m\u001b[1mtrain: \u001b[0mWARNING ⚠️ /content/Rice_Seed_Data/train/images/_9_jpg.rf.3a023c2438fd5818ab669d5a5bf44af3.jpg: 1 duplicate labels removed\n",
            "\u001b[34m\u001b[1mtrain: \u001b[0mWARNING ⚠️ /content/Rice_Seed_Data/train/images/_9_jpg.rf.8271cedb6d82d715bbf3e4f4bbd580e3.jpg: 1 duplicate labels removed\n",
            "\u001b[34m\u001b[1malbumentations: \u001b[0mBlur(p=0.01, blur_limit=(3, 7)), MedianBlur(p=0.01, blur_limit=(3, 7)), ToGray(p=0.01, num_output_channels=3, method='weighted_average'), CLAHE(p=0.01, clip_limit=(1.0, 4.0), tile_grid_size=(8, 8))\n"
          ]
        },
        {
          "name": "stderr",
          "output_type": "stream",
          "text": [
            "\n",
            "\u001b[34m\u001b[1mval: \u001b[0mScanning /content/Rice_Seed_Data/valid/labels.cache... 99 images, 0 backgrounds, 0 corrupt: 100%|██████████| 99/99 [00:00<?, ?it/s]"
          ]
        },
        {
          "name": "stdout",
          "output_type": "stream",
          "text": [
            "\u001b[34m\u001b[1mval: \u001b[0mWARNING ⚠️ /content/Rice_Seed_Data/valid/images/_117_jpg.rf.d32c31dd2840e11822463c01a718ad8d.jpg: 1 duplicate labels removed\n",
            "\u001b[34m\u001b[1mval: \u001b[0mWARNING ⚠️ /content/Rice_Seed_Data/valid/images/_127_jpg.rf.7f9464fd8f40d7c8d6c80e6bea60e465.jpg: 1 duplicate labels removed\n",
            "\u001b[34m\u001b[1mval: \u001b[0mWARNING ⚠️ /content/Rice_Seed_Data/valid/images/_129_jpg.rf.ddbcb58947af17762ce8d20e1672af70.jpg: 1 duplicate labels removed\n",
            "\u001b[34m\u001b[1mval: \u001b[0mWARNING ⚠️ /content/Rice_Seed_Data/valid/images/_225_jpg.rf.662e612411b3900c0e731c52c7267866.jpg: 1 duplicate labels removed\n",
            "\u001b[34m\u001b[1mval: \u001b[0mWARNING ⚠️ /content/Rice_Seed_Data/valid/images/_343_jpg.rf.e54f5d8cfed063b6c2122277ab8bab7b.jpg: 1 duplicate labels removed\n",
            "\u001b[34m\u001b[1mval: \u001b[0mWARNING ⚠️ /content/Rice_Seed_Data/valid/images/_56_jpg.rf.b9094b78810e03b483c5f747e17e956e.jpg: 1 duplicate labels removed\n"
          ]
        },
        {
          "name": "stderr",
          "output_type": "stream",
          "text": [
            "\n"
          ]
        },
        {
          "name": "stdout",
          "output_type": "stream",
          "text": [
            "Plotting labels to runs/detect/train2222/labels.jpg... \n",
            "\u001b[34m\u001b[1moptimizer:\u001b[0m Adam(lr=0.001, momentum=0.937) with parameter groups 77 weight(decay=0.0), 84 weight(decay=0.0005), 83 bias(decay=0.0)\n",
            "\u001b[34m\u001b[1mTensorBoard: \u001b[0mmodel graph visualization added ✅\n",
            "Image sizes 512 train, 512 val\n",
            "Using 2 dataloader workers\n",
            "Logging results to \u001b[1mruns/detect/train2222\u001b[0m\n",
            "Starting training for 10 epochs...\n",
            "Closing dataloader mosaic\n",
            "\u001b[34m\u001b[1malbumentations: \u001b[0mBlur(p=0.01, blur_limit=(3, 7)), MedianBlur(p=0.01, blur_limit=(3, 7)), ToGray(p=0.01, num_output_channels=3, method='weighted_average'), CLAHE(p=0.01, clip_limit=(1.0, 4.0), tile_grid_size=(8, 8))\n",
            "\n",
            "      Epoch    GPU_mem   box_loss   cls_loss   dfl_loss  Instances       Size\n"
          ]
        },
        {
          "name": "stderr",
          "output_type": "stream",
          "text": [
            "       1/10      4.91G      1.004     0.5079      1.159         73        512: 100%|██████████| 56/56 [00:20<00:00,  2.71it/s]\n",
            "                 Class     Images  Instances      Box(P          R      mAP50  mAP50-95): 100%|██████████| 4/4 [00:01<00:00,  3.69it/s]"
          ]
        },
        {
          "name": "stdout",
          "output_type": "stream",
          "text": [
            "                   all         99       1160       0.96      0.975      0.991      0.949\n"
          ]
        },
        {
          "name": "stderr",
          "output_type": "stream",
          "text": [
            "\n"
          ]
        },
        {
          "name": "stdout",
          "output_type": "stream",
          "text": [
            "\n",
            "      Epoch    GPU_mem   box_loss   cls_loss   dfl_loss  Instances       Size\n"
          ]
        },
        {
          "name": "stderr",
          "output_type": "stream",
          "text": [
            "       2/10       5.7G     0.9783     0.4815      1.166        109        512: 100%|██████████| 56/56 [00:19<00:00,  2.87it/s]\n",
            "                 Class     Images  Instances      Box(P          R      mAP50  mAP50-95): 100%|██████████| 4/4 [00:01<00:00,  3.86it/s]"
          ]
        },
        {
          "name": "stdout",
          "output_type": "stream",
          "text": [
            "                   all         99       1160      0.965      0.972      0.992       0.95\n"
          ]
        },
        {
          "name": "stderr",
          "output_type": "stream",
          "text": [
            "\n"
          ]
        },
        {
          "name": "stdout",
          "output_type": "stream",
          "text": [
            "\n",
            "      Epoch    GPU_mem   box_loss   cls_loss   dfl_loss  Instances       Size\n"
          ]
        },
        {
          "name": "stderr",
          "output_type": "stream",
          "text": [
            "       3/10      5.77G     0.9622     0.4771      1.141         85        512: 100%|██████████| 56/56 [00:19<00:00,  2.89it/s]\n",
            "                 Class     Images  Instances      Box(P          R      mAP50  mAP50-95): 100%|██████████| 4/4 [00:01<00:00,  3.66it/s]"
          ]
        },
        {
          "name": "stdout",
          "output_type": "stream",
          "text": [
            "                   all         99       1160      0.966      0.975      0.992      0.946\n"
          ]
        },
        {
          "name": "stderr",
          "output_type": "stream",
          "text": [
            "\n"
          ]
        },
        {
          "name": "stdout",
          "output_type": "stream",
          "text": [
            "\n",
            "      Epoch    GPU_mem   box_loss   cls_loss   dfl_loss  Instances       Size\n"
          ]
        },
        {
          "name": "stderr",
          "output_type": "stream",
          "text": [
            "       4/10      5.77G     0.9723     0.4744      1.145         75        512: 100%|██████████| 56/56 [00:19<00:00,  2.93it/s]\n",
            "                 Class     Images  Instances      Box(P          R      mAP50  mAP50-95): 100%|██████████| 4/4 [00:01<00:00,  2.93it/s]"
          ]
        },
        {
          "name": "stdout",
          "output_type": "stream",
          "text": [
            "                   all         99       1160       0.97      0.969      0.991      0.942\n"
          ]
        },
        {
          "name": "stderr",
          "output_type": "stream",
          "text": [
            "\n"
          ]
        },
        {
          "name": "stdout",
          "output_type": "stream",
          "text": [
            "\n",
            "      Epoch    GPU_mem   box_loss   cls_loss   dfl_loss  Instances       Size\n"
          ]
        },
        {
          "name": "stderr",
          "output_type": "stream",
          "text": [
            "       5/10      5.77G     0.9544     0.4669      1.142        110        512: 100%|██████████| 56/56 [00:19<00:00,  2.92it/s]\n",
            "                 Class     Images  Instances      Box(P          R      mAP50  mAP50-95): 100%|██████████| 4/4 [00:01<00:00,  3.83it/s]"
          ]
        },
        {
          "name": "stdout",
          "output_type": "stream",
          "text": [
            "                   all         99       1160      0.972      0.971       0.99      0.956\n"
          ]
        },
        {
          "name": "stderr",
          "output_type": "stream",
          "text": [
            "\n"
          ]
        },
        {
          "name": "stdout",
          "output_type": "stream",
          "text": [
            "\n",
            "      Epoch    GPU_mem   box_loss   cls_loss   dfl_loss  Instances       Size\n"
          ]
        },
        {
          "name": "stderr",
          "output_type": "stream",
          "text": [
            "       6/10      5.77G     0.9384     0.4565      1.133         74        512: 100%|██████████| 56/56 [00:19<00:00,  2.85it/s]\n",
            "                 Class     Images  Instances      Box(P          R      mAP50  mAP50-95): 100%|██████████| 4/4 [00:01<00:00,  3.81it/s]"
          ]
        },
        {
          "name": "stdout",
          "output_type": "stream",
          "text": [
            "                   all         99       1160      0.974      0.968      0.992      0.949\n"
          ]
        },
        {
          "name": "stderr",
          "output_type": "stream",
          "text": [
            "\n"
          ]
        },
        {
          "name": "stdout",
          "output_type": "stream",
          "text": [
            "\n",
            "      Epoch    GPU_mem   box_loss   cls_loss   dfl_loss  Instances       Size\n"
          ]
        },
        {
          "name": "stderr",
          "output_type": "stream",
          "text": [
            "       7/10      5.77G     0.9422     0.4547      1.133         61        512: 100%|██████████| 56/56 [00:19<00:00,  2.94it/s]\n",
            "                 Class     Images  Instances      Box(P          R      mAP50  mAP50-95): 100%|██████████| 4/4 [00:01<00:00,  3.83it/s]"
          ]
        },
        {
          "name": "stdout",
          "output_type": "stream",
          "text": [
            "                   all         99       1160      0.979      0.968      0.993       0.96\n"
          ]
        },
        {
          "name": "stderr",
          "output_type": "stream",
          "text": [
            "\n"
          ]
        },
        {
          "name": "stdout",
          "output_type": "stream",
          "text": [
            "\n",
            "      Epoch    GPU_mem   box_loss   cls_loss   dfl_loss  Instances       Size\n"
          ]
        },
        {
          "name": "stderr",
          "output_type": "stream",
          "text": [
            "       8/10      5.77G      0.937      0.449      1.136         98        512: 100%|██████████| 56/56 [00:18<00:00,  2.95it/s]\n",
            "                 Class     Images  Instances      Box(P          R      mAP50  mAP50-95): 100%|██████████| 4/4 [00:01<00:00,  3.83it/s]"
          ]
        },
        {
          "name": "stdout",
          "output_type": "stream",
          "text": [
            "                   all         99       1160      0.981      0.969      0.992      0.962\n"
          ]
        },
        {
          "name": "stderr",
          "output_type": "stream",
          "text": [
            "\n"
          ]
        },
        {
          "name": "stdout",
          "output_type": "stream",
          "text": [
            "\n",
            "      Epoch    GPU_mem   box_loss   cls_loss   dfl_loss  Instances       Size\n"
          ]
        },
        {
          "name": "stderr",
          "output_type": "stream",
          "text": [
            "       9/10      5.77G     0.9361     0.4527      1.131        107        512: 100%|██████████| 56/56 [00:19<00:00,  2.88it/s]\n",
            "                 Class     Images  Instances      Box(P          R      mAP50  mAP50-95): 100%|██████████| 4/4 [00:01<00:00,  3.80it/s]"
          ]
        },
        {
          "name": "stdout",
          "output_type": "stream",
          "text": [
            "                   all         99       1160      0.972      0.977      0.993      0.966\n"
          ]
        },
        {
          "name": "stderr",
          "output_type": "stream",
          "text": [
            "\n"
          ]
        },
        {
          "name": "stdout",
          "output_type": "stream",
          "text": [
            "\n",
            "      Epoch    GPU_mem   box_loss   cls_loss   dfl_loss  Instances       Size\n"
          ]
        },
        {
          "name": "stderr",
          "output_type": "stream",
          "text": [
            "      10/10      5.77G     0.9258      0.444      1.135         82        512: 100%|██████████| 56/56 [00:19<00:00,  2.89it/s]\n",
            "                 Class     Images  Instances      Box(P          R      mAP50  mAP50-95): 100%|██████████| 4/4 [00:01<00:00,  3.87it/s]"
          ]
        },
        {
          "name": "stdout",
          "output_type": "stream",
          "text": [
            "                   all         99       1160      0.977      0.975      0.992      0.967\n"
          ]
        },
        {
          "name": "stderr",
          "output_type": "stream",
          "text": [
            "\n"
          ]
        },
        {
          "name": "stdout",
          "output_type": "stream",
          "text": [
            "\n",
            "10 epochs completed in 0.067 hours.\n",
            "Optimizer stripped from runs/detect/train2222/weights/last.pt, 52.0MB\n",
            "Optimizer stripped from runs/detect/train2222/weights/best.pt, 52.0MB\n",
            "\n",
            "Validating runs/detect/train2222/weights/best.pt...\n",
            "Ultralytics 8.3.94 🚀 Python-3.11.11 torch-2.6.0+cu124 CUDA:0 (Tesla T4, 15095MiB)\n",
            "Model summary (fused): 92 layers, 25,840,339 parameters, 0 gradients, 78.7 GFLOPs\n"
          ]
        },
        {
          "name": "stderr",
          "output_type": "stream",
          "text": [
            "                 Class     Images  Instances      Box(P          R      mAP50  mAP50-95): 100%|██████████| 4/4 [00:02<00:00,  1.42it/s]\n"
          ]
        },
        {
          "name": "stdout",
          "output_type": "stream",
          "text": [
            "                   all         99       1160      0.977      0.975      0.992      0.966\n",
            "Speed: 0.3ms preprocess, 7.0ms inference, 0.0ms loss, 2.4ms postprocess per image\n",
            "Results saved to \u001b[1mruns/detect/train2222\u001b[0m\n"
          ]
        }
      ],
      "source": [
        "# Kiếm learning rate phù hợp\n",
        "import torch\n",
        "import matplotlib.pyplot as plt\n",
        "from ultralytics import YOLO\n",
        "\n",
        "learning_rates = [0.01,0.005,0.0025,0.001]\n",
        "model = YOLO(\"yolov11s.pt\")\n",
        "for lr in learning_rates:\n",
        "    print(f\"\\n🔹 Đang thử nghiệm với Learning Rate: {lr}\")\n",
        "    model.train(data=\"/content/Rice_Seed_Data/data.yaml\", epochs=10, batch=16, lr0=lr, device=0 , optimizer=\"Adam\" ,imgsz=640)\n"
      ]
    },
    {
      "cell_type": "markdown",
      "source": [
        "# **Cấu hình tham số và huấn luyện mô hình**"
      ],
      "metadata": {
        "id": "5ES6wyeZn06L"
      }
    },
    {
      "cell_type": "code",
      "source": [
        "from ultralytics import YOLO\n",
        "model = YOLO(\"yolov8l.pt\")\n",
        "model.train(data=\"/content/data.yaml\",\n",
        "            epochs=100,\n",
        "            imgsz=640,\n",
        "            batch=16,\n",
        "            device=0,\n",
        "            optimizer=\"Adam\",\n",
        "            lr0=0.005,\n",
        "            patience=30)"
      ],
      "metadata": {
        "colab": {
          "base_uri": "https://localhost:8080/"
        },
        "id": "H7plYwr_VFKB",
        "outputId": "2668668a-722d-42f7-f1d3-cad74cc96a1f",
        "collapsed": true
      },
      "execution_count": null,
      "outputs": [
        {
          "output_type": "stream",
          "name": "stdout",
          "text": [
            "Downloading https://github.com/ultralytics/assets/releases/download/v8.3.0/yolov8l.pt to 'yolov8l.pt'...\n"
          ]
        },
        {
          "output_type": "stream",
          "name": "stderr",
          "text": [
            "100%|██████████| 83.7M/83.7M [00:00<00:00, 282MB/s]\n"
          ]
        },
        {
          "output_type": "stream",
          "name": "stdout",
          "text": [
            "Ultralytics 8.3.122 🚀 Python-3.11.12 torch-2.6.0+cu124 CUDA:0 (Tesla T4, 15095MiB)\n",
            "\u001b[34m\u001b[1mengine/trainer: \u001b[0mtask=detect, mode=train, model=yolov8l.pt, data=/content/data.yaml, epochs=100, time=None, patience=30, batch=16, imgsz=640, save=True, save_period=-1, cache=False, device=0, workers=8, project=None, name=train4, exist_ok=False, pretrained=True, optimizer=Adam, verbose=True, seed=0, deterministic=True, single_cls=False, rect=False, cos_lr=False, close_mosaic=10, resume=False, amp=True, fraction=1.0, profile=False, freeze=None, multi_scale=False, overlap_mask=True, mask_ratio=4, dropout=0.0, val=True, split=val, save_json=False, conf=None, iou=0.7, max_det=300, half=False, dnn=False, plots=True, source=None, vid_stride=1, stream_buffer=False, visualize=False, augment=False, agnostic_nms=False, classes=None, retina_masks=False, embed=None, show=False, save_frames=False, save_txt=False, save_conf=False, save_crop=False, show_labels=True, show_conf=True, show_boxes=True, line_width=None, format=torchscript, keras=False, optimize=False, int8=False, dynamic=False, simplify=True, opset=None, workspace=None, nms=False, lr0=0.005, lrf=0.01, momentum=0.937, weight_decay=0.0005, warmup_epochs=3.0, warmup_momentum=0.8, warmup_bias_lr=0.1, box=7.5, cls=0.5, dfl=1.5, pose=12.0, kobj=1.0, nbs=64, hsv_h=0.015, hsv_s=0.7, hsv_v=0.4, degrees=0.0, translate=0.1, scale=0.5, shear=0.0, perspective=0.0, flipud=0.0, fliplr=0.5, bgr=0.0, mosaic=1.0, mixup=0.0, cutmix=0.0, copy_paste=0.0, copy_paste_mode=flip, auto_augment=randaugment, erasing=0.4, cfg=None, tracker=botsort.yaml, save_dir=runs/detect/train4\n",
            "Overriding model.yaml nc=80 with nc=8\n",
            "\n",
            "                   from  n    params  module                                       arguments                     \n",
            "  0                  -1  1      1856  ultralytics.nn.modules.conv.Conv             [3, 64, 3, 2]                 \n",
            "  1                  -1  1     73984  ultralytics.nn.modules.conv.Conv             [64, 128, 3, 2]               \n",
            "  2                  -1  3    279808  ultralytics.nn.modules.block.C2f             [128, 128, 3, True]           \n",
            "  3                  -1  1    295424  ultralytics.nn.modules.conv.Conv             [128, 256, 3, 2]              \n",
            "  4                  -1  6   2101248  ultralytics.nn.modules.block.C2f             [256, 256, 6, True]           \n",
            "  5                  -1  1   1180672  ultralytics.nn.modules.conv.Conv             [256, 512, 3, 2]              \n",
            "  6                  -1  6   8396800  ultralytics.nn.modules.block.C2f             [512, 512, 6, True]           \n",
            "  7                  -1  1   2360320  ultralytics.nn.modules.conv.Conv             [512, 512, 3, 2]              \n",
            "  8                  -1  3   4461568  ultralytics.nn.modules.block.C2f             [512, 512, 3, True]           \n",
            "  9                  -1  1    656896  ultralytics.nn.modules.block.SPPF            [512, 512, 5]                 \n",
            " 10                  -1  1         0  torch.nn.modules.upsampling.Upsample         [None, 2, 'nearest']          \n",
            " 11             [-1, 6]  1         0  ultralytics.nn.modules.conv.Concat           [1]                           \n",
            " 12                  -1  3   4723712  ultralytics.nn.modules.block.C2f             [1024, 512, 3]                \n",
            " 13                  -1  1         0  torch.nn.modules.upsampling.Upsample         [None, 2, 'nearest']          \n",
            " 14             [-1, 4]  1         0  ultralytics.nn.modules.conv.Concat           [1]                           \n",
            " 15                  -1  3   1247744  ultralytics.nn.modules.block.C2f             [768, 256, 3]                 \n",
            " 16                  -1  1    590336  ultralytics.nn.modules.conv.Conv             [256, 256, 3, 2]              \n",
            " 17            [-1, 12]  1         0  ultralytics.nn.modules.conv.Concat           [1]                           \n",
            " 18                  -1  3   4592640  ultralytics.nn.modules.block.C2f             [768, 512, 3]                 \n",
            " 19                  -1  1   2360320  ultralytics.nn.modules.conv.Conv             [512, 512, 3, 2]              \n",
            " 20             [-1, 9]  1         0  ultralytics.nn.modules.conv.Concat           [1]                           \n",
            " 21                  -1  3   4723712  ultralytics.nn.modules.block.C2f             [1024, 512, 3]                \n",
            " 22        [15, 18, 21]  1   5588968  ultralytics.nn.modules.head.Detect           [8, [256, 512, 512]]          \n",
            "Model summary: 209 layers, 43,636,008 parameters, 43,635,992 gradients, 165.4 GFLOPs\n",
            "\n",
            "Transferred 589/595 items from pretrained weights\n",
            "Freezing layer 'model.22.dfl.conv.weight'\n",
            "\u001b[34m\u001b[1mAMP: \u001b[0mrunning Automatic Mixed Precision (AMP) checks...\n",
            "\u001b[34m\u001b[1mAMP: \u001b[0mchecks passed ✅\n",
            "\u001b[34m\u001b[1mtrain: \u001b[0mFast image access ✅ (ping: 0.0±0.0 ms, read: 670.4±193.3 MB/s, size: 25.6 KB)\n"
          ]
        },
        {
          "output_type": "stream",
          "name": "stderr",
          "text": [
            "\u001b[34m\u001b[1mtrain: \u001b[0mScanning /content/train/labels.cache... 936 images, 0 backgrounds, 0 corrupt: 100%|██████████| 936/936 [00:00<?, ?it/s]"
          ]
        },
        {
          "output_type": "stream",
          "name": "stdout",
          "text": [
            "\u001b[34m\u001b[1malbumentations: \u001b[0mBlur(p=0.01, blur_limit=(3, 7)), MedianBlur(p=0.01, blur_limit=(3, 7)), ToGray(p=0.01, num_output_channels=3, method='weighted_average'), CLAHE(p=0.01, clip_limit=(1.0, 4.0), tile_grid_size=(8, 8))\n"
          ]
        },
        {
          "output_type": "stream",
          "name": "stderr",
          "text": [
            "\n"
          ]
        },
        {
          "output_type": "stream",
          "name": "stdout",
          "text": [
            "\u001b[34m\u001b[1mval: \u001b[0mFast image access ✅ (ping: 0.0±0.0 ms, read: 234.7±136.0 MB/s, size: 28.0 KB)\n"
          ]
        },
        {
          "output_type": "stream",
          "name": "stderr",
          "text": [
            "\u001b[34m\u001b[1mval: \u001b[0mScanning /content/valid/labels.cache... 104 images, 0 backgrounds, 0 corrupt: 100%|██████████| 104/104 [00:00<?, ?it/s]\n"
          ]
        },
        {
          "output_type": "stream",
          "name": "stdout",
          "text": [
            "Plotting labels to runs/detect/train4/labels.jpg... \n",
            "\u001b[34m\u001b[1moptimizer:\u001b[0m Adam(lr=0.005, momentum=0.937) with parameter groups 97 weight(decay=0.0), 104 weight(decay=0.0005), 103 bias(decay=0.0)\n",
            "Image sizes 640 train, 640 val\n",
            "Using 2 dataloader workers\n",
            "Logging results to \u001b[1mruns/detect/train4\u001b[0m\n",
            "Starting training for 100 epochs...\n",
            "\n",
            "      Epoch    GPU_mem   box_loss   cls_loss   dfl_loss  Instances       Size\n"
          ]
        },
        {
          "output_type": "stream",
          "name": "stderr",
          "text": [
            "      1/100      9.41G      1.387      2.745      1.605        197        640: 100%|██████████| 59/59 [00:46<00:00,  1.27it/s]\n",
            "                 Class     Images  Instances      Box(P          R      mAP50  mAP50-95): 100%|██████████| 4/4 [00:02<00:00,  1.57it/s]\n"
          ]
        },
        {
          "output_type": "stream",
          "name": "stdout",
          "text": [
            "                   all        104       1345          0          0          0          0\n",
            "\n",
            "      Epoch    GPU_mem   box_loss   cls_loss   dfl_loss  Instances       Size\n"
          ]
        },
        {
          "output_type": "stream",
          "name": "stderr",
          "text": [
            "      2/100      9.79G       1.34       2.12      1.593        132        640: 100%|██████████| 59/59 [00:46<00:00,  1.27it/s]\n",
            "                 Class     Images  Instances      Box(P          R      mAP50  mAP50-95): 100%|██████████| 4/4 [00:10<00:00,  2.68s/it]"
          ]
        },
        {
          "output_type": "stream",
          "name": "stdout",
          "text": [
            "                   all        104       1345      0.117        0.7      0.149       0.12\n"
          ]
        },
        {
          "output_type": "stream",
          "name": "stderr",
          "text": [
            "\n"
          ]
        },
        {
          "output_type": "stream",
          "name": "stdout",
          "text": [
            "\n",
            "      Epoch    GPU_mem   box_loss   cls_loss   dfl_loss  Instances       Size\n"
          ]
        },
        {
          "output_type": "stream",
          "name": "stderr",
          "text": [
            "      3/100      9.68G      1.364      2.037      1.602        159        640: 100%|██████████| 59/59 [00:46<00:00,  1.28it/s]\n",
            "                 Class     Images  Instances      Box(P          R      mAP50  mAP50-95): 100%|██████████| 4/4 [00:02<00:00,  1.63it/s]\n"
          ]
        },
        {
          "output_type": "stream",
          "name": "stdout",
          "text": [
            "                   all        104       1345      0.276     0.0927     0.0413     0.0283\n",
            "\n",
            "      Epoch    GPU_mem   box_loss   cls_loss   dfl_loss  Instances       Size\n"
          ]
        },
        {
          "output_type": "stream",
          "name": "stderr",
          "text": [
            "      4/100      9.83G      1.319       1.93      1.581        151        640: 100%|██████████| 59/59 [00:46<00:00,  1.28it/s]\n",
            "                 Class     Images  Instances      Box(P          R      mAP50  mAP50-95): 100%|██████████| 4/4 [00:02<00:00,  1.80it/s]\n"
          ]
        },
        {
          "output_type": "stream",
          "name": "stdout",
          "text": [
            "                   all        104       1345      0.145       0.77      0.239      0.167\n",
            "\n",
            "      Epoch    GPU_mem   box_loss   cls_loss   dfl_loss  Instances       Size\n"
          ]
        },
        {
          "output_type": "stream",
          "name": "stderr",
          "text": [
            "      5/100      9.67G      1.337      1.867      1.579        135        640: 100%|██████████| 59/59 [00:46<00:00,  1.27it/s]\n",
            "                 Class     Images  Instances      Box(P          R      mAP50  mAP50-95): 100%|██████████| 4/4 [00:02<00:00,  1.62it/s]"
          ]
        },
        {
          "output_type": "stream",
          "name": "stdout",
          "text": [
            "                   all        104       1345      0.301      0.485      0.226      0.167\n"
          ]
        },
        {
          "output_type": "stream",
          "name": "stderr",
          "text": [
            "\n"
          ]
        },
        {
          "output_type": "stream",
          "name": "stdout",
          "text": [
            "\n",
            "      Epoch    GPU_mem   box_loss   cls_loss   dfl_loss  Instances       Size\n"
          ]
        },
        {
          "output_type": "stream",
          "name": "stderr",
          "text": [
            "      6/100      9.82G       1.28      1.789      1.546        145        640: 100%|██████████| 59/59 [00:46<00:00,  1.27it/s]\n",
            "                 Class     Images  Instances      Box(P          R      mAP50  mAP50-95): 100%|██████████| 4/4 [00:02<00:00,  1.81it/s]\n"
          ]
        },
        {
          "output_type": "stream",
          "name": "stdout",
          "text": [
            "                   all        104       1345      0.353      0.493      0.196      0.136\n",
            "\n",
            "      Epoch    GPU_mem   box_loss   cls_loss   dfl_loss  Instances       Size\n"
          ]
        },
        {
          "output_type": "stream",
          "name": "stderr",
          "text": [
            "      7/100      9.77G      1.218      1.772        1.5        139        640: 100%|██████████| 59/59 [00:46<00:00,  1.26it/s]\n",
            "                 Class     Images  Instances      Box(P          R      mAP50  mAP50-95): 100%|██████████| 4/4 [00:02<00:00,  1.62it/s]"
          ]
        },
        {
          "output_type": "stream",
          "name": "stdout",
          "text": [
            "                   all        104       1345      0.405      0.582      0.263      0.226\n"
          ]
        },
        {
          "output_type": "stream",
          "name": "stderr",
          "text": [
            "\n"
          ]
        },
        {
          "output_type": "stream",
          "name": "stdout",
          "text": [
            "\n",
            "      Epoch    GPU_mem   box_loss   cls_loss   dfl_loss  Instances       Size\n"
          ]
        },
        {
          "output_type": "stream",
          "name": "stderr",
          "text": [
            "      8/100      9.79G      1.232      1.741       1.49        171        640: 100%|██████████| 59/59 [00:46<00:00,  1.27it/s]\n",
            "                 Class     Images  Instances      Box(P          R      mAP50  mAP50-95): 100%|██████████| 4/4 [00:02<00:00,  1.70it/s]"
          ]
        },
        {
          "output_type": "stream",
          "name": "stdout",
          "text": [
            "                   all        104       1345      0.293      0.651      0.272      0.226\n"
          ]
        },
        {
          "output_type": "stream",
          "name": "stderr",
          "text": [
            "\n"
          ]
        },
        {
          "output_type": "stream",
          "name": "stdout",
          "text": [
            "\n",
            "      Epoch    GPU_mem   box_loss   cls_loss   dfl_loss  Instances       Size\n"
          ]
        },
        {
          "output_type": "stream",
          "name": "stderr",
          "text": [
            "      9/100      9.68G      1.212      1.718      1.495        228        640: 100%|██████████| 59/59 [00:46<00:00,  1.27it/s]\n",
            "                 Class     Images  Instances      Box(P          R      mAP50  mAP50-95): 100%|██████████| 4/4 [00:04<00:00,  1.03s/it]"
          ]
        },
        {
          "output_type": "stream",
          "name": "stdout",
          "text": [
            "                   all        104       1345      0.251      0.577      0.273      0.239\n"
          ]
        },
        {
          "output_type": "stream",
          "name": "stderr",
          "text": [
            "\n"
          ]
        },
        {
          "output_type": "stream",
          "name": "stdout",
          "text": [
            "\n",
            "      Epoch    GPU_mem   box_loss   cls_loss   dfl_loss  Instances       Size\n"
          ]
        },
        {
          "output_type": "stream",
          "name": "stderr",
          "text": [
            "     10/100       9.7G      1.192      1.674      1.473        189        640: 100%|██████████| 59/59 [00:46<00:00,  1.27it/s]\n",
            "                 Class     Images  Instances      Box(P          R      mAP50  mAP50-95): 100%|██████████| 4/4 [00:02<00:00,  1.71it/s]"
          ]
        },
        {
          "output_type": "stream",
          "name": "stdout",
          "text": [
            "                   all        104       1345      0.474      0.579      0.352      0.308\n"
          ]
        },
        {
          "output_type": "stream",
          "name": "stderr",
          "text": [
            "\n"
          ]
        },
        {
          "output_type": "stream",
          "name": "stdout",
          "text": [
            "\n",
            "      Epoch    GPU_mem   box_loss   cls_loss   dfl_loss  Instances       Size\n"
          ]
        },
        {
          "output_type": "stream",
          "name": "stderr",
          "text": [
            "     11/100      9.77G      1.183      1.639      1.462        148        640: 100%|██████████| 59/59 [00:46<00:00,  1.26it/s]\n",
            "                 Class     Images  Instances      Box(P          R      mAP50  mAP50-95): 100%|██████████| 4/4 [00:02<00:00,  1.82it/s]"
          ]
        },
        {
          "output_type": "stream",
          "name": "stdout",
          "text": [
            "                   all        104       1345      0.336      0.682      0.344      0.311\n"
          ]
        },
        {
          "output_type": "stream",
          "name": "stderr",
          "text": [
            "\n"
          ]
        },
        {
          "output_type": "stream",
          "name": "stdout",
          "text": [
            "\n",
            "      Epoch    GPU_mem   box_loss   cls_loss   dfl_loss  Instances       Size\n"
          ]
        },
        {
          "output_type": "stream",
          "name": "stderr",
          "text": [
            "     12/100      9.78G      1.196      1.604      1.468        149        640: 100%|██████████| 59/59 [00:46<00:00,  1.28it/s]\n",
            "                 Class     Images  Instances      Box(P          R      mAP50  mAP50-95): 100%|██████████| 4/4 [00:02<00:00,  1.83it/s]\n"
          ]
        },
        {
          "output_type": "stream",
          "name": "stdout",
          "text": [
            "                   all        104       1345      0.329      0.642      0.385      0.329\n",
            "\n",
            "      Epoch    GPU_mem   box_loss   cls_loss   dfl_loss  Instances       Size\n"
          ]
        },
        {
          "output_type": "stream",
          "name": "stderr",
          "text": [
            "     13/100      9.67G      1.169       1.59      1.447        157        640: 100%|██████████| 59/59 [00:45<00:00,  1.29it/s]\n",
            "                 Class     Images  Instances      Box(P          R      mAP50  mAP50-95): 100%|██████████| 4/4 [00:02<00:00,  1.67it/s]"
          ]
        },
        {
          "output_type": "stream",
          "name": "stdout",
          "text": [
            "                   all        104       1345      0.283      0.696      0.432       0.35\n"
          ]
        },
        {
          "output_type": "stream",
          "name": "stderr",
          "text": [
            "\n"
          ]
        },
        {
          "output_type": "stream",
          "name": "stdout",
          "text": [
            "\n",
            "      Epoch    GPU_mem   box_loss   cls_loss   dfl_loss  Instances       Size\n"
          ]
        },
        {
          "output_type": "stream",
          "name": "stderr",
          "text": [
            "     14/100       9.7G      1.141      1.564      1.435        154        640: 100%|██████████| 59/59 [00:46<00:00,  1.27it/s]\n",
            "                 Class     Images  Instances      Box(P          R      mAP50  mAP50-95): 100%|██████████| 4/4 [00:02<00:00,  1.60it/s]"
          ]
        },
        {
          "output_type": "stream",
          "name": "stdout",
          "text": [
            "                   all        104       1345      0.321      0.613      0.265      0.157\n"
          ]
        },
        {
          "output_type": "stream",
          "name": "stderr",
          "text": [
            "\n"
          ]
        },
        {
          "output_type": "stream",
          "name": "stdout",
          "text": [
            "\n",
            "      Epoch    GPU_mem   box_loss   cls_loss   dfl_loss  Instances       Size\n"
          ]
        },
        {
          "output_type": "stream",
          "name": "stderr",
          "text": [
            "     15/100      9.78G      1.153      1.587      1.445        149        640: 100%|██████████| 59/59 [00:47<00:00,  1.25it/s]\n",
            "                 Class     Images  Instances      Box(P          R      mAP50  mAP50-95): 100%|██████████| 4/4 [00:02<00:00,  1.70it/s]\n"
          ]
        },
        {
          "output_type": "stream",
          "name": "stdout",
          "text": [
            "                   all        104       1345      0.378      0.664      0.412      0.377\n",
            "\n",
            "      Epoch    GPU_mem   box_loss   cls_loss   dfl_loss  Instances       Size\n"
          ]
        },
        {
          "output_type": "stream",
          "name": "stderr",
          "text": [
            "     16/100      9.83G       1.12      1.541       1.42        165        640: 100%|██████████| 59/59 [00:46<00:00,  1.27it/s]\n",
            "                 Class     Images  Instances      Box(P          R      mAP50  mAP50-95): 100%|██████████| 4/4 [00:02<00:00,  1.70it/s]"
          ]
        },
        {
          "output_type": "stream",
          "name": "stdout",
          "text": [
            "                   all        104       1345      0.283      0.672      0.402      0.364\n"
          ]
        },
        {
          "output_type": "stream",
          "name": "stderr",
          "text": [
            "\n"
          ]
        },
        {
          "output_type": "stream",
          "name": "stdout",
          "text": [
            "\n",
            "      Epoch    GPU_mem   box_loss   cls_loss   dfl_loss  Instances       Size\n"
          ]
        },
        {
          "output_type": "stream",
          "name": "stderr",
          "text": [
            "     17/100      9.55G      1.101      1.552      1.413        204        640: 100%|██████████| 59/59 [00:46<00:00,  1.28it/s]\n",
            "                 Class     Images  Instances      Box(P          R      mAP50  mAP50-95): 100%|██████████| 4/4 [00:02<00:00,  1.77it/s]\n"
          ]
        },
        {
          "output_type": "stream",
          "name": "stdout",
          "text": [
            "                   all        104       1345      0.413      0.538      0.399      0.348\n",
            "\n",
            "      Epoch    GPU_mem   box_loss   cls_loss   dfl_loss  Instances       Size\n"
          ]
        },
        {
          "output_type": "stream",
          "name": "stderr",
          "text": [
            "     18/100      9.83G      1.106      1.492      1.404        141        640: 100%|██████████| 59/59 [00:46<00:00,  1.27it/s]\n",
            "                 Class     Images  Instances      Box(P          R      mAP50  mAP50-95): 100%|██████████| 4/4 [00:02<00:00,  1.80it/s]"
          ]
        },
        {
          "output_type": "stream",
          "name": "stdout",
          "text": [
            "                   all        104       1345      0.501      0.651      0.522      0.482\n"
          ]
        },
        {
          "output_type": "stream",
          "name": "stderr",
          "text": [
            "\n"
          ]
        },
        {
          "output_type": "stream",
          "name": "stdout",
          "text": [
            "\n",
            "      Epoch    GPU_mem   box_loss   cls_loss   dfl_loss  Instances       Size\n"
          ]
        },
        {
          "output_type": "stream",
          "name": "stderr",
          "text": [
            "     19/100      9.81G      1.077       1.48      1.394        121        640: 100%|██████████| 59/59 [00:46<00:00,  1.27it/s]\n",
            "                 Class     Images  Instances      Box(P          R      mAP50  mAP50-95): 100%|██████████| 4/4 [00:02<00:00,  1.83it/s]"
          ]
        },
        {
          "output_type": "stream",
          "name": "stdout",
          "text": [
            "                   all        104       1345       0.44      0.752      0.522      0.487\n"
          ]
        },
        {
          "output_type": "stream",
          "name": "stderr",
          "text": [
            "\n"
          ]
        },
        {
          "output_type": "stream",
          "name": "stdout",
          "text": [
            "\n",
            "      Epoch    GPU_mem   box_loss   cls_loss   dfl_loss  Instances       Size\n"
          ]
        },
        {
          "output_type": "stream",
          "name": "stderr",
          "text": [
            "     20/100      9.79G       1.09      1.466      1.386        138        640: 100%|██████████| 59/59 [00:46<00:00,  1.27it/s]\n",
            "                 Class     Images  Instances      Box(P          R      mAP50  mAP50-95): 100%|██████████| 4/4 [00:02<00:00,  1.76it/s]"
          ]
        },
        {
          "output_type": "stream",
          "name": "stdout",
          "text": [
            "                   all        104       1345      0.357      0.772      0.537        0.5\n"
          ]
        },
        {
          "output_type": "stream",
          "name": "stderr",
          "text": [
            "\n"
          ]
        },
        {
          "output_type": "stream",
          "name": "stdout",
          "text": [
            "\n",
            "      Epoch    GPU_mem   box_loss   cls_loss   dfl_loss  Instances       Size\n"
          ]
        },
        {
          "output_type": "stream",
          "name": "stderr",
          "text": [
            "     21/100      9.65G      1.094      1.466      1.389        129        640: 100%|██████████| 59/59 [00:46<00:00,  1.27it/s]\n",
            "                 Class     Images  Instances      Box(P          R      mAP50  mAP50-95): 100%|██████████| 4/4 [00:02<00:00,  1.76it/s]"
          ]
        },
        {
          "output_type": "stream",
          "name": "stdout",
          "text": [
            "                   all        104       1345      0.445      0.738      0.564      0.532\n"
          ]
        },
        {
          "output_type": "stream",
          "name": "stderr",
          "text": [
            "\n"
          ]
        },
        {
          "output_type": "stream",
          "name": "stdout",
          "text": [
            "\n",
            "      Epoch    GPU_mem   box_loss   cls_loss   dfl_loss  Instances       Size\n"
          ]
        },
        {
          "output_type": "stream",
          "name": "stderr",
          "text": [
            "     22/100      9.68G      1.081      1.419      1.387        186        640: 100%|██████████| 59/59 [00:46<00:00,  1.27it/s]\n",
            "                 Class     Images  Instances      Box(P          R      mAP50  mAP50-95): 100%|██████████| 4/4 [00:02<00:00,  1.75it/s]"
          ]
        },
        {
          "output_type": "stream",
          "name": "stdout",
          "text": [
            "                   all        104       1345      0.538      0.672      0.562      0.425\n"
          ]
        },
        {
          "output_type": "stream",
          "name": "stderr",
          "text": [
            "\n"
          ]
        },
        {
          "output_type": "stream",
          "name": "stdout",
          "text": [
            "\n",
            "      Epoch    GPU_mem   box_loss   cls_loss   dfl_loss  Instances       Size\n"
          ]
        },
        {
          "output_type": "stream",
          "name": "stderr",
          "text": [
            "     23/100      9.78G      1.075      1.412      1.383        113        640: 100%|██████████| 59/59 [00:46<00:00,  1.28it/s]\n",
            "                 Class     Images  Instances      Box(P          R      mAP50  mAP50-95): 100%|██████████| 4/4 [00:02<00:00,  1.79it/s]\n"
          ]
        },
        {
          "output_type": "stream",
          "name": "stdout",
          "text": [
            "                   all        104       1345       0.44      0.714      0.577      0.534\n",
            "\n",
            "      Epoch    GPU_mem   box_loss   cls_loss   dfl_loss  Instances       Size\n"
          ]
        },
        {
          "output_type": "stream",
          "name": "stderr",
          "text": [
            "     24/100       9.8G      1.067      1.381      1.392        206        640: 100%|██████████| 59/59 [00:46<00:00,  1.27it/s]\n",
            "                 Class     Images  Instances      Box(P          R      mAP50  mAP50-95): 100%|██████████| 4/4 [00:02<00:00,  1.83it/s]"
          ]
        },
        {
          "output_type": "stream",
          "name": "stdout",
          "text": [
            "                   all        104       1345      0.529      0.801      0.657      0.611\n"
          ]
        },
        {
          "output_type": "stream",
          "name": "stderr",
          "text": [
            "\n"
          ]
        },
        {
          "output_type": "stream",
          "name": "stdout",
          "text": [
            "\n",
            "      Epoch    GPU_mem   box_loss   cls_loss   dfl_loss  Instances       Size\n"
          ]
        },
        {
          "output_type": "stream",
          "name": "stderr",
          "text": [
            "     25/100      9.62G      1.095      1.368      1.404        137        640: 100%|██████████| 59/59 [00:46<00:00,  1.27it/s]\n",
            "                 Class     Images  Instances      Box(P          R      mAP50  mAP50-95): 100%|██████████| 4/4 [00:02<00:00,  1.81it/s]"
          ]
        },
        {
          "output_type": "stream",
          "name": "stdout",
          "text": [
            "                   all        104       1345      0.645      0.693      0.672      0.632\n"
          ]
        },
        {
          "output_type": "stream",
          "name": "stderr",
          "text": [
            "\n"
          ]
        },
        {
          "output_type": "stream",
          "name": "stdout",
          "text": [
            "\n",
            "      Epoch    GPU_mem   box_loss   cls_loss   dfl_loss  Instances       Size\n"
          ]
        },
        {
          "output_type": "stream",
          "name": "stderr",
          "text": [
            "     26/100      9.79G      1.068      1.334      1.368         88        640: 100%|██████████| 59/59 [00:46<00:00,  1.28it/s]\n",
            "                 Class     Images  Instances      Box(P          R      mAP50  mAP50-95): 100%|██████████| 4/4 [00:02<00:00,  1.72it/s]"
          ]
        },
        {
          "output_type": "stream",
          "name": "stdout",
          "text": [
            "                   all        104       1345      0.458      0.754      0.587      0.486\n"
          ]
        },
        {
          "output_type": "stream",
          "name": "stderr",
          "text": [
            "\n"
          ]
        },
        {
          "output_type": "stream",
          "name": "stdout",
          "text": [
            "\n",
            "      Epoch    GPU_mem   box_loss   cls_loss   dfl_loss  Instances       Size\n"
          ]
        },
        {
          "output_type": "stream",
          "name": "stderr",
          "text": [
            "     27/100       9.8G      1.026      1.308       1.36        125        640: 100%|██████████| 59/59 [00:46<00:00,  1.28it/s]\n",
            "                 Class     Images  Instances      Box(P          R      mAP50  mAP50-95): 100%|██████████| 4/4 [00:02<00:00,  1.83it/s]"
          ]
        },
        {
          "output_type": "stream",
          "name": "stdout",
          "text": [
            "                   all        104       1345      0.475      0.755      0.617       0.54\n"
          ]
        },
        {
          "output_type": "stream",
          "name": "stderr",
          "text": [
            "\n"
          ]
        },
        {
          "output_type": "stream",
          "name": "stdout",
          "text": [
            "\n",
            "      Epoch    GPU_mem   box_loss   cls_loss   dfl_loss  Instances       Size\n"
          ]
        },
        {
          "output_type": "stream",
          "name": "stderr",
          "text": [
            "     28/100      9.45G      1.071      1.293      1.379        110        640: 100%|██████████| 59/59 [00:46<00:00,  1.27it/s]\n",
            "                 Class     Images  Instances      Box(P          R      mAP50  mAP50-95): 100%|██████████| 4/4 [00:02<00:00,  1.79it/s]"
          ]
        },
        {
          "output_type": "stream",
          "name": "stdout",
          "text": [
            "                   all        104       1345       0.63       0.71       0.69      0.658\n"
          ]
        },
        {
          "output_type": "stream",
          "name": "stderr",
          "text": [
            "\n"
          ]
        },
        {
          "output_type": "stream",
          "name": "stdout",
          "text": [
            "\n",
            "      Epoch    GPU_mem   box_loss   cls_loss   dfl_loss  Instances       Size\n"
          ]
        },
        {
          "output_type": "stream",
          "name": "stderr",
          "text": [
            "     29/100      9.65G      1.053      1.276      1.379        134        640: 100%|██████████| 59/59 [00:46<00:00,  1.28it/s]\n",
            "                 Class     Images  Instances      Box(P          R      mAP50  mAP50-95): 100%|██████████| 4/4 [00:02<00:00,  1.78it/s]\n"
          ]
        },
        {
          "output_type": "stream",
          "name": "stdout",
          "text": [
            "                   all        104       1345      0.532      0.825      0.669      0.624\n",
            "\n",
            "      Epoch    GPU_mem   box_loss   cls_loss   dfl_loss  Instances       Size\n"
          ]
        },
        {
          "output_type": "stream",
          "name": "stderr",
          "text": [
            "     30/100      9.81G      1.038      1.265      1.368        201        640: 100%|██████████| 59/59 [00:46<00:00,  1.27it/s]\n",
            "                 Class     Images  Instances      Box(P          R      mAP50  mAP50-95): 100%|██████████| 4/4 [00:02<00:00,  1.80it/s]\n"
          ]
        },
        {
          "output_type": "stream",
          "name": "stdout",
          "text": [
            "                   all        104       1345      0.517      0.791      0.713      0.672\n",
            "\n",
            "      Epoch    GPU_mem   box_loss   cls_loss   dfl_loss  Instances       Size\n"
          ]
        },
        {
          "output_type": "stream",
          "name": "stderr",
          "text": [
            "     31/100      9.78G      1.056      1.245      1.373        151        640: 100%|██████████| 59/59 [00:46<00:00,  1.27it/s]\n",
            "                 Class     Images  Instances      Box(P          R      mAP50  mAP50-95): 100%|██████████| 4/4 [00:02<00:00,  1.83it/s]"
          ]
        },
        {
          "output_type": "stream",
          "name": "stdout",
          "text": [
            "                   all        104       1345      0.573      0.779       0.64      0.602\n"
          ]
        },
        {
          "output_type": "stream",
          "name": "stderr",
          "text": [
            "\n"
          ]
        },
        {
          "output_type": "stream",
          "name": "stdout",
          "text": [
            "\n",
            "      Epoch    GPU_mem   box_loss   cls_loss   dfl_loss  Instances       Size\n"
          ]
        },
        {
          "output_type": "stream",
          "name": "stderr",
          "text": [
            "     32/100       9.8G      1.056      1.253       1.37        149        640: 100%|██████████| 59/59 [00:46<00:00,  1.27it/s]\n",
            "                 Class     Images  Instances      Box(P          R      mAP50  mAP50-95): 100%|██████████| 4/4 [00:02<00:00,  1.71it/s]"
          ]
        },
        {
          "output_type": "stream",
          "name": "stdout",
          "text": [
            "                   all        104       1345      0.778      0.626      0.694      0.664\n"
          ]
        },
        {
          "output_type": "stream",
          "name": "stderr",
          "text": [
            "\n"
          ]
        },
        {
          "output_type": "stream",
          "name": "stdout",
          "text": [
            "\n",
            "      Epoch    GPU_mem   box_loss   cls_loss   dfl_loss  Instances       Size\n"
          ]
        },
        {
          "output_type": "stream",
          "name": "stderr",
          "text": [
            "     33/100      9.54G      1.042      1.224      1.373        169        640: 100%|██████████| 59/59 [00:46<00:00,  1.26it/s]\n",
            "                 Class     Images  Instances      Box(P          R      mAP50  mAP50-95): 100%|██████████| 4/4 [00:02<00:00,  1.69it/s]"
          ]
        },
        {
          "output_type": "stream",
          "name": "stdout",
          "text": [
            "                   all        104       1345      0.561      0.806      0.659      0.634\n"
          ]
        },
        {
          "output_type": "stream",
          "name": "stderr",
          "text": [
            "\n"
          ]
        },
        {
          "output_type": "stream",
          "name": "stdout",
          "text": [
            "\n",
            "      Epoch    GPU_mem   box_loss   cls_loss   dfl_loss  Instances       Size\n"
          ]
        },
        {
          "output_type": "stream",
          "name": "stderr",
          "text": [
            "     34/100      9.74G      1.049      1.195      1.362        150        640: 100%|██████████| 59/59 [00:46<00:00,  1.27it/s]\n",
            "                 Class     Images  Instances      Box(P          R      mAP50  mAP50-95): 100%|██████████| 4/4 [00:02<00:00,  1.78it/s]"
          ]
        },
        {
          "output_type": "stream",
          "name": "stdout",
          "text": [
            "                   all        104       1345      0.629        0.7      0.675      0.648\n"
          ]
        },
        {
          "output_type": "stream",
          "name": "stderr",
          "text": [
            "\n"
          ]
        },
        {
          "output_type": "stream",
          "name": "stdout",
          "text": [
            "\n",
            "      Epoch    GPU_mem   box_loss   cls_loss   dfl_loss  Instances       Size\n"
          ]
        },
        {
          "output_type": "stream",
          "name": "stderr",
          "text": [
            "     35/100      9.75G      1.014      1.197      1.343        144        640: 100%|██████████| 59/59 [00:46<00:00,  1.27it/s]\n",
            "                 Class     Images  Instances      Box(P          R      mAP50  mAP50-95): 100%|██████████| 4/4 [00:02<00:00,  1.84it/s]"
          ]
        },
        {
          "output_type": "stream",
          "name": "stdout",
          "text": [
            "                   all        104       1345      0.549       0.86      0.701      0.677\n"
          ]
        },
        {
          "output_type": "stream",
          "name": "stderr",
          "text": [
            "\n"
          ]
        },
        {
          "output_type": "stream",
          "name": "stdout",
          "text": [
            "\n",
            "      Epoch    GPU_mem   box_loss   cls_loss   dfl_loss  Instances       Size\n"
          ]
        },
        {
          "output_type": "stream",
          "name": "stderr",
          "text": [
            "     36/100      9.81G       1.03      1.182      1.351         95        640: 100%|██████████| 59/59 [00:46<00:00,  1.27it/s]\n",
            "                 Class     Images  Instances      Box(P          R      mAP50  mAP50-95): 100%|██████████| 4/4 [00:02<00:00,  1.77it/s]\n"
          ]
        },
        {
          "output_type": "stream",
          "name": "stdout",
          "text": [
            "                   all        104       1345      0.622      0.696      0.692      0.663\n",
            "\n",
            "      Epoch    GPU_mem   box_loss   cls_loss   dfl_loss  Instances       Size\n"
          ]
        },
        {
          "output_type": "stream",
          "name": "stderr",
          "text": [
            "     37/100      9.69G      1.023      1.181      1.355        130        640: 100%|██████████| 59/59 [00:46<00:00,  1.28it/s]\n",
            "                 Class     Images  Instances      Box(P          R      mAP50  mAP50-95): 100%|██████████| 4/4 [00:02<00:00,  1.79it/s]"
          ]
        },
        {
          "output_type": "stream",
          "name": "stdout",
          "text": [
            "                   all        104       1345      0.578      0.827      0.752      0.708\n"
          ]
        },
        {
          "output_type": "stream",
          "name": "stderr",
          "text": [
            "\n"
          ]
        },
        {
          "output_type": "stream",
          "name": "stdout",
          "text": [
            "\n",
            "      Epoch    GPU_mem   box_loss   cls_loss   dfl_loss  Instances       Size\n"
          ]
        },
        {
          "output_type": "stream",
          "name": "stderr",
          "text": [
            "     38/100      9.84G     0.9914      1.148      1.321        185        640: 100%|██████████| 59/59 [00:46<00:00,  1.27it/s]\n",
            "                 Class     Images  Instances      Box(P          R      mAP50  mAP50-95): 100%|██████████| 4/4 [00:02<00:00,  1.78it/s]"
          ]
        },
        {
          "output_type": "stream",
          "name": "stdout",
          "text": [
            "                   all        104       1345       0.42      0.715      0.601      0.585\n"
          ]
        },
        {
          "output_type": "stream",
          "name": "stderr",
          "text": [
            "\n"
          ]
        },
        {
          "output_type": "stream",
          "name": "stdout",
          "text": [
            "\n",
            "      Epoch    GPU_mem   box_loss   cls_loss   dfl_loss  Instances       Size\n"
          ]
        },
        {
          "output_type": "stream",
          "name": "stderr",
          "text": [
            "     39/100      9.75G       1.01      1.131      1.339        141        640: 100%|██████████| 59/59 [00:46<00:00,  1.27it/s]\n",
            "                 Class     Images  Instances      Box(P          R      mAP50  mAP50-95): 100%|██████████| 4/4 [00:02<00:00,  1.83it/s]"
          ]
        },
        {
          "output_type": "stream",
          "name": "stdout",
          "text": [
            "                   all        104       1345      0.603      0.834      0.738        0.7\n"
          ]
        },
        {
          "output_type": "stream",
          "name": "stderr",
          "text": [
            "\n"
          ]
        },
        {
          "output_type": "stream",
          "name": "stdout",
          "text": [
            "\n",
            "      Epoch    GPU_mem   box_loss   cls_loss   dfl_loss  Instances       Size\n"
          ]
        },
        {
          "output_type": "stream",
          "name": "stderr",
          "text": [
            "     40/100      9.74G      1.009      1.121      1.333        121        640: 100%|██████████| 59/59 [00:46<00:00,  1.27it/s]\n",
            "                 Class     Images  Instances      Box(P          R      mAP50  mAP50-95): 100%|██████████| 4/4 [00:02<00:00,  1.83it/s]"
          ]
        },
        {
          "output_type": "stream",
          "name": "stdout",
          "text": [
            "                   all        104       1345      0.636      0.735      0.666      0.633\n"
          ]
        },
        {
          "output_type": "stream",
          "name": "stderr",
          "text": [
            "\n"
          ]
        },
        {
          "output_type": "stream",
          "name": "stdout",
          "text": [
            "\n",
            "      Epoch    GPU_mem   box_loss   cls_loss   dfl_loss  Instances       Size\n"
          ]
        },
        {
          "output_type": "stream",
          "name": "stderr",
          "text": [
            "     41/100      9.64G      1.003      1.152      1.318        143        640: 100%|██████████| 59/59 [00:46<00:00,  1.28it/s]\n",
            "                 Class     Images  Instances      Box(P          R      mAP50  mAP50-95): 100%|██████████| 4/4 [00:02<00:00,  1.84it/s]"
          ]
        },
        {
          "output_type": "stream",
          "name": "stdout",
          "text": [
            "                   all        104       1345       0.63      0.864      0.783      0.759\n"
          ]
        },
        {
          "output_type": "stream",
          "name": "stderr",
          "text": [
            "\n"
          ]
        },
        {
          "output_type": "stream",
          "name": "stdout",
          "text": [
            "\n",
            "      Epoch    GPU_mem   box_loss   cls_loss   dfl_loss  Instances       Size\n"
          ]
        },
        {
          "output_type": "stream",
          "name": "stderr",
          "text": [
            "     42/100      9.81G      1.006      1.152      1.345        179        640: 100%|██████████| 59/59 [00:46<00:00,  1.27it/s]\n",
            "                 Class     Images  Instances      Box(P          R      mAP50  mAP50-95): 100%|██████████| 4/4 [00:02<00:00,  1.83it/s]"
          ]
        },
        {
          "output_type": "stream",
          "name": "stdout",
          "text": [
            "                   all        104       1345      0.748      0.735      0.763       0.74\n"
          ]
        },
        {
          "output_type": "stream",
          "name": "stderr",
          "text": [
            "\n"
          ]
        },
        {
          "output_type": "stream",
          "name": "stdout",
          "text": [
            "\n",
            "      Epoch    GPU_mem   box_loss   cls_loss   dfl_loss  Instances       Size\n"
          ]
        },
        {
          "output_type": "stream",
          "name": "stderr",
          "text": [
            "     43/100      9.65G     0.9773      1.145      1.316        134        640: 100%|██████████| 59/59 [00:46<00:00,  1.28it/s]\n",
            "                 Class     Images  Instances      Box(P          R      mAP50  mAP50-95): 100%|██████████| 4/4 [00:02<00:00,  1.73it/s]\n"
          ]
        },
        {
          "output_type": "stream",
          "name": "stdout",
          "text": [
            "                   all        104       1345      0.691      0.767      0.709       0.69\n",
            "\n",
            "      Epoch    GPU_mem   box_loss   cls_loss   dfl_loss  Instances       Size\n"
          ]
        },
        {
          "output_type": "stream",
          "name": "stderr",
          "text": [
            "     44/100      9.78G     0.9672      1.152      1.314        183        640: 100%|██████████| 59/59 [00:46<00:00,  1.27it/s]\n",
            "                 Class     Images  Instances      Box(P          R      mAP50  mAP50-95): 100%|██████████| 4/4 [00:02<00:00,  1.83it/s]"
          ]
        },
        {
          "output_type": "stream",
          "name": "stdout",
          "text": [
            "                   all        104       1345      0.504      0.757      0.669       0.64\n"
          ]
        },
        {
          "output_type": "stream",
          "name": "stderr",
          "text": [
            "\n"
          ]
        },
        {
          "output_type": "stream",
          "name": "stdout",
          "text": [
            "\n",
            "      Epoch    GPU_mem   box_loss   cls_loss   dfl_loss  Instances       Size\n"
          ]
        },
        {
          "output_type": "stream",
          "name": "stderr",
          "text": [
            "     45/100      9.65G      1.014      1.103      1.351        154        640: 100%|██████████| 59/59 [00:46<00:00,  1.27it/s]\n",
            "                 Class     Images  Instances      Box(P          R      mAP50  mAP50-95): 100%|██████████| 4/4 [00:02<00:00,  1.83it/s]"
          ]
        },
        {
          "output_type": "stream",
          "name": "stdout",
          "text": [
            "                   all        104       1345      0.592      0.849      0.737      0.676\n"
          ]
        },
        {
          "output_type": "stream",
          "name": "stderr",
          "text": [
            "\n"
          ]
        },
        {
          "output_type": "stream",
          "name": "stdout",
          "text": [
            "\n",
            "      Epoch    GPU_mem   box_loss   cls_loss   dfl_loss  Instances       Size\n"
          ]
        },
        {
          "output_type": "stream",
          "name": "stderr",
          "text": [
            "     46/100      9.78G      1.011      1.102      1.341        126        640: 100%|██████████| 59/59 [00:46<00:00,  1.27it/s]\n",
            "                 Class     Images  Instances      Box(P          R      mAP50  mAP50-95): 100%|██████████| 4/4 [00:02<00:00,  1.81it/s]"
          ]
        },
        {
          "output_type": "stream",
          "name": "stdout",
          "text": [
            "                   all        104       1345      0.544      0.873      0.786      0.755\n"
          ]
        },
        {
          "output_type": "stream",
          "name": "stderr",
          "text": [
            "\n"
          ]
        },
        {
          "output_type": "stream",
          "name": "stdout",
          "text": [
            "\n",
            "      Epoch    GPU_mem   box_loss   cls_loss   dfl_loss  Instances       Size\n"
          ]
        },
        {
          "output_type": "stream",
          "name": "stderr",
          "text": [
            "     47/100      9.78G     0.9739      1.077      1.303        130        640: 100%|██████████| 59/59 [00:46<00:00,  1.27it/s]\n",
            "                 Class     Images  Instances      Box(P          R      mAP50  mAP50-95): 100%|██████████| 4/4 [00:02<00:00,  1.80it/s]"
          ]
        },
        {
          "output_type": "stream",
          "name": "stdout",
          "text": [
            "                   all        104       1345      0.642      0.821      0.753      0.721\n"
          ]
        },
        {
          "output_type": "stream",
          "name": "stderr",
          "text": [
            "\n"
          ]
        },
        {
          "output_type": "stream",
          "name": "stdout",
          "text": [
            "\n",
            "      Epoch    GPU_mem   box_loss   cls_loss   dfl_loss  Instances       Size\n"
          ]
        },
        {
          "output_type": "stream",
          "name": "stderr",
          "text": [
            "     48/100       9.8G       1.01        1.1       1.34        150        640: 100%|██████████| 59/59 [00:46<00:00,  1.26it/s]\n",
            "                 Class     Images  Instances      Box(P          R      mAP50  mAP50-95): 100%|██████████| 4/4 [00:02<00:00,  1.84it/s]"
          ]
        },
        {
          "output_type": "stream",
          "name": "stdout",
          "text": [
            "                   all        104       1345      0.562      0.819      0.689      0.623\n"
          ]
        },
        {
          "output_type": "stream",
          "name": "stderr",
          "text": [
            "\n"
          ]
        },
        {
          "output_type": "stream",
          "name": "stdout",
          "text": [
            "\n",
            "      Epoch    GPU_mem   box_loss   cls_loss   dfl_loss  Instances       Size\n"
          ]
        },
        {
          "output_type": "stream",
          "name": "stderr",
          "text": [
            "     49/100       9.6G     0.9771       1.05       1.31        108        640: 100%|██████████| 59/59 [00:46<00:00,  1.27it/s]\n",
            "                 Class     Images  Instances      Box(P          R      mAP50  mAP50-95): 100%|██████████| 4/4 [00:02<00:00,  1.85it/s]"
          ]
        },
        {
          "output_type": "stream",
          "name": "stdout",
          "text": [
            "                   all        104       1345      0.541      0.771      0.677      0.656\n"
          ]
        },
        {
          "output_type": "stream",
          "name": "stderr",
          "text": [
            "\n"
          ]
        },
        {
          "output_type": "stream",
          "name": "stdout",
          "text": [
            "\n",
            "      Epoch    GPU_mem   box_loss   cls_loss   dfl_loss  Instances       Size\n"
          ]
        },
        {
          "output_type": "stream",
          "name": "stderr",
          "text": [
            "     50/100       9.8G     0.9558      1.054      1.295        133        640: 100%|██████████| 59/59 [00:46<00:00,  1.27it/s]\n",
            "                 Class     Images  Instances      Box(P          R      mAP50  mAP50-95): 100%|██████████| 4/4 [00:02<00:00,  1.82it/s]"
          ]
        },
        {
          "output_type": "stream",
          "name": "stdout",
          "text": [
            "                   all        104       1345      0.615      0.744      0.736      0.718\n"
          ]
        },
        {
          "output_type": "stream",
          "name": "stderr",
          "text": [
            "\n"
          ]
        },
        {
          "output_type": "stream",
          "name": "stdout",
          "text": [
            "\n",
            "      Epoch    GPU_mem   box_loss   cls_loss   dfl_loss  Instances       Size\n"
          ]
        },
        {
          "output_type": "stream",
          "name": "stderr",
          "text": [
            "     51/100      9.83G     0.9553      1.017        1.3        152        640: 100%|██████████| 59/59 [00:46<00:00,  1.27it/s]\n",
            "                 Class     Images  Instances      Box(P          R      mAP50  mAP50-95): 100%|██████████| 4/4 [00:02<00:00,  1.70it/s]"
          ]
        },
        {
          "output_type": "stream",
          "name": "stdout",
          "text": [
            "                   all        104       1345      0.681      0.858      0.772      0.745\n"
          ]
        },
        {
          "output_type": "stream",
          "name": "stderr",
          "text": [
            "\n"
          ]
        },
        {
          "output_type": "stream",
          "name": "stdout",
          "text": [
            "\n",
            "      Epoch    GPU_mem   box_loss   cls_loss   dfl_loss  Instances       Size\n"
          ]
        },
        {
          "output_type": "stream",
          "name": "stderr",
          "text": [
            "     52/100      9.81G     0.9496      1.061       1.29        141        640: 100%|██████████| 59/59 [00:46<00:00,  1.27it/s]\n",
            "                 Class     Images  Instances      Box(P          R      mAP50  mAP50-95): 100%|██████████| 4/4 [00:02<00:00,  1.82it/s]\n"
          ]
        },
        {
          "output_type": "stream",
          "name": "stdout",
          "text": [
            "                   all        104       1345      0.643      0.857      0.746      0.724\n",
            "\n",
            "      Epoch    GPU_mem   box_loss   cls_loss   dfl_loss  Instances       Size\n"
          ]
        },
        {
          "output_type": "stream",
          "name": "stderr",
          "text": [
            "     53/100      9.61G     0.9532      1.041      1.302        152        640: 100%|██████████| 59/59 [00:46<00:00,  1.27it/s]\n",
            "                 Class     Images  Instances      Box(P          R      mAP50  mAP50-95): 100%|██████████| 4/4 [00:02<00:00,  1.74it/s]"
          ]
        },
        {
          "output_type": "stream",
          "name": "stdout",
          "text": [
            "                   all        104       1345      0.715      0.776      0.779      0.748\n"
          ]
        },
        {
          "output_type": "stream",
          "name": "stderr",
          "text": [
            "\n"
          ]
        },
        {
          "output_type": "stream",
          "name": "stdout",
          "text": [
            "\n",
            "      Epoch    GPU_mem   box_loss   cls_loss   dfl_loss  Instances       Size\n"
          ]
        },
        {
          "output_type": "stream",
          "name": "stderr",
          "text": [
            "     54/100      9.81G     0.9469      1.024       1.29        119        640: 100%|██████████| 59/59 [00:46<00:00,  1.27it/s]\n",
            "                 Class     Images  Instances      Box(P          R      mAP50  mAP50-95): 100%|██████████| 4/4 [00:02<00:00,  1.69it/s]"
          ]
        },
        {
          "output_type": "stream",
          "name": "stdout",
          "text": [
            "                   all        104       1345      0.455      0.691       0.63      0.591\n"
          ]
        },
        {
          "output_type": "stream",
          "name": "stderr",
          "text": [
            "\n"
          ]
        },
        {
          "output_type": "stream",
          "name": "stdout",
          "text": [
            "\n",
            "      Epoch    GPU_mem   box_loss   cls_loss   dfl_loss  Instances       Size\n"
          ]
        },
        {
          "output_type": "stream",
          "name": "stderr",
          "text": [
            "     55/100      9.83G     0.9372      1.013      1.298        152        640: 100%|██████████| 59/59 [00:46<00:00,  1.27it/s]\n",
            "                 Class     Images  Instances      Box(P          R      mAP50  mAP50-95): 100%|██████████| 4/4 [00:02<00:00,  1.73it/s]"
          ]
        },
        {
          "output_type": "stream",
          "name": "stdout",
          "text": [
            "                   all        104       1345      0.692      0.765       0.78      0.758\n"
          ]
        },
        {
          "output_type": "stream",
          "name": "stderr",
          "text": [
            "\n"
          ]
        },
        {
          "output_type": "stream",
          "name": "stdout",
          "text": [
            "\n",
            "      Epoch    GPU_mem   box_loss   cls_loss   dfl_loss  Instances       Size\n"
          ]
        },
        {
          "output_type": "stream",
          "name": "stderr",
          "text": [
            "     56/100      9.73G     0.9028      1.026      1.273        113        640: 100%|██████████| 59/59 [00:46<00:00,  1.28it/s]\n",
            "                 Class     Images  Instances      Box(P          R      mAP50  mAP50-95): 100%|██████████| 4/4 [00:02<00:00,  1.84it/s]\n"
          ]
        },
        {
          "output_type": "stream",
          "name": "stdout",
          "text": [
            "                   all        104       1345      0.678        0.8      0.789      0.771\n",
            "\n",
            "      Epoch    GPU_mem   box_loss   cls_loss   dfl_loss  Instances       Size\n"
          ]
        },
        {
          "output_type": "stream",
          "name": "stderr",
          "text": [
            "     57/100      9.62G     0.9029      0.994      1.286        114        640: 100%|██████████| 59/59 [00:46<00:00,  1.26it/s]\n",
            "                 Class     Images  Instances      Box(P          R      mAP50  mAP50-95): 100%|██████████| 4/4 [00:02<00:00,  1.83it/s]"
          ]
        },
        {
          "output_type": "stream",
          "name": "stdout",
          "text": [
            "                   all        104       1345      0.523      0.767      0.679      0.663\n"
          ]
        },
        {
          "output_type": "stream",
          "name": "stderr",
          "text": [
            "\n"
          ]
        },
        {
          "output_type": "stream",
          "name": "stdout",
          "text": [
            "\n",
            "      Epoch    GPU_mem   box_loss   cls_loss   dfl_loss  Instances       Size\n"
          ]
        },
        {
          "output_type": "stream",
          "name": "stderr",
          "text": [
            "     58/100      9.83G     0.9247     0.9699      1.282        153        640: 100%|██████████| 59/59 [00:46<00:00,  1.28it/s]\n",
            "                 Class     Images  Instances      Box(P          R      mAP50  mAP50-95): 100%|██████████| 4/4 [00:02<00:00,  1.84it/s]"
          ]
        },
        {
          "output_type": "stream",
          "name": "stdout",
          "text": [
            "                   all        104       1345      0.757      0.805      0.813       0.79\n"
          ]
        },
        {
          "output_type": "stream",
          "name": "stderr",
          "text": [
            "\n"
          ]
        },
        {
          "output_type": "stream",
          "name": "stdout",
          "text": [
            "\n",
            "      Epoch    GPU_mem   box_loss   cls_loss   dfl_loss  Instances       Size\n"
          ]
        },
        {
          "output_type": "stream",
          "name": "stderr",
          "text": [
            "     59/100       9.8G     0.9123     0.9636      1.273        146        640: 100%|██████████| 59/59 [00:46<00:00,  1.26it/s]\n",
            "                 Class     Images  Instances      Box(P          R      mAP50  mAP50-95): 100%|██████████| 4/4 [00:02<00:00,  1.84it/s]"
          ]
        },
        {
          "output_type": "stream",
          "name": "stdout",
          "text": [
            "                   all        104       1345      0.584      0.691      0.712      0.689\n"
          ]
        },
        {
          "output_type": "stream",
          "name": "stderr",
          "text": [
            "\n"
          ]
        },
        {
          "output_type": "stream",
          "name": "stdout",
          "text": [
            "\n",
            "      Epoch    GPU_mem   box_loss   cls_loss   dfl_loss  Instances       Size\n"
          ]
        },
        {
          "output_type": "stream",
          "name": "stderr",
          "text": [
            "     60/100       9.8G     0.8986     0.9347      1.253        114        640: 100%|██████████| 59/59 [00:46<00:00,  1.27it/s]\n",
            "                 Class     Images  Instances      Box(P          R      mAP50  mAP50-95): 100%|██████████| 4/4 [00:02<00:00,  1.82it/s]"
          ]
        },
        {
          "output_type": "stream",
          "name": "stdout",
          "text": [
            "                   all        104       1345      0.658      0.851      0.804      0.789\n"
          ]
        },
        {
          "output_type": "stream",
          "name": "stderr",
          "text": [
            "\n"
          ]
        },
        {
          "output_type": "stream",
          "name": "stdout",
          "text": [
            "\n",
            "      Epoch    GPU_mem   box_loss   cls_loss   dfl_loss  Instances       Size\n"
          ]
        },
        {
          "output_type": "stream",
          "name": "stderr",
          "text": [
            "     61/100      9.63G     0.8831     0.9654      1.258         96        640: 100%|██████████| 59/59 [00:46<00:00,  1.27it/s]\n",
            "                 Class     Images  Instances      Box(P          R      mAP50  mAP50-95): 100%|██████████| 4/4 [00:02<00:00,  1.77it/s]"
          ]
        },
        {
          "output_type": "stream",
          "name": "stdout",
          "text": [
            "                   all        104       1345      0.769      0.773      0.828      0.812\n"
          ]
        },
        {
          "output_type": "stream",
          "name": "stderr",
          "text": [
            "\n"
          ]
        },
        {
          "output_type": "stream",
          "name": "stdout",
          "text": [
            "\n",
            "      Epoch    GPU_mem   box_loss   cls_loss   dfl_loss  Instances       Size\n"
          ]
        },
        {
          "output_type": "stream",
          "name": "stderr",
          "text": [
            "     62/100      9.79G     0.8775     0.9483      1.252        140        640: 100%|██████████| 59/59 [00:46<00:00,  1.27it/s]\n",
            "                 Class     Images  Instances      Box(P          R      mAP50  mAP50-95): 100%|██████████| 4/4 [00:02<00:00,  1.83it/s]\n"
          ]
        },
        {
          "output_type": "stream",
          "name": "stdout",
          "text": [
            "                   all        104       1345      0.669      0.815      0.835      0.819\n",
            "\n",
            "      Epoch    GPU_mem   box_loss   cls_loss   dfl_loss  Instances       Size\n"
          ]
        },
        {
          "output_type": "stream",
          "name": "stderr",
          "text": [
            "     63/100      9.72G     0.8851     0.9606      1.258        110        640: 100%|██████████| 59/59 [00:46<00:00,  1.28it/s]\n",
            "                 Class     Images  Instances      Box(P          R      mAP50  mAP50-95): 100%|██████████| 4/4 [00:02<00:00,  1.69it/s]"
          ]
        },
        {
          "output_type": "stream",
          "name": "stdout",
          "text": [
            "                   all        104       1345      0.746      0.834      0.853      0.827\n"
          ]
        },
        {
          "output_type": "stream",
          "name": "stderr",
          "text": [
            "\n"
          ]
        },
        {
          "output_type": "stream",
          "name": "stdout",
          "text": [
            "\n",
            "      Epoch    GPU_mem   box_loss   cls_loss   dfl_loss  Instances       Size\n"
          ]
        },
        {
          "output_type": "stream",
          "name": "stderr",
          "text": [
            "     64/100      9.79G     0.8633     0.9157      1.246         92        640: 100%|██████████| 59/59 [00:46<00:00,  1.28it/s]\n",
            "                 Class     Images  Instances      Box(P          R      mAP50  mAP50-95): 100%|██████████| 4/4 [00:02<00:00,  1.79it/s]\n"
          ]
        },
        {
          "output_type": "stream",
          "name": "stdout",
          "text": [
            "                   all        104       1345      0.721      0.856      0.822      0.803\n",
            "\n",
            "      Epoch    GPU_mem   box_loss   cls_loss   dfl_loss  Instances       Size\n"
          ]
        },
        {
          "output_type": "stream",
          "name": "stderr",
          "text": [
            "     65/100      9.66G     0.8764     0.9218      1.248        154        640: 100%|██████████| 59/59 [00:46<00:00,  1.27it/s]\n",
            "                 Class     Images  Instances      Box(P          R      mAP50  mAP50-95): 100%|██████████| 4/4 [00:02<00:00,  1.78it/s]"
          ]
        },
        {
          "output_type": "stream",
          "name": "stdout",
          "text": [
            "                   all        104       1345      0.749      0.814      0.835      0.819\n"
          ]
        },
        {
          "output_type": "stream",
          "name": "stderr",
          "text": [
            "\n"
          ]
        },
        {
          "output_type": "stream",
          "name": "stdout",
          "text": [
            "\n",
            "      Epoch    GPU_mem   box_loss   cls_loss   dfl_loss  Instances       Size\n"
          ]
        },
        {
          "output_type": "stream",
          "name": "stderr",
          "text": [
            "     66/100      9.75G     0.8654     0.9243      1.242        146        640: 100%|██████████| 59/59 [00:46<00:00,  1.27it/s]\n",
            "                 Class     Images  Instances      Box(P          R      mAP50  mAP50-95): 100%|██████████| 4/4 [00:02<00:00,  1.83it/s]"
          ]
        },
        {
          "output_type": "stream",
          "name": "stdout",
          "text": [
            "                   all        104       1345      0.722      0.824      0.805       0.79\n"
          ]
        },
        {
          "output_type": "stream",
          "name": "stderr",
          "text": [
            "\n"
          ]
        },
        {
          "output_type": "stream",
          "name": "stdout",
          "text": [
            "\n",
            "      Epoch    GPU_mem   box_loss   cls_loss   dfl_loss  Instances       Size\n"
          ]
        },
        {
          "output_type": "stream",
          "name": "stderr",
          "text": [
            "     67/100      9.72G     0.8563       0.89      1.226        168        640: 100%|██████████| 59/59 [00:46<00:00,  1.27it/s]\n",
            "                 Class     Images  Instances      Box(P          R      mAP50  mAP50-95): 100%|██████████| 4/4 [00:02<00:00,  1.83it/s]"
          ]
        },
        {
          "output_type": "stream",
          "name": "stdout",
          "text": [
            "                   all        104       1345      0.663      0.765      0.765       0.75\n"
          ]
        },
        {
          "output_type": "stream",
          "name": "stderr",
          "text": [
            "\n"
          ]
        },
        {
          "output_type": "stream",
          "name": "stdout",
          "text": [
            "\n",
            "      Epoch    GPU_mem   box_loss   cls_loss   dfl_loss  Instances       Size\n"
          ]
        },
        {
          "output_type": "stream",
          "name": "stderr",
          "text": [
            "     68/100      9.73G     0.8583      0.891      1.243        140        640: 100%|██████████| 59/59 [00:46<00:00,  1.27it/s]\n",
            "                 Class     Images  Instances      Box(P          R      mAP50  mAP50-95): 100%|██████████| 4/4 [00:02<00:00,  1.72it/s]"
          ]
        },
        {
          "output_type": "stream",
          "name": "stdout",
          "text": [
            "                   all        104       1345      0.788      0.814      0.868      0.843\n"
          ]
        },
        {
          "output_type": "stream",
          "name": "stderr",
          "text": [
            "\n"
          ]
        },
        {
          "output_type": "stream",
          "name": "stdout",
          "text": [
            "\n",
            "      Epoch    GPU_mem   box_loss   cls_loss   dfl_loss  Instances       Size\n"
          ]
        },
        {
          "output_type": "stream",
          "name": "stderr",
          "text": [
            "     69/100      9.69G     0.8687      0.904      1.245         91        640: 100%|██████████| 59/59 [00:46<00:00,  1.27it/s]\n",
            "                 Class     Images  Instances      Box(P          R      mAP50  mAP50-95): 100%|██████████| 4/4 [00:02<00:00,  1.76it/s]"
          ]
        },
        {
          "output_type": "stream",
          "name": "stdout",
          "text": [
            "                   all        104       1345      0.775      0.839       0.85      0.833\n"
          ]
        },
        {
          "output_type": "stream",
          "name": "stderr",
          "text": [
            "\n"
          ]
        },
        {
          "output_type": "stream",
          "name": "stdout",
          "text": [
            "\n",
            "      Epoch    GPU_mem   box_loss   cls_loss   dfl_loss  Instances       Size\n"
          ]
        },
        {
          "output_type": "stream",
          "name": "stderr",
          "text": [
            "     70/100      9.83G     0.8295     0.8457      1.217        213        640: 100%|██████████| 59/59 [00:46<00:00,  1.27it/s]\n",
            "                 Class     Images  Instances      Box(P          R      mAP50  mAP50-95): 100%|██████████| 4/4 [00:02<00:00,  1.73it/s]"
          ]
        },
        {
          "output_type": "stream",
          "name": "stdout",
          "text": [
            "                   all        104       1345      0.809      0.845      0.882      0.847\n"
          ]
        },
        {
          "output_type": "stream",
          "name": "stderr",
          "text": [
            "\n"
          ]
        },
        {
          "output_type": "stream",
          "name": "stdout",
          "text": [
            "\n",
            "      Epoch    GPU_mem   box_loss   cls_loss   dfl_loss  Instances       Size\n"
          ]
        },
        {
          "output_type": "stream",
          "name": "stderr",
          "text": [
            "     71/100      9.71G     0.8332      0.892       1.22        113        640: 100%|██████████| 59/59 [00:46<00:00,  1.26it/s]\n",
            "                 Class     Images  Instances      Box(P          R      mAP50  mAP50-95): 100%|██████████| 4/4 [00:02<00:00,  1.83it/s]"
          ]
        },
        {
          "output_type": "stream",
          "name": "stdout",
          "text": [
            "                   all        104       1345      0.785      0.841      0.869      0.852\n"
          ]
        },
        {
          "output_type": "stream",
          "name": "stderr",
          "text": [
            "\n"
          ]
        },
        {
          "output_type": "stream",
          "name": "stdout",
          "text": [
            "\n",
            "      Epoch    GPU_mem   box_loss   cls_loss   dfl_loss  Instances       Size\n"
          ]
        },
        {
          "output_type": "stream",
          "name": "stderr",
          "text": [
            "     72/100      9.64G     0.8301     0.8487      1.226        127        640: 100%|██████████| 59/59 [00:46<00:00,  1.27it/s]\n",
            "                 Class     Images  Instances      Box(P          R      mAP50  mAP50-95): 100%|██████████| 4/4 [00:02<00:00,  1.83it/s]"
          ]
        },
        {
          "output_type": "stream",
          "name": "stdout",
          "text": [
            "                   all        104       1345      0.788      0.871      0.896      0.881\n"
          ]
        },
        {
          "output_type": "stream",
          "name": "stderr",
          "text": [
            "\n"
          ]
        },
        {
          "output_type": "stream",
          "name": "stdout",
          "text": [
            "\n",
            "      Epoch    GPU_mem   box_loss   cls_loss   dfl_loss  Instances       Size\n"
          ]
        },
        {
          "output_type": "stream",
          "name": "stderr",
          "text": [
            "     73/100      9.59G     0.8259     0.8232      1.209        154        640: 100%|██████████| 59/59 [00:46<00:00,  1.28it/s]\n",
            "                 Class     Images  Instances      Box(P          R      mAP50  mAP50-95): 100%|██████████| 4/4 [00:02<00:00,  1.85it/s]"
          ]
        },
        {
          "output_type": "stream",
          "name": "stdout",
          "text": [
            "                   all        104       1345      0.833       0.86      0.895       0.88\n"
          ]
        },
        {
          "output_type": "stream",
          "name": "stderr",
          "text": [
            "\n"
          ]
        },
        {
          "output_type": "stream",
          "name": "stdout",
          "text": [
            "\n",
            "      Epoch    GPU_mem   box_loss   cls_loss   dfl_loss  Instances       Size\n"
          ]
        },
        {
          "output_type": "stream",
          "name": "stderr",
          "text": [
            "     74/100      9.77G     0.8753     0.8414       1.26        149        640: 100%|██████████| 59/59 [00:46<00:00,  1.27it/s]\n",
            "                 Class     Images  Instances      Box(P          R      mAP50  mAP50-95): 100%|██████████| 4/4 [00:02<00:00,  1.76it/s]"
          ]
        },
        {
          "output_type": "stream",
          "name": "stdout",
          "text": [
            "                   all        104       1345      0.736        0.8      0.846      0.829\n"
          ]
        },
        {
          "output_type": "stream",
          "name": "stderr",
          "text": [
            "\n"
          ]
        },
        {
          "output_type": "stream",
          "name": "stdout",
          "text": [
            "\n",
            "      Epoch    GPU_mem   box_loss   cls_loss   dfl_loss  Instances       Size\n"
          ]
        },
        {
          "output_type": "stream",
          "name": "stderr",
          "text": [
            "     75/100      9.78G     0.8505      0.804      1.241        122        640: 100%|██████████| 59/59 [00:46<00:00,  1.28it/s]\n",
            "                 Class     Images  Instances      Box(P          R      mAP50  mAP50-95): 100%|██████████| 4/4 [00:02<00:00,  1.79it/s]\n"
          ]
        },
        {
          "output_type": "stream",
          "name": "stdout",
          "text": [
            "                   all        104       1345       0.84      0.857      0.899      0.878\n",
            "\n",
            "      Epoch    GPU_mem   box_loss   cls_loss   dfl_loss  Instances       Size\n"
          ]
        },
        {
          "output_type": "stream",
          "name": "stderr",
          "text": [
            "     76/100       9.8G     0.8518     0.8262       1.23        117        640: 100%|██████████| 59/59 [00:46<00:00,  1.28it/s]\n",
            "                 Class     Images  Instances      Box(P          R      mAP50  mAP50-95): 100%|██████████| 4/4 [00:02<00:00,  1.85it/s]"
          ]
        },
        {
          "output_type": "stream",
          "name": "stdout",
          "text": [
            "                   all        104       1345      0.698      0.798      0.792      0.778\n"
          ]
        },
        {
          "output_type": "stream",
          "name": "stderr",
          "text": [
            "\n"
          ]
        },
        {
          "output_type": "stream",
          "name": "stdout",
          "text": [
            "\n",
            "      Epoch    GPU_mem   box_loss   cls_loss   dfl_loss  Instances       Size\n"
          ]
        },
        {
          "output_type": "stream",
          "name": "stderr",
          "text": [
            "     77/100      9.64G     0.8286     0.8337      1.206        193        640: 100%|██████████| 59/59 [00:46<00:00,  1.26it/s]\n",
            "                 Class     Images  Instances      Box(P          R      mAP50  mAP50-95): 100%|██████████| 4/4 [00:02<00:00,  1.85it/s]"
          ]
        },
        {
          "output_type": "stream",
          "name": "stdout",
          "text": [
            "                   all        104       1345      0.752      0.833       0.83      0.814\n"
          ]
        },
        {
          "output_type": "stream",
          "name": "stderr",
          "text": [
            "\n"
          ]
        },
        {
          "output_type": "stream",
          "name": "stdout",
          "text": [
            "\n",
            "      Epoch    GPU_mem   box_loss   cls_loss   dfl_loss  Instances       Size\n"
          ]
        },
        {
          "output_type": "stream",
          "name": "stderr",
          "text": [
            "     78/100      9.78G     0.8343     0.8372      1.206        150        640: 100%|██████████| 59/59 [00:46<00:00,  1.27it/s]\n",
            "                 Class     Images  Instances      Box(P          R      mAP50  mAP50-95): 100%|██████████| 4/4 [00:02<00:00,  1.71it/s]"
          ]
        },
        {
          "output_type": "stream",
          "name": "stdout",
          "text": [
            "                   all        104       1345      0.789       0.85      0.903      0.882\n"
          ]
        },
        {
          "output_type": "stream",
          "name": "stderr",
          "text": [
            "\n"
          ]
        },
        {
          "output_type": "stream",
          "name": "stdout",
          "text": [
            "\n",
            "      Epoch    GPU_mem   box_loss   cls_loss   dfl_loss  Instances       Size\n"
          ]
        },
        {
          "output_type": "stream",
          "name": "stderr",
          "text": [
            "     79/100      9.73G     0.8111     0.8226      1.203        176        640: 100%|██████████| 59/59 [00:46<00:00,  1.27it/s]\n",
            "                 Class     Images  Instances      Box(P          R      mAP50  mAP50-95): 100%|██████████| 4/4 [00:02<00:00,  1.83it/s]"
          ]
        },
        {
          "output_type": "stream",
          "name": "stdout",
          "text": [
            "                   all        104       1345      0.832      0.848      0.895      0.886\n"
          ]
        },
        {
          "output_type": "stream",
          "name": "stderr",
          "text": [
            "\n"
          ]
        },
        {
          "output_type": "stream",
          "name": "stdout",
          "text": [
            "\n",
            "      Epoch    GPU_mem   box_loss   cls_loss   dfl_loss  Instances       Size\n"
          ]
        },
        {
          "output_type": "stream",
          "name": "stderr",
          "text": [
            "     80/100      9.79G     0.8255     0.8071       1.21        137        640: 100%|██████████| 59/59 [00:46<00:00,  1.26it/s]\n",
            "                 Class     Images  Instances      Box(P          R      mAP50  mAP50-95): 100%|██████████| 4/4 [00:02<00:00,  1.84it/s]"
          ]
        },
        {
          "output_type": "stream",
          "name": "stdout",
          "text": [
            "                   all        104       1345      0.743      0.842      0.842      0.825\n"
          ]
        },
        {
          "output_type": "stream",
          "name": "stderr",
          "text": [
            "\n"
          ]
        },
        {
          "output_type": "stream",
          "name": "stdout",
          "text": [
            "\n",
            "      Epoch    GPU_mem   box_loss   cls_loss   dfl_loss  Instances       Size\n"
          ]
        },
        {
          "output_type": "stream",
          "name": "stderr",
          "text": [
            "     81/100      9.64G     0.8141     0.7792      1.199        118        640: 100%|██████████| 59/59 [00:46<00:00,  1.27it/s]\n",
            "                 Class     Images  Instances      Box(P          R      mAP50  mAP50-95): 100%|██████████| 4/4 [00:02<00:00,  1.72it/s]"
          ]
        },
        {
          "output_type": "stream",
          "name": "stdout",
          "text": [
            "                   all        104       1345      0.868       0.87      0.925      0.913\n"
          ]
        },
        {
          "output_type": "stream",
          "name": "stderr",
          "text": [
            "\n"
          ]
        },
        {
          "output_type": "stream",
          "name": "stdout",
          "text": [
            "\n",
            "      Epoch    GPU_mem   box_loss   cls_loss   dfl_loss  Instances       Size\n"
          ]
        },
        {
          "output_type": "stream",
          "name": "stderr",
          "text": [
            "     82/100       9.8G     0.8151     0.7798       1.21        111        640: 100%|██████████| 59/59 [00:46<00:00,  1.27it/s]\n",
            "                 Class     Images  Instances      Box(P          R      mAP50  mAP50-95): 100%|██████████| 4/4 [00:02<00:00,  1.84it/s]"
          ]
        },
        {
          "output_type": "stream",
          "name": "stdout",
          "text": [
            "                   all        104       1345      0.805      0.889      0.916      0.904\n"
          ]
        },
        {
          "output_type": "stream",
          "name": "stderr",
          "text": [
            "\n"
          ]
        },
        {
          "output_type": "stream",
          "name": "stdout",
          "text": [
            "\n",
            "      Epoch    GPU_mem   box_loss   cls_loss   dfl_loss  Instances       Size\n"
          ]
        },
        {
          "output_type": "stream",
          "name": "stderr",
          "text": [
            "     83/100      9.79G     0.7862     0.7532      1.183        156        640: 100%|██████████| 59/59 [00:46<00:00,  1.27it/s]\n",
            "                 Class     Images  Instances      Box(P          R      mAP50  mAP50-95): 100%|██████████| 4/4 [00:02<00:00,  1.84it/s]"
          ]
        },
        {
          "output_type": "stream",
          "name": "stdout",
          "text": [
            "                   all        104       1345      0.872      0.862      0.928      0.914\n"
          ]
        },
        {
          "output_type": "stream",
          "name": "stderr",
          "text": [
            "\n"
          ]
        },
        {
          "output_type": "stream",
          "name": "stdout",
          "text": [
            "\n",
            "      Epoch    GPU_mem   box_loss   cls_loss   dfl_loss  Instances       Size\n"
          ]
        },
        {
          "output_type": "stream",
          "name": "stderr",
          "text": [
            "     84/100      9.82G     0.7838     0.7542      1.192        131        640: 100%|██████████| 59/59 [00:46<00:00,  1.28it/s]\n",
            "                 Class     Images  Instances      Box(P          R      mAP50  mAP50-95): 100%|██████████| 4/4 [00:02<00:00,  1.84it/s]\n"
          ]
        },
        {
          "output_type": "stream",
          "name": "stdout",
          "text": [
            "                   all        104       1345      0.777      0.861      0.893      0.884\n",
            "\n",
            "      Epoch    GPU_mem   box_loss   cls_loss   dfl_loss  Instances       Size\n"
          ]
        },
        {
          "output_type": "stream",
          "name": "stderr",
          "text": [
            "     85/100      9.67G     0.7979       0.72      1.191        120        640: 100%|██████████| 59/59 [00:46<00:00,  1.27it/s]\n",
            "                 Class     Images  Instances      Box(P          R      mAP50  mAP50-95): 100%|██████████| 4/4 [00:02<00:00,  1.71it/s]\n"
          ]
        },
        {
          "output_type": "stream",
          "name": "stdout",
          "text": [
            "                   all        104       1345      0.778      0.889      0.887      0.878\n",
            "\n",
            "      Epoch    GPU_mem   box_loss   cls_loss   dfl_loss  Instances       Size\n"
          ]
        },
        {
          "output_type": "stream",
          "name": "stderr",
          "text": [
            "     86/100      9.79G      0.799     0.7325      1.195        155        640: 100%|██████████| 59/59 [00:47<00:00,  1.24it/s]\n",
            "                 Class     Images  Instances      Box(P          R      mAP50  mAP50-95): 100%|██████████| 4/4 [00:02<00:00,  1.81it/s]"
          ]
        },
        {
          "output_type": "stream",
          "name": "stdout",
          "text": [
            "                   all        104       1345      0.776      0.826      0.851      0.844\n"
          ]
        },
        {
          "output_type": "stream",
          "name": "stderr",
          "text": [
            "\n"
          ]
        },
        {
          "output_type": "stream",
          "name": "stdout",
          "text": [
            "\n",
            "      Epoch    GPU_mem   box_loss   cls_loss   dfl_loss  Instances       Size\n"
          ]
        },
        {
          "output_type": "stream",
          "name": "stderr",
          "text": [
            "     87/100      9.75G     0.7857     0.7196      1.192        113        640: 100%|██████████| 59/59 [00:46<00:00,  1.27it/s]\n",
            "                 Class     Images  Instances      Box(P          R      mAP50  mAP50-95): 100%|██████████| 4/4 [00:02<00:00,  1.84it/s]"
          ]
        },
        {
          "output_type": "stream",
          "name": "stdout",
          "text": [
            "                   all        104       1345      0.816      0.873      0.898      0.891\n"
          ]
        },
        {
          "output_type": "stream",
          "name": "stderr",
          "text": [
            "\n"
          ]
        },
        {
          "output_type": "stream",
          "name": "stdout",
          "text": [
            "\n",
            "      Epoch    GPU_mem   box_loss   cls_loss   dfl_loss  Instances       Size\n"
          ]
        },
        {
          "output_type": "stream",
          "name": "stderr",
          "text": [
            "     88/100      9.79G     0.7873     0.7022      1.187        196        640: 100%|██████████| 59/59 [00:46<00:00,  1.28it/s]\n",
            "                 Class     Images  Instances      Box(P          R      mAP50  mAP50-95): 100%|██████████| 4/4 [00:02<00:00,  1.83it/s]"
          ]
        },
        {
          "output_type": "stream",
          "name": "stdout",
          "text": [
            "                   all        104       1345      0.889      0.881      0.943      0.935\n"
          ]
        },
        {
          "output_type": "stream",
          "name": "stderr",
          "text": [
            "\n"
          ]
        },
        {
          "output_type": "stream",
          "name": "stdout",
          "text": [
            "\n",
            "      Epoch    GPU_mem   box_loss   cls_loss   dfl_loss  Instances       Size\n"
          ]
        },
        {
          "output_type": "stream",
          "name": "stderr",
          "text": [
            "     89/100      9.66G     0.7803     0.6951      1.187        101        640: 100%|██████████| 59/59 [00:46<00:00,  1.28it/s]\n",
            "                 Class     Images  Instances      Box(P          R      mAP50  mAP50-95): 100%|██████████| 4/4 [00:02<00:00,  1.85it/s]"
          ]
        },
        {
          "output_type": "stream",
          "name": "stdout",
          "text": [
            "                   all        104       1345      0.868      0.875      0.924      0.913\n"
          ]
        },
        {
          "output_type": "stream",
          "name": "stderr",
          "text": [
            "\n"
          ]
        },
        {
          "output_type": "stream",
          "name": "stdout",
          "text": [
            "\n",
            "      Epoch    GPU_mem   box_loss   cls_loss   dfl_loss  Instances       Size\n"
          ]
        },
        {
          "output_type": "stream",
          "name": "stderr",
          "text": [
            "     90/100      9.72G     0.7634     0.6798      1.164        175        640: 100%|██████████| 59/59 [00:46<00:00,  1.28it/s]\n",
            "                 Class     Images  Instances      Box(P          R      mAP50  mAP50-95): 100%|██████████| 4/4 [00:02<00:00,  1.84it/s]\n"
          ]
        },
        {
          "output_type": "stream",
          "name": "stdout",
          "text": [
            "                   all        104       1345      0.603       0.78      0.717      0.709\n",
            "Closing dataloader mosaic\n",
            "\u001b[34m\u001b[1malbumentations: \u001b[0mBlur(p=0.01, blur_limit=(3, 7)), MedianBlur(p=0.01, blur_limit=(3, 7)), ToGray(p=0.01, num_output_channels=3, method='weighted_average'), CLAHE(p=0.01, clip_limit=(1.0, 4.0), tile_grid_size=(8, 8))\n",
            "\n",
            "      Epoch    GPU_mem   box_loss   cls_loss   dfl_loss  Instances       Size\n"
          ]
        },
        {
          "output_type": "stream",
          "name": "stderr",
          "text": [
            "     91/100      9.65G     0.8009     0.6659      1.281         94        640: 100%|██████████| 59/59 [00:47<00:00,  1.25it/s]\n",
            "                 Class     Images  Instances      Box(P          R      mAP50  mAP50-95): 100%|██████████| 4/4 [00:02<00:00,  1.83it/s]"
          ]
        },
        {
          "output_type": "stream",
          "name": "stdout",
          "text": [
            "                   all        104       1345      0.865      0.885      0.937      0.928\n"
          ]
        },
        {
          "output_type": "stream",
          "name": "stderr",
          "text": [
            "\n"
          ]
        },
        {
          "output_type": "stream",
          "name": "stdout",
          "text": [
            "\n",
            "      Epoch    GPU_mem   box_loss   cls_loss   dfl_loss  Instances       Size\n"
          ]
        },
        {
          "output_type": "stream",
          "name": "stderr",
          "text": [
            "     92/100      9.71G     0.7933     0.6452      1.272         86        640: 100%|██████████| 59/59 [00:46<00:00,  1.27it/s]\n",
            "                 Class     Images  Instances      Box(P          R      mAP50  mAP50-95): 100%|██████████| 4/4 [00:02<00:00,  1.81it/s]"
          ]
        },
        {
          "output_type": "stream",
          "name": "stdout",
          "text": [
            "                   all        104       1345      0.903      0.916       0.96      0.953\n"
          ]
        },
        {
          "output_type": "stream",
          "name": "stderr",
          "text": [
            "\n"
          ]
        },
        {
          "output_type": "stream",
          "name": "stdout",
          "text": [
            "\n",
            "      Epoch    GPU_mem   box_loss   cls_loss   dfl_loss  Instances       Size\n"
          ]
        },
        {
          "output_type": "stream",
          "name": "stderr",
          "text": [
            "     93/100      9.59G     0.7837     0.6117       1.28         81        640: 100%|██████████| 59/59 [00:46<00:00,  1.28it/s]\n",
            "                 Class     Images  Instances      Box(P          R      mAP50  mAP50-95): 100%|██████████| 4/4 [00:02<00:00,  1.84it/s]"
          ]
        },
        {
          "output_type": "stream",
          "name": "stdout",
          "text": [
            "                   all        104       1345      0.863      0.894      0.943      0.936\n"
          ]
        },
        {
          "output_type": "stream",
          "name": "stderr",
          "text": [
            "\n"
          ]
        },
        {
          "output_type": "stream",
          "name": "stdout",
          "text": [
            "\n",
            "      Epoch    GPU_mem   box_loss   cls_loss   dfl_loss  Instances       Size\n"
          ]
        },
        {
          "output_type": "stream",
          "name": "stderr",
          "text": [
            "     94/100      9.71G     0.7767     0.6301      1.256         81        640: 100%|██████████| 59/59 [00:45<00:00,  1.29it/s]\n",
            "                 Class     Images  Instances      Box(P          R      mAP50  mAP50-95): 100%|██████████| 4/4 [00:02<00:00,  1.86it/s]\n"
          ]
        },
        {
          "output_type": "stream",
          "name": "stdout",
          "text": [
            "                   all        104       1345      0.848      0.836      0.906      0.899\n",
            "\n",
            "      Epoch    GPU_mem   box_loss   cls_loss   dfl_loss  Instances       Size\n"
          ]
        },
        {
          "output_type": "stream",
          "name": "stderr",
          "text": [
            "     95/100      9.73G     0.7761     0.6007      1.269         97        640: 100%|██████████| 59/59 [00:45<00:00,  1.29it/s]\n",
            "                 Class     Images  Instances      Box(P          R      mAP50  mAP50-95): 100%|██████████| 4/4 [00:02<00:00,  1.74it/s]"
          ]
        },
        {
          "output_type": "stream",
          "name": "stdout",
          "text": [
            "                   all        104       1345      0.899      0.916      0.957      0.949\n"
          ]
        },
        {
          "output_type": "stream",
          "name": "stderr",
          "text": [
            "\n"
          ]
        },
        {
          "output_type": "stream",
          "name": "stdout",
          "text": [
            "\n",
            "      Epoch    GPU_mem   box_loss   cls_loss   dfl_loss  Instances       Size\n"
          ]
        },
        {
          "output_type": "stream",
          "name": "stderr",
          "text": [
            "     96/100      9.73G     0.7537     0.5678      1.234         85        640: 100%|██████████| 59/59 [00:45<00:00,  1.28it/s]\n",
            "                 Class     Images  Instances      Box(P          R      mAP50  mAP50-95): 100%|██████████| 4/4 [00:02<00:00,  1.82it/s]"
          ]
        },
        {
          "output_type": "stream",
          "name": "stdout",
          "text": [
            "                   all        104       1345      0.849      0.898      0.944      0.937\n"
          ]
        },
        {
          "output_type": "stream",
          "name": "stderr",
          "text": [
            "\n"
          ]
        },
        {
          "output_type": "stream",
          "name": "stdout",
          "text": [
            "\n",
            "      Epoch    GPU_mem   box_loss   cls_loss   dfl_loss  Instances       Size\n"
          ]
        },
        {
          "output_type": "stream",
          "name": "stderr",
          "text": [
            "     97/100      9.63G     0.7595     0.5608      1.261         84        640: 100%|██████████| 59/59 [00:45<00:00,  1.29it/s]\n",
            "                 Class     Images  Instances      Box(P          R      mAP50  mAP50-95): 100%|██████████| 4/4 [00:02<00:00,  1.84it/s]\n"
          ]
        },
        {
          "output_type": "stream",
          "name": "stdout",
          "text": [
            "                   all        104       1345      0.876      0.907      0.951      0.943\n",
            "\n",
            "      Epoch    GPU_mem   box_loss   cls_loss   dfl_loss  Instances       Size\n"
          ]
        },
        {
          "output_type": "stream",
          "name": "stderr",
          "text": [
            "     98/100      9.73G     0.7485     0.5398      1.251         97        640: 100%|██████████| 59/59 [00:45<00:00,  1.29it/s]\n",
            "                 Class     Images  Instances      Box(P          R      mAP50  mAP50-95): 100%|██████████| 4/4 [00:02<00:00,  1.84it/s]"
          ]
        },
        {
          "output_type": "stream",
          "name": "stdout",
          "text": [
            "                   all        104       1345      0.885      0.909      0.954      0.946\n"
          ]
        },
        {
          "output_type": "stream",
          "name": "stderr",
          "text": [
            "\n"
          ]
        },
        {
          "output_type": "stream",
          "name": "stdout",
          "text": [
            "\n",
            "      Epoch    GPU_mem   box_loss   cls_loss   dfl_loss  Instances       Size\n"
          ]
        },
        {
          "output_type": "stream",
          "name": "stderr",
          "text": [
            "     99/100      9.64G     0.7521     0.5435      1.238         70        640: 100%|██████████| 59/59 [00:45<00:00,  1.28it/s]\n",
            "                 Class     Images  Instances      Box(P          R      mAP50  mAP50-95): 100%|██████████| 4/4 [00:02<00:00,  1.73it/s]"
          ]
        },
        {
          "output_type": "stream",
          "name": "stdout",
          "text": [
            "                   all        104       1345      0.907      0.928      0.965      0.958\n"
          ]
        },
        {
          "output_type": "stream",
          "name": "stderr",
          "text": [
            "\n"
          ]
        },
        {
          "output_type": "stream",
          "name": "stdout",
          "text": [
            "\n",
            "      Epoch    GPU_mem   box_loss   cls_loss   dfl_loss  Instances       Size\n"
          ]
        },
        {
          "output_type": "stream",
          "name": "stderr",
          "text": [
            "    100/100      9.73G     0.7497      0.529      1.246         88        640: 100%|██████████| 59/59 [00:45<00:00,  1.28it/s]\n",
            "                 Class     Images  Instances      Box(P          R      mAP50  mAP50-95): 100%|██████████| 4/4 [00:02<00:00,  1.72it/s]"
          ]
        },
        {
          "output_type": "stream",
          "name": "stdout",
          "text": [
            "                   all        104       1345      0.918       0.93      0.967      0.962\n"
          ]
        },
        {
          "output_type": "stream",
          "name": "stderr",
          "text": [
            "\n"
          ]
        },
        {
          "output_type": "stream",
          "name": "stdout",
          "text": [
            "\n",
            "100 epochs completed in 1.493 hours.\n",
            "Optimizer stripped from runs/detect/train4/weights/last.pt, 87.7MB\n",
            "Optimizer stripped from runs/detect/train4/weights/best.pt, 87.7MB\n",
            "\n",
            "Validating runs/detect/train4/weights/best.pt...\n",
            "Ultralytics 8.3.122 🚀 Python-3.11.12 torch-2.6.0+cu124 CUDA:0 (Tesla T4, 15095MiB)\n",
            "Model summary (fused): 112 layers, 43,612,776 parameters, 0 gradients, 164.8 GFLOPs\n"
          ]
        },
        {
          "output_type": "stream",
          "name": "stderr",
          "text": [
            "                 Class     Images  Instances      Box(P          R      mAP50  mAP50-95): 100%|██████████| 4/4 [00:04<00:00,  1.15s/it]\n"
          ]
        },
        {
          "output_type": "stream",
          "name": "stdout",
          "text": [
            "                   all        104       1345      0.918      0.929      0.967      0.961\n",
            "                ANP3.2          6        117      0.942          1      0.994      0.991\n",
            "                 F5.54          8        161      0.985          1      0.995      0.976\n",
            "                 F5.62         10        171      0.964      0.776      0.954      0.952\n",
            "                G13.II         19        251      0.945      0.964      0.986      0.985\n",
            "               G17.III         14        154      0.957          1      0.991       0.99\n",
            "                 G18.1         20        216      0.843      0.931      0.944      0.939\n",
            "                G3.III         15        153       0.88       0.85      0.941      0.929\n",
            "                G7.III         12        122      0.829      0.912      0.934      0.929\n",
            "Speed: 0.3ms preprocess, 19.1ms inference, 0.0ms loss, 5.7ms postprocess per image\n",
            "Results saved to \u001b[1mruns/detect/train4\u001b[0m\n",
            "Ultralytics 8.3.122 🚀 Python-3.11.12 torch-2.6.0+cu124 CUDA:0 (Tesla T4, 15095MiB)\n",
            "Model summary (fused): 112 layers, 43,612,776 parameters, 0 gradients, 164.8 GFLOPs\n",
            "\u001b[34m\u001b[1mval: \u001b[0mFast image access ✅ (ping: 0.0±0.0 ms, read: 743.7±207.1 MB/s, size: 30.5 KB)\n"
          ]
        },
        {
          "output_type": "stream",
          "name": "stderr",
          "text": [
            "\u001b[34m\u001b[1mval: \u001b[0mScanning /content/test/labels.cache... 103 images, 0 backgrounds, 0 corrupt: 100%|██████████| 103/103 [00:00<?, ?it/s]\n",
            "                 Class     Images  Instances      Box(P          R      mAP50  mAP50-95): 100%|██████████| 7/7 [00:05<00:00,  1.18it/s]\n"
          ]
        },
        {
          "output_type": "stream",
          "name": "stdout",
          "text": [
            "                   all        103       1331      0.876      0.871      0.924      0.919\n",
            "                ANP3.2          6        113      0.971       0.92      0.985      0.985\n",
            "                 F5.54          2         74      0.945      0.986      0.994       0.98\n",
            "                 F5.62          4         60      0.866      0.633       0.78      0.775\n",
            "                G13.II         17        223      0.814      0.879      0.916      0.914\n",
            "               G17.III         21        247      0.976      0.995      0.995      0.994\n",
            "                 G18.1         15        168      0.737      0.768      0.836      0.831\n",
            "                G3.III         22        220      0.835      0.872      0.924      0.918\n",
            "                G7.III         16        226      0.866      0.912      0.958      0.955\n",
            "Speed: 3.6ms preprocess, 36.7ms inference, 0.0ms loss, 4.6ms postprocess per image\n",
            "Results saved to \u001b[1mruns/detect/train42\u001b[0m\n"
          ]
        },
        {
          "output_type": "execute_result",
          "data": {
            "text/plain": [
              "ultralytics.utils.metrics.DetMetrics object with attributes:\n",
              "\n",
              "ap_class_index: array([0, 1, 2, 3, 4, 5, 6, 7])\n",
              "box: ultralytics.utils.metrics.Metric object\n",
              "confusion_matrix: <ultralytics.utils.metrics.ConfusionMatrix object at 0x78bab2bbba10>\n",
              "curves: ['Precision-Recall(B)', 'F1-Confidence(B)', 'Precision-Confidence(B)', 'Recall-Confidence(B)']\n",
              "curves_results: [[array([          0,    0.001001,    0.002002,    0.003003,    0.004004,    0.005005,    0.006006,    0.007007,    0.008008,    0.009009,     0.01001,    0.011011,    0.012012,    0.013013,    0.014014,    0.015015,    0.016016,    0.017017,    0.018018,    0.019019,     0.02002,    0.021021,    0.022022,    0.023023,\n",
              "          0.024024,    0.025025,    0.026026,    0.027027,    0.028028,    0.029029,     0.03003,    0.031031,    0.032032,    0.033033,    0.034034,    0.035035,    0.036036,    0.037037,    0.038038,    0.039039,     0.04004,    0.041041,    0.042042,    0.043043,    0.044044,    0.045045,    0.046046,    0.047047,\n",
              "          0.048048,    0.049049,     0.05005,    0.051051,    0.052052,    0.053053,    0.054054,    0.055055,    0.056056,    0.057057,    0.058058,    0.059059,     0.06006,    0.061061,    0.062062,    0.063063,    0.064064,    0.065065,    0.066066,    0.067067,    0.068068,    0.069069,     0.07007,    0.071071,\n",
              "          0.072072,    0.073073,    0.074074,    0.075075,    0.076076,    0.077077,    0.078078,    0.079079,     0.08008,    0.081081,    0.082082,    0.083083,    0.084084,    0.085085,    0.086086,    0.087087,    0.088088,    0.089089,     0.09009,    0.091091,    0.092092,    0.093093,    0.094094,    0.095095,\n",
              "          0.096096,    0.097097,    0.098098,    0.099099,      0.1001,      0.1011,      0.1021,      0.1031,      0.1041,     0.10511,     0.10611,     0.10711,     0.10811,     0.10911,     0.11011,     0.11111,     0.11211,     0.11311,     0.11411,     0.11512,     0.11612,     0.11712,     0.11812,     0.11912,\n",
              "           0.12012,     0.12112,     0.12212,     0.12312,     0.12412,     0.12513,     0.12613,     0.12713,     0.12813,     0.12913,     0.13013,     0.13113,     0.13213,     0.13313,     0.13413,     0.13514,     0.13614,     0.13714,     0.13814,     0.13914,     0.14014,     0.14114,     0.14214,     0.14314,\n",
              "           0.14414,     0.14515,     0.14615,     0.14715,     0.14815,     0.14915,     0.15015,     0.15115,     0.15215,     0.15315,     0.15415,     0.15516,     0.15616,     0.15716,     0.15816,     0.15916,     0.16016,     0.16116,     0.16216,     0.16316,     0.16416,     0.16517,     0.16617,     0.16717,\n",
              "           0.16817,     0.16917,     0.17017,     0.17117,     0.17217,     0.17317,     0.17417,     0.17518,     0.17618,     0.17718,     0.17818,     0.17918,     0.18018,     0.18118,     0.18218,     0.18318,     0.18418,     0.18519,     0.18619,     0.18719,     0.18819,     0.18919,     0.19019,     0.19119,\n",
              "           0.19219,     0.19319,     0.19419,      0.1952,      0.1962,      0.1972,      0.1982,      0.1992,      0.2002,      0.2012,      0.2022,      0.2032,      0.2042,     0.20521,     0.20621,     0.20721,     0.20821,     0.20921,     0.21021,     0.21121,     0.21221,     0.21321,     0.21421,     0.21522,\n",
              "           0.21622,     0.21722,     0.21822,     0.21922,     0.22022,     0.22122,     0.22222,     0.22322,     0.22422,     0.22523,     0.22623,     0.22723,     0.22823,     0.22923,     0.23023,     0.23123,     0.23223,     0.23323,     0.23423,     0.23524,     0.23624,     0.23724,     0.23824,     0.23924,\n",
              "           0.24024,     0.24124,     0.24224,     0.24324,     0.24424,     0.24525,     0.24625,     0.24725,     0.24825,     0.24925,     0.25025,     0.25125,     0.25225,     0.25325,     0.25425,     0.25526,     0.25626,     0.25726,     0.25826,     0.25926,     0.26026,     0.26126,     0.26226,     0.26326,\n",
              "           0.26426,     0.26527,     0.26627,     0.26727,     0.26827,     0.26927,     0.27027,     0.27127,     0.27227,     0.27327,     0.27427,     0.27528,     0.27628,     0.27728,     0.27828,     0.27928,     0.28028,     0.28128,     0.28228,     0.28328,     0.28428,     0.28529,     0.28629,     0.28729,\n",
              "           0.28829,     0.28929,     0.29029,     0.29129,     0.29229,     0.29329,     0.29429,      0.2953,      0.2963,      0.2973,      0.2983,      0.2993,      0.3003,      0.3013,      0.3023,      0.3033,      0.3043,     0.30531,     0.30631,     0.30731,     0.30831,     0.30931,     0.31031,     0.31131,\n",
              "           0.31231,     0.31331,     0.31431,     0.31532,     0.31632,     0.31732,     0.31832,     0.31932,     0.32032,     0.32132,     0.32232,     0.32332,     0.32432,     0.32533,     0.32633,     0.32733,     0.32833,     0.32933,     0.33033,     0.33133,     0.33233,     0.33333,     0.33433,     0.33534,\n",
              "           0.33634,     0.33734,     0.33834,     0.33934,     0.34034,     0.34134,     0.34234,     0.34334,     0.34434,     0.34535,     0.34635,     0.34735,     0.34835,     0.34935,     0.35035,     0.35135,     0.35235,     0.35335,     0.35435,     0.35536,     0.35636,     0.35736,     0.35836,     0.35936,\n",
              "           0.36036,     0.36136,     0.36236,     0.36336,     0.36436,     0.36537,     0.36637,     0.36737,     0.36837,     0.36937,     0.37037,     0.37137,     0.37237,     0.37337,     0.37437,     0.37538,     0.37638,     0.37738,     0.37838,     0.37938,     0.38038,     0.38138,     0.38238,     0.38338,\n",
              "           0.38438,     0.38539,     0.38639,     0.38739,     0.38839,     0.38939,     0.39039,     0.39139,     0.39239,     0.39339,     0.39439,      0.3954,      0.3964,      0.3974,      0.3984,      0.3994,      0.4004,      0.4014,      0.4024,      0.4034,      0.4044,     0.40541,     0.40641,     0.40741,\n",
              "           0.40841,     0.40941,     0.41041,     0.41141,     0.41241,     0.41341,     0.41441,     0.41542,     0.41642,     0.41742,     0.41842,     0.41942,     0.42042,     0.42142,     0.42242,     0.42342,     0.42442,     0.42543,     0.42643,     0.42743,     0.42843,     0.42943,     0.43043,     0.43143,\n",
              "           0.43243,     0.43343,     0.43443,     0.43544,     0.43644,     0.43744,     0.43844,     0.43944,     0.44044,     0.44144,     0.44244,     0.44344,     0.44444,     0.44545,     0.44645,     0.44745,     0.44845,     0.44945,     0.45045,     0.45145,     0.45245,     0.45345,     0.45445,     0.45546,\n",
              "           0.45646,     0.45746,     0.45846,     0.45946,     0.46046,     0.46146,     0.46246,     0.46346,     0.46446,     0.46547,     0.46647,     0.46747,     0.46847,     0.46947,     0.47047,     0.47147,     0.47247,     0.47347,     0.47447,     0.47548,     0.47648,     0.47748,     0.47848,     0.47948,\n",
              "           0.48048,     0.48148,     0.48248,     0.48348,     0.48448,     0.48549,     0.48649,     0.48749,     0.48849,     0.48949,     0.49049,     0.49149,     0.49249,     0.49349,     0.49449,      0.4955,      0.4965,      0.4975,      0.4985,      0.4995,      0.5005,      0.5015,      0.5025,      0.5035,\n",
              "            0.5045,     0.50551,     0.50651,     0.50751,     0.50851,     0.50951,     0.51051,     0.51151,     0.51251,     0.51351,     0.51451,     0.51552,     0.51652,     0.51752,     0.51852,     0.51952,     0.52052,     0.52152,     0.52252,     0.52352,     0.52452,     0.52553,     0.52653,     0.52753,\n",
              "           0.52853,     0.52953,     0.53053,     0.53153,     0.53253,     0.53353,     0.53453,     0.53554,     0.53654,     0.53754,     0.53854,     0.53954,     0.54054,     0.54154,     0.54254,     0.54354,     0.54454,     0.54555,     0.54655,     0.54755,     0.54855,     0.54955,     0.55055,     0.55155,\n",
              "           0.55255,     0.55355,     0.55455,     0.55556,     0.55656,     0.55756,     0.55856,     0.55956,     0.56056,     0.56156,     0.56256,     0.56356,     0.56456,     0.56557,     0.56657,     0.56757,     0.56857,     0.56957,     0.57057,     0.57157,     0.57257,     0.57357,     0.57457,     0.57558,\n",
              "           0.57658,     0.57758,     0.57858,     0.57958,     0.58058,     0.58158,     0.58258,     0.58358,     0.58458,     0.58559,     0.58659,     0.58759,     0.58859,     0.58959,     0.59059,     0.59159,     0.59259,     0.59359,     0.59459,      0.5956,      0.5966,      0.5976,      0.5986,      0.5996,\n",
              "            0.6006,      0.6016,      0.6026,      0.6036,      0.6046,     0.60561,     0.60661,     0.60761,     0.60861,     0.60961,     0.61061,     0.61161,     0.61261,     0.61361,     0.61461,     0.61562,     0.61662,     0.61762,     0.61862,     0.61962,     0.62062,     0.62162,     0.62262,     0.62362,\n",
              "           0.62462,     0.62563,     0.62663,     0.62763,     0.62863,     0.62963,     0.63063,     0.63163,     0.63263,     0.63363,     0.63463,     0.63564,     0.63664,     0.63764,     0.63864,     0.63964,     0.64064,     0.64164,     0.64264,     0.64364,     0.64464,     0.64565,     0.64665,     0.64765,\n",
              "           0.64865,     0.64965,     0.65065,     0.65165,     0.65265,     0.65365,     0.65465,     0.65566,     0.65666,     0.65766,     0.65866,     0.65966,     0.66066,     0.66166,     0.66266,     0.66366,     0.66466,     0.66567,     0.66667,     0.66767,     0.66867,     0.66967,     0.67067,     0.67167,\n",
              "           0.67267,     0.67367,     0.67467,     0.67568,     0.67668,     0.67768,     0.67868,     0.67968,     0.68068,     0.68168,     0.68268,     0.68368,     0.68468,     0.68569,     0.68669,     0.68769,     0.68869,     0.68969,     0.69069,     0.69169,     0.69269,     0.69369,     0.69469,      0.6957,\n",
              "            0.6967,      0.6977,      0.6987,      0.6997,      0.7007,      0.7017,      0.7027,      0.7037,      0.7047,     0.70571,     0.70671,     0.70771,     0.70871,     0.70971,     0.71071,     0.71171,     0.71271,     0.71371,     0.71471,     0.71572,     0.71672,     0.71772,     0.71872,     0.71972,\n",
              "           0.72072,     0.72172,     0.72272,     0.72372,     0.72472,     0.72573,     0.72673,     0.72773,     0.72873,     0.72973,     0.73073,     0.73173,     0.73273,     0.73373,     0.73473,     0.73574,     0.73674,     0.73774,     0.73874,     0.73974,     0.74074,     0.74174,     0.74274,     0.74374,\n",
              "           0.74474,     0.74575,     0.74675,     0.74775,     0.74875,     0.74975,     0.75075,     0.75175,     0.75275,     0.75375,     0.75475,     0.75576,     0.75676,     0.75776,     0.75876,     0.75976,     0.76076,     0.76176,     0.76276,     0.76376,     0.76476,     0.76577,     0.76677,     0.76777,\n",
              "           0.76877,     0.76977,     0.77077,     0.77177,     0.77277,     0.77377,     0.77477,     0.77578,     0.77678,     0.77778,     0.77878,     0.77978,     0.78078,     0.78178,     0.78278,     0.78378,     0.78478,     0.78579,     0.78679,     0.78779,     0.78879,     0.78979,     0.79079,     0.79179,\n",
              "           0.79279,     0.79379,     0.79479,      0.7958,      0.7968,      0.7978,      0.7988,      0.7998,      0.8008,      0.8018,      0.8028,      0.8038,      0.8048,     0.80581,     0.80681,     0.80781,     0.80881,     0.80981,     0.81081,     0.81181,     0.81281,     0.81381,     0.81481,     0.81582,\n",
              "           0.81682,     0.81782,     0.81882,     0.81982,     0.82082,     0.82182,     0.82282,     0.82382,     0.82482,     0.82583,     0.82683,     0.82783,     0.82883,     0.82983,     0.83083,     0.83183,     0.83283,     0.83383,     0.83483,     0.83584,     0.83684,     0.83784,     0.83884,     0.83984,\n",
              "           0.84084,     0.84184,     0.84284,     0.84384,     0.84484,     0.84585,     0.84685,     0.84785,     0.84885,     0.84985,     0.85085,     0.85185,     0.85285,     0.85385,     0.85485,     0.85586,     0.85686,     0.85786,     0.85886,     0.85986,     0.86086,     0.86186,     0.86286,     0.86386,\n",
              "           0.86486,     0.86587,     0.86687,     0.86787,     0.86887,     0.86987,     0.87087,     0.87187,     0.87287,     0.87387,     0.87487,     0.87588,     0.87688,     0.87788,     0.87888,     0.87988,     0.88088,     0.88188,     0.88288,     0.88388,     0.88488,     0.88589,     0.88689,     0.88789,\n",
              "           0.88889,     0.88989,     0.89089,     0.89189,     0.89289,     0.89389,     0.89489,      0.8959,      0.8969,      0.8979,      0.8989,      0.8999,      0.9009,      0.9019,      0.9029,      0.9039,      0.9049,     0.90591,     0.90691,     0.90791,     0.90891,     0.90991,     0.91091,     0.91191,\n",
              "           0.91291,     0.91391,     0.91491,     0.91592,     0.91692,     0.91792,     0.91892,     0.91992,     0.92092,     0.92192,     0.92292,     0.92392,     0.92492,     0.92593,     0.92693,     0.92793,     0.92893,     0.92993,     0.93093,     0.93193,     0.93293,     0.93393,     0.93493,     0.93594,\n",
              "           0.93694,     0.93794,     0.93894,     0.93994,     0.94094,     0.94194,     0.94294,     0.94394,     0.94494,     0.94595,     0.94695,     0.94795,     0.94895,     0.94995,     0.95095,     0.95195,     0.95295,     0.95395,     0.95495,     0.95596,     0.95696,     0.95796,     0.95896,     0.95996,\n",
              "           0.96096,     0.96196,     0.96296,     0.96396,     0.96496,     0.96597,     0.96697,     0.96797,     0.96897,     0.96997,     0.97097,     0.97197,     0.97297,     0.97397,     0.97497,     0.97598,     0.97698,     0.97798,     0.97898,     0.97998,     0.98098,     0.98198,     0.98298,     0.98398,\n",
              "           0.98498,     0.98599,     0.98699,     0.98799,     0.98899,     0.98999,     0.99099,     0.99199,     0.99299,     0.99399,     0.99499,       0.996,       0.997,       0.998,       0.999,           1]), array([[          1,           1,           1, ...,     0.79577,     0.79577,           0],\n",
              "       [          1,           1,           1, ...,       0.925,       0.925,           0],\n",
              "       [          1,           1,           1, ...,     0.12739,     0.12739,           0],\n",
              "       ...,\n",
              "       [          1,           1,           1, ...,       0.334,       0.334,           0],\n",
              "       [          1,           1,           1, ...,     0.59459,     0.59459,           0],\n",
              "       [          1,           1,           1, ...,     0.54327,     0.54327,           0]]), 'Recall', 'Precision'], [array([          0,    0.001001,    0.002002,    0.003003,    0.004004,    0.005005,    0.006006,    0.007007,    0.008008,    0.009009,     0.01001,    0.011011,    0.012012,    0.013013,    0.014014,    0.015015,    0.016016,    0.017017,    0.018018,    0.019019,     0.02002,    0.021021,    0.022022,    0.023023,\n",
              "          0.024024,    0.025025,    0.026026,    0.027027,    0.028028,    0.029029,     0.03003,    0.031031,    0.032032,    0.033033,    0.034034,    0.035035,    0.036036,    0.037037,    0.038038,    0.039039,     0.04004,    0.041041,    0.042042,    0.043043,    0.044044,    0.045045,    0.046046,    0.047047,\n",
              "          0.048048,    0.049049,     0.05005,    0.051051,    0.052052,    0.053053,    0.054054,    0.055055,    0.056056,    0.057057,    0.058058,    0.059059,     0.06006,    0.061061,    0.062062,    0.063063,    0.064064,    0.065065,    0.066066,    0.067067,    0.068068,    0.069069,     0.07007,    0.071071,\n",
              "          0.072072,    0.073073,    0.074074,    0.075075,    0.076076,    0.077077,    0.078078,    0.079079,     0.08008,    0.081081,    0.082082,    0.083083,    0.084084,    0.085085,    0.086086,    0.087087,    0.088088,    0.089089,     0.09009,    0.091091,    0.092092,    0.093093,    0.094094,    0.095095,\n",
              "          0.096096,    0.097097,    0.098098,    0.099099,      0.1001,      0.1011,      0.1021,      0.1031,      0.1041,     0.10511,     0.10611,     0.10711,     0.10811,     0.10911,     0.11011,     0.11111,     0.11211,     0.11311,     0.11411,     0.11512,     0.11612,     0.11712,     0.11812,     0.11912,\n",
              "           0.12012,     0.12112,     0.12212,     0.12312,     0.12412,     0.12513,     0.12613,     0.12713,     0.12813,     0.12913,     0.13013,     0.13113,     0.13213,     0.13313,     0.13413,     0.13514,     0.13614,     0.13714,     0.13814,     0.13914,     0.14014,     0.14114,     0.14214,     0.14314,\n",
              "           0.14414,     0.14515,     0.14615,     0.14715,     0.14815,     0.14915,     0.15015,     0.15115,     0.15215,     0.15315,     0.15415,     0.15516,     0.15616,     0.15716,     0.15816,     0.15916,     0.16016,     0.16116,     0.16216,     0.16316,     0.16416,     0.16517,     0.16617,     0.16717,\n",
              "           0.16817,     0.16917,     0.17017,     0.17117,     0.17217,     0.17317,     0.17417,     0.17518,     0.17618,     0.17718,     0.17818,     0.17918,     0.18018,     0.18118,     0.18218,     0.18318,     0.18418,     0.18519,     0.18619,     0.18719,     0.18819,     0.18919,     0.19019,     0.19119,\n",
              "           0.19219,     0.19319,     0.19419,      0.1952,      0.1962,      0.1972,      0.1982,      0.1992,      0.2002,      0.2012,      0.2022,      0.2032,      0.2042,     0.20521,     0.20621,     0.20721,     0.20821,     0.20921,     0.21021,     0.21121,     0.21221,     0.21321,     0.21421,     0.21522,\n",
              "           0.21622,     0.21722,     0.21822,     0.21922,     0.22022,     0.22122,     0.22222,     0.22322,     0.22422,     0.22523,     0.22623,     0.22723,     0.22823,     0.22923,     0.23023,     0.23123,     0.23223,     0.23323,     0.23423,     0.23524,     0.23624,     0.23724,     0.23824,     0.23924,\n",
              "           0.24024,     0.24124,     0.24224,     0.24324,     0.24424,     0.24525,     0.24625,     0.24725,     0.24825,     0.24925,     0.25025,     0.25125,     0.25225,     0.25325,     0.25425,     0.25526,     0.25626,     0.25726,     0.25826,     0.25926,     0.26026,     0.26126,     0.26226,     0.26326,\n",
              "           0.26426,     0.26527,     0.26627,     0.26727,     0.26827,     0.26927,     0.27027,     0.27127,     0.27227,     0.27327,     0.27427,     0.27528,     0.27628,     0.27728,     0.27828,     0.27928,     0.28028,     0.28128,     0.28228,     0.28328,     0.28428,     0.28529,     0.28629,     0.28729,\n",
              "           0.28829,     0.28929,     0.29029,     0.29129,     0.29229,     0.29329,     0.29429,      0.2953,      0.2963,      0.2973,      0.2983,      0.2993,      0.3003,      0.3013,      0.3023,      0.3033,      0.3043,     0.30531,     0.30631,     0.30731,     0.30831,     0.30931,     0.31031,     0.31131,\n",
              "           0.31231,     0.31331,     0.31431,     0.31532,     0.31632,     0.31732,     0.31832,     0.31932,     0.32032,     0.32132,     0.32232,     0.32332,     0.32432,     0.32533,     0.32633,     0.32733,     0.32833,     0.32933,     0.33033,     0.33133,     0.33233,     0.33333,     0.33433,     0.33534,\n",
              "           0.33634,     0.33734,     0.33834,     0.33934,     0.34034,     0.34134,     0.34234,     0.34334,     0.34434,     0.34535,     0.34635,     0.34735,     0.34835,     0.34935,     0.35035,     0.35135,     0.35235,     0.35335,     0.35435,     0.35536,     0.35636,     0.35736,     0.35836,     0.35936,\n",
              "           0.36036,     0.36136,     0.36236,     0.36336,     0.36436,     0.36537,     0.36637,     0.36737,     0.36837,     0.36937,     0.37037,     0.37137,     0.37237,     0.37337,     0.37437,     0.37538,     0.37638,     0.37738,     0.37838,     0.37938,     0.38038,     0.38138,     0.38238,     0.38338,\n",
              "           0.38438,     0.38539,     0.38639,     0.38739,     0.38839,     0.38939,     0.39039,     0.39139,     0.39239,     0.39339,     0.39439,      0.3954,      0.3964,      0.3974,      0.3984,      0.3994,      0.4004,      0.4014,      0.4024,      0.4034,      0.4044,     0.40541,     0.40641,     0.40741,\n",
              "           0.40841,     0.40941,     0.41041,     0.41141,     0.41241,     0.41341,     0.41441,     0.41542,     0.41642,     0.41742,     0.41842,     0.41942,     0.42042,     0.42142,     0.42242,     0.42342,     0.42442,     0.42543,     0.42643,     0.42743,     0.42843,     0.42943,     0.43043,     0.43143,\n",
              "           0.43243,     0.43343,     0.43443,     0.43544,     0.43644,     0.43744,     0.43844,     0.43944,     0.44044,     0.44144,     0.44244,     0.44344,     0.44444,     0.44545,     0.44645,     0.44745,     0.44845,     0.44945,     0.45045,     0.45145,     0.45245,     0.45345,     0.45445,     0.45546,\n",
              "           0.45646,     0.45746,     0.45846,     0.45946,     0.46046,     0.46146,     0.46246,     0.46346,     0.46446,     0.46547,     0.46647,     0.46747,     0.46847,     0.46947,     0.47047,     0.47147,     0.47247,     0.47347,     0.47447,     0.47548,     0.47648,     0.47748,     0.47848,     0.47948,\n",
              "           0.48048,     0.48148,     0.48248,     0.48348,     0.48448,     0.48549,     0.48649,     0.48749,     0.48849,     0.48949,     0.49049,     0.49149,     0.49249,     0.49349,     0.49449,      0.4955,      0.4965,      0.4975,      0.4985,      0.4995,      0.5005,      0.5015,      0.5025,      0.5035,\n",
              "            0.5045,     0.50551,     0.50651,     0.50751,     0.50851,     0.50951,     0.51051,     0.51151,     0.51251,     0.51351,     0.51451,     0.51552,     0.51652,     0.51752,     0.51852,     0.51952,     0.52052,     0.52152,     0.52252,     0.52352,     0.52452,     0.52553,     0.52653,     0.52753,\n",
              "           0.52853,     0.52953,     0.53053,     0.53153,     0.53253,     0.53353,     0.53453,     0.53554,     0.53654,     0.53754,     0.53854,     0.53954,     0.54054,     0.54154,     0.54254,     0.54354,     0.54454,     0.54555,     0.54655,     0.54755,     0.54855,     0.54955,     0.55055,     0.55155,\n",
              "           0.55255,     0.55355,     0.55455,     0.55556,     0.55656,     0.55756,     0.55856,     0.55956,     0.56056,     0.56156,     0.56256,     0.56356,     0.56456,     0.56557,     0.56657,     0.56757,     0.56857,     0.56957,     0.57057,     0.57157,     0.57257,     0.57357,     0.57457,     0.57558,\n",
              "           0.57658,     0.57758,     0.57858,     0.57958,     0.58058,     0.58158,     0.58258,     0.58358,     0.58458,     0.58559,     0.58659,     0.58759,     0.58859,     0.58959,     0.59059,     0.59159,     0.59259,     0.59359,     0.59459,      0.5956,      0.5966,      0.5976,      0.5986,      0.5996,\n",
              "            0.6006,      0.6016,      0.6026,      0.6036,      0.6046,     0.60561,     0.60661,     0.60761,     0.60861,     0.60961,     0.61061,     0.61161,     0.61261,     0.61361,     0.61461,     0.61562,     0.61662,     0.61762,     0.61862,     0.61962,     0.62062,     0.62162,     0.62262,     0.62362,\n",
              "           0.62462,     0.62563,     0.62663,     0.62763,     0.62863,     0.62963,     0.63063,     0.63163,     0.63263,     0.63363,     0.63463,     0.63564,     0.63664,     0.63764,     0.63864,     0.63964,     0.64064,     0.64164,     0.64264,     0.64364,     0.64464,     0.64565,     0.64665,     0.64765,\n",
              "           0.64865,     0.64965,     0.65065,     0.65165,     0.65265,     0.65365,     0.65465,     0.65566,     0.65666,     0.65766,     0.65866,     0.65966,     0.66066,     0.66166,     0.66266,     0.66366,     0.66466,     0.66567,     0.66667,     0.66767,     0.66867,     0.66967,     0.67067,     0.67167,\n",
              "           0.67267,     0.67367,     0.67467,     0.67568,     0.67668,     0.67768,     0.67868,     0.67968,     0.68068,     0.68168,     0.68268,     0.68368,     0.68468,     0.68569,     0.68669,     0.68769,     0.68869,     0.68969,     0.69069,     0.69169,     0.69269,     0.69369,     0.69469,      0.6957,\n",
              "            0.6967,      0.6977,      0.6987,      0.6997,      0.7007,      0.7017,      0.7027,      0.7037,      0.7047,     0.70571,     0.70671,     0.70771,     0.70871,     0.70971,     0.71071,     0.71171,     0.71271,     0.71371,     0.71471,     0.71572,     0.71672,     0.71772,     0.71872,     0.71972,\n",
              "           0.72072,     0.72172,     0.72272,     0.72372,     0.72472,     0.72573,     0.72673,     0.72773,     0.72873,     0.72973,     0.73073,     0.73173,     0.73273,     0.73373,     0.73473,     0.73574,     0.73674,     0.73774,     0.73874,     0.73974,     0.74074,     0.74174,     0.74274,     0.74374,\n",
              "           0.74474,     0.74575,     0.74675,     0.74775,     0.74875,     0.74975,     0.75075,     0.75175,     0.75275,     0.75375,     0.75475,     0.75576,     0.75676,     0.75776,     0.75876,     0.75976,     0.76076,     0.76176,     0.76276,     0.76376,     0.76476,     0.76577,     0.76677,     0.76777,\n",
              "           0.76877,     0.76977,     0.77077,     0.77177,     0.77277,     0.77377,     0.77477,     0.77578,     0.77678,     0.77778,     0.77878,     0.77978,     0.78078,     0.78178,     0.78278,     0.78378,     0.78478,     0.78579,     0.78679,     0.78779,     0.78879,     0.78979,     0.79079,     0.79179,\n",
              "           0.79279,     0.79379,     0.79479,      0.7958,      0.7968,      0.7978,      0.7988,      0.7998,      0.8008,      0.8018,      0.8028,      0.8038,      0.8048,     0.80581,     0.80681,     0.80781,     0.80881,     0.80981,     0.81081,     0.81181,     0.81281,     0.81381,     0.81481,     0.81582,\n",
              "           0.81682,     0.81782,     0.81882,     0.81982,     0.82082,     0.82182,     0.82282,     0.82382,     0.82482,     0.82583,     0.82683,     0.82783,     0.82883,     0.82983,     0.83083,     0.83183,     0.83283,     0.83383,     0.83483,     0.83584,     0.83684,     0.83784,     0.83884,     0.83984,\n",
              "           0.84084,     0.84184,     0.84284,     0.84384,     0.84484,     0.84585,     0.84685,     0.84785,     0.84885,     0.84985,     0.85085,     0.85185,     0.85285,     0.85385,     0.85485,     0.85586,     0.85686,     0.85786,     0.85886,     0.85986,     0.86086,     0.86186,     0.86286,     0.86386,\n",
              "           0.86486,     0.86587,     0.86687,     0.86787,     0.86887,     0.86987,     0.87087,     0.87187,     0.87287,     0.87387,     0.87487,     0.87588,     0.87688,     0.87788,     0.87888,     0.87988,     0.88088,     0.88188,     0.88288,     0.88388,     0.88488,     0.88589,     0.88689,     0.88789,\n",
              "           0.88889,     0.88989,     0.89089,     0.89189,     0.89289,     0.89389,     0.89489,      0.8959,      0.8969,      0.8979,      0.8989,      0.8999,      0.9009,      0.9019,      0.9029,      0.9039,      0.9049,     0.90591,     0.90691,     0.90791,     0.90891,     0.90991,     0.91091,     0.91191,\n",
              "           0.91291,     0.91391,     0.91491,     0.91592,     0.91692,     0.91792,     0.91892,     0.91992,     0.92092,     0.92192,     0.92292,     0.92392,     0.92492,     0.92593,     0.92693,     0.92793,     0.92893,     0.92993,     0.93093,     0.93193,     0.93293,     0.93393,     0.93493,     0.93594,\n",
              "           0.93694,     0.93794,     0.93894,     0.93994,     0.94094,     0.94194,     0.94294,     0.94394,     0.94494,     0.94595,     0.94695,     0.94795,     0.94895,     0.94995,     0.95095,     0.95195,     0.95295,     0.95395,     0.95495,     0.95596,     0.95696,     0.95796,     0.95896,     0.95996,\n",
              "           0.96096,     0.96196,     0.96296,     0.96396,     0.96496,     0.96597,     0.96697,     0.96797,     0.96897,     0.96997,     0.97097,     0.97197,     0.97297,     0.97397,     0.97497,     0.97598,     0.97698,     0.97798,     0.97898,     0.97998,     0.98098,     0.98198,     0.98298,     0.98398,\n",
              "           0.98498,     0.98599,     0.98699,     0.98799,     0.98899,     0.98999,     0.99099,     0.99199,     0.99299,     0.99399,     0.99499,       0.996,       0.997,       0.998,       0.999,           1]), array([[    0.47881,     0.47881,     0.55747, ...,           0,           0,           0],\n",
              "       [    0.48366,     0.48366,     0.60112, ...,           0,           0,           0],\n",
              "       [    0.18462,     0.18462,     0.20674, ...,           0,           0,           0],\n",
              "       ...,\n",
              "       [    0.42158,     0.42158,     0.47019, ...,           0,           0,           0],\n",
              "       [    0.57516,     0.57516,     0.62275, ...,           0,           0,           0],\n",
              "       [     0.4989,      0.4989,     0.53076, ...,           0,           0,           0]]), 'Confidence', 'F1'], [array([          0,    0.001001,    0.002002,    0.003003,    0.004004,    0.005005,    0.006006,    0.007007,    0.008008,    0.009009,     0.01001,    0.011011,    0.012012,    0.013013,    0.014014,    0.015015,    0.016016,    0.017017,    0.018018,    0.019019,     0.02002,    0.021021,    0.022022,    0.023023,\n",
              "          0.024024,    0.025025,    0.026026,    0.027027,    0.028028,    0.029029,     0.03003,    0.031031,    0.032032,    0.033033,    0.034034,    0.035035,    0.036036,    0.037037,    0.038038,    0.039039,     0.04004,    0.041041,    0.042042,    0.043043,    0.044044,    0.045045,    0.046046,    0.047047,\n",
              "          0.048048,    0.049049,     0.05005,    0.051051,    0.052052,    0.053053,    0.054054,    0.055055,    0.056056,    0.057057,    0.058058,    0.059059,     0.06006,    0.061061,    0.062062,    0.063063,    0.064064,    0.065065,    0.066066,    0.067067,    0.068068,    0.069069,     0.07007,    0.071071,\n",
              "          0.072072,    0.073073,    0.074074,    0.075075,    0.076076,    0.077077,    0.078078,    0.079079,     0.08008,    0.081081,    0.082082,    0.083083,    0.084084,    0.085085,    0.086086,    0.087087,    0.088088,    0.089089,     0.09009,    0.091091,    0.092092,    0.093093,    0.094094,    0.095095,\n",
              "          0.096096,    0.097097,    0.098098,    0.099099,      0.1001,      0.1011,      0.1021,      0.1031,      0.1041,     0.10511,     0.10611,     0.10711,     0.10811,     0.10911,     0.11011,     0.11111,     0.11211,     0.11311,     0.11411,     0.11512,     0.11612,     0.11712,     0.11812,     0.11912,\n",
              "           0.12012,     0.12112,     0.12212,     0.12312,     0.12412,     0.12513,     0.12613,     0.12713,     0.12813,     0.12913,     0.13013,     0.13113,     0.13213,     0.13313,     0.13413,     0.13514,     0.13614,     0.13714,     0.13814,     0.13914,     0.14014,     0.14114,     0.14214,     0.14314,\n",
              "           0.14414,     0.14515,     0.14615,     0.14715,     0.14815,     0.14915,     0.15015,     0.15115,     0.15215,     0.15315,     0.15415,     0.15516,     0.15616,     0.15716,     0.15816,     0.15916,     0.16016,     0.16116,     0.16216,     0.16316,     0.16416,     0.16517,     0.16617,     0.16717,\n",
              "           0.16817,     0.16917,     0.17017,     0.17117,     0.17217,     0.17317,     0.17417,     0.17518,     0.17618,     0.17718,     0.17818,     0.17918,     0.18018,     0.18118,     0.18218,     0.18318,     0.18418,     0.18519,     0.18619,     0.18719,     0.18819,     0.18919,     0.19019,     0.19119,\n",
              "           0.19219,     0.19319,     0.19419,      0.1952,      0.1962,      0.1972,      0.1982,      0.1992,      0.2002,      0.2012,      0.2022,      0.2032,      0.2042,     0.20521,     0.20621,     0.20721,     0.20821,     0.20921,     0.21021,     0.21121,     0.21221,     0.21321,     0.21421,     0.21522,\n",
              "           0.21622,     0.21722,     0.21822,     0.21922,     0.22022,     0.22122,     0.22222,     0.22322,     0.22422,     0.22523,     0.22623,     0.22723,     0.22823,     0.22923,     0.23023,     0.23123,     0.23223,     0.23323,     0.23423,     0.23524,     0.23624,     0.23724,     0.23824,     0.23924,\n",
              "           0.24024,     0.24124,     0.24224,     0.24324,     0.24424,     0.24525,     0.24625,     0.24725,     0.24825,     0.24925,     0.25025,     0.25125,     0.25225,     0.25325,     0.25425,     0.25526,     0.25626,     0.25726,     0.25826,     0.25926,     0.26026,     0.26126,     0.26226,     0.26326,\n",
              "           0.26426,     0.26527,     0.26627,     0.26727,     0.26827,     0.26927,     0.27027,     0.27127,     0.27227,     0.27327,     0.27427,     0.27528,     0.27628,     0.27728,     0.27828,     0.27928,     0.28028,     0.28128,     0.28228,     0.28328,     0.28428,     0.28529,     0.28629,     0.28729,\n",
              "           0.28829,     0.28929,     0.29029,     0.29129,     0.29229,     0.29329,     0.29429,      0.2953,      0.2963,      0.2973,      0.2983,      0.2993,      0.3003,      0.3013,      0.3023,      0.3033,      0.3043,     0.30531,     0.30631,     0.30731,     0.30831,     0.30931,     0.31031,     0.31131,\n",
              "           0.31231,     0.31331,     0.31431,     0.31532,     0.31632,     0.31732,     0.31832,     0.31932,     0.32032,     0.32132,     0.32232,     0.32332,     0.32432,     0.32533,     0.32633,     0.32733,     0.32833,     0.32933,     0.33033,     0.33133,     0.33233,     0.33333,     0.33433,     0.33534,\n",
              "           0.33634,     0.33734,     0.33834,     0.33934,     0.34034,     0.34134,     0.34234,     0.34334,     0.34434,     0.34535,     0.34635,     0.34735,     0.34835,     0.34935,     0.35035,     0.35135,     0.35235,     0.35335,     0.35435,     0.35536,     0.35636,     0.35736,     0.35836,     0.35936,\n",
              "           0.36036,     0.36136,     0.36236,     0.36336,     0.36436,     0.36537,     0.36637,     0.36737,     0.36837,     0.36937,     0.37037,     0.37137,     0.37237,     0.37337,     0.37437,     0.37538,     0.37638,     0.37738,     0.37838,     0.37938,     0.38038,     0.38138,     0.38238,     0.38338,\n",
              "           0.38438,     0.38539,     0.38639,     0.38739,     0.38839,     0.38939,     0.39039,     0.39139,     0.39239,     0.39339,     0.39439,      0.3954,      0.3964,      0.3974,      0.3984,      0.3994,      0.4004,      0.4014,      0.4024,      0.4034,      0.4044,     0.40541,     0.40641,     0.40741,\n",
              "           0.40841,     0.40941,     0.41041,     0.41141,     0.41241,     0.41341,     0.41441,     0.41542,     0.41642,     0.41742,     0.41842,     0.41942,     0.42042,     0.42142,     0.42242,     0.42342,     0.42442,     0.42543,     0.42643,     0.42743,     0.42843,     0.42943,     0.43043,     0.43143,\n",
              "           0.43243,     0.43343,     0.43443,     0.43544,     0.43644,     0.43744,     0.43844,     0.43944,     0.44044,     0.44144,     0.44244,     0.44344,     0.44444,     0.44545,     0.44645,     0.44745,     0.44845,     0.44945,     0.45045,     0.45145,     0.45245,     0.45345,     0.45445,     0.45546,\n",
              "           0.45646,     0.45746,     0.45846,     0.45946,     0.46046,     0.46146,     0.46246,     0.46346,     0.46446,     0.46547,     0.46647,     0.46747,     0.46847,     0.46947,     0.47047,     0.47147,     0.47247,     0.47347,     0.47447,     0.47548,     0.47648,     0.47748,     0.47848,     0.47948,\n",
              "           0.48048,     0.48148,     0.48248,     0.48348,     0.48448,     0.48549,     0.48649,     0.48749,     0.48849,     0.48949,     0.49049,     0.49149,     0.49249,     0.49349,     0.49449,      0.4955,      0.4965,      0.4975,      0.4985,      0.4995,      0.5005,      0.5015,      0.5025,      0.5035,\n",
              "            0.5045,     0.50551,     0.50651,     0.50751,     0.50851,     0.50951,     0.51051,     0.51151,     0.51251,     0.51351,     0.51451,     0.51552,     0.51652,     0.51752,     0.51852,     0.51952,     0.52052,     0.52152,     0.52252,     0.52352,     0.52452,     0.52553,     0.52653,     0.52753,\n",
              "           0.52853,     0.52953,     0.53053,     0.53153,     0.53253,     0.53353,     0.53453,     0.53554,     0.53654,     0.53754,     0.53854,     0.53954,     0.54054,     0.54154,     0.54254,     0.54354,     0.54454,     0.54555,     0.54655,     0.54755,     0.54855,     0.54955,     0.55055,     0.55155,\n",
              "           0.55255,     0.55355,     0.55455,     0.55556,     0.55656,     0.55756,     0.55856,     0.55956,     0.56056,     0.56156,     0.56256,     0.56356,     0.56456,     0.56557,     0.56657,     0.56757,     0.56857,     0.56957,     0.57057,     0.57157,     0.57257,     0.57357,     0.57457,     0.57558,\n",
              "           0.57658,     0.57758,     0.57858,     0.57958,     0.58058,     0.58158,     0.58258,     0.58358,     0.58458,     0.58559,     0.58659,     0.58759,     0.58859,     0.58959,     0.59059,     0.59159,     0.59259,     0.59359,     0.59459,      0.5956,      0.5966,      0.5976,      0.5986,      0.5996,\n",
              "            0.6006,      0.6016,      0.6026,      0.6036,      0.6046,     0.60561,     0.60661,     0.60761,     0.60861,     0.60961,     0.61061,     0.61161,     0.61261,     0.61361,     0.61461,     0.61562,     0.61662,     0.61762,     0.61862,     0.61962,     0.62062,     0.62162,     0.62262,     0.62362,\n",
              "           0.62462,     0.62563,     0.62663,     0.62763,     0.62863,     0.62963,     0.63063,     0.63163,     0.63263,     0.63363,     0.63463,     0.63564,     0.63664,     0.63764,     0.63864,     0.63964,     0.64064,     0.64164,     0.64264,     0.64364,     0.64464,     0.64565,     0.64665,     0.64765,\n",
              "           0.64865,     0.64965,     0.65065,     0.65165,     0.65265,     0.65365,     0.65465,     0.65566,     0.65666,     0.65766,     0.65866,     0.65966,     0.66066,     0.66166,     0.66266,     0.66366,     0.66466,     0.66567,     0.66667,     0.66767,     0.66867,     0.66967,     0.67067,     0.67167,\n",
              "           0.67267,     0.67367,     0.67467,     0.67568,     0.67668,     0.67768,     0.67868,     0.67968,     0.68068,     0.68168,     0.68268,     0.68368,     0.68468,     0.68569,     0.68669,     0.68769,     0.68869,     0.68969,     0.69069,     0.69169,     0.69269,     0.69369,     0.69469,      0.6957,\n",
              "            0.6967,      0.6977,      0.6987,      0.6997,      0.7007,      0.7017,      0.7027,      0.7037,      0.7047,     0.70571,     0.70671,     0.70771,     0.70871,     0.70971,     0.71071,     0.71171,     0.71271,     0.71371,     0.71471,     0.71572,     0.71672,     0.71772,     0.71872,     0.71972,\n",
              "           0.72072,     0.72172,     0.72272,     0.72372,     0.72472,     0.72573,     0.72673,     0.72773,     0.72873,     0.72973,     0.73073,     0.73173,     0.73273,     0.73373,     0.73473,     0.73574,     0.73674,     0.73774,     0.73874,     0.73974,     0.74074,     0.74174,     0.74274,     0.74374,\n",
              "           0.74474,     0.74575,     0.74675,     0.74775,     0.74875,     0.74975,     0.75075,     0.75175,     0.75275,     0.75375,     0.75475,     0.75576,     0.75676,     0.75776,     0.75876,     0.75976,     0.76076,     0.76176,     0.76276,     0.76376,     0.76476,     0.76577,     0.76677,     0.76777,\n",
              "           0.76877,     0.76977,     0.77077,     0.77177,     0.77277,     0.77377,     0.77477,     0.77578,     0.77678,     0.77778,     0.77878,     0.77978,     0.78078,     0.78178,     0.78278,     0.78378,     0.78478,     0.78579,     0.78679,     0.78779,     0.78879,     0.78979,     0.79079,     0.79179,\n",
              "           0.79279,     0.79379,     0.79479,      0.7958,      0.7968,      0.7978,      0.7988,      0.7998,      0.8008,      0.8018,      0.8028,      0.8038,      0.8048,     0.80581,     0.80681,     0.80781,     0.80881,     0.80981,     0.81081,     0.81181,     0.81281,     0.81381,     0.81481,     0.81582,\n",
              "           0.81682,     0.81782,     0.81882,     0.81982,     0.82082,     0.82182,     0.82282,     0.82382,     0.82482,     0.82583,     0.82683,     0.82783,     0.82883,     0.82983,     0.83083,     0.83183,     0.83283,     0.83383,     0.83483,     0.83584,     0.83684,     0.83784,     0.83884,     0.83984,\n",
              "           0.84084,     0.84184,     0.84284,     0.84384,     0.84484,     0.84585,     0.84685,     0.84785,     0.84885,     0.84985,     0.85085,     0.85185,     0.85285,     0.85385,     0.85485,     0.85586,     0.85686,     0.85786,     0.85886,     0.85986,     0.86086,     0.86186,     0.86286,     0.86386,\n",
              "           0.86486,     0.86587,     0.86687,     0.86787,     0.86887,     0.86987,     0.87087,     0.87187,     0.87287,     0.87387,     0.87487,     0.87588,     0.87688,     0.87788,     0.87888,     0.87988,     0.88088,     0.88188,     0.88288,     0.88388,     0.88488,     0.88589,     0.88689,     0.88789,\n",
              "           0.88889,     0.88989,     0.89089,     0.89189,     0.89289,     0.89389,     0.89489,      0.8959,      0.8969,      0.8979,      0.8989,      0.8999,      0.9009,      0.9019,      0.9029,      0.9039,      0.9049,     0.90591,     0.90691,     0.90791,     0.90891,     0.90991,     0.91091,     0.91191,\n",
              "           0.91291,     0.91391,     0.91491,     0.91592,     0.91692,     0.91792,     0.91892,     0.91992,     0.92092,     0.92192,     0.92292,     0.92392,     0.92492,     0.92593,     0.92693,     0.92793,     0.92893,     0.92993,     0.93093,     0.93193,     0.93293,     0.93393,     0.93493,     0.93594,\n",
              "           0.93694,     0.93794,     0.93894,     0.93994,     0.94094,     0.94194,     0.94294,     0.94394,     0.94494,     0.94595,     0.94695,     0.94795,     0.94895,     0.94995,     0.95095,     0.95195,     0.95295,     0.95395,     0.95495,     0.95596,     0.95696,     0.95796,     0.95896,     0.95996,\n",
              "           0.96096,     0.96196,     0.96296,     0.96396,     0.96496,     0.96597,     0.96697,     0.96797,     0.96897,     0.96997,     0.97097,     0.97197,     0.97297,     0.97397,     0.97497,     0.97598,     0.97698,     0.97798,     0.97898,     0.97998,     0.98098,     0.98198,     0.98298,     0.98398,\n",
              "           0.98498,     0.98599,     0.98699,     0.98799,     0.98899,     0.98999,     0.99099,     0.99199,     0.99299,     0.99399,     0.99499,       0.996,       0.997,       0.998,       0.999,           1]), array([[    0.31476,     0.31476,     0.38646, ...,           1,           1,           1],\n",
              "       [    0.31897,     0.31897,     0.42972, ...,           1,           1,           1],\n",
              "       [    0.10169,     0.10169,     0.11529, ...,           1,           1,           1],\n",
              "       ...,\n",
              "       [    0.26709,     0.26709,     0.30735, ...,           1,           1,           1],\n",
              "       [    0.40367,     0.40367,     0.45217, ...,           1,           1,           1],\n",
              "       [    0.33235,     0.33235,     0.36125, ...,           1,           1,           1]]), 'Confidence', 'Precision'], [array([          0,    0.001001,    0.002002,    0.003003,    0.004004,    0.005005,    0.006006,    0.007007,    0.008008,    0.009009,     0.01001,    0.011011,    0.012012,    0.013013,    0.014014,    0.015015,    0.016016,    0.017017,    0.018018,    0.019019,     0.02002,    0.021021,    0.022022,    0.023023,\n",
              "          0.024024,    0.025025,    0.026026,    0.027027,    0.028028,    0.029029,     0.03003,    0.031031,    0.032032,    0.033033,    0.034034,    0.035035,    0.036036,    0.037037,    0.038038,    0.039039,     0.04004,    0.041041,    0.042042,    0.043043,    0.044044,    0.045045,    0.046046,    0.047047,\n",
              "          0.048048,    0.049049,     0.05005,    0.051051,    0.052052,    0.053053,    0.054054,    0.055055,    0.056056,    0.057057,    0.058058,    0.059059,     0.06006,    0.061061,    0.062062,    0.063063,    0.064064,    0.065065,    0.066066,    0.067067,    0.068068,    0.069069,     0.07007,    0.071071,\n",
              "          0.072072,    0.073073,    0.074074,    0.075075,    0.076076,    0.077077,    0.078078,    0.079079,     0.08008,    0.081081,    0.082082,    0.083083,    0.084084,    0.085085,    0.086086,    0.087087,    0.088088,    0.089089,     0.09009,    0.091091,    0.092092,    0.093093,    0.094094,    0.095095,\n",
              "          0.096096,    0.097097,    0.098098,    0.099099,      0.1001,      0.1011,      0.1021,      0.1031,      0.1041,     0.10511,     0.10611,     0.10711,     0.10811,     0.10911,     0.11011,     0.11111,     0.11211,     0.11311,     0.11411,     0.11512,     0.11612,     0.11712,     0.11812,     0.11912,\n",
              "           0.12012,     0.12112,     0.12212,     0.12312,     0.12412,     0.12513,     0.12613,     0.12713,     0.12813,     0.12913,     0.13013,     0.13113,     0.13213,     0.13313,     0.13413,     0.13514,     0.13614,     0.13714,     0.13814,     0.13914,     0.14014,     0.14114,     0.14214,     0.14314,\n",
              "           0.14414,     0.14515,     0.14615,     0.14715,     0.14815,     0.14915,     0.15015,     0.15115,     0.15215,     0.15315,     0.15415,     0.15516,     0.15616,     0.15716,     0.15816,     0.15916,     0.16016,     0.16116,     0.16216,     0.16316,     0.16416,     0.16517,     0.16617,     0.16717,\n",
              "           0.16817,     0.16917,     0.17017,     0.17117,     0.17217,     0.17317,     0.17417,     0.17518,     0.17618,     0.17718,     0.17818,     0.17918,     0.18018,     0.18118,     0.18218,     0.18318,     0.18418,     0.18519,     0.18619,     0.18719,     0.18819,     0.18919,     0.19019,     0.19119,\n",
              "           0.19219,     0.19319,     0.19419,      0.1952,      0.1962,      0.1972,      0.1982,      0.1992,      0.2002,      0.2012,      0.2022,      0.2032,      0.2042,     0.20521,     0.20621,     0.20721,     0.20821,     0.20921,     0.21021,     0.21121,     0.21221,     0.21321,     0.21421,     0.21522,\n",
              "           0.21622,     0.21722,     0.21822,     0.21922,     0.22022,     0.22122,     0.22222,     0.22322,     0.22422,     0.22523,     0.22623,     0.22723,     0.22823,     0.22923,     0.23023,     0.23123,     0.23223,     0.23323,     0.23423,     0.23524,     0.23624,     0.23724,     0.23824,     0.23924,\n",
              "           0.24024,     0.24124,     0.24224,     0.24324,     0.24424,     0.24525,     0.24625,     0.24725,     0.24825,     0.24925,     0.25025,     0.25125,     0.25225,     0.25325,     0.25425,     0.25526,     0.25626,     0.25726,     0.25826,     0.25926,     0.26026,     0.26126,     0.26226,     0.26326,\n",
              "           0.26426,     0.26527,     0.26627,     0.26727,     0.26827,     0.26927,     0.27027,     0.27127,     0.27227,     0.27327,     0.27427,     0.27528,     0.27628,     0.27728,     0.27828,     0.27928,     0.28028,     0.28128,     0.28228,     0.28328,     0.28428,     0.28529,     0.28629,     0.28729,\n",
              "           0.28829,     0.28929,     0.29029,     0.29129,     0.29229,     0.29329,     0.29429,      0.2953,      0.2963,      0.2973,      0.2983,      0.2993,      0.3003,      0.3013,      0.3023,      0.3033,      0.3043,     0.30531,     0.30631,     0.30731,     0.30831,     0.30931,     0.31031,     0.31131,\n",
              "           0.31231,     0.31331,     0.31431,     0.31532,     0.31632,     0.31732,     0.31832,     0.31932,     0.32032,     0.32132,     0.32232,     0.32332,     0.32432,     0.32533,     0.32633,     0.32733,     0.32833,     0.32933,     0.33033,     0.33133,     0.33233,     0.33333,     0.33433,     0.33534,\n",
              "           0.33634,     0.33734,     0.33834,     0.33934,     0.34034,     0.34134,     0.34234,     0.34334,     0.34434,     0.34535,     0.34635,     0.34735,     0.34835,     0.34935,     0.35035,     0.35135,     0.35235,     0.35335,     0.35435,     0.35536,     0.35636,     0.35736,     0.35836,     0.35936,\n",
              "           0.36036,     0.36136,     0.36236,     0.36336,     0.36436,     0.36537,     0.36637,     0.36737,     0.36837,     0.36937,     0.37037,     0.37137,     0.37237,     0.37337,     0.37437,     0.37538,     0.37638,     0.37738,     0.37838,     0.37938,     0.38038,     0.38138,     0.38238,     0.38338,\n",
              "           0.38438,     0.38539,     0.38639,     0.38739,     0.38839,     0.38939,     0.39039,     0.39139,     0.39239,     0.39339,     0.39439,      0.3954,      0.3964,      0.3974,      0.3984,      0.3994,      0.4004,      0.4014,      0.4024,      0.4034,      0.4044,     0.40541,     0.40641,     0.40741,\n",
              "           0.40841,     0.40941,     0.41041,     0.41141,     0.41241,     0.41341,     0.41441,     0.41542,     0.41642,     0.41742,     0.41842,     0.41942,     0.42042,     0.42142,     0.42242,     0.42342,     0.42442,     0.42543,     0.42643,     0.42743,     0.42843,     0.42943,     0.43043,     0.43143,\n",
              "           0.43243,     0.43343,     0.43443,     0.43544,     0.43644,     0.43744,     0.43844,     0.43944,     0.44044,     0.44144,     0.44244,     0.44344,     0.44444,     0.44545,     0.44645,     0.44745,     0.44845,     0.44945,     0.45045,     0.45145,     0.45245,     0.45345,     0.45445,     0.45546,\n",
              "           0.45646,     0.45746,     0.45846,     0.45946,     0.46046,     0.46146,     0.46246,     0.46346,     0.46446,     0.46547,     0.46647,     0.46747,     0.46847,     0.46947,     0.47047,     0.47147,     0.47247,     0.47347,     0.47447,     0.47548,     0.47648,     0.47748,     0.47848,     0.47948,\n",
              "           0.48048,     0.48148,     0.48248,     0.48348,     0.48448,     0.48549,     0.48649,     0.48749,     0.48849,     0.48949,     0.49049,     0.49149,     0.49249,     0.49349,     0.49449,      0.4955,      0.4965,      0.4975,      0.4985,      0.4995,      0.5005,      0.5015,      0.5025,      0.5035,\n",
              "            0.5045,     0.50551,     0.50651,     0.50751,     0.50851,     0.50951,     0.51051,     0.51151,     0.51251,     0.51351,     0.51451,     0.51552,     0.51652,     0.51752,     0.51852,     0.51952,     0.52052,     0.52152,     0.52252,     0.52352,     0.52452,     0.52553,     0.52653,     0.52753,\n",
              "           0.52853,     0.52953,     0.53053,     0.53153,     0.53253,     0.53353,     0.53453,     0.53554,     0.53654,     0.53754,     0.53854,     0.53954,     0.54054,     0.54154,     0.54254,     0.54354,     0.54454,     0.54555,     0.54655,     0.54755,     0.54855,     0.54955,     0.55055,     0.55155,\n",
              "           0.55255,     0.55355,     0.55455,     0.55556,     0.55656,     0.55756,     0.55856,     0.55956,     0.56056,     0.56156,     0.56256,     0.56356,     0.56456,     0.56557,     0.56657,     0.56757,     0.56857,     0.56957,     0.57057,     0.57157,     0.57257,     0.57357,     0.57457,     0.57558,\n",
              "           0.57658,     0.57758,     0.57858,     0.57958,     0.58058,     0.58158,     0.58258,     0.58358,     0.58458,     0.58559,     0.58659,     0.58759,     0.58859,     0.58959,     0.59059,     0.59159,     0.59259,     0.59359,     0.59459,      0.5956,      0.5966,      0.5976,      0.5986,      0.5996,\n",
              "            0.6006,      0.6016,      0.6026,      0.6036,      0.6046,     0.60561,     0.60661,     0.60761,     0.60861,     0.60961,     0.61061,     0.61161,     0.61261,     0.61361,     0.61461,     0.61562,     0.61662,     0.61762,     0.61862,     0.61962,     0.62062,     0.62162,     0.62262,     0.62362,\n",
              "           0.62462,     0.62563,     0.62663,     0.62763,     0.62863,     0.62963,     0.63063,     0.63163,     0.63263,     0.63363,     0.63463,     0.63564,     0.63664,     0.63764,     0.63864,     0.63964,     0.64064,     0.64164,     0.64264,     0.64364,     0.64464,     0.64565,     0.64665,     0.64765,\n",
              "           0.64865,     0.64965,     0.65065,     0.65165,     0.65265,     0.65365,     0.65465,     0.65566,     0.65666,     0.65766,     0.65866,     0.65966,     0.66066,     0.66166,     0.66266,     0.66366,     0.66466,     0.66567,     0.66667,     0.66767,     0.66867,     0.66967,     0.67067,     0.67167,\n",
              "           0.67267,     0.67367,     0.67467,     0.67568,     0.67668,     0.67768,     0.67868,     0.67968,     0.68068,     0.68168,     0.68268,     0.68368,     0.68468,     0.68569,     0.68669,     0.68769,     0.68869,     0.68969,     0.69069,     0.69169,     0.69269,     0.69369,     0.69469,      0.6957,\n",
              "            0.6967,      0.6977,      0.6987,      0.6997,      0.7007,      0.7017,      0.7027,      0.7037,      0.7047,     0.70571,     0.70671,     0.70771,     0.70871,     0.70971,     0.71071,     0.71171,     0.71271,     0.71371,     0.71471,     0.71572,     0.71672,     0.71772,     0.71872,     0.71972,\n",
              "           0.72072,     0.72172,     0.72272,     0.72372,     0.72472,     0.72573,     0.72673,     0.72773,     0.72873,     0.72973,     0.73073,     0.73173,     0.73273,     0.73373,     0.73473,     0.73574,     0.73674,     0.73774,     0.73874,     0.73974,     0.74074,     0.74174,     0.74274,     0.74374,\n",
              "           0.74474,     0.74575,     0.74675,     0.74775,     0.74875,     0.74975,     0.75075,     0.75175,     0.75275,     0.75375,     0.75475,     0.75576,     0.75676,     0.75776,     0.75876,     0.75976,     0.76076,     0.76176,     0.76276,     0.76376,     0.76476,     0.76577,     0.76677,     0.76777,\n",
              "           0.76877,     0.76977,     0.77077,     0.77177,     0.77277,     0.77377,     0.77477,     0.77578,     0.77678,     0.77778,     0.77878,     0.77978,     0.78078,     0.78178,     0.78278,     0.78378,     0.78478,     0.78579,     0.78679,     0.78779,     0.78879,     0.78979,     0.79079,     0.79179,\n",
              "           0.79279,     0.79379,     0.79479,      0.7958,      0.7968,      0.7978,      0.7988,      0.7998,      0.8008,      0.8018,      0.8028,      0.8038,      0.8048,     0.80581,     0.80681,     0.80781,     0.80881,     0.80981,     0.81081,     0.81181,     0.81281,     0.81381,     0.81481,     0.81582,\n",
              "           0.81682,     0.81782,     0.81882,     0.81982,     0.82082,     0.82182,     0.82282,     0.82382,     0.82482,     0.82583,     0.82683,     0.82783,     0.82883,     0.82983,     0.83083,     0.83183,     0.83283,     0.83383,     0.83483,     0.83584,     0.83684,     0.83784,     0.83884,     0.83984,\n",
              "           0.84084,     0.84184,     0.84284,     0.84384,     0.84484,     0.84585,     0.84685,     0.84785,     0.84885,     0.84985,     0.85085,     0.85185,     0.85285,     0.85385,     0.85485,     0.85586,     0.85686,     0.85786,     0.85886,     0.85986,     0.86086,     0.86186,     0.86286,     0.86386,\n",
              "           0.86486,     0.86587,     0.86687,     0.86787,     0.86887,     0.86987,     0.87087,     0.87187,     0.87287,     0.87387,     0.87487,     0.87588,     0.87688,     0.87788,     0.87888,     0.87988,     0.88088,     0.88188,     0.88288,     0.88388,     0.88488,     0.88589,     0.88689,     0.88789,\n",
              "           0.88889,     0.88989,     0.89089,     0.89189,     0.89289,     0.89389,     0.89489,      0.8959,      0.8969,      0.8979,      0.8989,      0.8999,      0.9009,      0.9019,      0.9029,      0.9039,      0.9049,     0.90591,     0.90691,     0.90791,     0.90891,     0.90991,     0.91091,     0.91191,\n",
              "           0.91291,     0.91391,     0.91491,     0.91592,     0.91692,     0.91792,     0.91892,     0.91992,     0.92092,     0.92192,     0.92292,     0.92392,     0.92492,     0.92593,     0.92693,     0.92793,     0.92893,     0.92993,     0.93093,     0.93193,     0.93293,     0.93393,     0.93493,     0.93594,\n",
              "           0.93694,     0.93794,     0.93894,     0.93994,     0.94094,     0.94194,     0.94294,     0.94394,     0.94494,     0.94595,     0.94695,     0.94795,     0.94895,     0.94995,     0.95095,     0.95195,     0.95295,     0.95395,     0.95495,     0.95596,     0.95696,     0.95796,     0.95896,     0.95996,\n",
              "           0.96096,     0.96196,     0.96296,     0.96396,     0.96496,     0.96597,     0.96697,     0.96797,     0.96897,     0.96997,     0.97097,     0.97197,     0.97297,     0.97397,     0.97497,     0.97598,     0.97698,     0.97798,     0.97898,     0.97998,     0.98098,     0.98198,     0.98298,     0.98398,\n",
              "           0.98498,     0.98599,     0.98699,     0.98799,     0.98899,     0.98999,     0.99099,     0.99199,     0.99299,     0.99399,     0.99499,       0.996,       0.997,       0.998,       0.999,           1]), array([[          1,           1,           1, ...,           0,           0,           0],\n",
              "       [          1,           1,           1, ...,           0,           0,           0],\n",
              "       [          1,           1,           1, ...,           0,           0,           0],\n",
              "       ...,\n",
              "       [          1,           1,           1, ...,           0,           0,           0],\n",
              "       [          1,           1,           1, ...,           0,           0,           0],\n",
              "       [          1,           1,           1, ...,           0,           0,           0]]), 'Confidence', 'Recall']]\n",
              "fitness: np.float64(0.9194251368069698)\n",
              "keys: ['metrics/precision(B)', 'metrics/recall(B)', 'metrics/mAP50(B)', 'metrics/mAP50-95(B)']\n",
              "maps: array([    0.98511,     0.97969,     0.77536,     0.91352,       0.994,     0.83119,      0.9181,     0.95469])\n",
              "names: {0: 'ANP3.2', 1: 'F5.54', 2: 'F5.62', 3: 'G13.II', 4: 'G17.III', 5: 'G18.1', 6: 'G3.III', 7: 'G7.III'}\n",
              "plot: True\n",
              "results_dict: {'metrics/precision(B)': np.float64(0.8763555390086748), 'metrics/recall(B)': np.float64(0.8707371268718287), 'metrics/mAP50(B)': np.float64(0.9236349370310358), 'metrics/mAP50-95(B)': np.float64(0.918957381226518), 'fitness': np.float64(0.9194251368069698)}\n",
              "save_dir: PosixPath('runs/detect/train42')\n",
              "speed: {'preprocess': 3.6211016601546624, 'inference': 36.66376979611599, 'loss': 0.002900621359568831, 'postprocess': 4.6377826407849865}\n",
              "task: 'detect'"
            ]
          },
          "metadata": {},
          "execution_count": 7
        }
      ]
    },
    {
      "cell_type": "markdown",
      "source": [
        "# **Đánh giá trên tập test**"
      ],
      "metadata": {
        "id": "mzakW7lmnbG8"
      }
    },
    {
      "cell_type": "code",
      "source": [
        "model.val(data=\"/content/data.yaml\",split=\"test\")"
      ],
      "metadata": {
        "id": "dt_dFyNznVKv"
      },
      "execution_count": null,
      "outputs": []
    },
    {
      "cell_type": "markdown",
      "source": [
        "# **Lưu và tải mô hình về**"
      ],
      "metadata": {
        "id": "fiBfZLV8ndxZ"
      }
    },
    {
      "cell_type": "code",
      "source": [
        "from google.colab import files\n",
        "import shutil\n",
        "shutil.make_archive(\"/content/result\",\"zip\",\"/content/runs/detect\")\n",
        "files.download(\"/content/result.zip\")"
      ],
      "metadata": {
        "colab": {
          "base_uri": "https://localhost:8080/",
          "height": 17
        },
        "id": "gILVPumgb3nu",
        "outputId": "1b1a3529-a763-4d06-dda4-cef463599665"
      },
      "execution_count": null,
      "outputs": [
        {
          "output_type": "display_data",
          "data": {
            "text/plain": [
              "<IPython.core.display.Javascript object>"
            ],
            "application/javascript": [
              "\n",
              "    async function download(id, filename, size) {\n",
              "      if (!google.colab.kernel.accessAllowed) {\n",
              "        return;\n",
              "      }\n",
              "      const div = document.createElement('div');\n",
              "      const label = document.createElement('label');\n",
              "      label.textContent = `Downloading \"${filename}\": `;\n",
              "      div.appendChild(label);\n",
              "      const progress = document.createElement('progress');\n",
              "      progress.max = size;\n",
              "      div.appendChild(progress);\n",
              "      document.body.appendChild(div);\n",
              "\n",
              "      const buffers = [];\n",
              "      let downloaded = 0;\n",
              "\n",
              "      const channel = await google.colab.kernel.comms.open(id);\n",
              "      // Send a message to notify the kernel that we're ready.\n",
              "      channel.send({})\n",
              "\n",
              "      for await (const message of channel.messages) {\n",
              "        // Send a message to notify the kernel that we're ready.\n",
              "        channel.send({})\n",
              "        if (message.buffers) {\n",
              "          for (const buffer of message.buffers) {\n",
              "            buffers.push(buffer);\n",
              "            downloaded += buffer.byteLength;\n",
              "            progress.value = downloaded;\n",
              "          }\n",
              "        }\n",
              "      }\n",
              "      const blob = new Blob(buffers, {type: 'application/binary'});\n",
              "      const a = document.createElement('a');\n",
              "      a.href = window.URL.createObjectURL(blob);\n",
              "      a.download = filename;\n",
              "      div.appendChild(a);\n",
              "      a.click();\n",
              "      div.remove();\n",
              "    }\n",
              "  "
            ]
          },
          "metadata": {}
        },
        {
          "output_type": "display_data",
          "data": {
            "text/plain": [
              "<IPython.core.display.Javascript object>"
            ],
            "application/javascript": [
              "download(\"download_199f7399-9b90-4d4f-bf14-28c1d7bde0bd\", \"result.zip\", 135606382)"
            ]
          },
          "metadata": {}
        },
        {
          "output_type": "display_data",
          "data": {
            "text/plain": [
              "<IPython.core.display.Javascript object>"
            ],
            "application/javascript": [
              "\n",
              "    async function download(id, filename, size) {\n",
              "      if (!google.colab.kernel.accessAllowed) {\n",
              "        return;\n",
              "      }\n",
              "      const div = document.createElement('div');\n",
              "      const label = document.createElement('label');\n",
              "      label.textContent = `Downloading \"${filename}\": `;\n",
              "      div.appendChild(label);\n",
              "      const progress = document.createElement('progress');\n",
              "      progress.max = size;\n",
              "      div.appendChild(progress);\n",
              "      document.body.appendChild(div);\n",
              "\n",
              "      const buffers = [];\n",
              "      let downloaded = 0;\n",
              "\n",
              "      const channel = await google.colab.kernel.comms.open(id);\n",
              "      // Send a message to notify the kernel that we're ready.\n",
              "      channel.send({})\n",
              "\n",
              "      for await (const message of channel.messages) {\n",
              "        // Send a message to notify the kernel that we're ready.\n",
              "        channel.send({})\n",
              "        if (message.buffers) {\n",
              "          for (const buffer of message.buffers) {\n",
              "            buffers.push(buffer);\n",
              "            downloaded += buffer.byteLength;\n",
              "            progress.value = downloaded;\n",
              "          }\n",
              "        }\n",
              "      }\n",
              "      const blob = new Blob(buffers, {type: 'application/binary'});\n",
              "      const a = document.createElement('a');\n",
              "      a.href = window.URL.createObjectURL(blob);\n",
              "      a.download = filename;\n",
              "      div.appendChild(a);\n",
              "      a.click();\n",
              "      div.remove();\n",
              "    }\n",
              "  "
            ]
          },
          "metadata": {}
        },
        {
          "output_type": "display_data",
          "data": {
            "text/plain": [
              "<IPython.core.display.Javascript object>"
            ],
            "application/javascript": [
              "download(\"download_a59eeecb-253b-4a4e-a610-8f987d6836dc\", \"test.zip\", 4901433)"
            ]
          },
          "metadata": {}
        }
      ]
    }
  ],
  "metadata": {
    "accelerator": "GPU",
    "colab": {
      "gpuType": "T4",
      "provenance": []
    },
    "kernelspec": {
      "display_name": "Python 3",
      "name": "python3"
    },
    "language_info": {
      "name": "python"
    }
  },
  "nbformat": 4,
  "nbformat_minor": 0
}